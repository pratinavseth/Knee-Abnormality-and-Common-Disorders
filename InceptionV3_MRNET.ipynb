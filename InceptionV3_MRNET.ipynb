{
  "nbformat": 4,
  "nbformat_minor": 0,
  "metadata": {
    "colab": {
      "name": "InceptionV3_MRNET.ipynb",
      "provenance": [],
      "collapsed_sections": [],
      "toc_visible": true,
      "include_colab_link": true
    },
    "kernelspec": {
      "name": "python3",
      "display_name": "Python 3"
    },
    "accelerator": "GPU"
  },
  "cells": [
    {
      "cell_type": "markdown",
      "metadata": {
        "id": "view-in-github",
        "colab_type": "text"
      },
      "source": [
        "<a href=\"https://colab.research.google.com/github/ptnv-s/Knee-Abnormality-and-Common-Disorders/blob/colab/InceptionV3_MRNET.ipynb\" target=\"_parent\"><img src=\"https://colab.research.google.com/assets/colab-badge.svg\" alt=\"Open In Colab\"/></a>"
      ]
    },
    {
      "cell_type": "markdown",
      "source": [
        "# Deep Learning Based Musculoskeletal Diagnosis, Abnormality and Common Disorders detection using Knee Magnetic Resonance Imaging"
      ],
      "metadata": {
        "id": "T0r1Us2Oz_gd"
      }
    },
    {
      "cell_type": "markdown",
      "source": [
        "---\n",
        "\n",
        "Magnetic resonance (MR) imaging of the knee is the standard of care imaging modality to evaluate knee disorders, and more musculoskeletal MR examinations are performed on the knee than on any other region of the body.\n",
        "\n",
        "---\n",
        "\n",
        "We will be implementing deep learning baselines for detecting general abnormalities and specific diagnoses (anterior cruciate ligament [ACL] tears and meniscal tears) on knee MRI exams.\n",
        "\n",
        "---\n",
        "\n",
        "The most common indications for the knee MRI examinations in this study included acute and chronic pain, follow-up or preoperative evaluation, injury/trauma.\n",
        "\n",
        "---\n",
        "We have used the [MRNet dataset](https://stanfordmlgroup.github.io/competitions/mrnet/)  which consists of 1,370 knee MRI exams performed at Stanford University Medical Center. The dataset contains 1,104 (80.6%) abnormal exams, with 319 (23.3%) ACL tears and 508 (37.1%) meniscal tears. The labels were obtained through manual extraction from clinical reports.\n",
        "\n",
        "---\n",
        "\n",
        "Examinations were performed with GE scanners (GE Discovery, GE Healthcare, Waukesha, WI) with standard knee MRI coil and a routine non-contrast knee MRI protocol that included the following sequences: coronal T1 weighted, coronal T2 with fat saturation, sagittal proton density (PD) weighted, sagittal T2 with fat saturation, and axial PD weighted with fat saturation. A total of 775 (56.6%) examinations used a 3.0-T magnetic field the remaining used a 1.5-T magnetic field as reported [here](https://stanfordmlgroup.github.io/projects/mrnet/) .\n",
        "\n",
        "For more details refer to the paper related to this study [here](https://journals.plos.org/plosmedicine/article?id=10.1371/journal.pmed.1002699).\n",
        "\n",
        "---\n",
        "\n",
        "Given a MRI scan our deep learning model will be predicting 3 outcomes for knee MRI exams (anterior cruciate ligament [ACL] tears, meniscal tears, and general abnormalities)."
      ],
      "metadata": {
        "id": "7kvPN1-t0Hw-"
      }
    },
    {
      "cell_type": "markdown",
      "source": [
        "#### Importing Basic Libraries"
      ],
      "metadata": {
        "id": "k0TkuJwM0QXj"
      }
    },
    {
      "cell_type": "code",
      "metadata": {
        "id": "IgsRtqKALAR5"
      },
      "source": [
        "import os\n",
        "import numpy as np\n",
        "from matplotlib import pyplot as plt\n",
        "import math"
      ],
      "execution_count": null,
      "outputs": []
    },
    {
      "cell_type": "code",
      "metadata": {
        "id": "IABg1SuM9wfW"
      },
      "source": [
        "from keras.applications.inception_v3 import InceptionV3\n",
        "from keras.applications.vgg16 import VGG16\n",
        "from keras.preprocessing import image\n",
        "from keras.models import Model, Sequential\n",
        "from keras.layers import Dense, GlobalAveragePooling2D, Dropout, Flatten\n",
        "from keras import backend as K\n",
        "from keras.layers import Input"
      ],
      "execution_count": null,
      "outputs": []
    },
    {
      "cell_type": "markdown",
      "source": [
        "##### Defining Custom Metric for Evaluation"
      ],
      "metadata": {
        "id": "bEvKtug70TpB"
      }
    },
    {
      "cell_type": "code",
      "metadata": {
        "id": "NmrsJ-BsjnyH"
      },
      "source": [
        "import keras.backend as K\n",
        "def f1_score(y_true, y_pred):\n",
        "    c1 = K.sum(K.round(K.clip(y_true * y_pred, 0, 1)))\n",
        "    c2 = K.sum(K.round(K.clip(y_pred, 0, 1)))\n",
        "    c3 = K.sum(K.round(K.clip(y_true, 0, 1)))\n",
        "    if c3 == 0.0 :\n",
        "        return 0.0\n",
        "    precision = c1 / c2\n",
        "    recall = c1 / c3\n",
        "    f1_score = 2 * (precision * recall) / (precision + recall)\n",
        "    return f1_score\n",
        "  \n",
        "\n",
        "def f1(y_true, y_pred):\n",
        "    def recall(y_true, y_pred):\n",
        "        true_positives = K.sum(K.round(K.clip(y_true * y_pred, 0, 1)))\n",
        "        possible_positives = K.sum(K.round(K.clip(y_true, 0, 1)))\n",
        "        recall = true_positives / (possible_positives + K.epsilon())\n",
        "        return recall\n",
        "    def precision(y_true, y_pred):\n",
        "        true_positives = K.sum(K.round(K.clip(y_true * y_pred, 0, 1)))\n",
        "        predicted_positives = K.sum(K.round(K.clip(y_pred, 0, 1)))\n",
        "        precision = true_positives / (predicted_positives + K.epsilon())\n",
        "        return precision\n",
        "    precision = precision(y_true, y_pred)\n",
        "    recall = recall(y_true, y_pred)\n",
        "    return 2*((precision*recall)/(precision+recall+K.epsilon()))"
      ],
      "execution_count": null,
      "outputs": []
    },
    {
      "cell_type": "markdown",
      "metadata": {
        "id": "F6qhhrJuNPW8"
      },
      "source": [
        "##Loading Files for loading Different Planes of Scans of Dataset\n",
        "As we know from EDA Notebook this dataset has 3 views of Knee since datset has MRI scans namely -\n",
        "\n",
        "*   Axial\n",
        "*   Coronal\n",
        "*   Sagittal"
      ]
    },
    {
      "cell_type": "code",
      "source": [
        "from google.colab import drive\n",
        "drive.mount('/content/drive')"
      ],
      "metadata": {
        "id": "VyF5dHFy5Unq",
        "outputId": "ee878acf-49cc-406a-c345-05c40dd629e3",
        "colab": {
          "base_uri": "https://localhost:8080/"
        }
      },
      "execution_count": null,
      "outputs": [
        {
          "output_type": "stream",
          "name": "stdout",
          "text": [
            "Drive already mounted at /content/drive; to attempt to forcibly remount, call drive.mount(\"/content/drive\", force_remount=True).\n"
          ]
        }
      ]
    },
    {
      "cell_type": "code",
      "metadata": {
        "id": "U4pEnRbJ8zbJ",
        "outputId": "b542f464-be54-41e0-c3d8-748f4ecfde03",
        "colab": {
          "base_uri": "https://localhost:8080/"
        }
      },
      "source": [
        "import csv\n",
        "with open(\"/content/drive/MyDrive/Medical/MRNet-v1.0/train-abnormal.csv\") as csv_file:\n",
        "    csv_reader = csv.reader(csv_file)\n",
        "    line_count = 0\n",
        "    trainAb_labels=[]\n",
        "    for row in csv_reader:\n",
        "           trainAb_labels.append(int(row[1]))\n",
        "print(trainAb_labels)\n",
        "trainAb_labels= np.array(trainAb_labels)\n",
        "print(len(trainAb_labels))\n",
        "with open(\"/content/drive/MyDrive/Medical/MRNet-v1.0/train-acl.csv\") as csv_file:\n",
        "    csv_reader = csv.reader(csv_file)\n",
        "    line_count = 0\n",
        "    trainACL_labels=[]\n",
        "    for row in csv_reader:\n",
        "           trainACL_labels.append(int(row[1]))\n",
        "print(trainAb_labels)\n",
        "trainACL_labels= np.array(trainACL_labels)\n",
        "print(len(trainACL_labels))\n",
        "with open(\"/content/drive/MyDrive/Medical/MRNet-v1.0/train-meniscus.csv\") as csv_file:\n",
        "    csv_reader = csv.reader(csv_file)\n",
        "    line_count = 0\n",
        "    trainMen_labels=[]\n",
        "    for row in csv_reader:\n",
        "           trainMen_labels.append(int(row[1]))\n",
        "print(trainMen_labels)\n",
        "trainAb_labels= np.array(trainMen_labels)\n",
        "print(len(trainMen_labels))\n",
        "with open(\"/content/drive/MyDrive/Medical/MRNet-v1.0/valid-abnormal.csv\") as csv_file:\n",
        "    csv_reader = csv.reader(csv_file)\n",
        "    line_count = 0\n",
        "    testAb_labels=[]\n",
        "    for row in csv_reader:\n",
        "           testAb_labels.append(int(row[1]))\n",
        "print(testAb_labels)\n",
        "testAb_labels= np.array(testAb_labels)\n",
        "print(len(testAb_labels))\n",
        "with open(\"/content/drive/MyDrive/Medical/MRNet-v1.0/valid-acl.csv\") as csv_file:\n",
        "    csv_reader = csv.reader(csv_file)\n",
        "    line_count = 0\n",
        "    testACL_labels=[]\n",
        "    for row in csv_reader:\n",
        "           testACL_labels.append(int(row[1]))\n",
        "print(testACL_labels)\n",
        "testACL_labels= np.array(testACL_labels)\n",
        "print(len(testACL_labels))\n",
        "with open(\"/content/drive/MyDrive/Medical/MRNet-v1.0/valid-meniscus.csv\") as csv_file:\n",
        "    csv_reader = csv.reader(csv_file)\n",
        "    line_count = 0\n",
        "    testMen_labels=[]\n",
        "    for row in csv_reader:\n",
        "           testMen_labels.append(int(row[1]))\n",
        "print(testMen_labels)\n",
        "testMen_labels= np.array(testMen_labels)\n",
        "print(len(testMen_labels))"
      ],
      "execution_count": null,
      "outputs": [
        {
          "output_type": "stream",
          "name": "stdout",
          "text": [
            "[1, 1, 1, 1, 1, 1, 1, 1, 1, 1, 1, 0, 0, 1, 0, 1, 1, 0, 1, 1, 1, 0, 1, 0, 1, 0, 0, 1, 1, 1, 1, 1, 1, 1, 1, 1, 1, 1, 1, 1, 0, 1, 1, 1, 0, 1, 1, 1, 0, 1, 1, 1, 1, 0, 1, 1, 1, 1, 1, 1, 0, 1, 1, 1, 1, 1, 0, 1, 1, 1, 1, 1, 1, 1, 0, 1, 1, 0, 1, 1, 1, 1, 0, 1, 1, 1, 1, 1, 1, 1, 1, 1, 1, 1, 1, 1, 0, 1, 1, 0, 1, 1, 1, 1, 1, 1, 0, 1, 1, 1, 0, 1, 1, 1, 1, 1, 1, 0, 0, 1, 0, 1, 0, 0, 1, 1, 1, 0, 0, 1, 1, 0, 1, 1, 1, 1, 1, 1, 1, 1, 1, 1, 1, 0, 0, 1, 1, 1, 1, 0, 1, 1, 1, 0, 1, 1, 1, 1, 1, 1, 1, 1, 1, 1, 1, 1, 1, 1, 1, 1, 0, 1, 1, 1, 1, 1, 1, 0, 1, 1, 1, 0, 1, 1, 1, 1, 1, 1, 1, 1, 1, 1, 1, 1, 1, 1, 1, 1, 1, 1, 1, 1, 1, 1, 1, 1, 1, 1, 1, 1, 0, 1, 1, 1, 0, 1, 1, 1, 1, 1, 1, 1, 0, 1, 1, 0, 1, 0, 0, 1, 0, 1, 1, 1, 1, 1, 1, 1, 0, 0, 1, 1, 1, 0, 0, 0, 1, 1, 1, 1, 1, 1, 0, 1, 1, 1, 0, 1, 0, 1, 1, 1, 1, 1, 1, 1, 1, 0, 0, 1, 1, 1, 0, 1, 1, 1, 1, 1, 1, 1, 1, 1, 1, 0, 1, 1, 1, 1, 1, 1, 1, 0, 1, 1, 1, 1, 0, 1, 1, 0, 1, 1, 1, 1, 1, 1, 0, 1, 1, 1, 1, 1, 1, 1, 1, 1, 1, 1, 1, 1, 1, 1, 1, 1, 1, 1, 1, 1, 1, 1, 1, 1, 1, 1, 1, 1, 1, 0, 1, 1, 1, 1, 0, 1, 1, 1, 1, 1, 1, 1, 1, 1, 1, 1, 1, 1, 1, 1, 1, 1, 1, 1, 0, 0, 1, 1, 1, 1, 1, 1, 1, 1, 0, 1, 1, 1, 1, 0, 1, 1, 1, 0, 1, 1, 0, 1, 1, 0, 1, 1, 1, 1, 1, 1, 1, 1, 1, 1, 1, 1, 0, 1, 1, 1, 0, 1, 0, 1, 1, 0, 0, 1, 1, 1, 1, 0, 1, 1, 1, 1, 0, 1, 1, 1, 1, 0, 1, 1, 0, 1, 0, 1, 1, 1, 0, 0, 1, 0, 1, 0, 1, 1, 0, 1, 1, 1, 1, 1, 1, 1, 0, 1, 1, 1, 1, 1, 1, 1, 1, 0, 0, 0, 0, 1, 1, 0, 0, 0, 1, 1, 1, 1, 0, 0, 1, 0, 0, 0, 1, 1, 1, 1, 1, 1, 1, 1, 1, 1, 1, 1, 1, 0, 0, 1, 1, 0, 1, 1, 1, 0, 1, 1, 1, 0, 0, 1, 1, 1, 1, 0, 1, 1, 1, 1, 1, 0, 1, 1, 1, 1, 1, 1, 1, 1, 1, 0, 1, 1, 1, 1, 1, 1, 0, 0, 1, 1, 1, 1, 1, 1, 1, 1, 0, 1, 1, 1, 1, 1, 0, 0, 1, 1, 1, 1, 1, 1, 1, 1, 0, 1, 1, 1, 1, 0, 1, 0, 1, 1, 1, 1, 1, 0, 1, 1, 1, 1, 1, 1, 1, 1, 0, 1, 1, 0, 1, 1, 1, 1, 0, 0, 1, 1, 1, 1, 1, 1, 1, 0, 1, 0, 0, 1, 1, 1, 1, 1, 1, 1, 0, 1, 1, 1, 1, 1, 1, 1, 1, 1, 1, 1, 1, 0, 1, 1, 1, 0, 1, 1, 1, 1, 1, 1, 1, 1, 0, 1, 1, 0, 1, 1, 1, 0, 1, 1, 0, 1, 1, 1, 1, 1, 1, 1, 1, 1, 1, 1, 1, 1, 0, 1, 1, 1, 1, 1, 1, 1, 1, 1, 1, 1, 1, 0, 1, 1, 0, 0, 1, 1, 0, 1, 1, 1, 1, 1, 1, 0, 1, 1, 1, 0, 1, 1, 1, 1, 1, 1, 1, 1, 1, 1, 0, 1, 1, 0, 1, 1, 1, 1, 1, 1, 1, 0, 0, 1, 1, 1, 1, 1, 1, 1, 1, 1, 1, 1, 1, 1, 1, 0, 1, 1, 1, 1, 1, 1, 1, 1, 1, 1, 1, 1, 1, 1, 1, 1, 0, 1, 1, 1, 1, 1, 1, 1, 1, 1, 1, 1, 1, 1, 1, 0, 1, 1, 1, 1, 1, 1, 1, 1, 1, 1, 1, 1, 0, 1, 1, 1, 1, 0, 1, 1, 1, 1, 1, 1, 1, 1, 0, 1, 0, 1, 1, 1, 1, 1, 1, 1, 1, 0, 1, 0, 1, 1, 0, 1, 1, 1, 0, 0, 0, 1, 1, 1, 1, 0, 1, 1, 1, 1, 0, 1, 0, 0, 1, 0, 0, 0, 1, 1, 1, 1, 1, 1, 1, 1, 1, 1, 1, 1, 1, 1, 1, 0, 1, 1, 1, 0, 1, 1, 1, 1, 1, 1, 1, 1, 1, 1, 1, 1, 0, 0, 0, 1, 1, 1, 1, 1, 0, 0, 0, 1, 1, 1, 0, 1, 0, 1, 1, 1, 0, 0, 1, 1, 1, 0, 1, 1, 0, 1, 1, 1, 1, 1, 1, 1, 0, 1, 1, 1, 1, 1, 1, 1, 1, 1, 0, 1, 1, 1, 1, 1, 1, 1, 1, 1, 1, 1, 1, 1, 1, 1, 1, 1, 1, 1, 0, 1, 0, 1, 1, 1, 1, 1, 1, 1, 0, 1, 1, 0, 1, 1, 1, 1, 1, 1, 0, 1, 1, 0, 1, 1, 1, 1, 1, 1, 1, 1, 1, 1, 1, 0, 0, 1, 1, 1, 1, 1, 1, 1, 1, 1, 1, 1, 1, 1, 1, 1, 1, 1, 1, 1, 1, 1, 1, 0, 0, 1, 1, 1, 1, 1, 1, 1, 0, 1, 1, 1, 1, 0, 0, 1, 0, 1, 1, 0, 1, 0, 0, 0, 0, 1, 1, 0, 1, 1, 1, 1, 1, 1, 1, 0, 0, 0, 1, 1, 0, 0, 1, 0, 1, 1, 1, 1, 1, 1, 0, 1, 1, 1, 1, 1, 1, 1, 1, 1, 1, 1, 1, 1, 1, 0, 1, 1, 0, 1, 1, 1, 1, 1, 1, 1, 1, 1, 1, 1, 0, 1, 1, 1, 1, 1, 0, 0, 0, 1, 1, 1, 0, 1, 1, 1, 1, 0, 0, 1, 1, 1, 0, 1, 1, 1, 1, 1, 1, 0, 1, 1, 1, 1, 1, 1, 1, 1, 1, 1, 1, 1, 1, 1, 1, 1, 1, 1, 1, 1, 1, 0, 1, 1, 1, 0, 1, 1, 1, 0, 1, 1, 1, 0, 1, 1]\n",
            "1130\n",
            "[1 1 1 ... 0 1 1]\n",
            "1130\n",
            "[0, 1, 0, 1, 0, 1, 0, 0, 0, 0, 1, 0, 0, 0, 0, 0, 1, 0, 1, 1, 1, 0, 1, 0, 0, 0, 0, 1, 1, 0, 1, 0, 1, 1, 0, 1, 1, 1, 1, 1, 0, 0, 1, 1, 0, 1, 0, 0, 0, 1, 0, 0, 1, 0, 1, 0, 0, 1, 0, 1, 0, 0, 0, 1, 0, 0, 0, 1, 0, 0, 1, 0, 1, 0, 0, 0, 0, 0, 1, 1, 1, 0, 0, 0, 1, 0, 0, 0, 1, 1, 1, 1, 1, 0, 1, 0, 0, 0, 1, 0, 0, 0, 0, 0, 1, 1, 0, 0, 1, 1, 0, 1, 0, 1, 0, 0, 1, 0, 0, 1, 0, 0, 0, 0, 0, 1, 1, 0, 0, 0, 1, 0, 0, 0, 0, 0, 0, 1, 1, 0, 1, 0, 1, 0, 0, 0, 0, 1, 0, 0, 1, 0, 1, 0, 1, 1, 0, 1, 0, 1, 0, 0, 1, 0, 0, 0, 0, 0, 1, 0, 0, 0, 0, 0, 1, 0, 1, 0, 1, 1, 1, 0, 1, 1, 0, 0, 1, 0, 1, 0, 0, 1, 0, 0, 1, 0, 1, 0, 1, 0, 0, 0, 0, 1, 1, 0, 0, 0, 1, 0, 0, 0, 0, 0, 0, 1, 0, 1, 0, 0, 1, 0, 0, 0, 0, 0, 0, 0, 0, 0, 0, 1, 0, 0, 1, 1, 0, 0, 0, 0, 1, 0, 0, 0, 0, 0, 0, 0, 1, 0, 0, 1, 0, 1, 0, 0, 0, 0, 0, 1, 1, 0, 0, 1, 0, 1, 0, 0, 0, 0, 1, 0, 0, 0, 0, 0, 0, 1, 0, 0, 1, 1, 0, 0, 0, 1, 0, 0, 0, 0, 0, 0, 0, 0, 1, 0, 0, 0, 1, 0, 0, 0, 1, 1, 0, 1, 0, 0, 0, 0, 0, 1, 1, 1, 1, 1, 1, 0, 1, 1, 1, 1, 0, 1, 1, 1, 1, 1, 1, 1, 0, 1, 1, 1, 0, 0, 0, 0, 0, 0, 1, 0, 0, 1, 1, 0, 0, 1, 1, 0, 1, 0, 0, 0, 0, 1, 1, 0, 0, 0, 1, 1, 0, 0, 0, 0, 0, 0, 1, 0, 1, 0, 0, 1, 1, 0, 0, 0, 1, 0, 1, 0, 1, 1, 0, 1, 1, 0, 1, 0, 0, 0, 1, 0, 0, 0, 0, 1, 0, 0, 0, 0, 0, 0, 0, 0, 0, 1, 1, 0, 0, 0, 0, 0, 1, 0, 1, 1, 0, 1, 0, 1, 0, 1, 0, 0, 1, 0, 0, 1, 0, 1, 1, 1, 0, 0, 0, 0, 0, 0, 0, 1, 0, 0, 1, 0, 1, 1, 0, 0, 0, 0, 1, 0, 0, 0, 1, 1, 1, 0, 0, 0, 0, 1, 0, 0, 0, 0, 0, 1, 1, 0, 0, 0, 1, 0, 0, 0, 1, 0, 0, 0, 1, 0, 0, 0, 0, 1, 1, 1, 1, 0, 0, 0, 1, 0, 0, 0, 0, 0, 1, 1, 1, 0, 0, 0, 1, 1, 1, 0, 0, 1, 0, 0, 0, 0, 0, 1, 1, 0, 0, 0, 1, 0, 1, 0, 1, 0, 1, 0, 1, 1, 0, 0, 0, 1, 0, 0, 0, 0, 0, 0, 0, 1, 1, 0, 1, 1, 0, 0, 0, 1, 0, 1, 1, 0, 0, 1, 0, 0, 0, 1, 0, 0, 1, 0, 0, 0, 0, 1, 1, 0, 1, 1, 0, 1, 0, 1, 0, 1, 0, 1, 1, 0, 0, 1, 1, 0, 0, 0, 0, 0, 0, 0, 1, 0, 1, 0, 0, 0, 0, 1, 1, 0, 1, 1, 0, 1, 0, 0, 0, 0, 0, 0, 0, 0, 0, 1, 0, 1, 1, 0, 0, 0, 1, 0, 0, 0, 1, 1, 0, 1, 0, 1, 0, 1, 1, 0, 0, 0, 0, 0, 0, 0, 0, 1, 1, 0, 1, 1, 0, 0, 0, 0, 1, 1, 0, 1, 0, 0, 1, 1, 1, 0, 0, 0, 1, 0, 0, 0, 0, 0, 1, 0, 0, 0, 0, 1, 0, 1, 1, 0, 0, 1, 0, 0, 0, 1, 1, 0, 0, 1, 1, 1, 0, 0, 0, 0, 1, 1, 0, 1, 0, 0, 0, 0, 0, 1, 1, 0, 0, 0, 0, 0, 0, 0, 1, 0, 1, 0, 1, 1, 0, 1, 1, 0, 1, 0, 0, 0, 0, 0, 0, 0, 0, 0, 1, 0, 0, 0, 1, 0, 1, 0, 0, 0, 0, 0, 0, 1, 1, 1, 1, 1, 0, 0, 0, 0, 0, 0, 1, 1, 0, 0, 0, 0, 1, 0, 1, 1, 0, 0, 0, 1, 0, 1, 1, 0, 1, 1, 0, 0, 0, 1, 1, 1, 0, 0, 0, 0, 0, 1, 0, 1, 0, 0, 0, 0, 0, 0, 0, 0, 0, 0, 0, 0, 0, 0, 0, 0, 1, 0, 1, 0, 0, 0, 0, 1, 0, 0, 0, 0, 1, 0, 0, 0, 0, 0, 0, 0, 1, 0, 0, 1, 0, 1, 0, 0, 0, 0, 0, 0, 1, 1, 0, 0, 1, 1, 0, 0, 0, 0, 0, 1, 1, 0, 0, 1, 0, 0, 0, 0, 1, 1, 1, 0, 0, 0, 0, 0, 1, 1, 0, 0, 0, 0, 0, 0, 0, 0, 0, 1, 0, 0, 1, 1, 0, 1, 0, 0, 1, 1, 1, 0, 0, 1, 0, 1, 0, 0, 1, 0, 1, 0, 0, 0, 0, 0, 0, 1, 1, 0, 1, 1, 1, 0, 1, 0, 0, 1, 1, 0, 1, 1, 0, 0, 0, 1, 0, 0, 0, 1, 1, 0, 0, 0, 0, 0, 1, 0, 0, 1, 0, 0, 0, 1, 0, 0, 0, 0, 1, 0, 0, 0, 0, 1, 0, 0, 0, 0, 0, 1, 0, 1, 1, 0, 0, 0, 0, 1, 1, 0, 1, 0, 0, 0, 0, 1, 1, 0, 1, 0, 1, 0, 0, 1, 0, 0, 0, 1, 1, 0, 0, 1, 1, 0, 0, 0, 0, 1, 0, 1, 1, 0, 0, 0, 0, 0, 0, 0, 1, 0, 0, 0, 1, 0, 0, 0, 0, 0, 0, 0, 0, 0, 0, 0, 1, 0, 1, 0, 1, 1, 0, 0, 0, 0, 0, 1, 1, 0, 0, 1, 0, 0, 0, 0, 0, 0, 0, 0, 0, 1, 0, 1, 0, 0, 1, 1, 0, 1, 0, 1, 1, 0, 0, 1, 0, 0, 1, 0, 0, 0, 0, 0, 0, 0, 0, 1, 1, 0, 1, 0, 0, 1, 0, 1, 0, 0, 1, 0, 1, 0, 0, 0, 0, 0, 1, 0, 0, 0, 1, 1, 1, 0, 0, 1, 0, 1, 1, 0, 1, 1, 1, 0, 0, 0, 1, 1, 0, 0, 1, 0, 0, 0, 0, 1, 1, 0, 0, 0]\n",
            "1130\n",
            "[0, 0, 0, 0, 0, 0, 0, 0, 0, 0, 0, 0, 0, 0, 0, 0, 0, 0, 0, 0, 0, 0, 0, 0, 1, 1, 1, 1, 1, 1, 1, 1, 1, 1, 1, 1, 1, 1, 1, 1, 1, 1, 1, 1, 1, 1, 1, 1, 1, 1, 1, 1, 1, 1, 1, 1, 1, 1, 1, 1, 1, 1, 1, 1, 1, 1, 1, 1, 1, 1, 1, 1, 1, 1, 1, 1, 1, 1, 1, 1, 1, 1, 1, 1, 1, 1, 1, 0, 1, 1, 1, 1, 1, 1, 1, 1, 1, 1, 1, 1, 1, 1, 1, 1, 1, 1, 1, 1, 1, 1, 1, 1, 1, 1, 1, 1, 1, 1, 1, 1]\n",
            "120\n",
            "[0, 0, 0, 0, 0, 0, 0, 0, 0, 0, 0, 0, 0, 0, 0, 0, 0, 0, 0, 0, 0, 0, 0, 0, 0, 0, 0, 0, 0, 0, 0, 0, 0, 0, 0, 0, 0, 0, 0, 0, 0, 0, 1, 1, 1, 1, 1, 1, 1, 1, 0, 1, 1, 1, 1, 1, 1, 1, 1, 0, 1, 1, 1, 1, 1, 1, 1, 1, 1, 1, 1, 1, 1, 1, 1, 1, 1, 1, 1, 1, 1, 1, 1, 1, 1, 1, 1, 0, 1, 1, 1, 0, 0, 0, 1, 1, 0, 0, 1, 1, 0, 0, 0, 0, 0, 0, 0, 1, 0, 0, 0, 0, 0, 0, 0, 1, 1, 0, 1, 0]\n",
            "120\n",
            "[0, 0, 0, 0, 0, 0, 0, 0, 0, 0, 0, 0, 0, 0, 0, 0, 0, 0, 0, 0, 0, 0, 0, 0, 0, 0, 0, 0, 0, 0, 0, 0, 0, 0, 0, 0, 0, 0, 0, 0, 0, 0, 1, 1, 1, 0, 1, 0, 0, 0, 0, 0, 0, 0, 1, 0, 1, 0, 1, 0, 0, 1, 1, 0, 1, 1, 1, 1, 0, 1, 0, 1, 1, 1, 0, 1, 0, 1, 0, 0, 0, 1, 0, 1, 0, 0, 1, 0, 0, 0, 1, 1, 1, 1, 1, 1, 1, 1, 1, 1, 1, 1, 1, 1, 1, 1, 1, 1, 1, 1, 1, 1, 1, 1, 1, 1, 1, 1, 1, 1]\n",
            "120\n"
          ]
        }
      ]
    },
    {
      "cell_type": "code",
      "metadata": {
        "id": "DzmL2nU9M9wt"
      },
      "source": [
        "train_Ab_pred = []\n",
        "test_Ab_pred = []\n",
        "train_Men_pred = []\n",
        "test_Men_pred = []\n",
        "train_ACL_pred = []\n",
        "test_ACL_pred = []"
      ],
      "execution_count": null,
      "outputs": []
    },
    {
      "cell_type": "markdown",
      "metadata": {
        "id": "abO6OS-40dEK"
      },
      "source": [
        "##Axial Plane Scans"
      ]
    },
    {
      "cell_type": "markdown",
      "metadata": {
        "id": "7FLFxEzo0dEK"
      },
      "source": [
        "###Reading train & test data"
      ]
    },
    {
      "cell_type": "code",
      "metadata": {
        "id": "xvMN_V8lKfA4",
        "outputId": "b6d5b7d6-df5a-4985-a29b-03efbaa5a7e3",
        "colab": {
          "base_uri": "https://localhost:8080/"
        }
      },
      "source": [
        "axial_dir = os.listdir(\"/content/drive/MyDrive/Medical/MRNet-v1.0/train/axial/\")\n",
        "axial_dir = [f.lower() for f in axial_dir]   \n",
        "a=sorted(axial_dir)\n",
        "axial_list=np.array(a)\n",
        "axial_reloaded=[]\n",
        "print(axial_list.shape)\n",
        "for j in range(1,1131):\n",
        "    file= \"/content/drive/MyDrive/Medical/MRNet-v1.0/train/axial/\"+axial_list[j]    \n",
        "    axial_reloaded.append(np.load(file,allow_pickle='false'))   \n",
        "\n",
        "axial_reloaded=np.array(axial_reloaded)\n",
        "print(axial_reloaded.shape)\n",
        "s=axial_reloaded.shape\n",
        "print(axial_reloaded[0].shape[0])\n",
        "train_axial=[]\n",
        "print(len(axial_reloaded))\n",
        "for j in range(len(axial_reloaded)):\n",
        "    mid=math.floor((axial_reloaded[j].shape[0])/2)\n",
        "    train_axial.append([])    \n",
        "    \n",
        "    for n in range(mid-1,mid+2):\n",
        "         train_axial[j].append(axial_reloaded[j][n])\n",
        "train_axial=np.array(train_axial)\n",
        "train_axial=np.reshape(train_axial,(1130,256,256,3))\n",
        "print(train_axial.shape)\n",
        "axial_dir = os.listdir(\"/content/drive/MyDrive/Medical/MRNet-v1.0/valid/axial/\")\n",
        "axial_dir = [f.lower() for f in axial_dir]   \n",
        "a=sorted(axial_dir)\n",
        "axialTest_list=np.array(a)\n",
        "axialTest_reloaded=[]\n",
        "print(axialTest_list.shape)\n",
        "for j in range(0,120):\n",
        "    file= \"/content/drive/MyDrive/Medical/MRNet-v1.0/valid/axial/\"+axialTest_list[j]\n",
        "    axialTest_reloaded.append(np.load(file,allow_pickle='false'))   \n",
        "\n",
        "axialTest_reloaded=np.array(axialTest_reloaded)\n",
        "print(axialTest_reloaded.shape)\n",
        "s=axialTest_reloaded.shape\n",
        "print(axialTest_reloaded[0].shape[0])\n",
        "test_axial=[]\n",
        "print(len(axialTest_reloaded))\n",
        "for j in range(len(axialTest_reloaded)):\n",
        "    mid=math.floor((axialTest_reloaded[j].shape[0])/2)\n",
        "    test_axial.append([])    \n",
        "    for n in range(mid-1,mid+2):\n",
        "         test_axial[j].append(axialTest_reloaded[j][n])\n",
        "test_axial=np.array(test_axial)\n",
        "test_axial=np.reshape(test_axial,(120,256,256,3))\n",
        "print(test_axial.shape)"
      ],
      "execution_count": null,
      "outputs": [
        {
          "output_type": "stream",
          "name": "stdout",
          "text": [
            "(1131,)\n"
          ]
        },
        {
          "output_type": "stream",
          "name": "stderr",
          "text": [
            "/usr/local/lib/python3.7/dist-packages/ipykernel_launcher.py:13: VisibleDeprecationWarning: Creating an ndarray from ragged nested sequences (which is a list-or-tuple of lists-or-tuples-or ndarrays with different lengths or shapes) is deprecated. If you meant to do this, you must specify 'dtype=object' when creating the ndarray.\n",
            "  del sys.path[0]\n"
          ]
        },
        {
          "output_type": "stream",
          "name": "stdout",
          "text": [
            "(1130,)\n",
            "44\n",
            "1130\n",
            "(1130, 256, 256, 3)\n",
            "(120,)\n",
            "(120,)\n",
            "25\n",
            "120\n",
            "(120, 256, 256, 3)\n"
          ]
        },
        {
          "output_type": "stream",
          "name": "stderr",
          "text": [
            "/usr/local/lib/python3.7/dist-packages/ipykernel_launcher.py:47: VisibleDeprecationWarning: Creating an ndarray from ragged nested sequences (which is a list-or-tuple of lists-or-tuples-or ndarrays with different lengths or shapes) is deprecated. If you meant to do this, you must specify 'dtype=object' when creating the ndarray.\n"
          ]
        }
      ]
    },
    {
      "cell_type": "markdown",
      "metadata": {
        "id": "JLywW23cJSWb"
      },
      "source": [
        "#### Finetuning InceptionV3 Model for Axial Plane Scanes checking for Meniscus Condition"
      ]
    },
    {
      "cell_type": "code",
      "metadata": {
        "id": "FwBkOdWI_tjx",
        "outputId": "24b3c3ed-6bee-4712-9f3a-ddf1aa7deccc",
        "colab": {
          "base_uri": "https://localhost:8080/"
        }
      },
      "source": [
        "input_tensor = Input(shape=(256, 256,3))  \n",
        "base_model_ax_men = InceptionV3(input_tensor=input_tensor, weights='imagenet', include_top=False)\n",
        "print(len(base_model_ax_men.layers))"
      ],
      "execution_count": null,
      "outputs": [
        {
          "output_type": "stream",
          "name": "stdout",
          "text": [
            "311\n"
          ]
        }
      ]
    },
    {
      "cell_type": "code",
      "metadata": {
        "id": "uzEJBpRkUYX7"
      },
      "source": [
        "x = base_model_ax_men.output\n",
        "x = GlobalAveragePooling2D()(x)\n",
        "x=Dropout(0.2)(x)\n",
        "x = Dense(1024, activation='relu')(x)\n",
        "x=Dropout(0.2)(x)\n",
        "x=Dropout(0.2)(x)\n",
        "predictions = Dense(1, activation='sigmoid')(x)\n",
        "model = Model(inputs=base_model_ax_men.input,outputs=predictions)"
      ],
      "execution_count": null,
      "outputs": []
    },
    {
      "cell_type": "code",
      "metadata": {
        "id": "uPoHK2f3r1ul"
      },
      "source": [
        "for layer in model.layers[:79]:\n",
        "   layer.trainable = False\n",
        "for layer in model.layers[79:]:\n",
        "   layer.trainable = True"
      ],
      "execution_count": null,
      "outputs": []
    },
    {
      "cell_type": "code",
      "source": [
        "trainMen_labels = np.array(trainMen_labels)"
      ],
      "metadata": {
        "id": "YfZte1bG7wxv"
      },
      "execution_count": null,
      "outputs": []
    },
    {
      "cell_type": "code",
      "source": [
        "from tensorflow.keras.callbacks import EarlyStopping\n",
        "from tensorflow.keras.optimizers import SGD"
      ],
      "metadata": {
        "id": "CjTKu3t0EK5W"
      },
      "execution_count": null,
      "outputs": []
    },
    {
      "cell_type": "code",
      "metadata": {
        "id": "btpx20hvfyuv",
        "outputId": "fcf76479-f03b-4ded-bd1f-ebf4ebd678bf",
        "colab": {
          "base_uri": "https://localhost:8080/"
        }
      },
      "source": [
        "early_stopping_monitor = EarlyStopping(patience=10)    \n",
        "model.compile(optimizer=SGD(lr=0.001,momentum=0.9), loss='binary_crossentropy',metrics=['accuracy', f1_score])\n",
        "history=model.fit(train_axial ,trainMen_labels, validation_split=0.05,shuffle=True ,epochs=100, callbacks=[early_stopping_monitor], batch_size = 20)\n"
      ],
      "execution_count": null,
      "outputs": [
        {
          "output_type": "stream",
          "name": "stderr",
          "text": [
            "/usr/local/lib/python3.7/dist-packages/keras/optimizer_v2/gradient_descent.py:102: UserWarning: The `lr` argument is deprecated, use `learning_rate` instead.\n",
            "  super(SGD, self).__init__(name, **kwargs)\n"
          ]
        },
        {
          "output_type": "stream",
          "name": "stdout",
          "text": [
            "Epoch 1/100\n",
            "54/54 [==============================] - 30s 221ms/step - loss: 0.6530 - accuracy: 0.6431 - f1_score: nan - val_loss: 0.6847 - val_accuracy: 0.5614 - val_f1_score: 0.2392\n",
            "Epoch 2/100\n",
            "54/54 [==============================] - 8s 145ms/step - loss: 0.5642 - accuracy: 0.6803 - f1_score: nan - val_loss: 0.6616 - val_accuracy: 0.6140 - val_f1_score: nan\n",
            "Epoch 3/100\n",
            "54/54 [==============================] - 8s 145ms/step - loss: 0.4917 - accuracy: 0.7400 - f1_score: 0.5625 - val_loss: 0.5870 - val_accuracy: 0.7368 - val_f1_score: 0.6996\n",
            "Epoch 4/100\n",
            "54/54 [==============================] - 8s 148ms/step - loss: 0.4045 - accuracy: 0.8183 - f1_score: 0.7193 - val_loss: 0.6638 - val_accuracy: 0.6140 - val_f1_score: 0.3657\n",
            "Epoch 5/100\n",
            "54/54 [==============================] - 8s 144ms/step - loss: 0.3276 - accuracy: 0.8509 - f1_score: nan - val_loss: 0.6035 - val_accuracy: 0.7018 - val_f1_score: 0.5670\n",
            "Epoch 6/100\n",
            "54/54 [==============================] - 8s 145ms/step - loss: 0.2236 - accuracy: 0.9152 - f1_score: 0.8708 - val_loss: 0.8784 - val_accuracy: 0.5965 - val_f1_score: nan\n",
            "Epoch 7/100\n",
            "54/54 [==============================] - 8s 145ms/step - loss: 0.1704 - accuracy: 0.9357 - f1_score: 0.9050 - val_loss: 0.6848 - val_accuracy: 0.5965 - val_f1_score: 0.4056\n",
            "Epoch 8/100\n",
            "54/54 [==============================] - 8s 146ms/step - loss: 0.1455 - accuracy: 0.9478 - f1_score: 0.9213 - val_loss: 0.9131 - val_accuracy: 0.5965 - val_f1_score: 0.3519\n",
            "Epoch 9/100\n",
            "54/54 [==============================] - 8s 145ms/step - loss: 0.1464 - accuracy: 0.9469 - f1_score: 0.9212 - val_loss: 1.4291 - val_accuracy: 0.3860 - val_f1_score: 0.5006\n",
            "Epoch 10/100\n",
            "54/54 [==============================] - 8s 146ms/step - loss: 0.1566 - accuracy: 0.9441 - f1_score: 0.9146 - val_loss: 1.2870 - val_accuracy: 0.4912 - val_f1_score: 0.5500\n",
            "Epoch 11/100\n",
            "54/54 [==============================] - 8s 147ms/step - loss: 0.1142 - accuracy: 0.9571 - f1_score: 0.9314 - val_loss: 1.0134 - val_accuracy: 0.6140 - val_f1_score: 0.3750\n",
            "Epoch 12/100\n",
            "54/54 [==============================] - 8s 147ms/step - loss: 0.1188 - accuracy: 0.9534 - f1_score: 0.9307 - val_loss: 0.6375 - val_accuracy: 0.7368 - val_f1_score: 0.6656\n",
            "Epoch 13/100\n",
            "54/54 [==============================] - 8s 147ms/step - loss: 0.1334 - accuracy: 0.9543 - f1_score: 0.9254 - val_loss: 1.3159 - val_accuracy: 0.5439 - val_f1_score: 0.2315\n"
          ]
        }
      ]
    },
    {
      "cell_type": "markdown",
      "metadata": {
        "id": "4LHGDU-xtbvJ"
      },
      "source": [
        "####Plotting accuracy of both training and validation sets per epoch."
      ]
    },
    {
      "cell_type": "code",
      "metadata": {
        "id": "eJh9LZBSrfij",
        "colab": {
          "base_uri": "https://localhost:8080/",
          "height": 295
        },
        "outputId": "bf0af4d5-57da-4fb4-d067-8b9ea0863a04"
      },
      "source": [
        "p = np.array(model.predict(train_axial))\n",
        "train_Men_pred.append(p)\n",
        "p = np.array(model.predict(test_axial))\n",
        "test_Men_pred.append(p)\n",
        "plt.plot(history.history['accuracy'])\n",
        "plt.plot(history.history['val_accuracy'])\n",
        "plt.plot(history.history['f1_score'])\n",
        "plt.title('model accuracy')\n",
        "plt.ylabel('accuracy')\n",
        "plt.xlabel('epoch')\n",
        "plt.legend(['train', 'test', 'f1score'], loc='upper left')\n",
        "plt.grid() \n",
        "plt.show()"
      ],
      "execution_count": null,
      "outputs": [
        {
          "output_type": "display_data",
          "data": {
            "image/png": "[encoded data removed]",
            "text/plain": [
              "<Figure size 432x288 with 1 Axes>"
            ]
          },
          "metadata": {
            "needs_background": "light"
          }
        }
      ]
    },
    {
      "cell_type": "markdown",
      "source": [
        "##### Helper function to clear Memory Utilization enabling it to Work in Colab with K80 GPU and standard RAM allowance."
      ],
      "metadata": {
        "id": "RwX7GAk00xus"
      }
    },
    {
      "cell_type": "code",
      "source": [
        "import gc\n",
        "def clean_up(model):\n",
        "    K.clear_session()\n",
        "    del model\n",
        "    gc.collect() #garbage collection\n",
        "    print(\"...Finished clean up...\")"
      ],
      "metadata": {
        "id": "Y7lPq_uhdGAn"
      },
      "execution_count": null,
      "outputs": []
    },
    {
      "cell_type": "code",
      "source": [
        "filename = '/content/drive/MyDrive/Medical/MRNET MODEL/model1.h5'\n",
        "model.save(filename)\n",
        "print('>Saved %s' % filename)\n",
        "clean_up(model=model)"
      ],
      "metadata": {
        "colab": {
          "base_uri": "https://localhost:8080/"
        },
        "id": "VWbftECScuC6",
        "outputId": "1aa433d2-5c5d-413b-bc4a-75c50b5648c0"
      },
      "execution_count": null,
      "outputs": [
        {
          "output_type": "stream",
          "name": "stdout",
          "text": [
            ">Saved /content/drive/MyDrive/Medical/MRNET MODEL/model1.h5\n",
            "...Finished clean up...\n"
          ]
        }
      ]
    },
    {
      "cell_type": "markdown",
      "metadata": {
        "id": "wmZf2R0ezncx"
      },
      "source": [
        "#### Finetuning InceptionV3 Model for Axial Plane Scanes checking for ACL Condition"
      ]
    },
    {
      "cell_type": "code",
      "metadata": {
        "id": "W91sxbOZzgVF"
      },
      "source": [
        "input_tensor = Input(shape=(256, 256,3))  \n",
        "base_model_ax_ACL = InceptionV3(input_tensor=input_tensor, weights='imagenet', include_top=False)"
      ],
      "execution_count": null,
      "outputs": []
    },
    {
      "cell_type": "code",
      "metadata": {
        "id": "yEnh6bpQzw0s"
      },
      "source": [
        "x = base_model_ax_ACL.output\n",
        "x = GlobalAveragePooling2D()(x)\n",
        "x=Dropout(0.2)(x)\n",
        "x = Dense(1024, activation='relu')(x)\n",
        "x=Dropout(0.2)(x)\n",
        "x=Dropout(0.2)(x)\n",
        "predictions = Dense(1, activation='sigmoid')(x)\n",
        "model2 = Model(inputs=base_model_ax_ACL.input,outputs=predictions)"
      ],
      "execution_count": null,
      "outputs": []
    },
    {
      "cell_type": "code",
      "metadata": {
        "id": "Qcy9VIrbz0uS"
      },
      "source": [
        "for layer in model2.layers[:79]:\n",
        "   layer.trainable = False\n",
        "for layer in model2.layers[79:]:\n",
        "   layer.trainable = True"
      ],
      "execution_count": null,
      "outputs": []
    },
    {
      "cell_type": "code",
      "metadata": {
        "id": "K5bkMw8rz53v",
        "colab": {
          "base_uri": "https://localhost:8080/"
        },
        "outputId": "206f8f87-e70d-42e9-d2f1-13c474e04a56"
      },
      "source": [
        "early_stopping_monitor = EarlyStopping(patience=10)    \n",
        "model2.compile(optimizer=SGD(lr=0.001,momentum=0.9), loss='binary_crossentropy',metrics=['accuracy',f1_score])\n",
        "history2=model2.fit(train_axial ,trainACL_labels, validation_split=0.05,shuffle=True ,epochs=100, callbacks=[early_stopping_monitor], batch_size = 20)"
      ],
      "execution_count": null,
      "outputs": [
        {
          "output_type": "stream",
          "name": "stdout",
          "text": [
            "Epoch 1/100\n"
          ]
        },
        {
          "output_type": "stream",
          "name": "stderr",
          "text": [
            "/usr/local/lib/python3.7/dist-packages/keras/optimizer_v2/gradient_descent.py:102: UserWarning: The `lr` argument is deprecated, use `learning_rate` instead.\n",
            "  super(SGD, self).__init__(name, **kwargs)\n"
          ]
        },
        {
          "output_type": "stream",
          "name": "stdout",
          "text": [
            "54/54 [==============================] - 17s 180ms/step - loss: 0.5110 - accuracy: 0.7866 - f1_score: nan - val_loss: 0.4614 - val_accuracy: 0.8421 - val_f1_score: nan\n",
            "Epoch 2/100\n",
            "54/54 [==============================] - 8s 151ms/step - loss: 0.3919 - accuracy: 0.8211 - f1_score: nan - val_loss: 0.4399 - val_accuracy: 0.8421 - val_f1_score: nan\n",
            "Epoch 3/100\n",
            "54/54 [==============================] - 8s 147ms/step - loss: 0.3371 - accuracy: 0.8444 - f1_score: nan - val_loss: 0.4664 - val_accuracy: 0.8070 - val_f1_score: nan\n",
            "Epoch 4/100\n",
            "54/54 [==============================] - 8s 148ms/step - loss: 0.2733 - accuracy: 0.8733 - f1_score: nan - val_loss: 0.4540 - val_accuracy: 0.8246 - val_f1_score: nan\n",
            "Epoch 5/100\n",
            "54/54 [==============================] - 8s 149ms/step - loss: 0.1999 - accuracy: 0.9254 - f1_score: nan - val_loss: 0.4258 - val_accuracy: 0.7895 - val_f1_score: nan\n",
            "Epoch 6/100\n",
            "54/54 [==============================] - 8s 149ms/step - loss: 0.1576 - accuracy: 0.9432 - f1_score: 0.8383 - val_loss: 0.4419 - val_accuracy: 0.8596 - val_f1_score: 0.5111\n",
            "Epoch 7/100\n",
            "54/54 [==============================] - 8s 149ms/step - loss: 0.1019 - accuracy: 0.9702 - f1_score: 0.9080 - val_loss: 0.5856 - val_accuracy: 0.8421 - val_f1_score: nan\n",
            "Epoch 8/100\n",
            "54/54 [==============================] - 8s 149ms/step - loss: 0.0896 - accuracy: 0.9767 - f1_score: 0.9091 - val_loss: 0.5471 - val_accuracy: 0.7719 - val_f1_score: nan\n",
            "Epoch 9/100\n",
            "54/54 [==============================] - 8s 149ms/step - loss: 0.0907 - accuracy: 0.9683 - f1_score: 0.8799 - val_loss: 0.4875 - val_accuracy: 0.7544 - val_f1_score: nan\n",
            "Epoch 10/100\n",
            "54/54 [==============================] - 8s 150ms/step - loss: 0.1008 - accuracy: 0.9683 - f1_score: 0.8927 - val_loss: 0.6065 - val_accuracy: 0.7544 - val_f1_score: 0.4556\n",
            "Epoch 11/100\n",
            "54/54 [==============================] - 8s 151ms/step - loss: 0.0781 - accuracy: 0.9664 - f1_score: 0.8959 - val_loss: 0.7895 - val_accuracy: 0.7895 - val_f1_score: nan\n",
            "Epoch 12/100\n",
            "54/54 [==============================] - 8s 150ms/step - loss: 0.0526 - accuracy: 0.9804 - f1_score: 0.9436 - val_loss: 0.9602 - val_accuracy: 0.6667 - val_f1_score: 0.3318\n",
            "Epoch 13/100\n",
            "54/54 [==============================] - 8s 153ms/step - loss: 0.0507 - accuracy: 0.9842 - f1_score: 0.9478 - val_loss: 0.5207 - val_accuracy: 0.7895 - val_f1_score: 0.3397\n",
            "Epoch 14/100\n",
            "54/54 [==============================] - 8s 151ms/step - loss: 0.0359 - accuracy: 0.9925 - f1_score: 0.9283 - val_loss: 0.8379 - val_accuracy: 0.7895 - val_f1_score: nan\n",
            "Epoch 15/100\n",
            "54/54 [==============================] - 8s 155ms/step - loss: 0.0378 - accuracy: 0.9897 - f1_score: 0.9714 - val_loss: 0.7358 - val_accuracy: 0.7544 - val_f1_score: nan\n"
          ]
        }
      ]
    },
    {
      "cell_type": "code",
      "metadata": {
        "id": "0acHIajk0WVz",
        "colab": {
          "base_uri": "https://localhost:8080/",
          "height": 354
        },
        "outputId": "102d96e2-6735-4d8e-e07c-dea7c1eba3d2"
      },
      "source": [
        "p = np.array(model2.predict(train_axial))\n",
        "train_ACL_pred.append(p)\n",
        "p = np.array(model2.predict(test_axial))\n",
        "test_ACL_pred.append(p)             \n",
        "score2 = model2.evaluate(test_axial ,testACL_labels,verbose=1)       \n",
        "print('Train loss:',score2[0])\n",
        "print('Train accuracy:',score2[1])                                             \n",
        "plt.figure()\n",
        "plt.grid()                                                                                                         \n",
        "plt.title('Training performance')                          \n",
        "plt.plot(history2.epoch, history2.history['loss'], label='train loss+error')  \n",
        "plt.plot(history2.epoch, history2.history['val_loss'], label='val_error')\n",
        "plt.plot(history2.epoch, history2.history['f1_score'], label='f1_score')\n",
        "plt.legend()"
      ],
      "execution_count": null,
      "outputs": [
        {
          "output_type": "stream",
          "name": "stdout",
          "text": [
            "4/4 [==============================] - 0s 82ms/step - loss: 1.0063 - accuracy: 0.6500 - f1_score: 0.4326\n",
            "Train loss: 1.0063023567199707\n",
            "Train accuracy: 0.6499999761581421\n"
          ]
        },
        {
          "output_type": "execute_result",
          "data": {
            "text/plain": [
              "<matplotlib.legend.Legend at 0x7fd518697690>"
            ]
          },
          "metadata": {},
          "execution_count": 22
        },
        {
          "output_type": "display_data",
          "data": {
            "image/png": "[encoded data removed]",
            "text/plain": [
              "<Figure size 432x288 with 1 Axes>"
            ]
          },
          "metadata": {
            "needs_background": "light"
          }
        }
      ]
    },
    {
      "cell_type": "code",
      "source": [
        "filename = '/content/drive/MyDrive/Medical/MRNET MODEL/model2.h5'\n",
        "model2.save(filename)\n",
        "print('>Saved %s' % filename)\n",
        "clean_up(model=model2)"
      ],
      "metadata": {
        "colab": {
          "base_uri": "https://localhost:8080/"
        },
        "id": "9ylqxFhbekCo",
        "outputId": "eb8d5d90-c6ef-4fbe-b4c7-ccb5f2025aad"
      },
      "execution_count": null,
      "outputs": [
        {
          "output_type": "stream",
          "name": "stdout",
          "text": [
            ">Saved /content/drive/MyDrive/Medical/MRNET MODEL/model2.h5\n",
            "...Finished clean up...\n"
          ]
        }
      ]
    },
    {
      "cell_type": "markdown",
      "metadata": {
        "id": "JIzTeIQJ08Ep"
      },
      "source": [
        "#### Finetuning InceptionV3 Model for Axial Plane Scanes checking for Abnormal Condition"
      ]
    },
    {
      "cell_type": "code",
      "metadata": {
        "id": "L-L9iI9z0-wB"
      },
      "source": [
        "input_tensor = Input(shape=(256, 256,3))  \n",
        "base_model_ax_AB = InceptionV3(input_tensor=input_tensor, weights='imagenet', include_top=False)"
      ],
      "execution_count": null,
      "outputs": []
    },
    {
      "cell_type": "code",
      "metadata": {
        "id": "y2exvZb-19SL"
      },
      "source": [
        "x = base_model_ax_AB.output\n",
        "x = GlobalAveragePooling2D()(x)\n",
        "x=Dropout(0.2)(x)\n",
        "x = Dense(1024, activation='relu')(x)\n",
        "x=Dropout(0.2)(x)\n",
        "x=Dropout(0.2)(x)\n",
        "predictions = Dense(1, activation='sigmoid')(x)\n",
        "model3 = Model(inputs=base_model_ax_AB.input,outputs=predictions)"
      ],
      "execution_count": null,
      "outputs": []
    },
    {
      "cell_type": "code",
      "metadata": {
        "id": "a7mXwAtA2IL0"
      },
      "source": [
        "for layer in model3.layers[:79]:\n",
        "   layer.trainable = False\n",
        "for layer in model3.layers[79:]:\n",
        "   layer.trainable = True"
      ],
      "execution_count": null,
      "outputs": []
    },
    {
      "cell_type": "code",
      "metadata": {
        "id": "gfK3QM3Y2OBx",
        "colab": {
          "base_uri": "https://localhost:8080/"
        },
        "outputId": "f2fb53f9-b11f-46ca-bf22-c2adeb8d96fa"
      },
      "source": [
        "early_stopping_monitor = EarlyStopping(patience=10)    \n",
        "model3.compile(optimizer=SGD(lr=0.001,momentum=0.9), loss='binary_crossentropy',metrics=['accuracy',f1_score])\n",
        "history3=model3.fit(train_axial ,trainAb_labels, validation_split=0.05,shuffle=True ,epochs=100, callbacks=[early_stopping_monitor], batch_size = 20)"
      ],
      "execution_count": null,
      "outputs": [
        {
          "output_type": "stream",
          "name": "stdout",
          "text": [
            "Epoch 1/100\n"
          ]
        },
        {
          "output_type": "stream",
          "name": "stderr",
          "text": [
            "/usr/local/lib/python3.7/dist-packages/keras/optimizer_v2/gradient_descent.py:102: UserWarning: The `lr` argument is deprecated, use `learning_rate` instead.\n",
            "  super(SGD, self).__init__(name, **kwargs)\n"
          ]
        },
        {
          "output_type": "stream",
          "name": "stdout",
          "text": [
            "54/54 [==============================] - 16s 174ms/step - loss: 0.6459 - accuracy: 0.6328 - f1_score: nan - val_loss: 0.6877 - val_accuracy: 0.5614 - val_f1_score: nan\n",
            "Epoch 2/100\n",
            "54/54 [==============================] - 8s 150ms/step - loss: 0.5585 - accuracy: 0.6925 - f1_score: nan - val_loss: 0.6733 - val_accuracy: 0.5789 - val_f1_score: 0.4637\n",
            "Epoch 3/100\n",
            "54/54 [==============================] - 8s 151ms/step - loss: 0.5014 - accuracy: 0.7344 - f1_score: nan - val_loss: 0.8046 - val_accuracy: 0.4211 - val_f1_score: 0.5341\n",
            "Epoch 4/100\n",
            "54/54 [==============================] - 8s 148ms/step - loss: 0.4489 - accuracy: 0.7847 - f1_score: 0.6658 - val_loss: 0.6323 - val_accuracy: 0.5789 - val_f1_score: 0.5349\n",
            "Epoch 5/100\n",
            "54/54 [==============================] - 8s 151ms/step - loss: 0.3562 - accuracy: 0.8341 - f1_score: 0.7540 - val_loss: 0.7251 - val_accuracy: 0.5439 - val_f1_score: 0.5153\n",
            "Epoch 6/100\n",
            "54/54 [==============================] - 8s 149ms/step - loss: 0.2787 - accuracy: 0.8938 - f1_score: 0.8413 - val_loss: 0.7034 - val_accuracy: 0.5789 - val_f1_score: 0.5516\n",
            "Epoch 7/100\n",
            "54/54 [==============================] - 8s 149ms/step - loss: 0.2362 - accuracy: 0.9087 - f1_score: 0.8571 - val_loss: 0.9317 - val_accuracy: 0.5263 - val_f1_score: 0.5847\n",
            "Epoch 8/100\n",
            "54/54 [==============================] - 8s 149ms/step - loss: 0.2115 - accuracy: 0.9208 - f1_score: 0.8773 - val_loss: 0.7985 - val_accuracy: 0.4912 - val_f1_score: 0.2613\n",
            "Epoch 9/100\n",
            "54/54 [==============================] - 8s 150ms/step - loss: 0.2402 - accuracy: 0.9040 - f1_score: 0.8511 - val_loss: 0.8920 - val_accuracy: 0.6667 - val_f1_score: 0.6540\n",
            "Epoch 10/100\n",
            "54/54 [==============================] - 8s 151ms/step - loss: 0.2121 - accuracy: 0.9152 - f1_score: 0.8727 - val_loss: 0.9937 - val_accuracy: 0.5088 - val_f1_score: 0.2581\n",
            "Epoch 11/100\n",
            "54/54 [==============================] - 8s 154ms/step - loss: 0.1526 - accuracy: 0.9366 - f1_score: 0.9021 - val_loss: 1.0955 - val_accuracy: 0.5789 - val_f1_score: 0.5873\n",
            "Epoch 12/100\n",
            "54/54 [==============================] - 8s 153ms/step - loss: 0.1381 - accuracy: 0.9422 - f1_score: 0.9087 - val_loss: 0.9758 - val_accuracy: 0.6316 - val_f1_score: 0.4457\n",
            "Epoch 13/100\n",
            "54/54 [==============================] - 8s 151ms/step - loss: 0.1005 - accuracy: 0.9683 - f1_score: 0.9441 - val_loss: 1.2965 - val_accuracy: 0.6140 - val_f1_score: 0.4583\n",
            "Epoch 14/100\n",
            "54/54 [==============================] - 8s 151ms/step - loss: 0.0814 - accuracy: 0.9748 - f1_score: 0.9571 - val_loss: 1.2402 - val_accuracy: 0.5965 - val_f1_score: nan\n"
          ]
        }
      ]
    },
    {
      "cell_type": "code",
      "metadata": {
        "id": "8qVUA8jD2ZWb",
        "colab": {
          "base_uri": "https://localhost:8080/",
          "height": 354
        },
        "outputId": "d495e1d0-deff-49a0-fa8c-5ce41fb7508c"
      },
      "source": [
        "p = np.array(model3.predict(train_axial))\n",
        "train_Ab_pred.append(p)\n",
        "p = np.array(model3.predict(test_axial))\n",
        "test_Ab_pred.append(p)               \n",
        "score3 = model3.evaluate(test_axial ,testAb_labels,verbose=1)       \n",
        "print('Test loss:',score3[0])\n",
        "print('Test accuracy:',score3[1])                                                             \n",
        "plt.figure()\n",
        "plt.grid()                                                                                                          \n",
        "plt.title('Training performance')                          \n",
        "plt.plot(history3.epoch, history3.history['loss'], label='train loss+error')  \n",
        "plt.plot(history3.epoch, history3.history['val_loss'], label='val_error') \n",
        "plt.plot(history3.epoch, history3.history['f1_score'], label='f1_score') \n",
        "plt.legend()"
      ],
      "execution_count": null,
      "outputs": [
        {
          "output_type": "stream",
          "name": "stdout",
          "text": [
            "4/4 [==============================] - 0s 83ms/step - loss: 1.5875 - accuracy: 0.5917 - f1_score: nan\n",
            "Test loss: 1.587497591972351\n",
            "Test accuracy: 0.5916666388511658\n"
          ]
        },
        {
          "output_type": "execute_result",
          "data": {
            "text/plain": [
              "<matplotlib.legend.Legend at 0x7fd51a36b050>"
            ]
          },
          "metadata": {},
          "execution_count": 28
        },
        {
          "output_type": "display_data",
          "data": {
            "image/png": "[encoded data removed]",
            "text/plain": [
              "<Figure size 432x288 with 1 Axes>"
            ]
          },
          "metadata": {
            "needs_background": "light"
          }
        }
      ]
    },
    {
      "cell_type": "code",
      "source": [
        "filename = '/content/drive/MyDrive/Medical/MRNET MODEL/model3.h5'\n",
        "model3.save(filename)\n",
        "print('>Saved %s' % filename)\n",
        "clean_up(model=model3)"
      ],
      "metadata": {
        "colab": {
          "base_uri": "https://localhost:8080/"
        },
        "id": "TDjJ7rluf2BR",
        "outputId": "83a8fa9e-2767-41c3-8280-369449f83d9a"
      },
      "execution_count": null,
      "outputs": [
        {
          "output_type": "stream",
          "name": "stdout",
          "text": [
            ">Saved /content/drive/MyDrive/Medical/MRNET MODEL/model3.h5\n",
            "...Finished clean up...\n"
          ]
        }
      ]
    },
    {
      "cell_type": "code",
      "metadata": {
        "id": "K-U-NrNAC3Gl"
      },
      "source": [
        "del train_axial\n",
        "del test_axial\n",
        "del axial_dir\n",
        "del axial_reloaded\n",
        "del axialTest_reloaded\n",
        "del axial_list\n",
        "del axialTest_list\n",
        "del model\n",
        "del model2\n",
        "del model3\n",
        "del base_model_ax_men\n",
        "del base_model_ax_ACL\n",
        "del base_model_ax_AB\n",
        "del p"
      ],
      "execution_count": null,
      "outputs": []
    },
    {
      "cell_type": "markdown",
      "metadata": {
        "id": "gvtnuUab3sGt"
      },
      "source": [
        "##Coronal Plane Scans"
      ]
    },
    {
      "cell_type": "markdown",
      "metadata": {
        "id": "VJKP50dP-T7d"
      },
      "source": [
        "###Reading train & test data"
      ]
    },
    {
      "cell_type": "code",
      "metadata": {
        "id": "sL-8TZ2J36tA",
        "colab": {
          "base_uri": "https://localhost:8080/"
        },
        "outputId": "1e5d7a82-02a2-43cb-d29a-d437abf65b2f"
      },
      "source": [
        "\n",
        "coronal_dir = os.listdir(\"/content/drive/MyDrive/Medical/MRNet-v1.0/train/coronal/\")\n",
        "coronal_dir = [f.lower() for f in coronal_dir]   \n",
        "c=sorted(coronal_dir)\n",
        "coronal_list=np.array(c)\n",
        "coronal_reloaded=[]\n",
        "print(coronal_list.shape)\n",
        "for j in range(1,1131):\n",
        "    file2= \"/content/drive/MyDrive/Medical/MRNet-v1.0/train/coronal/\"+coronal_list[j]\n",
        "    coronal_reloaded.append(np.load(file2,allow_pickle='false'))\n",
        "coronal_reloaded=np.array(coronal_reloaded)\n",
        "print(coronal_reloaded.shape)\n",
        "train_coronal=[]\n",
        "for j in range(len(coronal_reloaded)):\n",
        "    mid2=math.floor((coronal_reloaded[j].shape[0])/2)\n",
        "    train_coronal.append([])\n",
        "    for n in range(mid2-1,mid2+2):\n",
        "         train_coronal[j].append(coronal_reloaded[j][n])\n",
        "train_coronal=np.array(train_coronal)\n",
        "train_coronal=np.reshape(train_coronal,(1130,256,256,3))\n",
        "print(train_coronal.shape)\n",
        "coronal_dir = os.listdir(\"/content/drive/MyDrive/Medical/MRNet-v1.0/valid/coronal/\")\n",
        "coronal_dir = [f.lower() for f in coronal_dir]   \n",
        "c=sorted(coronal_dir)\n",
        "coronalTest_list=np.array(c)\n",
        "coronalTest_reloaded=[]\n",
        "print(coronalTest_list.shape)\n",
        "for j in range(0,120):\n",
        "    file2= \"/content/drive/MyDrive/Medical/MRNet-v1.0/valid/coronal/\"+coronalTest_list[j]\n",
        "    coronalTest_reloaded.append(np.load(file2,allow_pickle='false'))\n",
        "coronalTest_reloaded=np.array(coronalTest_reloaded)\n",
        "print(coronalTest_reloaded.shape)\n",
        "test_coronal=[]\n",
        "for j in range(len(coronalTest_reloaded)):\n",
        "    mid2=math.floor((coronalTest_reloaded[j].shape[0])/2)\n",
        "    test_coronal.append([])\n",
        "    for n in range(mid2-1,mid2+2):\n",
        "         test_coronal[j].append(coronalTest_reloaded[j][n])\n",
        "test_coronal=np.array(test_coronal)\n",
        "test_coronal=np.reshape(test_coronal,(120,256,256,3))\n",
        "print(test_coronal.shape)"
      ],
      "execution_count": null,
      "outputs": [
        {
          "output_type": "stream",
          "name": "stdout",
          "text": [
            "(1131,)\n"
          ]
        },
        {
          "output_type": "stream",
          "name": "stderr",
          "text": [
            "/usr/local/lib/python3.7/dist-packages/ipykernel_launcher.py:12: VisibleDeprecationWarning: Creating an ndarray from ragged nested sequences (which is a list-or-tuple of lists-or-tuples-or ndarrays with different lengths or shapes) is deprecated. If you meant to do this, you must specify 'dtype=object' when creating the ndarray.\n",
            "  if sys.path[0] == '':\n"
          ]
        },
        {
          "output_type": "stream",
          "name": "stdout",
          "text": [
            "(1130,)\n",
            "(1130, 256, 256, 3)\n",
            "(120,)\n",
            "(120,)\n",
            "(120, 256, 256, 3)\n"
          ]
        },
        {
          "output_type": "stream",
          "name": "stderr",
          "text": [
            "/usr/local/lib/python3.7/dist-packages/ipykernel_launcher.py:40: VisibleDeprecationWarning: Creating an ndarray from ragged nested sequences (which is a list-or-tuple of lists-or-tuples-or ndarrays with different lengths or shapes) is deprecated. If you meant to do this, you must specify 'dtype=object' when creating the ndarray.\n"
          ]
        }
      ]
    },
    {
      "cell_type": "markdown",
      "metadata": {
        "id": "RM003h3Y46L-"
      },
      "source": [
        "#### Finetuning InceptionV3 Model for Coronal Plane Scanes checking for Meniscus Condition"
      ]
    },
    {
      "cell_type": "code",
      "metadata": {
        "id": "N-4cC08a50ot"
      },
      "source": [
        "input_tensor = Input(shape=(256, 256,3))  \n",
        "base_model_Co_Men = InceptionV3(input_tensor=input_tensor, weights='imagenet', include_top=False)"
      ],
      "execution_count": null,
      "outputs": []
    },
    {
      "cell_type": "code",
      "metadata": {
        "id": "HRaoDsnw57HB"
      },
      "source": [
        "x = base_model_Co_Men.output\n",
        "x = GlobalAveragePooling2D()(x)\n",
        "x=Dropout(0.2)(x)\n",
        "x = Dense(1024, activation='relu')(x)\n",
        "x=Dropout(0.2)(x)\n",
        "x=Dropout(0.2)(x)\n",
        "predictions = Dense(1, activation='sigmoid')(x)\n",
        "model4 = Model(inputs=base_model_Co_Men.input,outputs=predictions)"
      ],
      "execution_count": null,
      "outputs": []
    },
    {
      "cell_type": "code",
      "metadata": {
        "id": "Xa1OIRRw5_q-"
      },
      "source": [
        "for layer in model4.layers[:79]:\n",
        "   layer.trainable = False\n",
        "for layer in model4.layers[79:]:\n",
        "   layer.trainable = True"
      ],
      "execution_count": null,
      "outputs": []
    },
    {
      "cell_type": "code",
      "metadata": {
        "id": "0sTn67eX6GyY",
        "colab": {
          "base_uri": "https://localhost:8080/"
        },
        "outputId": "990300af-6b4a-4eae-c374-75df10897f79"
      },
      "source": [
        "early_stopping_monitor = EarlyStopping(patience=5)    \n",
        "model4.compile(optimizer=SGD(lr=0.001,momentum=0.9), loss='binary_crossentropy',metrics=['accuracy',f1_score])\n",
        "history4=model4.fit(train_coronal ,trainMen_labels, validation_split=0.05,shuffle=True ,epochs=100, callbacks=[early_stopping_monitor], batch_size = 20)"
      ],
      "execution_count": null,
      "outputs": [
        {
          "output_type": "stream",
          "name": "stderr",
          "text": [
            "/usr/local/lib/python3.7/dist-packages/keras/optimizer_v2/gradient_descent.py:102: UserWarning: The `lr` argument is deprecated, use `learning_rate` instead.\n",
            "  super(SGD, self).__init__(name, **kwargs)\n"
          ]
        },
        {
          "output_type": "stream",
          "name": "stdout",
          "text": [
            "Epoch 1/100\n",
            "54/54 [==============================] - 16s 171ms/step - loss: 0.6583 - accuracy: 0.6375 - f1_score: nan - val_loss: 0.6859 - val_accuracy: 0.6140 - val_f1_score: nan\n",
            "Epoch 2/100\n",
            "54/54 [==============================] - 8s 145ms/step - loss: 0.6150 - accuracy: 0.6570 - f1_score: nan - val_loss: 0.7155 - val_accuracy: 0.6140 - val_f1_score: nan\n",
            "Epoch 3/100\n",
            "54/54 [==============================] - 8s 145ms/step - loss: 0.5595 - accuracy: 0.6971 - f1_score: nan - val_loss: 0.7164 - val_accuracy: 0.6140 - val_f1_score: nan\n",
            "Epoch 4/100\n",
            "54/54 [==============================] - 8s 148ms/step - loss: 0.5176 - accuracy: 0.7428 - f1_score: nan - val_loss: 0.6653 - val_accuracy: 0.5789 - val_f1_score: 0.3947\n",
            "Epoch 5/100\n",
            "54/54 [==============================] - 8s 149ms/step - loss: 0.4486 - accuracy: 0.7856 - f1_score: 0.6616 - val_loss: 0.6555 - val_accuracy: 0.6140 - val_f1_score: nan\n",
            "Epoch 6/100\n",
            "54/54 [==============================] - 8s 149ms/step - loss: 0.3606 - accuracy: 0.8388 - f1_score: 0.7477 - val_loss: 0.7372 - val_accuracy: 0.6316 - val_f1_score: nan\n",
            "Epoch 7/100\n",
            "54/54 [==============================] - 8s 150ms/step - loss: 0.2507 - accuracy: 0.9049 - f1_score: 0.8556 - val_loss: 0.8793 - val_accuracy: 0.5439 - val_f1_score: 0.4212\n",
            "Epoch 8/100\n",
            "54/54 [==============================] - 8s 148ms/step - loss: 0.1994 - accuracy: 0.9320 - f1_score: 0.9009 - val_loss: 0.9608 - val_accuracy: 0.5965 - val_f1_score: 0.4074\n",
            "Epoch 9/100\n",
            "54/54 [==============================] - 8s 148ms/step - loss: 0.2300 - accuracy: 0.9068 - f1_score: 0.8614 - val_loss: 1.0125 - val_accuracy: 0.5439 - val_f1_score: nan\n",
            "Epoch 10/100\n",
            "54/54 [==============================] - 8s 149ms/step - loss: 0.2298 - accuracy: 0.9152 - f1_score: 0.8768 - val_loss: 1.5262 - val_accuracy: 0.5789 - val_f1_score: nan\n"
          ]
        }
      ]
    },
    {
      "cell_type": "code",
      "metadata": {
        "id": "EsGIEL8-jvLQ",
        "colab": {
          "base_uri": "https://localhost:8080/",
          "height": 354
        },
        "outputId": "a81d17e3-fa58-4165-ed8d-f3089785ad9d"
      },
      "source": [
        "p = np.array(model4.predict(train_coronal))\n",
        "train_Men_pred.append(p)\n",
        "p = np.array(model4.predict(test_coronal))\n",
        "test_Men_pred.append(p)\n",
        "score4 = model4.evaluate(test_coronal ,testMen_labels,verbose=1)       \n",
        "print('Test loss:',score4[0])\n",
        "print('Test accuracy:',score4[1])                                                                    \n",
        "plt.figure()\n",
        "plt.grid()                                                                                                          \n",
        "plt.title('Training performance')                          \n",
        "plt.plot(history4.epoch, history4.history['loss'], label='train loss+error')  \n",
        "plt.plot(history4.epoch, history4.history['val_loss'], label='val_error')  \n",
        "plt.plot(history4.epoch, history4.history['f1_score'], label='f1_score')  \n",
        "plt.legend()"
      ],
      "execution_count": null,
      "outputs": [
        {
          "output_type": "stream",
          "name": "stdout",
          "text": [
            "4/4 [==============================] - 0s 84ms/step - loss: 1.5605 - accuracy: 0.5667 - f1_score: nan\n",
            "Test loss: 1.560547947883606\n",
            "Test accuracy: 0.5666666626930237\n"
          ]
        },
        {
          "output_type": "execute_result",
          "data": {
            "text/plain": [
              "<matplotlib.legend.Legend at 0x7fd5193570d0>"
            ]
          },
          "metadata": {},
          "execution_count": 36
        },
        {
          "output_type": "display_data",
          "data": {
            "image/png": "[encoded data removed]",
            "text/plain": [
              "<Figure size 432x288 with 1 Axes>"
            ]
          },
          "metadata": {
            "needs_background": "light"
          }
        }
      ]
    },
    {
      "cell_type": "code",
      "source": [
        "filename = '/content/drive/MyDrive/Medical/MRNET MODEL/model4.h5'\n",
        "model4.save(filename)\n",
        "print('>Saved %s' % filename)\n",
        "clean_up(model=model4)"
      ],
      "metadata": {
        "colab": {
          "base_uri": "https://localhost:8080/"
        },
        "id": "O2yQjTejgNn6",
        "outputId": "ea7436d5-4449-4f0b-8f10-e366a8581b18"
      },
      "execution_count": null,
      "outputs": [
        {
          "output_type": "stream",
          "name": "stdout",
          "text": [
            ">Saved /content/drive/MyDrive/Medical/MRNET MODEL/model4.h5\n",
            "...Finished clean up...\n"
          ]
        }
      ]
    },
    {
      "cell_type": "markdown",
      "metadata": {
        "id": "ev8SCy58luHL"
      },
      "source": [
        "#### Finetuning InceptionV3 Model for Coronal Plane Scanes checking for ACL Condition"
      ]
    },
    {
      "cell_type": "code",
      "metadata": {
        "id": "NqYG7kydluHO"
      },
      "source": [
        "input_tensor = Input(shape=(256, 256,3))  \n",
        "base_model_Co_ACL = InceptionV3(input_tensor=input_tensor, weights='imagenet', include_top=False)"
      ],
      "execution_count": null,
      "outputs": []
    },
    {
      "cell_type": "code",
      "metadata": {
        "id": "uhIvHBiIluHY"
      },
      "source": [
        "x = base_model_Co_ACL.output\n",
        "x = GlobalAveragePooling2D()(x)\n",
        "x=Dropout(0.2)(x)\n",
        "x = Dense(1024, activation='relu')(x)\n",
        "x=Dropout(0.2)(x)\n",
        "x=Dropout(0.2)(x)\n",
        "predictions = Dense(1, activation='sigmoid')(x)\n",
        "model5 = Model(inputs=base_model_Co_ACL.input,outputs=predictions)"
      ],
      "execution_count": null,
      "outputs": []
    },
    {
      "cell_type": "code",
      "metadata": {
        "id": "5fPQriI-luHh"
      },
      "source": [
        "for layer in model5.layers[:79]:\n",
        "   layer.trainable = False\n",
        "for layer in model5.layers[79:]:\n",
        "   layer.trainable = True"
      ],
      "execution_count": null,
      "outputs": []
    },
    {
      "cell_type": "code",
      "metadata": {
        "id": "GjmEc-AkluHx",
        "colab": {
          "base_uri": "https://localhost:8080/"
        },
        "outputId": "299506ec-c349-426c-def6-b0e7dc2f8c9e"
      },
      "source": [
        "early_stopping_monitor = EarlyStopping(patience=10)    \n",
        "model5.compile(optimizer=SGD(lr=0.001,momentum=0.9), loss='binary_crossentropy',metrics=['accuracy',f1_score])\n",
        "history5=model5.fit(train_coronal ,trainACL_labels, validation_split=0.05,shuffle=True ,epochs=100, callbacks=[early_stopping_monitor], batch_size = 20)"
      ],
      "execution_count": null,
      "outputs": [
        {
          "output_type": "stream",
          "name": "stderr",
          "text": [
            "/usr/local/lib/python3.7/dist-packages/keras/optimizer_v2/gradient_descent.py:102: UserWarning: The `lr` argument is deprecated, use `learning_rate` instead.\n",
            "  super(SGD, self).__init__(name, **kwargs)\n"
          ]
        },
        {
          "output_type": "stream",
          "name": "stdout",
          "text": [
            "Epoch 1/100\n",
            "54/54 [==============================] - 16s 175ms/step - loss: 0.5099 - accuracy: 0.7903 - f1_score: nan - val_loss: 0.4117 - val_accuracy: 0.8421 - val_f1_score: nan\n",
            "Epoch 2/100\n",
            "54/54 [==============================] - 8s 148ms/step - loss: 0.4694 - accuracy: 0.8136 - f1_score: nan - val_loss: 0.4262 - val_accuracy: 0.8421 - val_f1_score: nan\n",
            "Epoch 3/100\n",
            "54/54 [==============================] - 8s 149ms/step - loss: 0.4340 - accuracy: 0.8127 - f1_score: nan - val_loss: 0.3856 - val_accuracy: 0.8421 - val_f1_score: nan\n",
            "Epoch 4/100\n",
            "54/54 [==============================] - 8s 152ms/step - loss: 0.3692 - accuracy: 0.8267 - f1_score: nan - val_loss: 0.4443 - val_accuracy: 0.8421 - val_f1_score: nan\n",
            "Epoch 5/100\n",
            "54/54 [==============================] - 8s 150ms/step - loss: 0.3027 - accuracy: 0.8611 - f1_score: nan - val_loss: 0.5283 - val_accuracy: 0.8421 - val_f1_score: nan\n",
            "Epoch 6/100\n",
            "54/54 [==============================] - 8s 150ms/step - loss: 0.2208 - accuracy: 0.9208 - f1_score: nan - val_loss: 0.4550 - val_accuracy: 0.8421 - val_f1_score: nan\n",
            "Epoch 7/100\n",
            "54/54 [==============================] - 8s 151ms/step - loss: 0.1509 - accuracy: 0.9478 - f1_score: 0.8620 - val_loss: 0.6591 - val_accuracy: 0.8772 - val_f1_score: 0.5000\n",
            "Epoch 8/100\n",
            "54/54 [==============================] - 8s 150ms/step - loss: 0.1109 - accuracy: 0.9720 - f1_score: 0.9064 - val_loss: 0.6291 - val_accuracy: 0.8070 - val_f1_score: nan\n",
            "Epoch 9/100\n",
            "54/54 [==============================] - 8s 151ms/step - loss: 0.1247 - accuracy: 0.9543 - f1_score: 0.8701 - val_loss: 0.5985 - val_accuracy: 0.7719 - val_f1_score: nan\n",
            "Epoch 10/100\n",
            "54/54 [==============================] - 8s 151ms/step - loss: 0.1158 - accuracy: 0.9487 - f1_score: 0.8496 - val_loss: 0.9740 - val_accuracy: 0.8421 - val_f1_score: nan\n",
            "Epoch 11/100\n",
            "54/54 [==============================] - 8s 152ms/step - loss: 0.0790 - accuracy: 0.9767 - f1_score: 0.9276 - val_loss: 0.7714 - val_accuracy: 0.8246 - val_f1_score: nan\n",
            "Epoch 12/100\n",
            "54/54 [==============================] - 8s 154ms/step - loss: 0.0777 - accuracy: 0.9720 - f1_score: 0.8915 - val_loss: 0.6861 - val_accuracy: 0.7719 - val_f1_score: nan\n",
            "Epoch 13/100\n",
            "54/54 [==============================] - 8s 152ms/step - loss: 0.0775 - accuracy: 0.9711 - f1_score: 0.8902 - val_loss: 0.7433 - val_accuracy: 0.7018 - val_f1_score: 0.3463\n"
          ]
        }
      ]
    },
    {
      "cell_type": "code",
      "metadata": {
        "id": "61nsbN5vluH8",
        "colab": {
          "base_uri": "https://localhost:8080/",
          "height": 372
        },
        "outputId": "b1ce0fc1-e6fa-40dd-8e3d-962444c3e391"
      },
      "source": [
        "p = np.array(model5.predict(train_coronal))\n",
        "train_ACL_pred.append(p)\n",
        "p = np.array(model5.predict(test_coronal, verbose=1))\n",
        "test_ACL_pred.append(p)                   \n",
        "score5 = model5.evaluate(test_coronal ,testACL_labels,verbose=1)       \n",
        "print('Test loss:',score5[0])\n",
        "print('Test accuracy:',score5[1])                                                               \n",
        "plt.figure()\n",
        "plt.grid()                                                                                                        \n",
        "plt.title('Training performance')                          \n",
        "plt.plot(history5.epoch, history5.history['loss'], label='train loss+error')  \n",
        "plt.plot(history5.epoch, history5.history['val_loss'], label='val_error') \n",
        "plt.plot(history5.epoch, history5.history['f1_score'], label='f1_score') \n",
        "plt.legend()"
      ],
      "execution_count": null,
      "outputs": [
        {
          "output_type": "stream",
          "name": "stdout",
          "text": [
            "4/4 [==============================] - 0s 104ms/step\n",
            "4/4 [==============================] - 0s 84ms/step - loss: 0.9644 - accuracy: 0.6083 - f1_score: 0.3022\n",
            "Test loss: 0.9643641114234924\n",
            "Test accuracy: 0.6083333492279053\n"
          ]
        },
        {
          "output_type": "execute_result",
          "data": {
            "text/plain": [
              "<matplotlib.legend.Legend at 0x7fd429074850>"
            ]
          },
          "metadata": {},
          "execution_count": 42
        },
        {
          "output_type": "display_data",
          "data": {
            "image/png": "[encoded data removed]",
            "text/plain": [
              "<Figure size 432x288 with 1 Axes>"
            ]
          },
          "metadata": {
            "needs_background": "light"
          }
        }
      ]
    },
    {
      "cell_type": "code",
      "source": [
        "filename = '/content/drive/MyDrive/Medical/MRNET MODEL/model5.h5'\n",
        "model5.save(filename)\n",
        "print('>Saved %s' % filename)\n",
        "clean_up(model=model5)"
      ],
      "metadata": {
        "colab": {
          "base_uri": "https://localhost:8080/"
        },
        "id": "5rNQtSgkjHtR",
        "outputId": "3430de70-8541-4a4d-f20a-cd6d77dbd80a"
      },
      "execution_count": null,
      "outputs": [
        {
          "output_type": "stream",
          "name": "stdout",
          "text": [
            ">Saved /content/drive/MyDrive/Medical/MRNET MODEL/model5.h5\n",
            "...Finished clean up...\n"
          ]
        }
      ]
    },
    {
      "cell_type": "markdown",
      "metadata": {
        "id": "p4460kOMm_LA"
      },
      "source": [
        "#### Finetuning InceptionV3 Model for Coronal Plane Scanes checking for Abnormal Condition"
      ]
    },
    {
      "cell_type": "code",
      "metadata": {
        "id": "5mMGdm5dm_LC"
      },
      "source": [
        "input_tensor = Input(shape=(256, 256,3))  \n",
        "base_model_Co_Ab = InceptionV3(input_tensor=input_tensor, weights='imagenet', include_top=False)"
      ],
      "execution_count": null,
      "outputs": []
    },
    {
      "cell_type": "code",
      "metadata": {
        "id": "wXUGXsfLm_LF"
      },
      "source": [
        "x = base_model_Co_Ab.output\n",
        "x = GlobalAveragePooling2D()(x)\n",
        "x=Dropout(0.2)(x)\n",
        "x = Dense(1024, activation='relu')(x)\n",
        "x=Dropout(0.2)(x)\n",
        "x=Dropout(0.2)(x)\n",
        "predictions = Dense(1, activation='sigmoid')(x)\n",
        "model6 = Model(inputs=base_model_Co_Ab.input,outputs=predictions)"
      ],
      "execution_count": null,
      "outputs": []
    },
    {
      "cell_type": "code",
      "metadata": {
        "id": "b9YffZeim_LH"
      },
      "source": [
        "for layer in model6.layers[:79]:\n",
        "   layer.trainable = False\n",
        "for layer in model6.layers[79:]:\n",
        "   layer.trainable = True"
      ],
      "execution_count": null,
      "outputs": []
    },
    {
      "cell_type": "code",
      "metadata": {
        "id": "J_O8H3RXm_LK",
        "colab": {
          "base_uri": "https://localhost:8080/"
        },
        "outputId": "fd369063-2f4a-487b-efad-d629ccac9eda"
      },
      "source": [
        "early_stopping_monitor = EarlyStopping(patience=10)    \n",
        "model6.compile(optimizer=SGD(lr=0.001,momentum=0.9), loss='binary_crossentropy',metrics=['accuracy',f1_score])\n",
        "history6=model6.fit(train_coronal ,trainAb_labels, validation_split=0.05,shuffle=True ,epochs=100, callbacks=[early_stopping_monitor], batch_size = 20)"
      ],
      "execution_count": null,
      "outputs": [
        {
          "output_type": "stream",
          "name": "stdout",
          "text": [
            "Epoch 1/100\n"
          ]
        },
        {
          "output_type": "stream",
          "name": "stderr",
          "text": [
            "/usr/local/lib/python3.7/dist-packages/keras/optimizer_v2/gradient_descent.py:102: UserWarning: The `lr` argument is deprecated, use `learning_rate` instead.\n",
            "  super(SGD, self).__init__(name, **kwargs)\n"
          ]
        },
        {
          "output_type": "stream",
          "name": "stdout",
          "text": [
            "54/54 [==============================] - 17s 175ms/step - loss: 0.6645 - accuracy: 0.6198 - f1_score: nan - val_loss: 0.7840 - val_accuracy: 0.6140 - val_f1_score: nan\n",
            "Epoch 2/100\n",
            "54/54 [==============================] - 8s 149ms/step - loss: 0.6293 - accuracy: 0.6580 - f1_score: nan - val_loss: 0.7451 - val_accuracy: 0.6140 - val_f1_score: nan\n",
            "Epoch 3/100\n",
            "54/54 [==============================] - 8s 153ms/step - loss: 0.5791 - accuracy: 0.6822 - f1_score: nan - val_loss: 0.7290 - val_accuracy: 0.6316 - val_f1_score: nan\n",
            "Epoch 4/100\n",
            "54/54 [==============================] - 8s 153ms/step - loss: 0.5155 - accuracy: 0.7185 - f1_score: nan - val_loss: 0.6813 - val_accuracy: 0.5965 - val_f1_score: nan\n",
            "Epoch 5/100\n",
            "54/54 [==============================] - 8s 151ms/step - loss: 0.4684 - accuracy: 0.7679 - f1_score: 0.6162 - val_loss: 0.6885 - val_accuracy: 0.5439 - val_f1_score: 0.4122\n",
            "Epoch 6/100\n",
            "54/54 [==============================] - 8s 151ms/step - loss: 0.3890 - accuracy: 0.8257 - f1_score: 0.7339 - val_loss: 0.8145 - val_accuracy: 0.6316 - val_f1_score: 0.2341\n",
            "Epoch 7/100\n",
            "54/54 [==============================] - 9s 165ms/step - loss: 0.3111 - accuracy: 0.8798 - f1_score: 0.8175 - val_loss: 1.0092 - val_accuracy: 0.5789 - val_f1_score: nan\n",
            "Epoch 8/100\n",
            "54/54 [==============================] - 8s 151ms/step - loss: 0.2195 - accuracy: 0.9152 - f1_score: 0.8694 - val_loss: 1.0822 - val_accuracy: 0.6667 - val_f1_score: 0.3232\n",
            "Epoch 9/100\n",
            "54/54 [==============================] - 8s 152ms/step - loss: 0.1483 - accuracy: 0.9506 - f1_score: 0.9221 - val_loss: 1.2593 - val_accuracy: 0.6140 - val_f1_score: nan\n",
            "Epoch 10/100\n",
            "54/54 [==============================] - 8s 152ms/step - loss: 0.1329 - accuracy: 0.9478 - f1_score: 0.9221 - val_loss: 0.8717 - val_accuracy: 0.6842 - val_f1_score: 0.5657\n",
            "Epoch 11/100\n",
            "54/54 [==============================] - 8s 152ms/step - loss: 0.1535 - accuracy: 0.9366 - f1_score: 0.9015 - val_loss: 1.3190 - val_accuracy: 0.4912 - val_f1_score: 0.4032\n",
            "Epoch 12/100\n",
            "54/54 [==============================] - 8s 152ms/step - loss: 0.1703 - accuracy: 0.9338 - f1_score: 0.9021 - val_loss: 1.8710 - val_accuracy: 0.6140 - val_f1_score: nan\n",
            "Epoch 13/100\n",
            "54/54 [==============================] - 8s 152ms/step - loss: 0.2172 - accuracy: 0.9115 - f1_score: 0.8686 - val_loss: 1.4688 - val_accuracy: 0.6316 - val_f1_score: 0.3003\n",
            "Epoch 14/100\n",
            "54/54 [==============================] - 8s 152ms/step - loss: 0.1893 - accuracy: 0.9226 - f1_score: 0.8835 - val_loss: 1.5704 - val_accuracy: 0.5088 - val_f1_score: 0.2175\n"
          ]
        }
      ]
    },
    {
      "cell_type": "code",
      "metadata": {
        "id": "6Rn0iI-Rm_LQ",
        "colab": {
          "base_uri": "https://localhost:8080/",
          "height": 354
        },
        "outputId": "56be8aef-a13f-486b-b831-8eb6ea77fe5c"
      },
      "source": [
        "p = np.array(model6.predict(train_coronal))\n",
        "train_Ab_pred.append(p)\n",
        "p = np.array(model6.predict(test_coronal))\n",
        "test_Ab_pred.append(p)                      \n",
        "score6 = model6.evaluate(test_coronal ,testAb_labels,verbose=1)       \n",
        "print('Test loss:',score6[0])\n",
        "print('Test accuracy:',score6[1])                                                                   \n",
        "plt.figure()\n",
        "plt.grid()                                                                                                         \n",
        "plt.title('Training performance')                          \n",
        "plt.plot(history6.epoch, history6.history['loss'], label='train loss+error')  \n",
        "plt.plot(history6.epoch, history6.history['val_loss'], label='val_error')   \n",
        "plt.plot(history6.epoch, history6.history['f1_score'], label='f1_score')   \n",
        "plt.legend()"
      ],
      "execution_count": null,
      "outputs": [
        {
          "output_type": "stream",
          "name": "stdout",
          "text": [
            "4/4 [==============================] - 0s 82ms/step - loss: 2.5337 - accuracy: 0.3000 - f1_score: nan\n",
            "Test loss: 2.5337178707122803\n",
            "Test accuracy: 0.30000001192092896\n"
          ]
        },
        {
          "output_type": "execute_result",
          "data": {
            "text/plain": [
              "<matplotlib.legend.Legend at 0x7fd29ef8a510>"
            ]
          },
          "metadata": {},
          "execution_count": 48
        },
        {
          "output_type": "display_data",
          "data": {
            "image/png": "[encoded data removed]",
            "text/plain": [
              "<Figure size 432x288 with 1 Axes>"
            ]
          },
          "metadata": {
            "needs_background": "light"
          }
        }
      ]
    },
    {
      "cell_type": "code",
      "source": [
        "filename = '/content/drive/MyDrive/Medical/MRNET MODEL/model6.h5'\n",
        "model6.save(filename)\n",
        "print('>Saved %s' % filename)"
      ],
      "metadata": {
        "colab": {
          "base_uri": "https://localhost:8080/"
        },
        "id": "y5hC24kdBJHp",
        "outputId": "d4925784-78df-4900-d807-42584e067d0e"
      },
      "execution_count": null,
      "outputs": [
        {
          "output_type": "stream",
          "name": "stdout",
          "text": [
            ">Saved /content/drive/MyDrive/Medical/MRNET MODEL/model6.h5\n"
          ]
        }
      ]
    },
    {
      "cell_type": "code",
      "source": [
        "clean_up(model=model6)"
      ],
      "metadata": {
        "colab": {
          "base_uri": "https://localhost:8080/"
        },
        "id": "iUK2S_nCHJgc",
        "outputId": "c918e0bc-adeb-488e-8b1b-85a335c790c8"
      },
      "execution_count": null,
      "outputs": [
        {
          "output_type": "stream",
          "name": "stdout",
          "text": [
            "...Finished clean up...\n"
          ]
        }
      ]
    },
    {
      "cell_type": "code",
      "metadata": {
        "id": "QPaXpEFeEHRK"
      },
      "source": [
        "del train_coronal\n",
        "del test_coronal\n",
        "del coronal_dir\n",
        "del coronal_reloaded\n",
        "del coronalTest_reloaded\n",
        "del coronal_list\n",
        "del coronalTest_list\n",
        "del model4\n",
        "del model5\n",
        "del model6\n",
        "del base_model_Co_Men\n",
        "del base_model_Co_ACL\n",
        "del base_model_Co_Ab\n",
        "del p"
      ],
      "execution_count": null,
      "outputs": []
    },
    {
      "cell_type": "markdown",
      "metadata": {
        "id": "eh7IUVUIxzFM"
      },
      "source": [
        "##Sagittal Planes Scans"
      ]
    },
    {
      "cell_type": "markdown",
      "metadata": {
        "id": "f-j4PHNJEMRA"
      },
      "source": [
        "###Reading train & test data"
      ]
    },
    {
      "cell_type": "code",
      "source": [
        "axial_dir = os.listdir(\"/content/drive/MyDrive/Medical/MRNet-v1.0/train/axial/\")\n",
        "axial_dir = [f.lower() for f in axial_dir]   \n",
        "a=sorted(axial_dir)\n",
        "axial_list=np.array(a)\n",
        "axial_reloaded=[]\n",
        "print(axial_list.shape)\n",
        "for j in range(1,1131):\n",
        "    file= \"/content/drive/MyDrive/Medical/MRNet-v1.0/train/axial/\"+axial_list[j]    \n",
        "    axial_reloaded.append(np.load(file,allow_pickle='false'))   \n",
        "axial_reloaded=np.array(axial_reloaded)\n",
        "print(axial_reloaded.shape)\n",
        "s=axial_reloaded.shape\n",
        "print(axial_reloaded[0].shape[0])\n",
        "train_axial=[]\n",
        "print(len(axial_reloaded))\n",
        "for j in range(len(axial_reloaded)):\n",
        "    mid=math.floor((axial_reloaded[j].shape[0])/2)\n",
        "    train_axial.append([])      \n",
        "    for n in range(mid-1,mid+2):\n",
        "         train_axial[j].append(axial_reloaded[j][n])\n",
        "train_axial=np.array(train_axial)\n",
        "train_axial=np.reshape(train_axial,(1130,256,256,3))\n",
        "print(train_axial.shape)\n",
        "axial_dir = os.listdir(\"/content/drive/MyDrive/Medical/MRNet-v1.0/valid/axial/\")\n",
        "axial_dir = [f.lower() for f in axial_dir]   \n",
        "a=sorted(axial_dir)\n",
        "axialTest_list=np.array(a)\n",
        "axialTest_reloaded=[]\n",
        "print(axialTest_list.shape)\n",
        "for j in range(0,120):\n",
        "    file= \"/content/drive/MyDrive/Medical/MRNet-v1.0/valid/axial/\"+axialTest_list[j]\n",
        "    axialTest_reloaded.append(np.load(file,allow_pickle='false'))   \n",
        "axialTest_reloaded=np.array(axialTest_reloaded)\n",
        "print(axialTest_reloaded.shape)\n",
        "s=axialTest_reloaded.shape\n",
        "print(axialTest_reloaded[0].shape[0])\n",
        "test_axial=[]\n",
        "print(len(axialTest_reloaded))\n",
        "for j in range(len(axialTest_reloaded)):\n",
        "    mid=math.floor((axialTest_reloaded[j].shape[0])/2)\n",
        "    test_axial.append([])    \n",
        "    for n in range(mid-1,mid+2):\n",
        "         test_axial[j].append(axialTest_reloaded[j][n])\n",
        "test_axial=np.array(test_axial)\n",
        "test_axial=np.reshape(test_axial,(120,256,256,3))\n",
        "print(test_axial.shape)"
      ],
      "metadata": {
        "id": "uRxuqxZHJf9G",
        "colab": {
          "base_uri": "https://localhost:8080/"
        },
        "outputId": "29e06ad4-caa2-429f-e6e1-ff102c6c9da7"
      },
      "execution_count": null,
      "outputs": [
        {
          "output_type": "stream",
          "name": "stdout",
          "text": [
            "(1131,)\n"
          ]
        },
        {
          "output_type": "stream",
          "name": "stderr",
          "text": [
            "/usr/local/lib/python3.7/dist-packages/ipykernel_launcher.py:13: VisibleDeprecationWarning: Creating an ndarray from ragged nested sequences (which is a list-or-tuple of lists-or-tuples-or ndarrays with different lengths or shapes) is deprecated. If you meant to do this, you must specify 'dtype=object' when creating the ndarray.\n",
            "  del sys.path[0]\n"
          ]
        },
        {
          "output_type": "stream",
          "name": "stdout",
          "text": [
            "(1130,)\n",
            "44\n",
            "1130\n",
            "(1130, 256, 256, 3)\n",
            "(120,)\n",
            "(120,)\n",
            "25\n",
            "120\n",
            "(120, 256, 256, 3)\n"
          ]
        },
        {
          "output_type": "stream",
          "name": "stderr",
          "text": [
            "/usr/local/lib/python3.7/dist-packages/ipykernel_launcher.py:47: VisibleDeprecationWarning: Creating an ndarray from ragged nested sequences (which is a list-or-tuple of lists-or-tuples-or ndarrays with different lengths or shapes) is deprecated. If you meant to do this, you must specify 'dtype=object' when creating the ndarray.\n"
          ]
        }
      ]
    },
    {
      "cell_type": "code",
      "metadata": {
        "id": "Uqm-RJB1xzFQ",
        "colab": {
          "base_uri": "https://localhost:8080/"
        },
        "outputId": "501b916f-aa2b-419c-c3b3-81d31975a329"
      },
      "source": [
        "sagittal_dir = os.listdir(\"/content/drive/MyDrive/Medical/MRNet-v1.0/train/sagittal/\")\n",
        "sagittal_dir = [f.lower() for f in sagittal_dir]   \n",
        "c=sorted(sagittal_dir)\n",
        "sagittal_list=np.array(c)\n",
        "sagittal_reloaded=[]\n",
        "print(sagittal_list.shape)\n",
        "for j in range(1,1131):\n",
        "    file2= \"/content/drive/MyDrive/Medical/MRNet-v1.0/train/sagittal/\"+sagittal_list[j]\n",
        "    sagittal_reloaded.append(np.load(file2,allow_pickle='false'))\n",
        "sagittal_reloaded=np.array(sagittal_reloaded)\n",
        "print(sagittal_reloaded.shape)\n",
        "train_sagittal=[]\n",
        "for j in range(len(sagittal_reloaded)):\n",
        "    mid2=math.floor((sagittal_reloaded[j].shape[0])/2)\n",
        "    train_sagittal.append([])\n",
        "   \n",
        "    for n in range(mid2-1,mid2+2):\n",
        "         train_sagittal[j].append(sagittal_reloaded[j][n])\n",
        "\n",
        "train_sagittal=np.array(train_sagittal)\n",
        "train_sagittal=np.reshape(train_sagittal,(1130,256,256,3))\n",
        "print(train_sagittal.shape)\n",
        "sagittal_dir = os.listdir(\"/content/drive/MyDrive/Medical/MRNet-v1.0/valid/sagittal/\")\n",
        "sagittal_dir = [f.lower() for f in sagittal_dir]   \n",
        "c=sorted(sagittal_dir)\n",
        "sagittalTest_list=np.array(c)\n",
        "sagittalTest_reloaded=[]\n",
        "print(sagittalTest_list.shape)\n",
        "for j in range(0,120):\n",
        "    file2= \"/content/drive/MyDrive/Medical/MRNet-v1.0/valid/sagittal/\"+sagittalTest_list[j]\n",
        "    sagittalTest_reloaded.append(np.load(file2,allow_pickle='false'))\n",
        "sagittalTest_reloaded=np.array(sagittalTest_reloaded)\n",
        "print(sagittalTest_reloaded.shape)\n",
        "test_sagittal=[]\n",
        "for j in range(len(sagittalTest_reloaded)):\n",
        "    mid2=math.floor((sagittalTest_reloaded[j].shape[0])/2)\n",
        "    test_sagittal.append([])\n",
        "    for n in range(mid2-1,mid2+2):\n",
        "         test_sagittal[j].append(sagittalTest_reloaded[j][n])\n",
        "test_sagittal=np.array(test_sagittal)\n",
        "test_sagittal=np.reshape(test_sagittal,(120,256,256,3))\n",
        "print(test_sagittal.shape)"
      ],
      "execution_count": null,
      "outputs": [
        {
          "output_type": "stream",
          "name": "stdout",
          "text": [
            "(1131,)\n"
          ]
        },
        {
          "output_type": "stream",
          "name": "stderr",
          "text": [
            "/usr/local/lib/python3.7/dist-packages/ipykernel_launcher.py:12: VisibleDeprecationWarning: Creating an ndarray from ragged nested sequences (which is a list-or-tuple of lists-or-tuples-or ndarrays with different lengths or shapes) is deprecated. If you meant to do this, you must specify 'dtype=object' when creating the ndarray.\n",
            "  if sys.path[0] == '':\n"
          ]
        },
        {
          "output_type": "stream",
          "name": "stdout",
          "text": [
            "(1130,)\n",
            "(1130, 256, 256, 3)\n",
            "(120,)\n",
            "(120,)\n",
            "(120, 256, 256, 3)\n"
          ]
        },
        {
          "output_type": "stream",
          "name": "stderr",
          "text": [
            "/usr/local/lib/python3.7/dist-packages/ipykernel_launcher.py:40: VisibleDeprecationWarning: Creating an ndarray from ragged nested sequences (which is a list-or-tuple of lists-or-tuples-or ndarrays with different lengths or shapes) is deprecated. If you meant to do this, you must specify 'dtype=object' when creating the ndarray.\n"
          ]
        }
      ]
    },
    {
      "cell_type": "markdown",
      "metadata": {
        "id": "ZhRgNysBy9HJ"
      },
      "source": [
        "#### Finetuning InceptionV3 Model for Sagittal Plane Scanes checking for Mensical Condition"
      ]
    },
    {
      "cell_type": "code",
      "metadata": {
        "id": "2c_Dtv7Jy9HP"
      },
      "source": [
        "input_tensor = Input(shape=(256, 256,3))  \n",
        "base_model_Sa_Men = InceptionV3(input_tensor=input_tensor, weights='imagenet', include_top=False)"
      ],
      "execution_count": null,
      "outputs": []
    },
    {
      "cell_type": "code",
      "metadata": {
        "id": "Cde65r48y9Hd"
      },
      "source": [
        "x = base_model_Sa_Men.output\n",
        "x = GlobalAveragePooling2D()(x)\n",
        "x=Dropout(0.2)(x)\n",
        "x = Dense(1024, activation='relu')(x)\n",
        "x=Dropout(0.2)(x)\n",
        "x=Dropout(0.2)(x)\n",
        "predictions = Dense(1, activation='sigmoid')(x)\n",
        "model7 = Model(inputs=base_model_Sa_Men.input,outputs=predictions)"
      ],
      "execution_count": null,
      "outputs": []
    },
    {
      "cell_type": "code",
      "metadata": {
        "id": "1fBMXXA4y9Hj"
      },
      "source": [
        "for layer in model7.layers[:79]:\n",
        "   layer.trainable = False\n",
        "for layer in model7.layers[79:]:\n",
        "   layer.trainable = True"
      ],
      "execution_count": null,
      "outputs": []
    },
    {
      "cell_type": "code",
      "source": [
        "trainMen_labels = np.array(trainMen_labels)"
      ],
      "metadata": {
        "id": "Ml-ISqmzKQHN"
      },
      "execution_count": null,
      "outputs": []
    },
    {
      "cell_type": "code",
      "metadata": {
        "id": "vzHwBUqyy9Hm",
        "colab": {
          "base_uri": "https://localhost:8080/"
        },
        "outputId": "bac0e348-c8c4-492f-cda4-27283f6b1c3f"
      },
      "source": [
        "early_stopping_monitor = EarlyStopping(patience=10)    \n",
        "model7.compile(optimizer=SGD(lr=0.001,momentum=0.9), loss='binary_crossentropy',metrics=['accuracy',f1_score])\n",
        "history7=model7.fit(train_sagittal ,trainMen_labels, validation_split=0.05,shuffle=True ,epochs=100, callbacks=[early_stopping_monitor], batch_size = 20)\n"
      ],
      "execution_count": null,
      "outputs": [
        {
          "output_type": "stream",
          "name": "stderr",
          "text": [
            "/usr/local/lib/python3.7/dist-packages/keras/optimizer_v2/gradient_descent.py:102: UserWarning: The `lr` argument is deprecated, use `learning_rate` instead.\n",
            "  super(SGD, self).__init__(name, **kwargs)\n"
          ]
        },
        {
          "output_type": "stream",
          "name": "stdout",
          "text": [
            "Epoch 1/100\n",
            "54/54 [==============================] - 18s 177ms/step - loss: 0.6609 - accuracy: 0.6188 - f1_score: nan - val_loss: 0.7196 - val_accuracy: 0.6140 - val_f1_score: nan\n",
            "Epoch 2/100\n",
            "54/54 [==============================] - 8s 146ms/step - loss: 0.5935 - accuracy: 0.6822 - f1_score: nan - val_loss: 0.7066 - val_accuracy: 0.5088 - val_f1_score: 0.3379\n",
            "Epoch 3/100\n",
            "54/54 [==============================] - 8s 148ms/step - loss: 0.5384 - accuracy: 0.7083 - f1_score: nan - val_loss: 0.7718 - val_accuracy: 0.5789 - val_f1_score: nan\n",
            "Epoch 4/100\n",
            "54/54 [==============================] - 8s 148ms/step - loss: 0.4616 - accuracy: 0.7707 - f1_score: 0.6412 - val_loss: 0.7132 - val_accuracy: 0.5789 - val_f1_score: 0.4769\n",
            "Epoch 5/100\n",
            "54/54 [==============================] - 8s 146ms/step - loss: 0.3456 - accuracy: 0.8527 - f1_score: 0.7771 - val_loss: 1.0457 - val_accuracy: 0.5789 - val_f1_score: nan\n",
            "Epoch 6/100\n",
            "54/54 [==============================] - 8s 147ms/step - loss: 0.2520 - accuracy: 0.9068 - f1_score: 0.8546 - val_loss: 1.0022 - val_accuracy: 0.5263 - val_f1_score: 0.3849\n",
            "Epoch 7/100\n",
            "54/54 [==============================] - 8s 147ms/step - loss: 0.1765 - accuracy: 0.9366 - f1_score: 0.9085 - val_loss: 1.0665 - val_accuracy: 0.5614 - val_f1_score: nan\n",
            "Epoch 8/100\n",
            "54/54 [==============================] - 8s 147ms/step - loss: 0.1473 - accuracy: 0.9450 - f1_score: 0.9103 - val_loss: 0.9884 - val_accuracy: 0.4912 - val_f1_score: 0.4404\n",
            "Epoch 9/100\n",
            "54/54 [==============================] - 8s 151ms/step - loss: 0.1226 - accuracy: 0.9543 - f1_score: 0.9362 - val_loss: 0.9772 - val_accuracy: 0.6491 - val_f1_score: 0.5111\n",
            "Epoch 10/100\n",
            "54/54 [==============================] - 8s 148ms/step - loss: 0.1323 - accuracy: 0.9515 - f1_score: 0.9259 - val_loss: 1.3545 - val_accuracy: 0.6316 - val_f1_score: nan\n",
            "Epoch 11/100\n",
            "54/54 [==============================] - 8s 149ms/step - loss: 0.1146 - accuracy: 0.9599 - f1_score: 0.9354 - val_loss: 1.6081 - val_accuracy: 0.4561 - val_f1_score: 0.4545\n",
            "Epoch 12/100\n",
            "54/54 [==============================] - 8s 152ms/step - loss: 0.0895 - accuracy: 0.9711 - f1_score: 0.9578 - val_loss: 1.4811 - val_accuracy: 0.4912 - val_f1_score: 0.4373\n"
          ]
        }
      ]
    },
    {
      "cell_type": "code",
      "metadata": {
        "id": "B_Ql5qSTy9Hp",
        "colab": {
          "base_uri": "https://localhost:8080/",
          "height": 354
        },
        "outputId": "5abf0f27-8c56-4d0f-fc3b-aa9705deb7a6"
      },
      "source": [
        "p = np.array(model7.predict(train_sagittal))\n",
        "train_Men_pred.append(p)\n",
        "p = np.array(model7.predict(test_sagittal))\n",
        "test_Men_pred.append(p)                         \n",
        "score7 = model7.evaluate(test_sagittal ,testMen_labels,verbose=1)       \n",
        "print('Test loss:',score7[0])\n",
        "print('Test accuracy:',score7[1])                                                                  \n",
        "plt.figure()\n",
        "plt.grid()                                                                                                        \n",
        "plt.title('Training performance')                          \n",
        "plt.plot(history7.epoch, history7.history['loss'], label='train loss+error')  \n",
        "plt.plot(history7.epoch, history7.history['val_loss'], label='val_error')\n",
        "plt.plot(history7.epoch, history7.history['f1_score'], label='f1_score')\n",
        "plt.legend()"
      ],
      "execution_count": null,
      "outputs": [
        {
          "output_type": "stream",
          "name": "stdout",
          "text": [
            "4/4 [==============================] - 0s 82ms/step - loss: 0.9581 - accuracy: 0.6000 - f1_score: 0.4262\n",
            "Test loss: 0.9580651521682739\n",
            "Test accuracy: 0.6000000238418579\n"
          ]
        },
        {
          "output_type": "execute_result",
          "data": {
            "text/plain": [
              "<matplotlib.legend.Legend at 0x7fd4285ac350>"
            ]
          },
          "metadata": {},
          "execution_count": 60
        },
        {
          "output_type": "display_data",
          "data": {
            "image/png": "[encoded data removed]",
            "text/plain": [
              "<Figure size 432x288 with 1 Axes>"
            ]
          },
          "metadata": {
            "needs_background": "light"
          }
        }
      ]
    },
    {
      "cell_type": "code",
      "source": [
        "filename = '/content/drive/MyDrive/Medical/MRNET MODEL/model7.h5'\n",
        "model7.save(filename)\n",
        "print('>Saved %s' % filename)\n",
        "clean_up(model=model7)"
      ],
      "metadata": {
        "colab": {
          "base_uri": "https://localhost:8080/"
        },
        "id": "_UhIWFPTBPFz",
        "outputId": "7e62dc02-7e34-452a-dc3d-740df90bf543"
      },
      "execution_count": null,
      "outputs": [
        {
          "output_type": "stream",
          "name": "stdout",
          "text": [
            ">Saved /content/drive/MyDrive/Medical/MRNET MODEL/model7.h5\n",
            "...Finished clean up...\n"
          ]
        }
      ]
    },
    {
      "cell_type": "markdown",
      "metadata": {
        "id": "JWF36DXt0lj1"
      },
      "source": [
        "#### Finetuning InceptionV3 Model for Sagittal Plane Scanes checking for ACL Condition"
      ]
    },
    {
      "cell_type": "code",
      "metadata": {
        "id": "u6ItTeBD0lj4"
      },
      "source": [
        "input_tensor = Input(shape=(256, 256,3))  \n",
        "base_model_Sa_ACL = InceptionV3(input_tensor=input_tensor, weights='imagenet', include_top=False)"
      ],
      "execution_count": null,
      "outputs": []
    },
    {
      "cell_type": "code",
      "metadata": {
        "id": "2Xe_fFX40lkE"
      },
      "source": [
        "x = base_model_Sa_ACL.output\n",
        "x = GlobalAveragePooling2D()(x)\n",
        "x=Dropout(0.2)(x)\n",
        "x = Dense(1024, activation='relu')(x)\n",
        "x=Dropout(0.2)(x)\n",
        "x=Dropout(0.2)(x)\n",
        "predictions = Dense(1, activation='sigmoid')(x)\n",
        "model8 = Model(inputs=base_model_Sa_ACL.input,outputs=predictions)"
      ],
      "execution_count": null,
      "outputs": []
    },
    {
      "cell_type": "code",
      "metadata": {
        "id": "nrvR0Zko0lkK"
      },
      "source": [
        "for layer in model8.layers[:79]:\n",
        "   layer.trainable = False\n",
        "for layer in model8.layers[79:]:\n",
        "   layer.trainable = True"
      ],
      "execution_count": null,
      "outputs": []
    },
    {
      "cell_type": "code",
      "metadata": {
        "id": "7lgg-EjL0lkP",
        "colab": {
          "base_uri": "https://localhost:8080/"
        },
        "outputId": "df22bc45-8572-4676-8494-e9db0da5dec6"
      },
      "source": [
        "early_stopping_monitor = EarlyStopping(patience=5)\n",
        "model8.compile(optimizer=SGD(lr=0.001,momentum=0.9), loss='binary_crossentropy',metrics=['accuracy',f1_score])\n",
        "history8=model8.fit(train_sagittal ,trainACL_labels, validation_split=0.05,shuffle=True ,epochs=100, callbacks=[early_stopping_monitor], batch_size = 20)\n"
      ],
      "execution_count": null,
      "outputs": [
        {
          "output_type": "stream",
          "name": "stderr",
          "text": [
            "/usr/local/lib/python3.7/dist-packages/keras/optimizer_v2/gradient_descent.py:102: UserWarning: The `lr` argument is deprecated, use `learning_rate` instead.\n",
            "  super(SGD, self).__init__(name, **kwargs)\n"
          ]
        },
        {
          "output_type": "stream",
          "name": "stdout",
          "text": [
            "Epoch 1/100\n",
            "54/54 [==============================] - 17s 174ms/step - loss: 0.5053 - accuracy: 0.7810 - f1_score: nan - val_loss: 0.4784 - val_accuracy: 0.8421 - val_f1_score: nan\n",
            "Epoch 2/100\n",
            "54/54 [==============================] - 8s 145ms/step - loss: 0.4114 - accuracy: 0.8164 - f1_score: nan - val_loss: 0.4667 - val_accuracy: 0.8421 - val_f1_score: nan\n",
            "Epoch 3/100\n",
            "54/54 [==============================] - 8s 145ms/step - loss: 0.3585 - accuracy: 0.8248 - f1_score: nan - val_loss: 0.4507 - val_accuracy: 0.8421 - val_f1_score: nan\n",
            "Epoch 4/100\n",
            "54/54 [==============================] - 8s 149ms/step - loss: 0.2874 - accuracy: 0.8537 - f1_score: nan - val_loss: 0.5721 - val_accuracy: 0.8421 - val_f1_score: nan\n",
            "Epoch 5/100\n",
            "54/54 [==============================] - 8s 149ms/step - loss: 0.2010 - accuracy: 0.9087 - f1_score: nan - val_loss: 0.5893 - val_accuracy: 0.7719 - val_f1_score: nan\n",
            "Epoch 6/100\n",
            "54/54 [==============================] - 8s 147ms/step - loss: 0.1442 - accuracy: 0.9562 - f1_score: 0.8386 - val_loss: 0.6038 - val_accuracy: 0.8246 - val_f1_score: nan\n",
            "Epoch 7/100\n",
            "54/54 [==============================] - 8s 150ms/step - loss: 0.0890 - accuracy: 0.9804 - f1_score: 0.9424 - val_loss: 0.8720 - val_accuracy: 0.8421 - val_f1_score: nan\n",
            "Epoch 8/100\n",
            "54/54 [==============================] - 8s 148ms/step - loss: 0.0649 - accuracy: 0.9870 - f1_score: 0.9639 - val_loss: 0.7685 - val_accuracy: 0.7719 - val_f1_score: 0.3730\n"
          ]
        }
      ]
    },
    {
      "cell_type": "code",
      "metadata": {
        "id": "4GxoI6J90lkY",
        "colab": {
          "base_uri": "https://localhost:8080/",
          "height": 354
        },
        "outputId": "3ca245dc-1a7d-4f22-c4c1-0d52226e6823"
      },
      "source": [
        "p = np.array(model8.predict(train_sagittal))\n",
        "train_ACL_pred.append(p)\n",
        "p = np.array(model8.predict(test_sagittal))\n",
        "test_ACL_pred.append(p)                         \n",
        "score8 = model8.evaluate(test_sagittal ,testACL_labels,verbose=1)       \n",
        "print('Test loss:',score8[0])\n",
        "print('Test accuracy:',score8[1])                                                                   \n",
        "plt.figure()\n",
        "plt.grid()                                                                                                         \n",
        "plt.title('Training performance')                          \n",
        "plt.plot(history8.epoch, history8.history['loss'], label='train loss+error')  \n",
        "plt.plot(history8.epoch, history8.history['val_loss'], label='val_error')\n",
        "plt.plot(history8.epoch, history8.history['f1_score'], label='f1_score')\n",
        "plt.legend()"
      ],
      "execution_count": null,
      "outputs": [
        {
          "output_type": "stream",
          "name": "stdout",
          "text": [
            "4/4 [==============================] - 0s 84ms/step - loss: 1.1941 - accuracy: 0.6500 - f1_score: 0.3250\n",
            "Test loss: 1.1941382884979248\n",
            "Test accuracy: 0.6499999761581421\n"
          ]
        },
        {
          "output_type": "execute_result",
          "data": {
            "text/plain": [
              "<matplotlib.legend.Legend at 0x7fd2a25ab550>"
            ]
          },
          "metadata": {},
          "execution_count": 66
        },
        {
          "output_type": "display_data",
          "data": {
            "image/png": "[encoded data removed]",
            "text/plain": [
              "<Figure size 432x288 with 1 Axes>"
            ]
          },
          "metadata": {
            "needs_background": "light"
          }
        }
      ]
    },
    {
      "cell_type": "code",
      "source": [
        "filename = '/content/drive/MyDrive/Medical/MRNET MODEL/model8.h5'\n",
        "model8.save(filename)\n",
        "print('>Saved %s' % filename)\n",
        "clean_up(model=model8)"
      ],
      "metadata": {
        "colab": {
          "base_uri": "https://localhost:8080/"
        },
        "id": "czkeMRbjBStB",
        "outputId": "48043631-5147-44d9-e52b-7f459edba969"
      },
      "execution_count": null,
      "outputs": [
        {
          "output_type": "stream",
          "name": "stdout",
          "text": [
            ">Saved /content/drive/MyDrive/Medical/MRNET MODEL/model8.h5\n",
            "...Finished clean up...\n"
          ]
        }
      ]
    },
    {
      "cell_type": "markdown",
      "metadata": {
        "id": "QntZqwr22Qqu"
      },
      "source": [
        "#### Finetuning InceptionV3 Model for Sagittal Plane Scanes checking for Abnormal Condition"
      ]
    },
    {
      "cell_type": "code",
      "metadata": {
        "id": "W6WQFKWN2Qqx"
      },
      "source": [
        "input_tensor = Input(shape=(256, 256,3))  \n",
        "base_model_Sa_Ab = InceptionV3(input_tensor=input_tensor, weights='imagenet', include_top=False)"
      ],
      "execution_count": null,
      "outputs": []
    },
    {
      "cell_type": "code",
      "metadata": {
        "id": "0-M3wkWd2Qq5"
      },
      "source": [
        "x = base_model_Sa_Ab.output\n",
        "x = GlobalAveragePooling2D()(x)\n",
        "x=Dropout(0.2)(x)\n",
        "x = Dense(1024, activation='relu')(x)\n",
        "x=Dropout(0.2)(x)\n",
        "x=Dropout(0.2)(x)\n",
        "predictions = Dense(1, activation='sigmoid')(x)\n",
        "model9 = Model(inputs=base_model_Sa_Ab.input,outputs=predictions)"
      ],
      "execution_count": null,
      "outputs": []
    },
    {
      "cell_type": "code",
      "metadata": {
        "id": "l-F3Exud2Qq_"
      },
      "source": [
        "for layer in model9.layers[:79]:\n",
        "   layer.trainable = False\n",
        "for layer in model9.layers[79:]:\n",
        "   layer.trainable = True"
      ],
      "execution_count": null,
      "outputs": []
    },
    {
      "cell_type": "code",
      "metadata": {
        "id": "WAMH3it52QrK",
        "colab": {
          "base_uri": "https://localhost:8080/"
        },
        "outputId": "bb399c7d-b747-40ce-f23f-7c887f28bbf2"
      },
      "source": [
        "early_stopping_monitor = EarlyStopping(patience=10)    \n",
        "model9.compile(optimizer=SGD(lr=0.001,momentum=0.9), loss='binary_crossentropy',metrics=['accuracy',f1_score])\n",
        "history9=model9.fit(train_sagittal ,trainAb_labels, validation_split=0.05,shuffle=True ,epochs=100, callbacks=[early_stopping_monitor], batch_size = 20)\n"
      ],
      "execution_count": null,
      "outputs": [
        {
          "output_type": "stream",
          "name": "stdout",
          "text": [
            "Epoch 1/100\n"
          ]
        },
        {
          "output_type": "stream",
          "name": "stderr",
          "text": [
            "/usr/local/lib/python3.7/dist-packages/keras/optimizer_v2/gradient_descent.py:102: UserWarning: The `lr` argument is deprecated, use `learning_rate` instead.\n",
            "  super(SGD, self).__init__(name, **kwargs)\n"
          ]
        },
        {
          "output_type": "stream",
          "name": "stdout",
          "text": [
            "54/54 [==============================] - 17s 174ms/step - loss: 0.6741 - accuracy: 0.6104 - f1_score: nan - val_loss: 0.6462 - val_accuracy: 0.6491 - val_f1_score: nan\n",
            "Epoch 2/100\n",
            "54/54 [==============================] - 8s 145ms/step - loss: 0.5791 - accuracy: 0.6906 - f1_score: nan - val_loss: 0.6814 - val_accuracy: 0.5439 - val_f1_score: nan\n",
            "Epoch 3/100\n",
            "54/54 [==============================] - 8s 147ms/step - loss: 0.5141 - accuracy: 0.7409 - f1_score: 0.5713 - val_loss: 0.7124 - val_accuracy: 0.5439 - val_f1_score: nan\n",
            "Epoch 4/100\n",
            "54/54 [==============================] - 8s 150ms/step - loss: 0.4354 - accuracy: 0.8062 - f1_score: 0.6796 - val_loss: 0.8097 - val_accuracy: 0.5614 - val_f1_score: 0.3146\n",
            "Epoch 5/100\n",
            "54/54 [==============================] - 8s 148ms/step - loss: 0.3332 - accuracy: 0.8518 - f1_score: 0.7708 - val_loss: 0.9153 - val_accuracy: 0.6316 - val_f1_score: nan\n",
            "Epoch 6/100\n",
            "54/54 [==============================] - 8s 151ms/step - loss: 0.2777 - accuracy: 0.8900 - f1_score: 0.8283 - val_loss: 0.7568 - val_accuracy: 0.6667 - val_f1_score: 0.6266\n",
            "Epoch 7/100\n",
            "54/54 [==============================] - 8s 149ms/step - loss: 0.2517 - accuracy: 0.9021 - f1_score: 0.8532 - val_loss: 0.8652 - val_accuracy: 0.5439 - val_f1_score: 0.4598\n",
            "Epoch 8/100\n",
            "54/54 [==============================] - 8s 149ms/step - loss: 0.2075 - accuracy: 0.9236 - f1_score: 0.8896 - val_loss: 1.1509 - val_accuracy: 0.5439 - val_f1_score: nan\n",
            "Epoch 9/100\n",
            "54/54 [==============================] - 8s 153ms/step - loss: 0.1856 - accuracy: 0.9376 - f1_score: 0.9092 - val_loss: 1.0464 - val_accuracy: 0.5789 - val_f1_score: 0.2998\n",
            "Epoch 10/100\n",
            "54/54 [==============================] - 8s 150ms/step - loss: 0.1662 - accuracy: 0.9348 - f1_score: 0.9001 - val_loss: 1.1115 - val_accuracy: 0.5439 - val_f1_score: 0.4122\n",
            "Epoch 11/100\n",
            "54/54 [==============================] - 8s 150ms/step - loss: 0.1474 - accuracy: 0.9450 - f1_score: 0.9123 - val_loss: 1.1741 - val_accuracy: 0.4912 - val_f1_score: 0.4208\n"
          ]
        }
      ]
    },
    {
      "cell_type": "code",
      "metadata": {
        "id": "bb_cHRLb2QrW",
        "colab": {
          "base_uri": "https://localhost:8080/",
          "height": 354
        },
        "outputId": "32645821-550c-437e-b8f3-858a6e19ca02"
      },
      "source": [
        "p = np.array(model9.predict(train_sagittal))\n",
        "train_Ab_pred.append(p)\n",
        "p = np.array(model9.predict(test_sagittal))\n",
        "test_Ab_pred.append(p)                       \n",
        "score9 = model9.evaluate(test_sagittal ,testAb_labels,verbose=1)       \n",
        "print('Test loss:',score9[0])\n",
        "print('Test accuracy:',score9[1])                                                                  \n",
        "plt.figure()\n",
        "plt.grid()                                                                                                        \n",
        "plt.title('Training performance')                          \n",
        "plt.plot(history9.epoch, history9.history['loss'], label='train loss+error')  \n",
        "plt.plot(history9.epoch, history9.history['val_loss'], label='val_error')\n",
        "plt.plot(history9.epoch, history9.history['f1_score'], label='f1_score')\n",
        "plt.legend()"
      ],
      "execution_count": null,
      "outputs": [
        {
          "output_type": "stream",
          "name": "stdout",
          "text": [
            "4/4 [==============================] - 0s 81ms/step - loss: 1.3251 - accuracy: 0.4833 - f1_score: 0.5399\n",
            "Test loss: 1.325088620185852\n",
            "Test accuracy: 0.4833333194255829\n"
          ]
        },
        {
          "output_type": "execute_result",
          "data": {
            "text/plain": [
              "<matplotlib.legend.Legend at 0x7fd29950ff50>"
            ]
          },
          "metadata": {},
          "execution_count": 72
        },
        {
          "output_type": "display_data",
          "data": {
            "image/png": "[encoded data removed]",
            "text/plain": [
              "<Figure size 432x288 with 1 Axes>"
            ]
          },
          "metadata": {
            "needs_background": "light"
          }
        }
      ]
    },
    {
      "cell_type": "code",
      "source": [
        "filename = '/content/drive/MyDrive/Medical/MRNET MODEL/model9.h5'\n",
        "model9.save(filename)\n",
        "print('>Saved %s' % filename)\n",
        "clean_up(model=model9)"
      ],
      "metadata": {
        "colab": {
          "base_uri": "https://localhost:8080/"
        },
        "id": "rJyBHYARBWVw",
        "outputId": "0dcb074e-dcfe-4ba0-c645-c3000121af1f"
      },
      "execution_count": null,
      "outputs": [
        {
          "output_type": "stream",
          "name": "stdout",
          "text": [
            ">Saved /content/drive/MyDrive/Medical/MRNET MODEL/model9.h5\n",
            "...Finished clean up...\n"
          ]
        }
      ]
    },
    {
      "cell_type": "code",
      "metadata": {
        "id": "TlbunAuE2Qre"
      },
      "source": [
        "del train_sagittal\n",
        "del test_sagittal\n",
        "del sagittal_dir\n",
        "del sagittal_reloaded\n",
        "del sagittalTest_reloaded\n",
        "del sagittal_list\n",
        "del sagittalTest_list\n",
        "del model7\n",
        "del model8\n",
        "del model9\n",
        "del base_model_Sa_Men\n",
        "del base_model_Sa_ACL\n",
        "del base_model_Sa_Ab\n",
        "del p"
      ],
      "execution_count": null,
      "outputs": []
    },
    {
      "cell_type": "markdown",
      "metadata": {
        "id": "p8rTxtG6vzbk"
      },
      "source": [
        "##Ensembling\n",
        "\n",
        "---\n",
        "We ensemble the models for each state detection for three planes Axial,Coronal and Sagittal respectively and train a Sequential model with input being probabitity of condition detection by indiviual model and output again being probability person has the condition. We give original label for evaluation of the method."
      ]
    },
    {
      "cell_type": "markdown",
      "metadata": {
        "id": "D2thlG5_12K_"
      },
      "source": [
        "#### Meniscal Condition Detection"
      ]
    },
    {
      "cell_type": "code",
      "metadata": {
        "id": "woSckwh419pD",
        "colab": {
          "base_uri": "https://localhost:8080/"
        },
        "outputId": "29afc3f1-03c9-4857-8bc8-e46ddd176cb5"
      },
      "source": [
        "train_Men_pred = np.array(train_Men_pred)\n",
        "print(train_Men_pred.shape)\n",
        "test_Men_pred = np.array(test_Men_pred)\n",
        "print(test_Men_pred.shape)\n",
        "train_Men_pred = train_Men_pred.reshape((1130,3))\n",
        "test_Men_pred = test_Men_pred.reshape((120,3))\n",
        "print(train_Men_pred)"
      ],
      "execution_count": null,
      "outputs": [
        {
          "output_type": "stream",
          "name": "stdout",
          "text": [
            "(3, 1130, 1)\n",
            "(3, 120, 1)\n",
            "[[5.0918199e-04 8.7494183e-01 1.8212888e-04]\n",
            " [7.5798184e-01 2.7328834e-02 2.0606802e-01]\n",
            " [2.5894484e-01 2.1132953e-02 3.5780653e-01]\n",
            " ...\n",
            " [5.3701985e-01 9.4485426e-01 1.6685486e-01]\n",
            " [4.5832947e-01 2.6462825e-02 3.3137968e-04]\n",
            " [6.1771250e-01 9.8441398e-01 9.8512846e-01]]\n"
          ]
        }
      ]
    },
    {
      "cell_type": "code",
      "metadata": {
        "id": "4LsT7P9j31am",
        "colab": {
          "base_uri": "https://localhost:8080/"
        },
        "outputId": "2b875c6e-c6b1-4c78-abba-26e8ef4ff1d3"
      },
      "source": [
        "menModel = Sequential()\n",
        "menModel.add(Dense(1, activation='sigmoid', input_dim=3))\n",
        "menModel.compile(loss='binary_crossentropy', optimizer='adam', metrics=['acc',f1_score])\n",
        "h = menModel.fit(train_Men_pred, trainMen_labels, batch_size=32, epochs=50, verbose=1)"
      ],
      "execution_count": null,
      "outputs": [
        {
          "output_type": "stream",
          "name": "stdout",
          "text": [
            "Epoch 1/50\n",
            "36/36 [==============================] - 19s 4ms/step - loss: 0.6980 - acc: 0.5106 - f1_score: nan\n",
            "Epoch 2/50\n",
            "36/36 [==============================] - 0s 3ms/step - loss: 0.6907 - acc: 0.5699 - f1_score: 0.2979\n",
            "Epoch 3/50\n",
            "36/36 [==============================] - 0s 4ms/step - loss: 0.6846 - acc: 0.5788 - f1_score: nan\n",
            "Epoch 4/50\n",
            "36/36 [==============================] - 0s 4ms/step - loss: 0.6794 - acc: 0.5938 - f1_score: nan\n",
            "Epoch 5/50\n",
            "36/36 [==============================] - 0s 4ms/step - loss: 0.6750 - acc: 0.6053 - f1_score: nan\n",
            "Epoch 6/50\n",
            "36/36 [==============================] - 0s 3ms/step - loss: 0.6715 - acc: 0.6150 - f1_score: nan\n",
            "Epoch 7/50\n",
            "36/36 [==============================] - 0s 3ms/step - loss: 0.6686 - acc: 0.6301 - f1_score: nan\n",
            "Epoch 8/50\n",
            "36/36 [==============================] - 0s 3ms/step - loss: 0.6661 - acc: 0.6442 - f1_score: nan\n",
            "Epoch 9/50\n",
            "36/36 [==============================] - 0s 3ms/step - loss: 0.6640 - acc: 0.6487 - f1_score: nan\n",
            "Epoch 10/50\n",
            "36/36 [==============================] - 0s 4ms/step - loss: 0.6622 - acc: 0.6487 - f1_score: nan\n",
            "Epoch 11/50\n",
            "36/36 [==============================] - 0s 4ms/step - loss: 0.6606 - acc: 0.6487 - f1_score: nan\n",
            "Epoch 12/50\n",
            "36/36 [==============================] - 0s 4ms/step - loss: 0.6594 - acc: 0.6487 - f1_score: nan\n",
            "Epoch 13/50\n",
            "36/36 [==============================] - 0s 4ms/step - loss: 0.6583 - acc: 0.6487 - f1_score: nan\n",
            "Epoch 14/50\n",
            "36/36 [==============================] - 0s 3ms/step - loss: 0.6575 - acc: 0.6487 - f1_score: nan\n",
            "Epoch 15/50\n",
            "36/36 [==============================] - 0s 3ms/step - loss: 0.6568 - acc: 0.6487 - f1_score: nan\n",
            "Epoch 16/50\n",
            "36/36 [==============================] - 0s 3ms/step - loss: 0.6562 - acc: 0.6487 - f1_score: nan\n",
            "Epoch 17/50\n",
            "36/36 [==============================] - 0s 4ms/step - loss: 0.6555 - acc: 0.6487 - f1_score: nan\n",
            "Epoch 18/50\n",
            "36/36 [==============================] - 0s 4ms/step - loss: 0.6551 - acc: 0.6487 - f1_score: nan\n",
            "Epoch 19/50\n",
            "36/36 [==============================] - 0s 3ms/step - loss: 0.6547 - acc: 0.6487 - f1_score: nan\n",
            "Epoch 20/50\n",
            "36/36 [==============================] - 0s 3ms/step - loss: 0.6543 - acc: 0.6487 - f1_score: nan\n",
            "Epoch 21/50\n",
            "36/36 [==============================] - 0s 4ms/step - loss: 0.6541 - acc: 0.6487 - f1_score: nan\n",
            "Epoch 22/50\n",
            "36/36 [==============================] - 0s 3ms/step - loss: 0.6538 - acc: 0.6487 - f1_score: nan\n",
            "Epoch 23/50\n",
            "36/36 [==============================] - 0s 4ms/step - loss: 0.6534 - acc: 0.6487 - f1_score: nan\n",
            "Epoch 24/50\n",
            "36/36 [==============================] - 0s 3ms/step - loss: 0.6531 - acc: 0.6487 - f1_score: nan\n",
            "Epoch 25/50\n",
            "36/36 [==============================] - 0s 4ms/step - loss: 0.6529 - acc: 0.6487 - f1_score: nan\n",
            "Epoch 26/50\n",
            "36/36 [==============================] - 0s 4ms/step - loss: 0.6527 - acc: 0.6487 - f1_score: nan\n",
            "Epoch 27/50\n",
            "36/36 [==============================] - 0s 5ms/step - loss: 0.6525 - acc: 0.6487 - f1_score: nan\n",
            "Epoch 28/50\n",
            "36/36 [==============================] - 0s 3ms/step - loss: 0.6523 - acc: 0.6487 - f1_score: nan\n",
            "Epoch 29/50\n",
            "36/36 [==============================] - 0s 3ms/step - loss: 0.6521 - acc: 0.6487 - f1_score: nan\n",
            "Epoch 30/50\n",
            "36/36 [==============================] - 0s 3ms/step - loss: 0.6519 - acc: 0.6487 - f1_score: nan\n",
            "Epoch 31/50\n",
            "36/36 [==============================] - 0s 4ms/step - loss: 0.6518 - acc: 0.6487 - f1_score: nan\n",
            "Epoch 32/50\n",
            "36/36 [==============================] - 0s 4ms/step - loss: 0.6516 - acc: 0.6487 - f1_score: nan\n",
            "Epoch 33/50\n",
            "36/36 [==============================] - 0s 4ms/step - loss: 0.6516 - acc: 0.6487 - f1_score: nan\n",
            "Epoch 34/50\n",
            "36/36 [==============================] - 0s 4ms/step - loss: 0.6514 - acc: 0.6487 - f1_score: nan\n",
            "Epoch 35/50\n",
            "36/36 [==============================] - 0s 3ms/step - loss: 0.6512 - acc: 0.6487 - f1_score: nan\n",
            "Epoch 36/50\n",
            "36/36 [==============================] - 0s 4ms/step - loss: 0.6511 - acc: 0.6487 - f1_score: nan\n",
            "Epoch 37/50\n",
            "36/36 [==============================] - 0s 4ms/step - loss: 0.6510 - acc: 0.6487 - f1_score: nan\n",
            "Epoch 38/50\n",
            "36/36 [==============================] - 0s 3ms/step - loss: 0.6509 - acc: 0.6487 - f1_score: nan\n",
            "Epoch 39/50\n",
            "36/36 [==============================] - 0s 4ms/step - loss: 0.6507 - acc: 0.6487 - f1_score: nan\n",
            "Epoch 40/50\n",
            "36/36 [==============================] - 0s 3ms/step - loss: 0.6506 - acc: 0.6487 - f1_score: nan\n",
            "Epoch 41/50\n",
            "36/36 [==============================] - 0s 3ms/step - loss: 0.6505 - acc: 0.6487 - f1_score: nan\n",
            "Epoch 42/50\n",
            "36/36 [==============================] - 0s 4ms/step - loss: 0.6505 - acc: 0.6487 - f1_score: nan\n",
            "Epoch 43/50\n",
            "36/36 [==============================] - 0s 3ms/step - loss: 0.6504 - acc: 0.6487 - f1_score: nan\n",
            "Epoch 44/50\n",
            "36/36 [==============================] - 0s 3ms/step - loss: 0.6502 - acc: 0.6487 - f1_score: nan\n",
            "Epoch 45/50\n",
            "36/36 [==============================] - 0s 3ms/step - loss: 0.6502 - acc: 0.6487 - f1_score: nan\n",
            "Epoch 46/50\n",
            "36/36 [==============================] - 0s 4ms/step - loss: 0.6501 - acc: 0.6487 - f1_score: nan\n",
            "Epoch 47/50\n",
            "36/36 [==============================] - 0s 4ms/step - loss: 0.6500 - acc: 0.6487 - f1_score: nan\n",
            "Epoch 48/50\n",
            "36/36 [==============================] - 0s 3ms/step - loss: 0.6499 - acc: 0.6487 - f1_score: nan\n",
            "Epoch 49/50\n",
            "36/36 [==============================] - 0s 4ms/step - loss: 0.6498 - acc: 0.6487 - f1_score: nan\n",
            "Epoch 50/50\n",
            "36/36 [==============================] - 0s 3ms/step - loss: 0.6498 - acc: 0.6487 - f1_score: nan\n"
          ]
        }
      ]
    },
    {
      "cell_type": "code",
      "metadata": {
        "id": "NqS1xDpo4LjW",
        "colab": {
          "base_uri": "https://localhost:8080/",
          "height": 354
        },
        "outputId": "bbacf07b-b185-410b-e52c-693e9cfa1c4b"
      },
      "source": [
        "loss, acc, f1 = menModel.evaluate(test_Men_pred, testMen_labels)\n",
        "p1 = menModel.predict(test_Men_pred)\n",
        "print(\"Loss: \", loss)\n",
        "print('Accuracy: ', acc)                                                               \n",
        "plt.figure()\n",
        "plt.grid()                                                                                                        \n",
        "plt.title('Testing performance')                          \n",
        "plt.plot(h.epoch, h.history['loss'], label='train loss+error')  \n",
        "plt.plot(h.epoch, h.history['f1_score'], label='f1_score')\n",
        "plt.legend()"
      ],
      "execution_count": null,
      "outputs": [
        {
          "output_type": "stream",
          "name": "stdout",
          "text": [
            "4/4 [==============================] - 0s 6ms/step - loss: 0.7066 - acc: 0.5667 - f1_score: nan   \n",
            "Loss:  0.7065783143043518\n",
            "Accuracy:  0.5666666626930237\n"
          ]
        },
        {
          "output_type": "execute_result",
          "data": {
            "text/plain": [
              "<matplotlib.legend.Legend at 0x7fd29b7c9ad0>"
            ]
          },
          "metadata": {},
          "execution_count": 78
        },
        {
          "output_type": "display_data",
          "data": {
            "image/png": "[encoded data removed]",
            "text/plain": [
              "<Figure size 432x288 with 1 Axes>"
            ]
          },
          "metadata": {
            "needs_background": "light"
          }
        }
      ]
    },
    {
      "cell_type": "code",
      "metadata": {
        "id": "oiKi1DebC4X8"
      },
      "source": [
        "del train_Men_pred\n",
        "del menModel"
      ],
      "execution_count": null,
      "outputs": []
    },
    {
      "cell_type": "markdown",
      "metadata": {
        "id": "pJs7J20U4lGu"
      },
      "source": [
        "#### ACL Condition Detection"
      ]
    },
    {
      "cell_type": "code",
      "metadata": {
        "id": "Za99XogRCz-n",
        "colab": {
          "base_uri": "https://localhost:8080/"
        },
        "outputId": "2efb6c84-a882-4809-a543-e0845598d33b"
      },
      "source": [
        "train_ACL_pred = np.array(train_ACL_pred)\n",
        "print(train_ACL_pred.shape)\n",
        "test_ACL_pred = np.array(test_ACL_pred)\n",
        "print(test_Men_pred.shape)\n",
        "train_ACL_pred = train_ACL_pred.reshape((1130,3))\n",
        "test_ACL_pred = test_ACL_pred.reshape((120,3))\n",
        "print(test_ACL_pred)"
      ],
      "execution_count": null,
      "outputs": [
        {
          "output_type": "stream",
          "name": "stdout",
          "text": [
            "(3, 1130, 1)\n",
            "(120, 3)\n",
            "[[3.00914864e-03 2.40274258e-05 2.62965143e-01]\n",
            " [3.30468565e-02 5.61336601e-05 5.02313515e-06]\n",
            " [1.94179770e-02 1.76913172e-01 9.45879042e-01]\n",
            " [6.82719378e-03 6.31014444e-03 6.47995412e-01]\n",
            " [2.20308602e-02 8.14702570e-01 1.80345159e-02]\n",
            " [6.18691323e-04 5.91431861e-04 8.86413515e-01]\n",
            " [9.20860171e-01 1.28431302e-05 2.51299113e-01]\n",
            " [9.71716642e-01 1.80390179e-02 3.01435404e-02]\n",
            " [6.62441179e-03 7.94544458e-01 3.52199240e-05]\n",
            " [1.21355779e-03 2.20357217e-02 2.29538674e-03]\n",
            " [3.60694528e-01 1.68163516e-02 6.55690953e-02]\n",
            " [4.36392814e-01 3.13151836e-01 2.19838005e-02]\n",
            " [1.99564755e-01 1.36444317e-02 2.92272889e-04]\n",
            " [9.67415631e-01 9.48746502e-01 8.51083398e-01]\n",
            " [2.55065528e-03 3.27981561e-01 9.74657476e-01]\n",
            " [9.29386914e-01 6.54806793e-01 2.30390385e-01]\n",
            " [4.42239642e-03 9.42228973e-01 1.45296578e-03]\n",
            " [9.43519056e-01 7.93732819e-04 3.52278441e-01]\n",
            " [5.20509303e-01 1.64231420e-01 2.26047352e-01]\n",
            " [4.26141638e-03 8.29630733e-01 7.02219069e-01]\n",
            " [2.77273983e-01 6.67758822e-01 3.04029197e-01]\n",
            " [9.65841949e-01 1.98809668e-01 1.10595848e-03]\n",
            " [9.71265554e-01 6.29543960e-01 9.61343348e-01]\n",
            " [2.41125509e-01 5.13084769e-01 1.54771760e-01]\n",
            " [9.31676030e-01 6.39657915e-01 9.97478068e-01]\n",
            " [9.35903192e-01 1.58003241e-01 9.70425248e-01]\n",
            " [4.30221528e-01 9.79317904e-01 7.87922502e-01]\n",
            " [3.67066324e-01 7.80331552e-01 9.87430334e-01]\n",
            " [5.86664379e-01 3.73403281e-01 5.51113801e-04]\n",
            " [1.99918402e-03 4.58300263e-02 8.67293537e-01]\n",
            " [8.70950341e-01 9.76163924e-01 3.28005731e-01]\n",
            " [7.00724006e-01 2.68945545e-01 8.91781926e-01]\n",
            " [8.44888680e-04 9.67247427e-01 9.37072694e-01]\n",
            " [9.19535339e-01 8.43997478e-01 9.66511428e-01]\n",
            " [3.45570175e-03 3.69049907e-02 2.14925017e-02]\n",
            " [1.20778615e-03 8.12324812e-04 5.12715010e-03]\n",
            " [2.61006560e-02 5.43992828e-05 2.37720497e-02]\n",
            " [6.53023847e-07 1.76264077e-01 1.52793655e-03]\n",
            " [5.92245817e-01 8.36293995e-02 7.35898674e-01]\n",
            " [1.79506540e-01 7.93919489e-02 2.75365484e-04]\n",
            " [7.51155540e-02 8.75192806e-02 8.69156897e-01]\n",
            " [2.63266593e-01 1.37002522e-03 1.15690872e-01]\n",
            " [7.37888319e-03 2.23444384e-02 2.13434137e-02]\n",
            " [1.76480412e-03 5.52095592e-01 5.86162098e-02]\n",
            " [3.76346022e-01 1.65680109e-03 3.05313827e-03]\n",
            " [1.64105222e-01 6.08623266e-01 6.60779625e-02]\n",
            " [3.50266844e-01 1.90644562e-01 9.67357773e-03]\n",
            " [4.81158793e-01 8.49917680e-02 7.36527205e-01]\n",
            " [8.58960569e-01 2.71632105e-01 4.13138717e-01]\n",
            " [1.21099435e-01 3.56492907e-01 2.28505582e-04]\n",
            " [1.36858097e-03 3.63036126e-01 1.09054521e-01]\n",
            " [3.64774048e-01 1.00965396e-01 7.18524158e-01]\n",
            " [1.15294509e-01 1.16544664e-02 1.06222041e-01]\n",
            " [1.76481977e-01 1.58866331e-01 9.36458558e-02]\n",
            " [9.44570731e-03 4.98947918e-01 4.02112693e-01]\n",
            " [9.48526934e-02 6.88947588e-02 8.16519380e-01]\n",
            " [6.65315270e-01 6.57434344e-01 2.38822475e-02]\n",
            " [1.98715236e-02 4.14377689e-01 3.06577571e-02]\n",
            " [3.12293973e-02 1.24347699e-03 1.83063913e-02]\n",
            " [4.66247797e-01 9.17486176e-02 2.46450409e-01]\n",
            " [3.43463980e-02 8.46693590e-02 8.38074923e-01]\n",
            " [4.25848395e-01 6.14016891e-01 4.52101797e-01]\n",
            " [8.55910312e-03 4.47203249e-01 6.49256468e-01]\n",
            " [4.49109048e-01 9.95554179e-02 8.92203629e-01]\n",
            " [3.58141750e-01 4.68065822e-03 3.03643554e-01]\n",
            " [5.95929682e-01 5.26859939e-01 9.07078922e-01]\n",
            " [1.84718668e-02 2.75317580e-02 2.21845940e-01]\n",
            " [3.47777575e-01 4.18745995e-01 2.49841973e-01]\n",
            " [2.02998042e-01 6.59743488e-01 9.72860307e-02]\n",
            " [3.04519057e-01 2.62539126e-02 9.08417627e-02]\n",
            " [8.71203601e-01 1.25755265e-01 3.31657350e-01]\n",
            " [3.63146156e-01 1.10135585e-01 1.73922613e-01]\n",
            " [7.05393627e-02 3.68919671e-02 9.53296959e-01]\n",
            " [8.55490446e-01 6.55866787e-02 1.15229171e-02]\n",
            " [3.16076398e-01 2.17507362e-01 8.44029784e-02]\n",
            " [1.51553765e-01 2.58681029e-02 2.04314947e-01]\n",
            " [7.67118558e-02 3.52305204e-01 4.18272056e-03]\n",
            " [1.72106430e-01 4.54024971e-01 5.15357009e-04]\n",
            " [3.34420130e-02 2.29081780e-01 3.40642840e-01]\n",
            " [5.24041831e-01 3.43841702e-01 3.29052918e-02]\n",
            " [3.41599720e-04 7.45280564e-01 4.32521030e-02]\n",
            " [7.20155484e-04 1.55101973e-03 6.74140116e-04]\n",
            " [3.34198540e-03 9.09559369e-01 3.50249648e-01]\n",
            " [8.23495612e-02 5.72241135e-02 1.39960495e-03]\n",
            " [2.22425796e-02 2.31695734e-02 2.55997945e-03]\n",
            " [5.31385057e-02 4.53633755e-01 2.17752352e-01]\n",
            " [8.94727360e-04 1.82693417e-03 2.61553819e-03]\n",
            " [1.79958306e-02 1.72506250e-03 3.22793454e-01]\n",
            " [1.59694173e-04 1.56409619e-03 1.03302789e-03]\n",
            " [2.43080482e-01 1.84278551e-03 1.37179708e-02]\n",
            " [1.34879758e-03 2.30666556e-04 1.37532577e-01]\n",
            " [3.82984169e-02 2.25526109e-01 3.49972427e-01]\n",
            " [7.31738983e-03 1.62084289e-02 1.54278763e-02]\n",
            " [5.05820522e-03 1.19292199e-05 4.35979515e-01]\n",
            " [5.75468037e-03 6.37425017e-03 1.13911122e-01]\n",
            " [2.67304808e-01 7.68312719e-03 6.02458298e-01]\n",
            " [1.16974977e-03 8.97839129e-01 2.57720649e-01]\n",
            " [2.28073031e-01 6.00891598e-02 2.21620197e-04]\n",
            " [6.98152840e-01 2.97325581e-01 8.99873793e-01]\n",
            " [9.27189649e-06 3.09417187e-03 8.51082876e-02]\n",
            " [1.97039679e-01 2.70054221e-01 1.76988065e-01]\n",
            " [7.97344327e-01 3.66865665e-01 1.48858190e-01]\n",
            " [3.71026039e-01 6.80291429e-02 7.00954139e-01]\n",
            " [2.74068296e-01 8.53282988e-01 7.15965405e-02]\n",
            " [9.30173218e-01 3.99042130e-01 3.34384322e-01]\n",
            " [1.24889977e-01 7.95560181e-01 9.08369720e-01]\n",
            " [4.79151189e-01 6.99617207e-01 1.84409514e-01]\n",
            " [5.00618041e-01 5.42833433e-02 2.01775327e-01]\n",
            " [1.95875182e-03 8.23317468e-02 3.86278719e-01]\n",
            " [3.16028953e-01 1.28245633e-02 3.00115105e-02]\n",
            " [2.70583093e-01 9.32399489e-05 4.89114411e-02]\n",
            " [4.73408401e-03 2.08391249e-03 1.08935237e-02]\n",
            " [1.78863242e-01 4.24965441e-01 6.00637257e-01]\n",
            " [1.14297979e-02 3.08032800e-03 4.45901811e-01]\n",
            " [2.15912447e-03 6.04799017e-04 3.69821191e-01]\n",
            " [9.18580126e-03 1.63880829e-02 6.96643770e-01]\n",
            " [4.45032045e-02 3.63898173e-04 2.76757590e-03]\n",
            " [7.15881065e-02 4.28830177e-01 5.06662810e-03]\n",
            " [4.99358226e-04 1.50954751e-02 5.84532320e-03]\n",
            " [6.36834837e-03 1.27103791e-01 9.26453713e-03]]\n"
          ]
        }
      ]
    },
    {
      "cell_type": "code",
      "source": [
        "train_ACL_pred"
      ],
      "metadata": {
        "colab": {
          "base_uri": "https://localhost:8080/"
        },
        "id": "MLhKnVeBq0om",
        "outputId": "546e24d4-c0cc-4fbd-c84a-ef67717e27fd"
      },
      "execution_count": null,
      "outputs": [
        {
          "output_type": "execute_result",
          "data": {
            "text/plain": [
              "array([[4.3625683e-03, 9.8585087e-01, 1.2728321e-02],\n",
              "       [5.1054707e-05, 2.3338334e-05, 8.3415938e-04],\n",
              "       [2.4134900e-04, 9.3528557e-05, 1.5987858e-02],\n",
              "       ...,\n",
              "       [2.4810998e-02, 1.6968727e-02, 2.6325445e-06],\n",
              "       [4.3958016e-03, 8.5132927e-01, 4.5161352e-02],\n",
              "       [9.5084868e-02, 9.1162145e-02, 5.2696294e-01]], dtype=float32)"
            ]
          },
          "metadata": {},
          "execution_count": 81
        }
      ]
    },
    {
      "cell_type": "code",
      "metadata": {
        "id": "sHllxCwuCz-2",
        "colab": {
          "base_uri": "https://localhost:8080/"
        },
        "outputId": "38489917-c9b8-4e68-fbdd-8cb21746d456"
      },
      "source": [
        "menModel = Sequential()\n",
        "menModel.add(Dense(1, activation='sigmoid', input_dim=3))\n",
        "\n",
        "menModel.compile(loss='binary_crossentropy', optimizer='adam', metrics=['accuracy',f1_score])\n",
        "h = menModel.fit(train_ACL_pred, trainACL_labels, batch_size=32, epochs=50, verbose=1)"
      ],
      "execution_count": null,
      "outputs": [
        {
          "output_type": "stream",
          "name": "stdout",
          "text": [
            "Epoch 1/50\n",
            "36/36 [==============================] - 1s 4ms/step - loss: 0.7156 - accuracy: 0.4991 - f1_score: nan\n",
            "Epoch 2/50\n",
            "36/36 [==============================] - 0s 3ms/step - loss: 0.6990 - accuracy: 0.5549 - f1_score: nan\n",
            "Epoch 3/50\n",
            "36/36 [==============================] - 0s 4ms/step - loss: 0.6836 - accuracy: 0.5903 - f1_score: nan\n",
            "Epoch 4/50\n",
            "36/36 [==============================] - 0s 3ms/step - loss: 0.6692 - accuracy: 0.6319 - f1_score: nan\n",
            "Epoch 5/50\n",
            "36/36 [==============================] - 0s 4ms/step - loss: 0.6558 - accuracy: 0.6761 - f1_score: nan\n",
            "Epoch 6/50\n",
            "36/36 [==============================] - 0s 4ms/step - loss: 0.6435 - accuracy: 0.7106 - f1_score: nan\n",
            "Epoch 7/50\n",
            "36/36 [==============================] - 0s 3ms/step - loss: 0.6318 - accuracy: 0.7212 - f1_score: nan\n",
            "Epoch 8/50\n",
            "36/36 [==============================] - 0s 3ms/step - loss: 0.6212 - accuracy: 0.7354 - f1_score: nan\n",
            "Epoch 9/50\n",
            "36/36 [==============================] - 0s 3ms/step - loss: 0.6113 - accuracy: 0.7398 - f1_score: nan\n",
            "Epoch 10/50\n",
            "36/36 [==============================] - 0s 3ms/step - loss: 0.6022 - accuracy: 0.7469 - f1_score: nan\n",
            "Epoch 11/50\n",
            "36/36 [==============================] - 0s 4ms/step - loss: 0.5937 - accuracy: 0.7549 - f1_score: nan\n",
            "Epoch 12/50\n",
            "36/36 [==============================] - 0s 4ms/step - loss: 0.5860 - accuracy: 0.7699 - f1_score: nan\n",
            "Epoch 13/50\n",
            "36/36 [==============================] - 0s 3ms/step - loss: 0.5788 - accuracy: 0.7788 - f1_score: nan\n",
            "Epoch 14/50\n",
            "36/36 [==============================] - 0s 3ms/step - loss: 0.5721 - accuracy: 0.7920 - f1_score: nan\n",
            "Epoch 15/50\n",
            "36/36 [==============================] - 0s 3ms/step - loss: 0.5660 - accuracy: 0.8027 - f1_score: nan\n",
            "Epoch 16/50\n",
            "36/36 [==============================] - 0s 4ms/step - loss: 0.5602 - accuracy: 0.8080 - f1_score: nan\n",
            "Epoch 17/50\n",
            "36/36 [==============================] - 0s 3ms/step - loss: 0.5551 - accuracy: 0.8159 - f1_score: nan\n",
            "Epoch 18/50\n",
            "36/36 [==============================] - 0s 4ms/step - loss: 0.5502 - accuracy: 0.8159 - f1_score: nan\n",
            "Epoch 19/50\n",
            "36/36 [==============================] - 0s 4ms/step - loss: 0.5457 - accuracy: 0.8159 - f1_score: nan\n",
            "Epoch 20/50\n",
            "36/36 [==============================] - 0s 4ms/step - loss: 0.5416 - accuracy: 0.8159 - f1_score: nan\n",
            "Epoch 21/50\n",
            "36/36 [==============================] - 0s 4ms/step - loss: 0.5376 - accuracy: 0.8159 - f1_score: nan\n",
            "Epoch 22/50\n",
            "36/36 [==============================] - 0s 4ms/step - loss: 0.5341 - accuracy: 0.8159 - f1_score: nan\n",
            "Epoch 23/50\n",
            "36/36 [==============================] - 0s 3ms/step - loss: 0.5309 - accuracy: 0.8159 - f1_score: nan\n",
            "Epoch 24/50\n",
            "36/36 [==============================] - 0s 3ms/step - loss: 0.5279 - accuracy: 0.8159 - f1_score: nan\n",
            "Epoch 25/50\n",
            "36/36 [==============================] - 0s 4ms/step - loss: 0.5250 - accuracy: 0.8159 - f1_score: nan\n",
            "Epoch 26/50\n",
            "36/36 [==============================] - 0s 4ms/step - loss: 0.5223 - accuracy: 0.8159 - f1_score: nan\n",
            "Epoch 27/50\n",
            "36/36 [==============================] - 0s 4ms/step - loss: 0.5198 - accuracy: 0.8159 - f1_score: nan\n",
            "Epoch 28/50\n",
            "36/36 [==============================] - 0s 4ms/step - loss: 0.5175 - accuracy: 0.8159 - f1_score: nan\n",
            "Epoch 29/50\n",
            "36/36 [==============================] - 0s 4ms/step - loss: 0.5154 - accuracy: 0.8159 - f1_score: nan\n",
            "Epoch 30/50\n",
            "36/36 [==============================] - 0s 3ms/step - loss: 0.5135 - accuracy: 0.8159 - f1_score: nan\n",
            "Epoch 31/50\n",
            "36/36 [==============================] - 0s 3ms/step - loss: 0.5116 - accuracy: 0.8159 - f1_score: nan\n",
            "Epoch 32/50\n",
            "36/36 [==============================] - 0s 4ms/step - loss: 0.5100 - accuracy: 0.8159 - f1_score: nan\n",
            "Epoch 33/50\n",
            "36/36 [==============================] - 0s 4ms/step - loss: 0.5083 - accuracy: 0.8159 - f1_score: nan\n",
            "Epoch 34/50\n",
            "36/36 [==============================] - 0s 3ms/step - loss: 0.5069 - accuracy: 0.8159 - f1_score: nan\n",
            "Epoch 35/50\n",
            "36/36 [==============================] - 0s 4ms/step - loss: 0.5055 - accuracy: 0.8159 - f1_score: nan\n",
            "Epoch 36/50\n",
            "36/36 [==============================] - 0s 4ms/step - loss: 0.5042 - accuracy: 0.8159 - f1_score: nan\n",
            "Epoch 37/50\n",
            "36/36 [==============================] - 0s 3ms/step - loss: 0.5030 - accuracy: 0.8159 - f1_score: nan\n",
            "Epoch 38/50\n",
            "36/36 [==============================] - 0s 3ms/step - loss: 0.5019 - accuracy: 0.8159 - f1_score: nan\n",
            "Epoch 39/50\n",
            "36/36 [==============================] - 0s 4ms/step - loss: 0.5008 - accuracy: 0.8159 - f1_score: nan\n",
            "Epoch 40/50\n",
            "36/36 [==============================] - 0s 4ms/step - loss: 0.4998 - accuracy: 0.8159 - f1_score: nan\n",
            "Epoch 41/50\n",
            "36/36 [==============================] - 0s 4ms/step - loss: 0.4989 - accuracy: 0.8159 - f1_score: nan\n",
            "Epoch 42/50\n",
            "36/36 [==============================] - 0s 3ms/step - loss: 0.4980 - accuracy: 0.8159 - f1_score: nan\n",
            "Epoch 43/50\n",
            "36/36 [==============================] - 0s 3ms/step - loss: 0.4971 - accuracy: 0.8159 - f1_score: nan\n",
            "Epoch 44/50\n",
            "36/36 [==============================] - 0s 4ms/step - loss: 0.4964 - accuracy: 0.8159 - f1_score: nan\n",
            "Epoch 45/50\n",
            "36/36 [==============================] - 0s 4ms/step - loss: 0.4956 - accuracy: 0.8159 - f1_score: nan\n",
            "Epoch 46/50\n",
            "36/36 [==============================] - 0s 4ms/step - loss: 0.4949 - accuracy: 0.8159 - f1_score: nan\n",
            "Epoch 47/50\n",
            "36/36 [==============================] - 0s 4ms/step - loss: 0.4942 - accuracy: 0.8159 - f1_score: nan\n",
            "Epoch 48/50\n",
            "36/36 [==============================] - 0s 3ms/step - loss: 0.4935 - accuracy: 0.8159 - f1_score: nan\n",
            "Epoch 49/50\n",
            "36/36 [==============================] - 0s 4ms/step - loss: 0.4929 - accuracy: 0.8159 - f1_score: nan\n",
            "Epoch 50/50\n",
            "36/36 [==============================] - 0s 3ms/step - loss: 0.4923 - accuracy: 0.8159 - f1_score: nan\n"
          ]
        }
      ]
    },
    {
      "cell_type": "code",
      "metadata": {
        "id": "LPmLLhj1Cz_A",
        "colab": {
          "base_uri": "https://localhost:8080/",
          "height": 354
        },
        "outputId": "afa859a1-64c4-498d-da36-b76aa7a696da"
      },
      "source": [
        "loss, acc, f1 = menModel.evaluate(test_ACL_pred, testACL_labels)\n",
        "p2 = menModel.predict(test_ACL_pred)\n",
        "print(\"Loss: \", loss)\n",
        "print('Accuracy: ', acc)\n",
        "                                          \n",
        "plt.figure()\n",
        "plt.grid()                                              \n",
        "                                                            \n",
        "plt.title('Testing performance')                          \n",
        "plt.plot(h.epoch, h.history['loss'], label='train loss+error')  \n",
        "plt.plot(h.epoch, h.history['f1_score'], label='f1_score')\n",
        "plt.legend()"
      ],
      "execution_count": null,
      "outputs": [
        {
          "output_type": "stream",
          "name": "stdout",
          "text": [
            "4/4 [==============================] - 0s 5ms/step - loss: 0.8254 - accuracy: 0.5500 - f1_score: nan   \n",
            "Loss:  0.8254281282424927\n",
            "Accuracy:  0.550000011920929\n"
          ]
        },
        {
          "output_type": "execute_result",
          "data": {
            "text/plain": [
              "<matplotlib.legend.Legend at 0x7fd29b5afa50>"
            ]
          },
          "metadata": {},
          "execution_count": 83
        },
        {
          "output_type": "display_data",
          "data": {
            "image/png": "[encoded data removed]",
            "text/plain": [
              "<Figure size 432x288 with 1 Axes>"
            ]
          },
          "metadata": {
            "needs_background": "light"
          }
        }
      ]
    },
    {
      "cell_type": "code",
      "metadata": {
        "id": "dm6Y7ofiDmgr"
      },
      "source": [
        "del train_ACL_pred\n",
        "del menModel"
      ],
      "execution_count": null,
      "outputs": []
    },
    {
      "cell_type": "markdown",
      "metadata": {
        "id": "VXE1feJ7D_qQ"
      },
      "source": [
        "#### Abnormal Condition Detection"
      ]
    },
    {
      "cell_type": "code",
      "source": [
        "np.isnan(np.sum(trainAb_labels))"
      ],
      "metadata": {
        "colab": {
          "base_uri": "https://localhost:8080/"
        },
        "id": "_6_8RiNlrRWT",
        "outputId": "17475e2e-d967-4ee6-ee2b-36cce24c7eb0"
      },
      "execution_count": null,
      "outputs": [
        {
          "output_type": "execute_result",
          "data": {
            "text/plain": [
              "False"
            ]
          },
          "metadata": {},
          "execution_count": 85
        }
      ]
    },
    {
      "cell_type": "code",
      "metadata": {
        "id": "UvKiF1LmEOlO",
        "colab": {
          "base_uri": "https://localhost:8080/"
        },
        "outputId": "80023871-f8d3-4e03-bb40-376e9bfff9a3"
      },
      "source": [
        "train_Ab_pred = np.array(train_Ab_pred)\n",
        "print(train_Ab_pred.shape)\n",
        "test_Ab_pred = np.array(test_Ab_pred)\n",
        "print(test_Ab_pred.shape)\n",
        "\n",
        "train_Ab_pred = train_Ab_pred.reshape((1130,3))\n",
        "test_Ab_pred = test_Ab_pred.reshape((120,3))\n",
        "print(test_ACL_pred)"
      ],
      "execution_count": null,
      "outputs": [
        {
          "output_type": "stream",
          "name": "stdout",
          "text": [
            "(3, 1130, 1)\n",
            "(3, 120, 1)\n",
            "[[3.00914864e-03 2.40274258e-05 2.62965143e-01]\n",
            " [3.30468565e-02 5.61336601e-05 5.02313515e-06]\n",
            " [1.94179770e-02 1.76913172e-01 9.45879042e-01]\n",
            " [6.82719378e-03 6.31014444e-03 6.47995412e-01]\n",
            " [2.20308602e-02 8.14702570e-01 1.80345159e-02]\n",
            " [6.18691323e-04 5.91431861e-04 8.86413515e-01]\n",
            " [9.20860171e-01 1.28431302e-05 2.51299113e-01]\n",
            " [9.71716642e-01 1.80390179e-02 3.01435404e-02]\n",
            " [6.62441179e-03 7.94544458e-01 3.52199240e-05]\n",
            " [1.21355779e-03 2.20357217e-02 2.29538674e-03]\n",
            " [3.60694528e-01 1.68163516e-02 6.55690953e-02]\n",
            " [4.36392814e-01 3.13151836e-01 2.19838005e-02]\n",
            " [1.99564755e-01 1.36444317e-02 2.92272889e-04]\n",
            " [9.67415631e-01 9.48746502e-01 8.51083398e-01]\n",
            " [2.55065528e-03 3.27981561e-01 9.74657476e-01]\n",
            " [9.29386914e-01 6.54806793e-01 2.30390385e-01]\n",
            " [4.42239642e-03 9.42228973e-01 1.45296578e-03]\n",
            " [9.43519056e-01 7.93732819e-04 3.52278441e-01]\n",
            " [5.20509303e-01 1.64231420e-01 2.26047352e-01]\n",
            " [4.26141638e-03 8.29630733e-01 7.02219069e-01]\n",
            " [2.77273983e-01 6.67758822e-01 3.04029197e-01]\n",
            " [9.65841949e-01 1.98809668e-01 1.10595848e-03]\n",
            " [9.71265554e-01 6.29543960e-01 9.61343348e-01]\n",
            " [2.41125509e-01 5.13084769e-01 1.54771760e-01]\n",
            " [9.31676030e-01 6.39657915e-01 9.97478068e-01]\n",
            " [9.35903192e-01 1.58003241e-01 9.70425248e-01]\n",
            " [4.30221528e-01 9.79317904e-01 7.87922502e-01]\n",
            " [3.67066324e-01 7.80331552e-01 9.87430334e-01]\n",
            " [5.86664379e-01 3.73403281e-01 5.51113801e-04]\n",
            " [1.99918402e-03 4.58300263e-02 8.67293537e-01]\n",
            " [8.70950341e-01 9.76163924e-01 3.28005731e-01]\n",
            " [7.00724006e-01 2.68945545e-01 8.91781926e-01]\n",
            " [8.44888680e-04 9.67247427e-01 9.37072694e-01]\n",
            " [9.19535339e-01 8.43997478e-01 9.66511428e-01]\n",
            " [3.45570175e-03 3.69049907e-02 2.14925017e-02]\n",
            " [1.20778615e-03 8.12324812e-04 5.12715010e-03]\n",
            " [2.61006560e-02 5.43992828e-05 2.37720497e-02]\n",
            " [6.53023847e-07 1.76264077e-01 1.52793655e-03]\n",
            " [5.92245817e-01 8.36293995e-02 7.35898674e-01]\n",
            " [1.79506540e-01 7.93919489e-02 2.75365484e-04]\n",
            " [7.51155540e-02 8.75192806e-02 8.69156897e-01]\n",
            " [2.63266593e-01 1.37002522e-03 1.15690872e-01]\n",
            " [7.37888319e-03 2.23444384e-02 2.13434137e-02]\n",
            " [1.76480412e-03 5.52095592e-01 5.86162098e-02]\n",
            " [3.76346022e-01 1.65680109e-03 3.05313827e-03]\n",
            " [1.64105222e-01 6.08623266e-01 6.60779625e-02]\n",
            " [3.50266844e-01 1.90644562e-01 9.67357773e-03]\n",
            " [4.81158793e-01 8.49917680e-02 7.36527205e-01]\n",
            " [8.58960569e-01 2.71632105e-01 4.13138717e-01]\n",
            " [1.21099435e-01 3.56492907e-01 2.28505582e-04]\n",
            " [1.36858097e-03 3.63036126e-01 1.09054521e-01]\n",
            " [3.64774048e-01 1.00965396e-01 7.18524158e-01]\n",
            " [1.15294509e-01 1.16544664e-02 1.06222041e-01]\n",
            " [1.76481977e-01 1.58866331e-01 9.36458558e-02]\n",
            " [9.44570731e-03 4.98947918e-01 4.02112693e-01]\n",
            " [9.48526934e-02 6.88947588e-02 8.16519380e-01]\n",
            " [6.65315270e-01 6.57434344e-01 2.38822475e-02]\n",
            " [1.98715236e-02 4.14377689e-01 3.06577571e-02]\n",
            " [3.12293973e-02 1.24347699e-03 1.83063913e-02]\n",
            " [4.66247797e-01 9.17486176e-02 2.46450409e-01]\n",
            " [3.43463980e-02 8.46693590e-02 8.38074923e-01]\n",
            " [4.25848395e-01 6.14016891e-01 4.52101797e-01]\n",
            " [8.55910312e-03 4.47203249e-01 6.49256468e-01]\n",
            " [4.49109048e-01 9.95554179e-02 8.92203629e-01]\n",
            " [3.58141750e-01 4.68065822e-03 3.03643554e-01]\n",
            " [5.95929682e-01 5.26859939e-01 9.07078922e-01]\n",
            " [1.84718668e-02 2.75317580e-02 2.21845940e-01]\n",
            " [3.47777575e-01 4.18745995e-01 2.49841973e-01]\n",
            " [2.02998042e-01 6.59743488e-01 9.72860307e-02]\n",
            " [3.04519057e-01 2.62539126e-02 9.08417627e-02]\n",
            " [8.71203601e-01 1.25755265e-01 3.31657350e-01]\n",
            " [3.63146156e-01 1.10135585e-01 1.73922613e-01]\n",
            " [7.05393627e-02 3.68919671e-02 9.53296959e-01]\n",
            " [8.55490446e-01 6.55866787e-02 1.15229171e-02]\n",
            " [3.16076398e-01 2.17507362e-01 8.44029784e-02]\n",
            " [1.51553765e-01 2.58681029e-02 2.04314947e-01]\n",
            " [7.67118558e-02 3.52305204e-01 4.18272056e-03]\n",
            " [1.72106430e-01 4.54024971e-01 5.15357009e-04]\n",
            " [3.34420130e-02 2.29081780e-01 3.40642840e-01]\n",
            " [5.24041831e-01 3.43841702e-01 3.29052918e-02]\n",
            " [3.41599720e-04 7.45280564e-01 4.32521030e-02]\n",
            " [7.20155484e-04 1.55101973e-03 6.74140116e-04]\n",
            " [3.34198540e-03 9.09559369e-01 3.50249648e-01]\n",
            " [8.23495612e-02 5.72241135e-02 1.39960495e-03]\n",
            " [2.22425796e-02 2.31695734e-02 2.55997945e-03]\n",
            " [5.31385057e-02 4.53633755e-01 2.17752352e-01]\n",
            " [8.94727360e-04 1.82693417e-03 2.61553819e-03]\n",
            " [1.79958306e-02 1.72506250e-03 3.22793454e-01]\n",
            " [1.59694173e-04 1.56409619e-03 1.03302789e-03]\n",
            " [2.43080482e-01 1.84278551e-03 1.37179708e-02]\n",
            " [1.34879758e-03 2.30666556e-04 1.37532577e-01]\n",
            " [3.82984169e-02 2.25526109e-01 3.49972427e-01]\n",
            " [7.31738983e-03 1.62084289e-02 1.54278763e-02]\n",
            " [5.05820522e-03 1.19292199e-05 4.35979515e-01]\n",
            " [5.75468037e-03 6.37425017e-03 1.13911122e-01]\n",
            " [2.67304808e-01 7.68312719e-03 6.02458298e-01]\n",
            " [1.16974977e-03 8.97839129e-01 2.57720649e-01]\n",
            " [2.28073031e-01 6.00891598e-02 2.21620197e-04]\n",
            " [6.98152840e-01 2.97325581e-01 8.99873793e-01]\n",
            " [9.27189649e-06 3.09417187e-03 8.51082876e-02]\n",
            " [1.97039679e-01 2.70054221e-01 1.76988065e-01]\n",
            " [7.97344327e-01 3.66865665e-01 1.48858190e-01]\n",
            " [3.71026039e-01 6.80291429e-02 7.00954139e-01]\n",
            " [2.74068296e-01 8.53282988e-01 7.15965405e-02]\n",
            " [9.30173218e-01 3.99042130e-01 3.34384322e-01]\n",
            " [1.24889977e-01 7.95560181e-01 9.08369720e-01]\n",
            " [4.79151189e-01 6.99617207e-01 1.84409514e-01]\n",
            " [5.00618041e-01 5.42833433e-02 2.01775327e-01]\n",
            " [1.95875182e-03 8.23317468e-02 3.86278719e-01]\n",
            " [3.16028953e-01 1.28245633e-02 3.00115105e-02]\n",
            " [2.70583093e-01 9.32399489e-05 4.89114411e-02]\n",
            " [4.73408401e-03 2.08391249e-03 1.08935237e-02]\n",
            " [1.78863242e-01 4.24965441e-01 6.00637257e-01]\n",
            " [1.14297979e-02 3.08032800e-03 4.45901811e-01]\n",
            " [2.15912447e-03 6.04799017e-04 3.69821191e-01]\n",
            " [9.18580126e-03 1.63880829e-02 6.96643770e-01]\n",
            " [4.45032045e-02 3.63898173e-04 2.76757590e-03]\n",
            " [7.15881065e-02 4.28830177e-01 5.06662810e-03]\n",
            " [4.99358226e-04 1.50954751e-02 5.84532320e-03]\n",
            " [6.36834837e-03 1.27103791e-01 9.26453713e-03]]\n"
          ]
        }
      ]
    },
    {
      "cell_type": "code",
      "metadata": {
        "id": "WM7sx5NGEOlj",
        "colab": {
          "base_uri": "https://localhost:8080/"
        },
        "outputId": "7e181511-bd1f-4943-90f2-22b63a89693a"
      },
      "source": [
        "abModel = Sequential()\n",
        "abModel.add(Dense(1, activation='sigmoid', input_dim=3))\n",
        "\n",
        "abModel.compile(loss='binary_crossentropy', optimizer='adam', metrics=['acc',f1_score] )\n",
        "h = abModel.fit(train_Ab_pred, trainAb_labels, batch_size=32, epochs=50, verbose=1)"
      ],
      "execution_count": null,
      "outputs": [
        {
          "output_type": "stream",
          "name": "stdout",
          "text": [
            "Epoch 1/50\n",
            "36/36 [==============================] - 1s 4ms/step - loss: 0.7278 - acc: 0.4699 - f1_score: 0.4639\n",
            "Epoch 2/50\n",
            "36/36 [==============================] - 0s 4ms/step - loss: 0.7159 - acc: 0.5018 - f1_score: 0.4281\n",
            "Epoch 3/50\n",
            "36/36 [==============================] - 0s 4ms/step - loss: 0.7060 - acc: 0.5257 - f1_score: 0.4069\n",
            "Epoch 4/50\n",
            "36/36 [==============================] - 0s 3ms/step - loss: 0.6972 - acc: 0.5487 - f1_score: 0.4104\n",
            "Epoch 5/50\n",
            "36/36 [==============================] - 0s 3ms/step - loss: 0.6900 - acc: 0.5628 - f1_score: nan\n",
            "Epoch 6/50\n",
            "36/36 [==============================] - 0s 4ms/step - loss: 0.6839 - acc: 0.5726 - f1_score: 0.3598\n",
            "Epoch 7/50\n",
            "36/36 [==============================] - 0s 4ms/step - loss: 0.6791 - acc: 0.5850 - f1_score: nan\n",
            "Epoch 8/50\n",
            "36/36 [==============================] - 0s 3ms/step - loss: 0.6744 - acc: 0.5867 - f1_score: nan\n",
            "Epoch 9/50\n",
            "36/36 [==============================] - 0s 4ms/step - loss: 0.6707 - acc: 0.5938 - f1_score: nan\n",
            "Epoch 10/50\n",
            "36/36 [==============================] - 0s 3ms/step - loss: 0.6676 - acc: 0.6053 - f1_score: nan\n",
            "Epoch 11/50\n",
            "36/36 [==============================] - 0s 4ms/step - loss: 0.6651 - acc: 0.6062 - f1_score: nan\n",
            "Epoch 12/50\n",
            "36/36 [==============================] - 0s 4ms/step - loss: 0.6629 - acc: 0.6053 - f1_score: nan\n",
            "Epoch 13/50\n",
            "36/36 [==============================] - 0s 4ms/step - loss: 0.6612 - acc: 0.6142 - f1_score: nan\n",
            "Epoch 14/50\n",
            "36/36 [==============================] - 0s 3ms/step - loss: 0.6597 - acc: 0.6212 - f1_score: nan\n",
            "Epoch 15/50\n",
            "36/36 [==============================] - 0s 3ms/step - loss: 0.6585 - acc: 0.6292 - f1_score: nan\n",
            "Epoch 16/50\n",
            "36/36 [==============================] - 0s 3ms/step - loss: 0.6576 - acc: 0.6389 - f1_score: nan\n",
            "Epoch 17/50\n",
            "36/36 [==============================] - 0s 3ms/step - loss: 0.6566 - acc: 0.6425 - f1_score: nan\n",
            "Epoch 18/50\n",
            "36/36 [==============================] - 0s 4ms/step - loss: 0.6559 - acc: 0.6478 - f1_score: nan\n",
            "Epoch 19/50\n",
            "36/36 [==============================] - 0s 3ms/step - loss: 0.6553 - acc: 0.6496 - f1_score: nan\n",
            "Epoch 20/50\n",
            "36/36 [==============================] - 0s 3ms/step - loss: 0.6548 - acc: 0.6487 - f1_score: nan\n",
            "Epoch 21/50\n",
            "36/36 [==============================] - 0s 3ms/step - loss: 0.6544 - acc: 0.6487 - f1_score: nan\n",
            "Epoch 22/50\n",
            "36/36 [==============================] - 0s 3ms/step - loss: 0.6539 - acc: 0.6487 - f1_score: nan\n",
            "Epoch 23/50\n",
            "36/36 [==============================] - 0s 3ms/step - loss: 0.6535 - acc: 0.6487 - f1_score: nan\n",
            "Epoch 24/50\n",
            "36/36 [==============================] - 0s 3ms/step - loss: 0.6532 - acc: 0.6487 - f1_score: nan\n",
            "Epoch 25/50\n",
            "36/36 [==============================] - 0s 4ms/step - loss: 0.6530 - acc: 0.6487 - f1_score: nan\n",
            "Epoch 26/50\n",
            "36/36 [==============================] - 0s 4ms/step - loss: 0.6527 - acc: 0.6487 - f1_score: nan\n",
            "Epoch 27/50\n",
            "36/36 [==============================] - 0s 3ms/step - loss: 0.6525 - acc: 0.6487 - f1_score: nan\n",
            "Epoch 28/50\n",
            "36/36 [==============================] - 0s 3ms/step - loss: 0.6523 - acc: 0.6487 - f1_score: nan\n",
            "Epoch 29/50\n",
            "36/36 [==============================] - 0s 3ms/step - loss: 0.6520 - acc: 0.6487 - f1_score: nan\n",
            "Epoch 30/50\n",
            "36/36 [==============================] - 0s 4ms/step - loss: 0.6519 - acc: 0.6487 - f1_score: nan\n",
            "Epoch 31/50\n",
            "36/36 [==============================] - 0s 3ms/step - loss: 0.6517 - acc: 0.6487 - f1_score: nan\n",
            "Epoch 32/50\n",
            "36/36 [==============================] - 0s 3ms/step - loss: 0.6515 - acc: 0.6487 - f1_score: nan\n",
            "Epoch 33/50\n",
            "36/36 [==============================] - 0s 3ms/step - loss: 0.6514 - acc: 0.6487 - f1_score: nan\n",
            "Epoch 34/50\n",
            "36/36 [==============================] - 0s 4ms/step - loss: 0.6512 - acc: 0.6487 - f1_score: nan\n",
            "Epoch 35/50\n",
            "36/36 [==============================] - 0s 3ms/step - loss: 0.6510 - acc: 0.6487 - f1_score: nan\n",
            "Epoch 36/50\n",
            "36/36 [==============================] - 0s 3ms/step - loss: 0.6509 - acc: 0.6487 - f1_score: nan\n",
            "Epoch 37/50\n",
            "36/36 [==============================] - 0s 4ms/step - loss: 0.6507 - acc: 0.6487 - f1_score: nan\n",
            "Epoch 38/50\n",
            "36/36 [==============================] - 0s 3ms/step - loss: 0.6506 - acc: 0.6487 - f1_score: nan\n",
            "Epoch 39/50\n",
            "36/36 [==============================] - 0s 3ms/step - loss: 0.6505 - acc: 0.6487 - f1_score: nan\n",
            "Epoch 40/50\n",
            "36/36 [==============================] - 0s 3ms/step - loss: 0.6504 - acc: 0.6487 - f1_score: nan\n",
            "Epoch 41/50\n",
            "36/36 [==============================] - 0s 3ms/step - loss: 0.6503 - acc: 0.6487 - f1_score: nan\n",
            "Epoch 42/50\n",
            "36/36 [==============================] - 0s 4ms/step - loss: 0.6501 - acc: 0.6487 - f1_score: nan\n",
            "Epoch 43/50\n",
            "36/36 [==============================] - 0s 3ms/step - loss: 0.6500 - acc: 0.6487 - f1_score: nan\n",
            "Epoch 44/50\n",
            "36/36 [==============================] - 0s 3ms/step - loss: 0.6498 - acc: 0.6487 - f1_score: nan\n",
            "Epoch 45/50\n",
            "36/36 [==============================] - 0s 3ms/step - loss: 0.6497 - acc: 0.6487 - f1_score: nan\n",
            "Epoch 46/50\n",
            "36/36 [==============================] - 0s 3ms/step - loss: 0.6496 - acc: 0.6487 - f1_score: nan\n",
            "Epoch 47/50\n",
            "36/36 [==============================] - 0s 3ms/step - loss: 0.6495 - acc: 0.6487 - f1_score: nan\n",
            "Epoch 48/50\n",
            "36/36 [==============================] - 0s 3ms/step - loss: 0.6494 - acc: 0.6487 - f1_score: nan\n",
            "Epoch 49/50\n",
            "36/36 [==============================] - 0s 3ms/step - loss: 0.6493 - acc: 0.6487 - f1_score: nan\n",
            "Epoch 50/50\n",
            "36/36 [==============================] - 0s 3ms/step - loss: 0.6493 - acc: 0.6487 - f1_score: nan\n"
          ]
        }
      ]
    },
    {
      "cell_type": "code",
      "metadata": {
        "id": "RiP0cFwPEOly",
        "colab": {
          "base_uri": "https://localhost:8080/",
          "height": 354
        },
        "outputId": "eb73d103-66da-413e-858f-4a038d8de303"
      },
      "source": [
        "loss, acc, f1 = abModel.evaluate(test_Ab_pred, testAb_labels)\n",
        "p3 = abModel.predict(test_Ab_pred)\n",
        "print(\"Loss: \", loss)\n",
        "print('Accuracy: ', acc)                                  \n",
        "plt.figure()\n",
        "plt.grid()                                                                                                      \n",
        "plt.title('Testing performance')                          \n",
        "plt.plot(h.epoch, h.history['loss'], label='train loss+error')  \n",
        "plt.plot(h.epoch, h.history['f1_score'], label='f1_score')\n",
        "plt.legend()"
      ],
      "execution_count": null,
      "outputs": [
        {
          "output_type": "stream",
          "name": "stdout",
          "text": [
            "4/4 [==============================] - 0s 5ms/step - loss: 0.9098 - acc: 0.2083 - f1_score: nan\n",
            "Loss:  0.9098464250564575\n",
            "Accuracy:  0.2083333283662796\n"
          ]
        },
        {
          "output_type": "execute_result",
          "data": {
            "text/plain": [
              "<matplotlib.legend.Legend at 0x7fd29b3162d0>"
            ]
          },
          "metadata": {},
          "execution_count": 88
        },
        {
          "output_type": "display_data",
          "data": {
            "image/png": "[encoded data removed]",
            "text/plain": [
              "<Figure size 432x288 with 1 Axes>"
            ]
          },
          "metadata": {
            "needs_background": "light"
          }
        }
      ]
    },
    {
      "cell_type": "code",
      "metadata": {
        "id": "EBX_Lnb8EOl8"
      },
      "source": [
        "del train_Ab_pred\n",
        "del abModel"
      ],
      "execution_count": null,
      "outputs": []
    }
  ]
}