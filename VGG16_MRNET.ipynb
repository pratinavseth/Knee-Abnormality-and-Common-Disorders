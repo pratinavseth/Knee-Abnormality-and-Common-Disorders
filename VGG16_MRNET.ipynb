{
  "nbformat": 4,
  "nbformat_minor": 0,
  "metadata": {
    "colab": {
      "name": "VGG16_MRNET.ipynb",
      "provenance": [],
      "collapsed_sections": [],
      "toc_visible": true,
      "include_colab_link": true
    },
    "kernelspec": {
      "name": "python3",
      "display_name": "Python 3"
    },
    "accelerator": "GPU"
  },
  "cells": [
    {
      "cell_type": "markdown",
      "metadata": {
        "id": "view-in-github",
        "colab_type": "text"
      },
      "source": [
        "<a href=\"https://colab.research.google.com/github/ptnv-s/Knee-Abnormality-and-Common-Disorders/blob/colab/VGG16_MRNET.ipynb\" target=\"_parent\"><img src=\"https://colab.research.google.com/assets/colab-badge.svg\" alt=\"Open In Colab\"/></a>"
      ]
    },
    {
      "cell_type": "markdown",
      "source": [
        "# Deep Learning Based Musculoskeletal Diagnosis, Abnormality and Common Disorders detection using Knee Magnetic Resonance Imaging"
      ],
      "metadata": {
        "id": "fosR27toc8kH"
      }
    },
    {
      "cell_type": "markdown",
      "source": [
        "---\n",
        "\n",
        "Magnetic resonance (MR) imaging of the knee is the standard of care imaging modality to evaluate knee disorders, and more musculoskeletal MR examinations are performed on the knee than on any other region of the body.\n",
        "\n",
        "---\n",
        "\n",
        "We will be implementing deep learning baselines for detecting general abnormalities and specific diagnoses (anterior cruciate ligament [ACL] tears and meniscal tears) on knee MRI exams.\n",
        "\n",
        "---\n",
        "\n",
        "The most common indications for the knee MRI examinations in this study included acute and chronic pain, follow-up or preoperative evaluation, injury/trauma.\n",
        "\n",
        "---\n",
        "We have used the [MRNet dataset](https://stanfordmlgroup.github.io/competitions/mrnet/)  which consists of 1,370 knee MRI exams performed at Stanford University Medical Center. The dataset contains 1,104 (80.6%) abnormal exams, with 319 (23.3%) ACL tears and 508 (37.1%) meniscal tears. The labels were obtained through manual extraction from clinical reports.\n",
        "\n",
        "---\n",
        "\n",
        "Examinations were performed with GE scanners (GE Discovery, GE Healthcare, Waukesha, WI) with standard knee MRI coil and a routine non-contrast knee MRI protocol that included the following sequences: coronal T1 weighted, coronal T2 with fat saturation, sagittal proton density (PD) weighted, sagittal T2 with fat saturation, and axial PD weighted with fat saturation. A total of 775 (56.6%) examinations used a 3.0-T magnetic field the remaining used a 1.5-T magnetic field as reported [here](https://stanfordmlgroup.github.io/projects/mrnet/) .\n",
        "\n",
        "For more details refer to the paper related to this study [here](https://journals.plos.org/plosmedicine/article?id=10.1371/journal.pmed.1002699).\n",
        "\n",
        "---\n",
        "\n",
        "Given a MRI scan our deep learning model will be predicting 3 outcomes for knee MRI exams (anterior cruciate ligament [ACL] tears, meniscal tears, and general abnormalities)."
      ],
      "metadata": {
        "id": "dT4KaPSJgPWT"
      }
    },
    {
      "cell_type": "markdown",
      "source": [
        "#### Importing Basic Libraries"
      ],
      "metadata": {
        "id": "gLgaQloxVQNB"
      }
    },
    {
      "cell_type": "code",
      "metadata": {
        "id": "IgsRtqKALAR5"
      },
      "source": [
        "import os\n",
        "import numpy as np\n",
        "from matplotlib import pyplot as plt\n",
        "import math"
      ],
      "execution_count": null,
      "outputs": []
    },
    {
      "cell_type": "code",
      "metadata": {
        "id": "IABg1SuM9wfW"
      },
      "source": [
        "from keras.applications.inception_v3 import InceptionV3\n",
        "from keras.applications.vgg19 import VGG19\n",
        "from keras.preprocessing import image\n",
        "from keras.models import Model, Sequential\n",
        "from keras.layers import Dense, GlobalAveragePooling2D, Dropout, Flatten\n",
        "from keras import backend as K\n",
        "from keras.layers import Input"
      ],
      "execution_count": null,
      "outputs": []
    },
    {
      "cell_type": "markdown",
      "source": [
        "##### Defining Custom Metric for Evaluation"
      ],
      "metadata": {
        "id": "iSYNpSQHwhAj"
      }
    },
    {
      "cell_type": "code",
      "metadata": {
        "id": "NmrsJ-BsjnyH"
      },
      "source": [
        "import keras.backend as K\n",
        "\n",
        "def f1_score(y_true, y_pred):\n",
        "    c1 = K.sum(K.round(K.clip(y_true * y_pred, 0, 1)))\n",
        "    c2 = K.sum(K.round(K.clip(y_pred, 0, 1)))\n",
        "    c3 = K.sum(K.round(K.clip(y_true, 0, 1)))\n",
        "    if c3 == 0.0 :\n",
        "        return 0.0\n",
        "    precision = c1 / c2\n",
        "    recall = c1 / c3\n",
        "    f1_score = 2 * (precision * recall) / (precision + recall)\n",
        "    return f1_score\n",
        "  \n",
        "\n",
        "def f1(y_true, y_pred):\n",
        "    def recall(y_true, y_pred):\n",
        "        true_positives = K.sum(K.round(K.clip(y_true * y_pred, 0, 1)))\n",
        "        possible_positives = K.sum(K.round(K.clip(y_true, 0, 1)))\n",
        "        recall = true_positives / (possible_positives + K.epsilon())\n",
        "        return recall\n",
        "\n",
        "    def precision(y_true, y_pred):\n",
        "        true_positives = K.sum(K.round(K.clip(y_true * y_pred, 0, 1)))\n",
        "        predicted_positives = K.sum(K.round(K.clip(y_pred, 0, 1)))\n",
        "        precision = true_positives / (predicted_positives + K.epsilon())\n",
        "        return precision\n",
        "    precision = precision(y_true, y_pred)\n",
        "    recall = recall(y_true, y_pred)\n",
        "    return 2*((precision*recall)/(precision+recall+K.epsilon()))"
      ],
      "execution_count": null,
      "outputs": []
    },
    {
      "cell_type": "markdown",
      "source": [
        "##Loading Files for loading Different Planes of Scans of Dataset\n",
        "As we know from EDA Notebook this dataset has 3 views of Knee since datset has MRI scans namely -\n",
        "\n",
        "*   Axial\n",
        "*   Coronal\n",
        "*   Sagittal"
      ],
      "metadata": {
        "id": "6zl48zFBZKST"
      }
    },
    {
      "cell_type": "code",
      "source": [
        "from google.colab import drive\n",
        "drive.mount('/content/drive')"
      ],
      "metadata": {
        "id": "VyF5dHFy5Unq",
        "outputId": "29ffc5a1-17e6-44c7-c16b-8235c656c2b2",
        "colab": {
          "base_uri": "https://localhost:8080/"
        }
      },
      "execution_count": null,
      "outputs": [
        {
          "output_type": "stream",
          "name": "stdout",
          "text": [
            "Drive already mounted at /content/drive; to attempt to forcibly remount, call drive.mount(\"/content/drive\", force_remount=True).\n"
          ]
        }
      ]
    },
    {
      "cell_type": "code",
      "metadata": {
        "id": "U4pEnRbJ8zbJ",
        "outputId": "2f3e65c6-dd24-4635-fc5e-a277298403bb",
        "colab": {
          "base_uri": "https://localhost:8080/"
        }
      },
      "source": [
        "import csv\n",
        "with open(\"/content/drive/MyDrive/Medical/MRNet-v1.0/train-abnormal.csv\") as csv_file:\n",
        "    csv_reader = csv.reader(csv_file)\n",
        "    line_count = 0\n",
        "    trainAb_labels=[]\n",
        "    for row in csv_reader:\n",
        "           trainAb_labels.append(int(row[1]))\n",
        "print(trainAb_labels)\n",
        "trainAb_labels= np.array(trainAb_labels)\n",
        "print(len(trainAb_labels))\n",
        "\n",
        "with open(\"/content/drive/MyDrive/Medical/MRNet-v1.0/train-acl.csv\") as csv_file:\n",
        "    csv_reader = csv.reader(csv_file)\n",
        "    line_count = 0\n",
        "    trainACL_labels=[]\n",
        "    for row in csv_reader:\n",
        "           trainACL_labels.append(int(row[1]))\n",
        "print(trainAb_labels)\n",
        "trainACL_labels= np.array(trainACL_labels)\n",
        "print(len(trainACL_labels))\n",
        "\n",
        "\n",
        "with open(\"/content/drive/MyDrive/Medical/MRNet-v1.0/train-meniscus.csv\") as csv_file:\n",
        "    csv_reader = csv.reader(csv_file)\n",
        "    line_count = 0\n",
        "    trainMen_labels=[]\n",
        "    for row in csv_reader:\n",
        "           trainMen_labels.append(int(row[1]))\n",
        "print(trainMen_labels)\n",
        "trainAb_labels= np.array(trainMen_labels)\n",
        "print(len(trainMen_labels))\n",
        "\n",
        "with open(\"/content/drive/MyDrive/Medical/MRNet-v1.0/valid-abnormal.csv\") as csv_file:\n",
        "    csv_reader = csv.reader(csv_file)\n",
        "    line_count = 0\n",
        "    testAb_labels=[]\n",
        "    for row in csv_reader:\n",
        "           testAb_labels.append(int(row[1]))\n",
        "print(testAb_labels)\n",
        "testAb_labels= np.array(testAb_labels)\n",
        "print(len(testAb_labels))\n",
        "\n",
        "with open(\"/content/drive/MyDrive/Medical/MRNet-v1.0/valid-acl.csv\") as csv_file:\n",
        "    csv_reader = csv.reader(csv_file)\n",
        "    line_count = 0\n",
        "    testACL_labels=[]\n",
        "    for row in csv_reader:\n",
        "           testACL_labels.append(int(row[1]))\n",
        "print(testACL_labels)\n",
        "testACL_labels= np.array(testACL_labels)\n",
        "print(len(testACL_labels))\n",
        "\n",
        "\n",
        "with open(\"/content/drive/MyDrive/Medical/MRNet-v1.0/valid-meniscus.csv\") as csv_file:\n",
        "    csv_reader = csv.reader(csv_file)\n",
        "    line_count = 0\n",
        "    testMen_labels=[]\n",
        "    for row in csv_reader:\n",
        "           testMen_labels.append(int(row[1]))\n",
        "print(testMen_labels)\n",
        "testMen_labels= np.array(testMen_labels)\n",
        "print(len(testMen_labels))"
      ],
      "execution_count": null,
      "outputs": [
        {
          "output_type": "stream",
          "name": "stdout",
          "text": [
            "[1, 1, 1, 1, 1, 1, 1, 1, 1, 1, 1, 0, 0, 1, 0, 1, 1, 0, 1, 1, 1, 0, 1, 0, 1, 0, 0, 1, 1, 1, 1, 1, 1, 1, 1, 1, 1, 1, 1, 1, 0, 1, 1, 1, 0, 1, 1, 1, 0, 1, 1, 1, 1, 0, 1, 1, 1, 1, 1, 1, 0, 1, 1, 1, 1, 1, 0, 1, 1, 1, 1, 1, 1, 1, 0, 1, 1, 0, 1, 1, 1, 1, 0, 1, 1, 1, 1, 1, 1, 1, 1, 1, 1, 1, 1, 1, 0, 1, 1, 0, 1, 1, 1, 1, 1, 1, 0, 1, 1, 1, 0, 1, 1, 1, 1, 1, 1, 0, 0, 1, 0, 1, 0, 0, 1, 1, 1, 0, 0, 1, 1, 0, 1, 1, 1, 1, 1, 1, 1, 1, 1, 1, 1, 0, 0, 1, 1, 1, 1, 0, 1, 1, 1, 0, 1, 1, 1, 1, 1, 1, 1, 1, 1, 1, 1, 1, 1, 1, 1, 1, 0, 1, 1, 1, 1, 1, 1, 0, 1, 1, 1, 0, 1, 1, 1, 1, 1, 1, 1, 1, 1, 1, 1, 1, 1, 1, 1, 1, 1, 1, 1, 1, 1, 1, 1, 1, 1, 1, 1, 1, 0, 1, 1, 1, 0, 1, 1, 1, 1, 1, 1, 1, 0, 1, 1, 0, 1, 0, 0, 1, 0, 1, 1, 1, 1, 1, 1, 1, 0, 0, 1, 1, 1, 0, 0, 0, 1, 1, 1, 1, 1, 1, 0, 1, 1, 1, 0, 1, 0, 1, 1, 1, 1, 1, 1, 1, 1, 0, 0, 1, 1, 1, 0, 1, 1, 1, 1, 1, 1, 1, 1, 1, 1, 0, 1, 1, 1, 1, 1, 1, 1, 0, 1, 1, 1, 1, 0, 1, 1, 0, 1, 1, 1, 1, 1, 1, 0, 1, 1, 1, 1, 1, 1, 1, 1, 1, 1, 1, 1, 1, 1, 1, 1, 1, 1, 1, 1, 1, 1, 1, 1, 1, 1, 1, 1, 1, 1, 0, 1, 1, 1, 1, 0, 1, 1, 1, 1, 1, 1, 1, 1, 1, 1, 1, 1, 1, 1, 1, 1, 1, 1, 1, 0, 0, 1, 1, 1, 1, 1, 1, 1, 1, 0, 1, 1, 1, 1, 0, 1, 1, 1, 0, 1, 1, 0, 1, 1, 0, 1, 1, 1, 1, 1, 1, 1, 1, 1, 1, 1, 1, 0, 1, 1, 1, 0, 1, 0, 1, 1, 0, 0, 1, 1, 1, 1, 0, 1, 1, 1, 1, 0, 1, 1, 1, 1, 0, 1, 1, 0, 1, 0, 1, 1, 1, 0, 0, 1, 0, 1, 0, 1, 1, 0, 1, 1, 1, 1, 1, 1, 1, 0, 1, 1, 1, 1, 1, 1, 1, 1, 0, 0, 0, 0, 1, 1, 0, 0, 0, 1, 1, 1, 1, 0, 0, 1, 0, 0, 0, 1, 1, 1, 1, 1, 1, 1, 1, 1, 1, 1, 1, 1, 0, 0, 1, 1, 0, 1, 1, 1, 0, 1, 1, 1, 0, 0, 1, 1, 1, 1, 0, 1, 1, 1, 1, 1, 0, 1, 1, 1, 1, 1, 1, 1, 1, 1, 0, 1, 1, 1, 1, 1, 1, 0, 0, 1, 1, 1, 1, 1, 1, 1, 1, 0, 1, 1, 1, 1, 1, 0, 0, 1, 1, 1, 1, 1, 1, 1, 1, 0, 1, 1, 1, 1, 0, 1, 0, 1, 1, 1, 1, 1, 0, 1, 1, 1, 1, 1, 1, 1, 1, 0, 1, 1, 0, 1, 1, 1, 1, 0, 0, 1, 1, 1, 1, 1, 1, 1, 0, 1, 0, 0, 1, 1, 1, 1, 1, 1, 1, 0, 1, 1, 1, 1, 1, 1, 1, 1, 1, 1, 1, 1, 0, 1, 1, 1, 0, 1, 1, 1, 1, 1, 1, 1, 1, 0, 1, 1, 0, 1, 1, 1, 0, 1, 1, 0, 1, 1, 1, 1, 1, 1, 1, 1, 1, 1, 1, 1, 1, 0, 1, 1, 1, 1, 1, 1, 1, 1, 1, 1, 1, 1, 0, 1, 1, 0, 0, 1, 1, 0, 1, 1, 1, 1, 1, 1, 0, 1, 1, 1, 0, 1, 1, 1, 1, 1, 1, 1, 1, 1, 1, 0, 1, 1, 0, 1, 1, 1, 1, 1, 1, 1, 0, 0, 1, 1, 1, 1, 1, 1, 1, 1, 1, 1, 1, 1, 1, 1, 0, 1, 1, 1, 1, 1, 1, 1, 1, 1, 1, 1, 1, 1, 1, 1, 1, 0, 1, 1, 1, 1, 1, 1, 1, 1, 1, 1, 1, 1, 1, 1, 0, 1, 1, 1, 1, 1, 1, 1, 1, 1, 1, 1, 1, 0, 1, 1, 1, 1, 0, 1, 1, 1, 1, 1, 1, 1, 1, 0, 1, 0, 1, 1, 1, 1, 1, 1, 1, 1, 0, 1, 0, 1, 1, 0, 1, 1, 1, 0, 0, 0, 1, 1, 1, 1, 0, 1, 1, 1, 1, 0, 1, 0, 0, 1, 0, 0, 0, 1, 1, 1, 1, 1, 1, 1, 1, 1, 1, 1, 1, 1, 1, 1, 0, 1, 1, 1, 0, 1, 1, 1, 1, 1, 1, 1, 1, 1, 1, 1, 1, 0, 0, 0, 1, 1, 1, 1, 1, 0, 0, 0, 1, 1, 1, 0, 1, 0, 1, 1, 1, 0, 0, 1, 1, 1, 0, 1, 1, 0, 1, 1, 1, 1, 1, 1, 1, 0, 1, 1, 1, 1, 1, 1, 1, 1, 1, 0, 1, 1, 1, 1, 1, 1, 1, 1, 1, 1, 1, 1, 1, 1, 1, 1, 1, 1, 1, 0, 1, 0, 1, 1, 1, 1, 1, 1, 1, 0, 1, 1, 0, 1, 1, 1, 1, 1, 1, 0, 1, 1, 0, 1, 1, 1, 1, 1, 1, 1, 1, 1, 1, 1, 0, 0, 1, 1, 1, 1, 1, 1, 1, 1, 1, 1, 1, 1, 1, 1, 1, 1, 1, 1, 1, 1, 1, 1, 0, 0, 1, 1, 1, 1, 1, 1, 1, 0, 1, 1, 1, 1, 0, 0, 1, 0, 1, 1, 0, 1, 0, 0, 0, 0, 1, 1, 0, 1, 1, 1, 1, 1, 1, 1, 0, 0, 0, 1, 1, 0, 0, 1, 0, 1, 1, 1, 1, 1, 1, 0, 1, 1, 1, 1, 1, 1, 1, 1, 1, 1, 1, 1, 1, 1, 0, 1, 1, 0, 1, 1, 1, 1, 1, 1, 1, 1, 1, 1, 1, 0, 1, 1, 1, 1, 1, 0, 0, 0, 1, 1, 1, 0, 1, 1, 1, 1, 0, 0, 1, 1, 1, 0, 1, 1, 1, 1, 1, 1, 0, 1, 1, 1, 1, 1, 1, 1, 1, 1, 1, 1, 1, 1, 1, 1, 1, 1, 1, 1, 1, 1, 0, 1, 1, 1, 0, 1, 1, 1, 0, 1, 1, 1, 0, 1, 1]\n",
            "1130\n",
            "[1 1 1 ... 0 1 1]\n",
            "1130\n",
            "[0, 1, 0, 1, 0, 1, 0, 0, 0, 0, 1, 0, 0, 0, 0, 0, 1, 0, 1, 1, 1, 0, 1, 0, 0, 0, 0, 1, 1, 0, 1, 0, 1, 1, 0, 1, 1, 1, 1, 1, 0, 0, 1, 1, 0, 1, 0, 0, 0, 1, 0, 0, 1, 0, 1, 0, 0, 1, 0, 1, 0, 0, 0, 1, 0, 0, 0, 1, 0, 0, 1, 0, 1, 0, 0, 0, 0, 0, 1, 1, 1, 0, 0, 0, 1, 0, 0, 0, 1, 1, 1, 1, 1, 0, 1, 0, 0, 0, 1, 0, 0, 0, 0, 0, 1, 1, 0, 0, 1, 1, 0, 1, 0, 1, 0, 0, 1, 0, 0, 1, 0, 0, 0, 0, 0, 1, 1, 0, 0, 0, 1, 0, 0, 0, 0, 0, 0, 1, 1, 0, 1, 0, 1, 0, 0, 0, 0, 1, 0, 0, 1, 0, 1, 0, 1, 1, 0, 1, 0, 1, 0, 0, 1, 0, 0, 0, 0, 0, 1, 0, 0, 0, 0, 0, 1, 0, 1, 0, 1, 1, 1, 0, 1, 1, 0, 0, 1, 0, 1, 0, 0, 1, 0, 0, 1, 0, 1, 0, 1, 0, 0, 0, 0, 1, 1, 0, 0, 0, 1, 0, 0, 0, 0, 0, 0, 1, 0, 1, 0, 0, 1, 0, 0, 0, 0, 0, 0, 0, 0, 0, 0, 1, 0, 0, 1, 1, 0, 0, 0, 0, 1, 0, 0, 0, 0, 0, 0, 0, 1, 0, 0, 1, 0, 1, 0, 0, 0, 0, 0, 1, 1, 0, 0, 1, 0, 1, 0, 0, 0, 0, 1, 0, 0, 0, 0, 0, 0, 1, 0, 0, 1, 1, 0, 0, 0, 1, 0, 0, 0, 0, 0, 0, 0, 0, 1, 0, 0, 0, 1, 0, 0, 0, 1, 1, 0, 1, 0, 0, 0, 0, 0, 1, 1, 1, 1, 1, 1, 0, 1, 1, 1, 1, 0, 1, 1, 1, 1, 1, 1, 1, 0, 1, 1, 1, 0, 0, 0, 0, 0, 0, 1, 0, 0, 1, 1, 0, 0, 1, 1, 0, 1, 0, 0, 0, 0, 1, 1, 0, 0, 0, 1, 1, 0, 0, 0, 0, 0, 0, 1, 0, 1, 0, 0, 1, 1, 0, 0, 0, 1, 0, 1, 0, 1, 1, 0, 1, 1, 0, 1, 0, 0, 0, 1, 0, 0, 0, 0, 1, 0, 0, 0, 0, 0, 0, 0, 0, 0, 1, 1, 0, 0, 0, 0, 0, 1, 0, 1, 1, 0, 1, 0, 1, 0, 1, 0, 0, 1, 0, 0, 1, 0, 1, 1, 1, 0, 0, 0, 0, 0, 0, 0, 1, 0, 0, 1, 0, 1, 1, 0, 0, 0, 0, 1, 0, 0, 0, 1, 1, 1, 0, 0, 0, 0, 1, 0, 0, 0, 0, 0, 1, 1, 0, 0, 0, 1, 0, 0, 0, 1, 0, 0, 0, 1, 0, 0, 0, 0, 1, 1, 1, 1, 0, 0, 0, 1, 0, 0, 0, 0, 0, 1, 1, 1, 0, 0, 0, 1, 1, 1, 0, 0, 1, 0, 0, 0, 0, 0, 1, 1, 0, 0, 0, 1, 0, 1, 0, 1, 0, 1, 0, 1, 1, 0, 0, 0, 1, 0, 0, 0, 0, 0, 0, 0, 1, 1, 0, 1, 1, 0, 0, 0, 1, 0, 1, 1, 0, 0, 1, 0, 0, 0, 1, 0, 0, 1, 0, 0, 0, 0, 1, 1, 0, 1, 1, 0, 1, 0, 1, 0, 1, 0, 1, 1, 0, 0, 1, 1, 0, 0, 0, 0, 0, 0, 0, 1, 0, 1, 0, 0, 0, 0, 1, 1, 0, 1, 1, 0, 1, 0, 0, 0, 0, 0, 0, 0, 0, 0, 1, 0, 1, 1, 0, 0, 0, 1, 0, 0, 0, 1, 1, 0, 1, 0, 1, 0, 1, 1, 0, 0, 0, 0, 0, 0, 0, 0, 1, 1, 0, 1, 1, 0, 0, 0, 0, 1, 1, 0, 1, 0, 0, 1, 1, 1, 0, 0, 0, 1, 0, 0, 0, 0, 0, 1, 0, 0, 0, 0, 1, 0, 1, 1, 0, 0, 1, 0, 0, 0, 1, 1, 0, 0, 1, 1, 1, 0, 0, 0, 0, 1, 1, 0, 1, 0, 0, 0, 0, 0, 1, 1, 0, 0, 0, 0, 0, 0, 0, 1, 0, 1, 0, 1, 1, 0, 1, 1, 0, 1, 0, 0, 0, 0, 0, 0, 0, 0, 0, 1, 0, 0, 0, 1, 0, 1, 0, 0, 0, 0, 0, 0, 1, 1, 1, 1, 1, 0, 0, 0, 0, 0, 0, 1, 1, 0, 0, 0, 0, 1, 0, 1, 1, 0, 0, 0, 1, 0, 1, 1, 0, 1, 1, 0, 0, 0, 1, 1, 1, 0, 0, 0, 0, 0, 1, 0, 1, 0, 0, 0, 0, 0, 0, 0, 0, 0, 0, 0, 0, 0, 0, 0, 0, 1, 0, 1, 0, 0, 0, 0, 1, 0, 0, 0, 0, 1, 0, 0, 0, 0, 0, 0, 0, 1, 0, 0, 1, 0, 1, 0, 0, 0, 0, 0, 0, 1, 1, 0, 0, 1, 1, 0, 0, 0, 0, 0, 1, 1, 0, 0, 1, 0, 0, 0, 0, 1, 1, 1, 0, 0, 0, 0, 0, 1, 1, 0, 0, 0, 0, 0, 0, 0, 0, 0, 1, 0, 0, 1, 1, 0, 1, 0, 0, 1, 1, 1, 0, 0, 1, 0, 1, 0, 0, 1, 0, 1, 0, 0, 0, 0, 0, 0, 1, 1, 0, 1, 1, 1, 0, 1, 0, 0, 1, 1, 0, 1, 1, 0, 0, 0, 1, 0, 0, 0, 1, 1, 0, 0, 0, 0, 0, 1, 0, 0, 1, 0, 0, 0, 1, 0, 0, 0, 0, 1, 0, 0, 0, 0, 1, 0, 0, 0, 0, 0, 1, 0, 1, 1, 0, 0, 0, 0, 1, 1, 0, 1, 0, 0, 0, 0, 1, 1, 0, 1, 0, 1, 0, 0, 1, 0, 0, 0, 1, 1, 0, 0, 1, 1, 0, 0, 0, 0, 1, 0, 1, 1, 0, 0, 0, 0, 0, 0, 0, 1, 0, 0, 0, 1, 0, 0, 0, 0, 0, 0, 0, 0, 0, 0, 0, 1, 0, 1, 0, 1, 1, 0, 0, 0, 0, 0, 1, 1, 0, 0, 1, 0, 0, 0, 0, 0, 0, 0, 0, 0, 1, 0, 1, 0, 0, 1, 1, 0, 1, 0, 1, 1, 0, 0, 1, 0, 0, 1, 0, 0, 0, 0, 0, 0, 0, 0, 1, 1, 0, 1, 0, 0, 1, 0, 1, 0, 0, 1, 0, 1, 0, 0, 0, 0, 0, 1, 0, 0, 0, 1, 1, 1, 0, 0, 1, 0, 1, 1, 0, 1, 1, 1, 0, 0, 0, 1, 1, 0, 0, 1, 0, 0, 0, 0, 1, 1, 0, 0, 0]\n",
            "1130\n",
            "[0, 0, 0, 0, 0, 0, 0, 0, 0, 0, 0, 0, 0, 0, 0, 0, 0, 0, 0, 0, 0, 0, 0, 0, 1, 1, 1, 1, 1, 1, 1, 1, 1, 1, 1, 1, 1, 1, 1, 1, 1, 1, 1, 1, 1, 1, 1, 1, 1, 1, 1, 1, 1, 1, 1, 1, 1, 1, 1, 1, 1, 1, 1, 1, 1, 1, 1, 1, 1, 1, 1, 1, 1, 1, 1, 1, 1, 1, 1, 1, 1, 1, 1, 1, 1, 1, 1, 0, 1, 1, 1, 1, 1, 1, 1, 1, 1, 1, 1, 1, 1, 1, 1, 1, 1, 1, 1, 1, 1, 1, 1, 1, 1, 1, 1, 1, 1, 1, 1, 1]\n",
            "120\n",
            "[0, 0, 0, 0, 0, 0, 0, 0, 0, 0, 0, 0, 0, 0, 0, 0, 0, 0, 0, 0, 0, 0, 0, 0, 0, 0, 0, 0, 0, 0, 0, 0, 0, 0, 0, 0, 0, 0, 0, 0, 0, 0, 1, 1, 1, 1, 1, 1, 1, 1, 0, 1, 1, 1, 1, 1, 1, 1, 1, 0, 1, 1, 1, 1, 1, 1, 1, 1, 1, 1, 1, 1, 1, 1, 1, 1, 1, 1, 1, 1, 1, 1, 1, 1, 1, 1, 1, 0, 1, 1, 1, 0, 0, 0, 1, 1, 0, 0, 1, 1, 0, 0, 0, 0, 0, 0, 0, 1, 0, 0, 0, 0, 0, 0, 0, 1, 1, 0, 1, 0]\n",
            "120\n",
            "[0, 0, 0, 0, 0, 0, 0, 0, 0, 0, 0, 0, 0, 0, 0, 0, 0, 0, 0, 0, 0, 0, 0, 0, 0, 0, 0, 0, 0, 0, 0, 0, 0, 0, 0, 0, 0, 0, 0, 0, 0, 0, 1, 1, 1, 0, 1, 0, 0, 0, 0, 0, 0, 0, 1, 0, 1, 0, 1, 0, 0, 1, 1, 0, 1, 1, 1, 1, 0, 1, 0, 1, 1, 1, 0, 1, 0, 1, 0, 0, 0, 1, 0, 1, 0, 0, 1, 0, 0, 0, 1, 1, 1, 1, 1, 1, 1, 1, 1, 1, 1, 1, 1, 1, 1, 1, 1, 1, 1, 1, 1, 1, 1, 1, 1, 1, 1, 1, 1, 1]\n",
            "120\n"
          ]
        }
      ]
    },
    {
      "cell_type": "code",
      "metadata": {
        "id": "DzmL2nU9M9wt"
      },
      "source": [
        "train_Ab_pred = []\n",
        "test_Ab_pred = []\n",
        "train_Men_pred = []\n",
        "test_Men_pred = []\n",
        "train_ACL_pred = []\n",
        "test_ACL_pred = []"
      ],
      "execution_count": null,
      "outputs": []
    },
    {
      "cell_type": "markdown",
      "metadata": {
        "id": "HpaCqxa5Lji9"
      },
      "source": [
        "##AxialPlane Scans"
      ]
    },
    {
      "cell_type": "markdown",
      "metadata": {
        "id": "AUmEt_uPNA7K"
      },
      "source": [
        "###Reading train & test data"
      ]
    },
    {
      "cell_type": "code",
      "metadata": {
        "id": "xvMN_V8lKfA4",
        "outputId": "e84a0875-cbdb-492d-fa73-3fbe7d9bf0a3",
        "colab": {
          "base_uri": "https://localhost:8080/"
        }
      },
      "source": [
        "\n",
        "axial_dir = os.listdir(\"/content/drive/MyDrive/Medical/MRNet-v1.0/train/axial/\")\n",
        "axial_dir = [f.lower() for f in axial_dir]   \n",
        "a=sorted(axial_dir)\n",
        "axial_list=np.array(a)\n",
        "axial_reloaded=[]\n",
        "\n",
        "print(axial_list.shape)\n",
        "for j in range(1,1131):\n",
        "    file= \"/content/drive/MyDrive/Medical/MRNet-v1.0/train/axial/\"+axial_list[j]    \n",
        "    axial_reloaded.append(np.load(file,allow_pickle='false'))   \n",
        "\n",
        "axial_reloaded=np.array(axial_reloaded)\n",
        "\n",
        "print(axial_reloaded.shape)\n",
        "s=axial_reloaded.shape\n",
        "print(axial_reloaded[0].shape[0])\n",
        "\n",
        "train_axial=[]\n",
        "\n",
        "print(len(axial_reloaded))\n",
        "\n",
        "for j in range(len(axial_reloaded)):\n",
        "    mid=math.floor((axial_reloaded[j].shape[0])/2)\n",
        "    train_axial.append([])    \n",
        "\n",
        "    for n in range(mid-1,mid+2):\n",
        "         train_axial[j].append(axial_reloaded[j][n])\n",
        "train_axial=np.array(train_axial)\n",
        "train_axial=np.reshape(train_axial,(1130,256,256,3))\n",
        "print(train_axial.shape)\n",
        "\n",
        "axial_dir = os.listdir(\"/content/drive/MyDrive/Medical/MRNet-v1.0/valid/axial/\")\n",
        "axial_dir = [f.lower() for f in axial_dir]   \n",
        "a=sorted(axial_dir)\n",
        "axialTest_list=np.array(a)\n",
        "axialTest_reloaded=[]\n",
        "\n",
        "print(axialTest_list.shape)\n",
        "\n",
        "for j in range(0,120):\n",
        "    file= \"/content/drive/MyDrive/Medical/MRNet-v1.0/valid/axial/\"+axialTest_list[j]\n",
        "    axialTest_reloaded.append(np.load(file,allow_pickle='false'))   \n",
        "\n",
        "axialTest_reloaded=np.array(axialTest_reloaded)\n",
        "\n",
        "print(axialTest_reloaded.shape)\n",
        "\n",
        "s=axialTest_reloaded.shape\n",
        "print(axialTest_reloaded[0].shape[0])\n",
        "\n",
        "test_axial=[]\n",
        "\n",
        "print(len(axialTest_reloaded))\n",
        "\n",
        "for j in range(len(axialTest_reloaded)):\n",
        "    mid=math.floor((axialTest_reloaded[j].shape[0])/2)\n",
        "    test_axial.append([])    \n",
        "\n",
        "    for n in range(mid-1,mid+2):\n",
        "         test_axial[j].append(axialTest_reloaded[j][n])\n",
        "test_axial=np.array(test_axial)\n",
        "test_axial=np.reshape(test_axial,(120,256,256,3))\n",
        "print(test_axial.shape)"
      ],
      "execution_count": null,
      "outputs": [
        {
          "output_type": "stream",
          "name": "stdout",
          "text": [
            "(1131,)\n"
          ]
        }
      ]
    },
    {
      "cell_type": "markdown",
      "metadata": {
        "id": "JLywW23cJSWb"
      },
      "source": [
        "#### Finetuning ResNet50 Model for Axial Plane Scanes checking for Meniscus Condition"
      ]
    },
    {
      "cell_type": "code",
      "metadata": {
        "id": "FwBkOdWI_tjx",
        "outputId": "2a6e18f7-6f2f-4187-d4e1-977cbbcb5a7f",
        "colab": {
          "base_uri": "https://localhost:8080/"
        }
      },
      "source": [
        "input_tensor = Input(shape=(256, 256,3))  \n",
        "base_model_ax_men = VGG16(input_tensor=input_tensor, weights='imagenet', include_top=False)\n",
        "print(len(base_model_ax_men.layers))"
      ],
      "execution_count": null,
      "outputs": [
        {
          "output_type": "stream",
          "name": "stdout",
          "text": [
            "Downloading data from https://storage.googleapis.com/tensorflow/keras-applications/vgg16/vgg16_weights_tf_dim_ordering_tf_kernels_notop.h5\n",
            "58892288/58889256 [==============================] - 0s 0us/step\n",
            "58900480/58889256 [==============================] - 0s 0us/step\n",
            "19\n"
          ]
        }
      ]
    },
    {
      "cell_type": "code",
      "metadata": {
        "id": "uzEJBpRkUYX7"
      },
      "source": [
        "x = base_model_ax_men.output\n",
        "x = GlobalAveragePooling2D()(x)\n",
        "x=Dropout(0.2)(x)\n",
        "x = Dense(1024, activation='relu')(x)\n",
        "x=Dropout(0.2)(x)\n",
        "x=Dropout(0.2)(x)\n",
        "predictions = Dense(1, activation='sigmoid')(x)\n",
        "model = Model(inputs=base_model_ax_men.input,outputs=predictions)"
      ],
      "execution_count": null,
      "outputs": []
    },
    {
      "cell_type": "code",
      "metadata": {
        "id": "uPoHK2f3r1ul"
      },
      "source": [
        "for layer in model.layers[:15]:\n",
        "   layer.trainable = True\n",
        "for layer in model.layers[15:]:\n",
        "  layer.trainable = False"
      ],
      "execution_count": null,
      "outputs": []
    },
    {
      "cell_type": "code",
      "source": [
        "trainMen_labels = np.array(trainMen_labels)"
      ],
      "metadata": {
        "id": "YfZte1bG7wxv"
      },
      "execution_count": null,
      "outputs": []
    },
    {
      "cell_type": "code",
      "source": [
        "from tensorflow.keras.callbacks import EarlyStopping\n",
        "from tensorflow.keras.optimizers import SGD"
      ],
      "metadata": {
        "id": "CjTKu3t0EK5W"
      },
      "execution_count": null,
      "outputs": []
    },
    {
      "cell_type": "code",
      "metadata": {
        "id": "btpx20hvfyuv",
        "outputId": "a73ab664-04fb-462b-bf6a-0c23f44179fb",
        "colab": {
          "base_uri": "https://localhost:8080/"
        }
      },
      "source": [
        "early_stopping_monitor = EarlyStopping(patience=10)    \n",
        "model.compile(optimizer=SGD(lr=0.001,momentum=0.9), loss='binary_crossentropy',metrics=['accuracy', f1_score])\n",
        "history=model.fit(train_axial ,trainMen_labels, validation_split=0.05,shuffle=True ,epochs=100, callbacks=[early_stopping_monitor], batch_size = 16)"
      ],
      "execution_count": null,
      "outputs": [
        {
          "output_type": "stream",
          "name": "stderr",
          "text": [
            "/usr/local/lib/python3.7/dist-packages/keras/optimizer_v2/gradient_descent.py:102: UserWarning: The `lr` argument is deprecated, use `learning_rate` instead.\n",
            "  super(SGD, self).__init__(name, **kwargs)\n"
          ]
        },
        {
          "output_type": "stream",
          "name": "stdout",
          "text": [
            "Epoch 1/100\n",
            "68/68 [==============================] - 59s 613ms/step - loss: 0.8385 - accuracy: 0.5862 - f1_score: nan - val_loss: 0.6708 - val_accuracy: 0.6140 - val_f1_score: nan\n",
            "Epoch 2/100\n",
            "68/68 [==============================] - 38s 554ms/step - loss: 0.6576 - accuracy: 0.6291 - f1_score: nan - val_loss: 0.6608 - val_accuracy: 0.6140 - val_f1_score: nan\n",
            "Epoch 3/100\n",
            "68/68 [==============================] - 38s 555ms/step - loss: 0.6471 - accuracy: 0.6459 - f1_score: nan - val_loss: 0.6453 - val_accuracy: 0.6140 - val_f1_score: nan\n",
            "Epoch 4/100\n",
            "68/68 [==============================] - 38s 554ms/step - loss: 0.6380 - accuracy: 0.6486 - f1_score: nan - val_loss: 0.6354 - val_accuracy: 0.6140 - val_f1_score: nan\n",
            "Epoch 5/100\n",
            "68/68 [==============================] - 38s 552ms/step - loss: 0.6272 - accuracy: 0.6524 - f1_score: nan - val_loss: 0.6293 - val_accuracy: 0.6140 - val_f1_score: nan\n",
            "Epoch 6/100\n",
            "68/68 [==============================] - 37s 551ms/step - loss: 0.6239 - accuracy: 0.6589 - f1_score: nan - val_loss: 0.6319 - val_accuracy: 0.6140 - val_f1_score: nan\n",
            "Epoch 7/100\n",
            "68/68 [==============================] - 37s 551ms/step - loss: 0.5994 - accuracy: 0.6570 - f1_score: nan - val_loss: 0.6104 - val_accuracy: 0.6140 - val_f1_score: nan\n",
            "Epoch 8/100\n",
            "68/68 [==============================] - 37s 551ms/step - loss: 0.5712 - accuracy: 0.6719 - f1_score: nan - val_loss: 0.6232 - val_accuracy: 0.6316 - val_f1_score: nan\n",
            "Epoch 9/100\n",
            "68/68 [==============================] - 37s 551ms/step - loss: 0.5944 - accuracy: 0.6710 - f1_score: nan - val_loss: 0.6040 - val_accuracy: 0.6316 - val_f1_score: nan\n",
            "Epoch 10/100\n",
            "68/68 [==============================] - 38s 552ms/step - loss: 0.5731 - accuracy: 0.6747 - f1_score: nan - val_loss: 0.6042 - val_accuracy: 0.6140 - val_f1_score: nan\n",
            "Epoch 11/100\n",
            "68/68 [==============================] - 37s 551ms/step - loss: 0.5732 - accuracy: 0.6878 - f1_score: nan - val_loss: 0.6199 - val_accuracy: 0.6140 - val_f1_score: nan\n",
            "Epoch 12/100\n",
            "68/68 [==============================] - 38s 552ms/step - loss: 0.5577 - accuracy: 0.6841 - f1_score: nan - val_loss: 0.5964 - val_accuracy: 0.7193 - val_f1_score: 0.6107\n",
            "Epoch 13/100\n",
            "68/68 [==============================] - 37s 551ms/step - loss: 0.5485 - accuracy: 0.6952 - f1_score: nan - val_loss: 0.5965 - val_accuracy: 0.7193 - val_f1_score: 0.5179\n",
            "Epoch 14/100\n",
            "68/68 [==============================] - 38s 552ms/step - loss: 0.5397 - accuracy: 0.6850 - f1_score: nan - val_loss: 0.5976 - val_accuracy: 0.7544 - val_f1_score: 0.6250\n",
            "Epoch 15/100\n",
            "68/68 [==============================] - 38s 552ms/step - loss: 0.5316 - accuracy: 0.7167 - f1_score: nan - val_loss: 0.6142 - val_accuracy: 0.6667 - val_f1_score: 0.4837\n",
            "Epoch 16/100\n",
            "68/68 [==============================] - 38s 552ms/step - loss: 0.5338 - accuracy: 0.7055 - f1_score: nan - val_loss: 0.6063 - val_accuracy: 0.7018 - val_f1_score: 0.6173\n",
            "Epoch 17/100\n",
            "68/68 [==============================] - 38s 552ms/step - loss: 0.5356 - accuracy: 0.6925 - f1_score: nan - val_loss: 0.6011 - val_accuracy: 0.7544 - val_f1_score: 0.6478\n",
            "Epoch 18/100\n",
            "68/68 [==============================] - 38s 552ms/step - loss: 0.5188 - accuracy: 0.7111 - f1_score: nan - val_loss: 0.6291 - val_accuracy: 0.7368 - val_f1_score: 0.6199\n",
            "Epoch 19/100\n",
            "68/68 [==============================] - 38s 552ms/step - loss: 0.5066 - accuracy: 0.7158 - f1_score: nan - val_loss: 0.6377 - val_accuracy: 0.7368 - val_f1_score: 0.6278\n",
            "Epoch 20/100\n",
            "68/68 [==============================] - 38s 552ms/step - loss: 0.5007 - accuracy: 0.7213 - f1_score: nan - val_loss: 0.6575 - val_accuracy: 0.6667 - val_f1_score: 0.4686\n",
            "Epoch 21/100\n",
            "68/68 [==============================] - 38s 552ms/step - loss: 0.5038 - accuracy: 0.7297 - f1_score: nan - val_loss: 0.6142 - val_accuracy: 0.7544 - val_f1_score: 0.6429\n",
            "Epoch 22/100\n",
            "68/68 [==============================] - 38s 552ms/step - loss: 0.5006 - accuracy: 0.7279 - f1_score: nan - val_loss: 0.6138 - val_accuracy: 0.8070 - val_f1_score: 0.6877\n"
          ]
        }
      ]
    },
    {
      "cell_type": "markdown",
      "metadata": {
        "id": "4LHGDU-xtbvJ"
      },
      "source": [
        "####Plotting accuracy of both training and validation sets per epoch."
      ]
    },
    {
      "cell_type": "code",
      "metadata": {
        "id": "eJh9LZBSrfij",
        "colab": {
          "base_uri": "https://localhost:8080/",
          "height": 295
        },
        "outputId": "2f1be9e7-40bd-439a-d707-4fa6499947c0"
      },
      "source": [
        "p = np.array(model.predict(train_axial))\n",
        "train_Men_pred.append(p)\n",
        "p = np.array(model.predict(test_axial))\n",
        "test_Men_pred.append(p)\n",
        "plt.plot(history.history['accuracy'])\n",
        "plt.plot(history.history['val_accuracy'])\n",
        "plt.plot(history.history['f1_score'])\n",
        "plt.title('model accuracy')\n",
        "plt.ylabel('accuracy')\n",
        "plt.xlabel('epoch')\n",
        "plt.legend(['train', 'test', 'f1score'], loc='upper left')\n",
        "plt.grid() \n",
        "plt.show()"
      ],
      "execution_count": null,
      "outputs": [
        {
          "output_type": "display_data",
          "data": {
            "image/png": "[encoded data removed]",
            "text/plain": [
              "<Figure size 432x288 with 1 Axes>"
            ]
          },
          "metadata": {
            "needs_background": "light"
          }
        }
      ]
    },
    {
      "cell_type": "markdown",
      "source": [
        "##### Helper function to clear Memory Utilization enabling it to Work in Colab with K80 GPU and standard RAM allowance."
      ],
      "metadata": {
        "id": "fZ5xHX9YuhtR"
      }
    },
    {
      "cell_type": "code",
      "source": [
        "import gc\n",
        "def clean_up(model):\n",
        "    K.clear_session()\n",
        "    del model\n",
        "    gc.collect() #garbage collection\n",
        "    print(\"...Finished clean up...\")"
      ],
      "metadata": {
        "id": "Y7lPq_uhdGAn"
      },
      "execution_count": null,
      "outputs": []
    },
    {
      "cell_type": "code",
      "source": [
        "filename = '/content/drive/MyDrive/Medical/MRNET MODEL/modelvgg1.h5'\n",
        "model.save(filename)\n",
        "print('>Saved %s' % filename)\n",
        "clean_up(model=model)"
      ],
      "metadata": {
        "colab": {
          "base_uri": "https://localhost:8080/"
        },
        "id": "VWbftECScuC6",
        "outputId": "fb051ced-dab3-44ab-fcfc-a3360b90ac11"
      },
      "execution_count": null,
      "outputs": [
        {
          "output_type": "stream",
          "name": "stdout",
          "text": [
            ">Saved /content/drive/MyDrive/Medical/MRNET MODEL/modelvgg1.h5\n",
            "...Finished clean up...\n"
          ]
        }
      ]
    },
    {
      "cell_type": "markdown",
      "metadata": {
        "id": "wmZf2R0ezncx"
      },
      "source": [
        "#### Finetuning VGG16 Model for Axial Plane Scanes checking for ACL Condition"
      ]
    },
    {
      "cell_type": "code",
      "metadata": {
        "id": "W91sxbOZzgVF"
      },
      "source": [
        "input_tensor = Input(shape=(256, 256,3))  \n",
        "base_model_ax_ACL = VGG16(input_tensor=input_tensor, weights='imagenet', include_top=False)"
      ],
      "execution_count": null,
      "outputs": []
    },
    {
      "cell_type": "code",
      "metadata": {
        "id": "yEnh6bpQzw0s"
      },
      "source": [
        "x = base_model_ax_ACL.output\n",
        "x = GlobalAveragePooling2D()(x)\n",
        "x=Dropout(0.2)(x)\n",
        "x = Dense(1024, activation='relu')(x)\n",
        "x=Dropout(0.2)(x)\n",
        "x=Dropout(0.2)(x)\n",
        "predictions = Dense(1, activation='sigmoid')(x)\n",
        "model2 = Model(inputs=base_model_ax_ACL.input,outputs=predictions)"
      ],
      "execution_count": null,
      "outputs": []
    },
    {
      "cell_type": "code",
      "metadata": {
        "id": "Qcy9VIrbz0uS"
      },
      "source": [
        "for layer in model2.layers[:15]:\n",
        "   layer.trainable = True\n",
        "for layer in model2.layers[15:]:\n",
        "  layer.trainable = False"
      ],
      "execution_count": null,
      "outputs": []
    },
    {
      "cell_type": "code",
      "metadata": {
        "id": "K5bkMw8rz53v",
        "colab": {
          "base_uri": "https://localhost:8080/"
        },
        "outputId": "a65ce335-1986-4522-c537-7b7c1f8eb0e0"
      },
      "source": [
        "early_stopping_monitor = EarlyStopping(patience=10)    \n",
        "model2.compile(optimizer=SGD(lr=0.001,momentum=0.9), loss='binary_crossentropy',metrics=['accuracy',f1_score])\n",
        "history2=model2.fit(train_axial ,trainACL_labels, validation_split=0.05,shuffle=True ,epochs=100, callbacks=[early_stopping_monitor], batch_size = 20)\n"
      ],
      "execution_count": null,
      "outputs": [
        {
          "output_type": "stream",
          "name": "stdout",
          "text": [
            "Epoch 1/100\n"
          ]
        },
        {
          "output_type": "stream",
          "name": "stderr",
          "text": [
            "/usr/local/lib/python3.7/dist-packages/keras/optimizer_v2/gradient_descent.py:102: UserWarning: The `lr` argument is deprecated, use `learning_rate` instead.\n",
            "  super(SGD, self).__init__(name, **kwargs)\n"
          ]
        },
        {
          "output_type": "stream",
          "name": "stdout",
          "text": [
            "54/54 [==============================] - 61s 990ms/step - loss: 0.6492 - accuracy: 0.7558 - f1_score: nan - val_loss: 0.4591 - val_accuracy: 0.8421 - val_f1_score: nan\n",
            "Epoch 2/100\n",
            "54/54 [==============================] - 46s 845ms/step - loss: 0.5229 - accuracy: 0.7968 - f1_score: nan - val_loss: 0.4350 - val_accuracy: 0.8421 - val_f1_score: nan\n",
            "Epoch 3/100\n",
            "54/54 [==============================] - 46s 844ms/step - loss: 0.4963 - accuracy: 0.8024 - f1_score: nan - val_loss: 0.4253 - val_accuracy: 0.8421 - val_f1_score: nan\n",
            "Epoch 4/100\n",
            "54/54 [==============================] - 46s 844ms/step - loss: 0.4985 - accuracy: 0.8080 - f1_score: nan - val_loss: 0.4436 - val_accuracy: 0.8421 - val_f1_score: nan\n",
            "Epoch 5/100\n",
            "54/54 [==============================] - 46s 843ms/step - loss: 0.4861 - accuracy: 0.8136 - f1_score: nan - val_loss: 0.3998 - val_accuracy: 0.8421 - val_f1_score: nan\n",
            "Epoch 6/100\n",
            "54/54 [==============================] - 46s 844ms/step - loss: 0.4665 - accuracy: 0.8089 - f1_score: nan - val_loss: 0.4350 - val_accuracy: 0.8421 - val_f1_score: nan\n",
            "Epoch 7/100\n",
            "54/54 [==============================] - 46s 844ms/step - loss: 0.4299 - accuracy: 0.8117 - f1_score: nan - val_loss: 0.3982 - val_accuracy: 0.8421 - val_f1_score: nan\n",
            "Epoch 8/100\n",
            "54/54 [==============================] - 46s 845ms/step - loss: 0.4371 - accuracy: 0.8108 - f1_score: nan - val_loss: 0.3719 - val_accuracy: 0.8421 - val_f1_score: nan\n",
            "Epoch 9/100\n",
            "54/54 [==============================] - 46s 847ms/step - loss: 0.4127 - accuracy: 0.8145 - f1_score: nan - val_loss: 0.3580 - val_accuracy: 0.8246 - val_f1_score: nan\n",
            "Epoch 10/100\n",
            "54/54 [==============================] - 46s 847ms/step - loss: 0.3765 - accuracy: 0.8211 - f1_score: nan - val_loss: 0.3507 - val_accuracy: 0.8421 - val_f1_score: nan\n",
            "Epoch 11/100\n",
            "54/54 [==============================] - 46s 847ms/step - loss: 0.4022 - accuracy: 0.8239 - f1_score: nan - val_loss: 0.3670 - val_accuracy: 0.8246 - val_f1_score: nan\n",
            "Epoch 12/100\n",
            "54/54 [==============================] - 46s 846ms/step - loss: 0.4115 - accuracy: 0.8239 - f1_score: nan - val_loss: 0.3521 - val_accuracy: 0.8421 - val_f1_score: nan\n",
            "Epoch 13/100\n",
            "54/54 [==============================] - 46s 847ms/step - loss: 0.3912 - accuracy: 0.8295 - f1_score: nan - val_loss: 0.4246 - val_accuracy: 0.8421 - val_f1_score: nan\n",
            "Epoch 14/100\n",
            "54/54 [==============================] - 46s 848ms/step - loss: 0.3899 - accuracy: 0.8304 - f1_score: nan - val_loss: 0.3342 - val_accuracy: 0.8421 - val_f1_score: nan\n",
            "Epoch 15/100\n",
            "54/54 [==============================] - 46s 847ms/step - loss: 0.3750 - accuracy: 0.8229 - f1_score: nan - val_loss: 0.3400 - val_accuracy: 0.8246 - val_f1_score: nan\n",
            "Epoch 16/100\n",
            "54/54 [==============================] - 46s 848ms/step - loss: 0.3718 - accuracy: 0.8201 - f1_score: nan - val_loss: 0.3540 - val_accuracy: 0.8421 - val_f1_score: nan\n",
            "Epoch 17/100\n",
            "54/54 [==============================] - 46s 846ms/step - loss: 0.3480 - accuracy: 0.8425 - f1_score: nan - val_loss: 0.3681 - val_accuracy: 0.8421 - val_f1_score: nan\n",
            "Epoch 18/100\n",
            "54/54 [==============================] - 46s 847ms/step - loss: 0.3548 - accuracy: 0.8369 - f1_score: nan - val_loss: 0.3354 - val_accuracy: 0.8421 - val_f1_score: nan\n",
            "Epoch 19/100\n",
            "54/54 [==============================] - 46s 848ms/step - loss: 0.3467 - accuracy: 0.8378 - f1_score: nan - val_loss: 0.3288 - val_accuracy: 0.8596 - val_f1_score: nan\n",
            "Epoch 20/100\n",
            "54/54 [==============================] - 46s 848ms/step - loss: 0.3465 - accuracy: 0.8453 - f1_score: nan - val_loss: 0.3506 - val_accuracy: 0.8421 - val_f1_score: nan\n",
            "Epoch 21/100\n",
            "54/54 [==============================] - 46s 847ms/step - loss: 0.3427 - accuracy: 0.8490 - f1_score: nan - val_loss: 0.3308 - val_accuracy: 0.8421 - val_f1_score: nan\n",
            "Epoch 22/100\n",
            "54/54 [==============================] - 46s 848ms/step - loss: 0.3231 - accuracy: 0.8546 - f1_score: nan - val_loss: 0.3640 - val_accuracy: 0.8421 - val_f1_score: nan\n",
            "Epoch 23/100\n",
            "54/54 [==============================] - 46s 848ms/step - loss: 0.3177 - accuracy: 0.8555 - f1_score: nan - val_loss: 0.3371 - val_accuracy: 0.8421 - val_f1_score: nan\n",
            "Epoch 24/100\n",
            "54/54 [==============================] - 46s 849ms/step - loss: 0.3160 - accuracy: 0.8611 - f1_score: nan - val_loss: 0.4652 - val_accuracy: 0.8421 - val_f1_score: nan\n",
            "Epoch 25/100\n",
            "54/54 [==============================] - 46s 847ms/step - loss: 0.3183 - accuracy: 0.8621 - f1_score: nan - val_loss: 0.4684 - val_accuracy: 0.8421 - val_f1_score: nan\n",
            "Epoch 26/100\n",
            "54/54 [==============================] - 46s 849ms/step - loss: 0.3216 - accuracy: 0.8537 - f1_score: nan - val_loss: 0.3208 - val_accuracy: 0.8947 - val_f1_score: nan\n",
            "Epoch 27/100\n",
            "54/54 [==============================] - 46s 848ms/step - loss: 0.3045 - accuracy: 0.8667 - f1_score: nan - val_loss: 0.3448 - val_accuracy: 0.8421 - val_f1_score: nan\n",
            "Epoch 28/100\n",
            "54/54 [==============================] - 46s 848ms/step - loss: 0.2986 - accuracy: 0.8630 - f1_score: nan - val_loss: 0.3186 - val_accuracy: 0.8772 - val_f1_score: 0.5635\n",
            "Epoch 29/100\n",
            "54/54 [==============================] - 46s 848ms/step - loss: 0.2958 - accuracy: 0.8621 - f1_score: nan - val_loss: 0.3381 - val_accuracy: 0.8772 - val_f1_score: nan\n",
            "Epoch 30/100\n",
            "54/54 [==============================] - 46s 848ms/step - loss: 0.2750 - accuracy: 0.8863 - f1_score: nan - val_loss: 0.3222 - val_accuracy: 0.8772 - val_f1_score: nan\n",
            "Epoch 31/100\n",
            "54/54 [==============================] - 46s 848ms/step - loss: 0.2891 - accuracy: 0.8770 - f1_score: nan - val_loss: 0.3501 - val_accuracy: 0.8421 - val_f1_score: nan\n",
            "Epoch 32/100\n",
            "54/54 [==============================] - 46s 848ms/step - loss: 0.2808 - accuracy: 0.8742 - f1_score: nan - val_loss: 0.3132 - val_accuracy: 0.9123 - val_f1_score: 0.6333\n",
            "Epoch 33/100\n",
            "54/54 [==============================] - 46s 849ms/step - loss: 0.2496 - accuracy: 0.8919 - f1_score: nan - val_loss: 0.3690 - val_accuracy: 0.8421 - val_f1_score: nan\n",
            "Epoch 34/100\n",
            "54/54 [==============================] - 46s 849ms/step - loss: 0.2658 - accuracy: 0.8807 - f1_score: nan - val_loss: 0.3836 - val_accuracy: 0.8947 - val_f1_score: nan\n",
            "Epoch 35/100\n",
            "54/54 [==============================] - 46s 848ms/step - loss: 0.2333 - accuracy: 0.8947 - f1_score: nan - val_loss: 0.3096 - val_accuracy: 0.8596 - val_f1_score: 0.5857\n",
            "Epoch 36/100\n",
            "54/54 [==============================] - 46s 848ms/step - loss: 0.2262 - accuracy: 0.9096 - f1_score: nan - val_loss: 0.2983 - val_accuracy: 0.9123 - val_f1_score: 0.6746\n",
            "Epoch 37/100\n",
            "54/54 [==============================] - 46s 848ms/step - loss: 0.2255 - accuracy: 0.8975 - f1_score: nan - val_loss: 0.3780 - val_accuracy: 0.8947 - val_f1_score: nan\n",
            "Epoch 38/100\n",
            "54/54 [==============================] - 46s 848ms/step - loss: 0.1973 - accuracy: 0.9199 - f1_score: nan - val_loss: 0.4208 - val_accuracy: 0.8421 - val_f1_score: nan\n",
            "Epoch 39/100\n",
            "54/54 [==============================] - 46s 849ms/step - loss: 0.2111 - accuracy: 0.9180 - f1_score: nan - val_loss: 0.3805 - val_accuracy: 0.8596 - val_f1_score: nan\n",
            "Epoch 40/100\n",
            "54/54 [==============================] - 46s 849ms/step - loss: 0.2077 - accuracy: 0.9226 - f1_score: nan - val_loss: 0.3291 - val_accuracy: 0.8596 - val_f1_score: nan\n",
            "Epoch 41/100\n",
            "54/54 [==============================] - 46s 849ms/step - loss: 0.1719 - accuracy: 0.9329 - f1_score: nan - val_loss: 0.5981 - val_accuracy: 0.8421 - val_f1_score: nan\n",
            "Epoch 42/100\n",
            "54/54 [==============================] - 46s 849ms/step - loss: 0.1746 - accuracy: 0.9366 - f1_score: nan - val_loss: 0.3681 - val_accuracy: 0.8947 - val_f1_score: 0.5667\n",
            "Epoch 43/100\n",
            "54/54 [==============================] - 46s 851ms/step - loss: 0.1806 - accuracy: 0.9217 - f1_score: nan - val_loss: 0.3424 - val_accuracy: 0.8772 - val_f1_score: 0.5778\n",
            "Epoch 44/100\n",
            "54/54 [==============================] - 46s 850ms/step - loss: 0.1486 - accuracy: 0.9432 - f1_score: nan - val_loss: 0.5047 - val_accuracy: 0.8772 - val_f1_score: nan\n",
            "Epoch 45/100\n",
            "54/54 [==============================] - 46s 849ms/step - loss: 0.1497 - accuracy: 0.9469 - f1_score: nan - val_loss: 0.3887 - val_accuracy: 0.8947 - val_f1_score: 0.5857\n",
            "Epoch 46/100\n",
            "54/54 [==============================] - 46s 850ms/step - loss: 0.1489 - accuracy: 0.9338 - f1_score: nan - val_loss: 0.5396 - val_accuracy: 0.8596 - val_f1_score: nan\n"
          ]
        }
      ]
    },
    {
      "cell_type": "code",
      "metadata": {
        "id": "0acHIajk0WVz",
        "colab": {
          "base_uri": "https://localhost:8080/",
          "height": 354
        },
        "outputId": "8a4eea99-b290-4348-b565-3156f16bf1bb"
      },
      "source": [
        "p = np.array(model2.predict(train_axial))\n",
        "train_ACL_pred.append(p)\n",
        "p = np.array(model2.predict(test_axial))\n",
        "test_ACL_pred.append(p)                    \n",
        "score2 = model2.evaluate(test_axial ,testACL_labels,verbose=1)       \n",
        "print('Train loss:',score2[0])\n",
        "print('Train accuracy:',score2[1])                                                                \n",
        "plt.figure()\n",
        "plt.grid()                                                                                                     \n",
        "plt.title('Training performance')                          \n",
        "plt.plot(history2.epoch, history2.history['loss'], label='train loss+error')  \n",
        "plt.plot(history2.epoch, history2.history['val_loss'], label='val_error')\n",
        "plt.plot(history2.epoch, history2.history['f1_score'], label='f1_score')\n",
        "plt.legend()"
      ],
      "execution_count": null,
      "outputs": [
        {
          "output_type": "stream",
          "name": "stdout",
          "text": [
            "4/4 [==============================] - 1s 359ms/step - loss: 1.0762 - accuracy: 0.7083 - f1_score: 0.3989\n",
            "Train loss: 1.0762392282485962\n",
            "Train accuracy: 0.7083333134651184\n"
          ]
        },
        {
          "output_type": "execute_result",
          "data": {
            "text/plain": [
              "<matplotlib.legend.Legend at 0x7fe3be262150>"
            ]
          },
          "metadata": {},
          "execution_count": 23
        },
        {
          "output_type": "display_data",
          "data": {
            "image/png": "[encoded data removed]",
            "text/plain": [
              "<Figure size 432x288 with 1 Axes>"
            ]
          },
          "metadata": {
            "needs_background": "light"
          }
        }
      ]
    },
    {
      "cell_type": "code",
      "source": [
        "filename = '/content/drive/MyDrive/Medical/MRNET MODEL/modelVGG162.h5'\n",
        "model2.save(filename)\n",
        "print('>Saved %s' % filename)\n",
        "clean_up(model=model2)"
      ],
      "metadata": {
        "colab": {
          "base_uri": "https://localhost:8080/"
        },
        "id": "9ylqxFhbekCo",
        "outputId": "6ae28c96-d172-4e0d-b979-aa6ca2e05a7a"
      },
      "execution_count": null,
      "outputs": [
        {
          "output_type": "stream",
          "name": "stdout",
          "text": [
            ">Saved /content/drive/MyDrive/Medical/MRNET MODEL/modelVGG162.h5\n",
            "...Finished clean up...\n"
          ]
        }
      ]
    },
    {
      "cell_type": "markdown",
      "metadata": {
        "id": "JIzTeIQJ08Ep"
      },
      "source": [
        "#### Finetuning ResNet50 Model for Axial Plane Scanes checking for Abnormal Condition"
      ]
    },
    {
      "cell_type": "code",
      "metadata": {
        "id": "L-L9iI9z0-wB"
      },
      "source": [
        "input_tensor = Input(shape=(256, 256,3))  \n",
        "base_model_ax_AB = VGG16(input_tensor=input_tensor, weights='imagenet', include_top=False)"
      ],
      "execution_count": null,
      "outputs": []
    },
    {
      "cell_type": "code",
      "metadata": {
        "id": "y2exvZb-19SL"
      },
      "source": [
        "x = base_model_ax_AB.output\n",
        "x = GlobalAveragePooling2D()(x)\n",
        "x=Dropout(0.2)(x)\n",
        "x = Dense(1024, activation='relu')(x)\n",
        "x=Dropout(0.2)(x)\n",
        "x=Dropout(0.2)(x)\n",
        "predictions = Dense(1, activation='sigmoid')(x)\n",
        "model3 = Model(inputs=base_model_ax_AB.input,outputs=predictions)"
      ],
      "execution_count": null,
      "outputs": []
    },
    {
      "cell_type": "code",
      "metadata": {
        "id": "a7mXwAtA2IL0"
      },
      "source": [
        "for layer in model3.layers[:15]:\n",
        "   layer.trainable = True\n",
        "for layer in model3.layers[15:]:\n",
        "  layer.trainable = False"
      ],
      "execution_count": null,
      "outputs": []
    },
    {
      "cell_type": "code",
      "metadata": {
        "id": "gfK3QM3Y2OBx",
        "colab": {
          "base_uri": "https://localhost:8080/"
        },
        "outputId": "e920d46f-bd11-49d6-c3c7-0a1458c3ebcd"
      },
      "source": [
        "early_stopping_monitor = EarlyStopping(patience=10)    \n",
        "model3.compile(optimizer=SGD(lr=0.001,momentum=0.9), loss='binary_crossentropy',metrics=['accuracy',f1_score])\n",
        "history3=model3.fit(train_axial ,trainAb_labels, validation_split=0.05,shuffle=True ,epochs=100, callbacks=[early_stopping_monitor], batch_size = 20)"
      ],
      "execution_count": null,
      "outputs": [
        {
          "output_type": "stream",
          "name": "stdout",
          "text": [
            "Epoch 1/100\n"
          ]
        },
        {
          "output_type": "stream",
          "name": "stderr",
          "text": [
            "/usr/local/lib/python3.7/dist-packages/keras/optimizer_v2/gradient_descent.py:102: UserWarning: The `lr` argument is deprecated, use `learning_rate` instead.\n",
            "  super(SGD, self).__init__(name, **kwargs)\n"
          ]
        },
        {
          "output_type": "stream",
          "name": "stdout",
          "text": [
            "54/54 [==============================] - 47s 851ms/step - loss: 0.7498 - accuracy: 0.6263 - f1_score: nan - val_loss: 0.6541 - val_accuracy: 0.6140 - val_f1_score: nan\n",
            "Epoch 2/100\n",
            "54/54 [==============================] - 46s 845ms/step - loss: 0.6590 - accuracy: 0.6431 - f1_score: nan - val_loss: 0.6634 - val_accuracy: 0.6140 - val_f1_score: nan\n",
            "Epoch 3/100\n",
            "54/54 [==============================] - 46s 846ms/step - loss: 0.6576 - accuracy: 0.6403 - f1_score: nan - val_loss: 0.6436 - val_accuracy: 0.6140 - val_f1_score: nan\n",
            "Epoch 4/100\n",
            "54/54 [==============================] - 46s 845ms/step - loss: 0.6451 - accuracy: 0.6440 - f1_score: nan - val_loss: 0.6288 - val_accuracy: 0.6140 - val_f1_score: nan\n",
            "Epoch 5/100\n",
            "54/54 [==============================] - 46s 846ms/step - loss: 0.6095 - accuracy: 0.6608 - f1_score: nan - val_loss: 0.6033 - val_accuracy: 0.6316 - val_f1_score: nan\n",
            "Epoch 6/100\n",
            "54/54 [==============================] - 46s 845ms/step - loss: 0.6121 - accuracy: 0.6570 - f1_score: nan - val_loss: 0.5930 - val_accuracy: 0.6491 - val_f1_score: nan\n",
            "Epoch 7/100\n",
            "54/54 [==============================] - 46s 845ms/step - loss: 0.5978 - accuracy: 0.6664 - f1_score: nan - val_loss: 0.5853 - val_accuracy: 0.6667 - val_f1_score: 0.4325\n",
            "Epoch 8/100\n",
            "54/54 [==============================] - 46s 846ms/step - loss: 0.6203 - accuracy: 0.6580 - f1_score: nan - val_loss: 0.5864 - val_accuracy: 0.6140 - val_f1_score: nan\n",
            "Epoch 9/100\n",
            "54/54 [==============================] - 46s 848ms/step - loss: 0.5893 - accuracy: 0.6692 - f1_score: nan - val_loss: 0.5854 - val_accuracy: 0.6667 - val_f1_score: 0.2551\n",
            "Epoch 10/100\n",
            "54/54 [==============================] - 46s 847ms/step - loss: 0.5641 - accuracy: 0.6775 - f1_score: nan - val_loss: 0.5558 - val_accuracy: 0.6667 - val_f1_score: 0.3148\n",
            "Epoch 11/100\n",
            "54/54 [==============================] - 46s 847ms/step - loss: 0.5570 - accuracy: 0.6822 - f1_score: nan - val_loss: 0.5553 - val_accuracy: 0.6667 - val_f1_score: 0.4037\n",
            "Epoch 12/100\n",
            "54/54 [==============================] - 46s 847ms/step - loss: 0.5620 - accuracy: 0.6813 - f1_score: nan - val_loss: 0.6248 - val_accuracy: 0.6491 - val_f1_score: nan\n",
            "Epoch 13/100\n",
            "54/54 [==============================] - 46s 847ms/step - loss: 0.5423 - accuracy: 0.6869 - f1_score: nan - val_loss: 0.5439 - val_accuracy: 0.7544 - val_f1_score: 0.6148\n",
            "Epoch 14/100\n",
            "54/54 [==============================] - 46s 849ms/step - loss: 0.5273 - accuracy: 0.7176 - f1_score: nan - val_loss: 0.5525 - val_accuracy: 0.7193 - val_f1_score: 0.6698\n",
            "Epoch 15/100\n",
            "54/54 [==============================] - 46s 848ms/step - loss: 0.5625 - accuracy: 0.6887 - f1_score: nan - val_loss: 0.5588 - val_accuracy: 0.6491 - val_f1_score: 0.4177\n",
            "Epoch 16/100\n",
            "54/54 [==============================] - 46s 847ms/step - loss: 0.5227 - accuracy: 0.7232 - f1_score: nan - val_loss: 0.5529 - val_accuracy: 0.7368 - val_f1_score: 0.6027\n",
            "Epoch 17/100\n",
            "54/54 [==============================] - 46s 848ms/step - loss: 0.5152 - accuracy: 0.7279 - f1_score: nan - val_loss: 0.5548 - val_accuracy: 0.6842 - val_f1_score: 0.4984\n",
            "Epoch 18/100\n",
            "54/54 [==============================] - 46s 848ms/step - loss: 0.5181 - accuracy: 0.7092 - f1_score: nan - val_loss: 0.5691 - val_accuracy: 0.6491 - val_f1_score: 0.3889\n",
            "Epoch 19/100\n",
            "54/54 [==============================] - 46s 848ms/step - loss: 0.5343 - accuracy: 0.7074 - f1_score: nan - val_loss: 0.5406 - val_accuracy: 0.7719 - val_f1_score: 0.6897\n",
            "Epoch 20/100\n",
            "54/54 [==============================] - 46s 848ms/step - loss: 0.4974 - accuracy: 0.7400 - f1_score: 0.5740 - val_loss: 0.5400 - val_accuracy: 0.7193 - val_f1_score: 0.5974\n",
            "Epoch 21/100\n",
            "54/54 [==============================] - 46s 848ms/step - loss: 0.5027 - accuracy: 0.7232 - f1_score: nan - val_loss: 0.6178 - val_accuracy: 0.6842 - val_f1_score: 0.4464\n",
            "Epoch 22/100\n",
            "54/54 [==============================] - 46s 848ms/step - loss: 0.5080 - accuracy: 0.7251 - f1_score: nan - val_loss: 0.5895 - val_accuracy: 0.6842 - val_f1_score: 0.5114\n",
            "Epoch 23/100\n",
            "54/54 [==============================] - 46s 848ms/step - loss: 0.4967 - accuracy: 0.7418 - f1_score: nan - val_loss: 0.5520 - val_accuracy: 0.7368 - val_f1_score: 0.6951\n",
            "Epoch 24/100\n",
            "54/54 [==============================] - 46s 849ms/step - loss: 0.4945 - accuracy: 0.7232 - f1_score: 0.5685 - val_loss: 0.5658 - val_accuracy: 0.7368 - val_f1_score: 0.6027\n",
            "Epoch 25/100\n",
            "54/54 [==============================] - 46s 849ms/step - loss: 0.4876 - accuracy: 0.7521 - f1_score: nan - val_loss: 0.5332 - val_accuracy: 0.7544 - val_f1_score: 0.6687\n",
            "Epoch 26/100\n",
            "54/54 [==============================] - 46s 851ms/step - loss: 0.4654 - accuracy: 0.7605 - f1_score: 0.6324 - val_loss: 0.5952 - val_accuracy: 0.6667 - val_f1_score: 0.4568\n",
            "Epoch 27/100\n",
            "54/54 [==============================] - 46s 850ms/step - loss: 0.4636 - accuracy: 0.7390 - f1_score: 0.5814 - val_loss: 0.5429 - val_accuracy: 0.7193 - val_f1_score: 0.6217\n",
            "Epoch 28/100\n",
            "54/54 [==============================] - 46s 849ms/step - loss: 0.4659 - accuracy: 0.7474 - f1_score: nan - val_loss: 0.5572 - val_accuracy: 0.7193 - val_f1_score: 0.6436\n",
            "Epoch 29/100\n",
            "54/54 [==============================] - 46s 849ms/step - loss: 0.4742 - accuracy: 0.7521 - f1_score: nan - val_loss: 0.5934 - val_accuracy: 0.6491 - val_f1_score: 0.3613\n",
            "Epoch 30/100\n",
            "54/54 [==============================] - 46s 850ms/step - loss: 0.4539 - accuracy: 0.7670 - f1_score: 0.6372 - val_loss: 0.6181 - val_accuracy: 0.6842 - val_f1_score: 0.4464\n",
            "Epoch 31/100\n",
            "54/54 [==============================] - 46s 848ms/step - loss: 0.4366 - accuracy: 0.7698 - f1_score: nan - val_loss: 0.5973 - val_accuracy: 0.7193 - val_f1_score: 0.6436\n",
            "Epoch 32/100\n",
            "54/54 [==============================] - 46s 849ms/step - loss: 0.4472 - accuracy: 0.7726 - f1_score: nan - val_loss: 0.5536 - val_accuracy: 0.7368 - val_f1_score: 0.6893\n",
            "Epoch 33/100\n",
            "54/54 [==============================] - 46s 850ms/step - loss: 0.4312 - accuracy: 0.7856 - f1_score: nan - val_loss: 0.6441 - val_accuracy: 0.6667 - val_f1_score: 0.4568\n",
            "Epoch 34/100\n",
            "54/54 [==============================] - 46s 850ms/step - loss: 0.4512 - accuracy: 0.7642 - f1_score: 0.6166 - val_loss: 0.5731 - val_accuracy: 0.7193 - val_f1_score: 0.6217\n",
            "Epoch 35/100\n",
            "54/54 [==============================] - 46s 849ms/step - loss: 0.4231 - accuracy: 0.7922 - f1_score: 0.6744 - val_loss: 0.5952 - val_accuracy: 0.7018 - val_f1_score: 0.5768\n"
          ]
        }
      ]
    },
    {
      "cell_type": "code",
      "metadata": {
        "id": "8qVUA8jD2ZWb",
        "colab": {
          "base_uri": "https://localhost:8080/",
          "height": 354
        },
        "outputId": "df8aa70e-19b6-4f70-8028-bcf98d0f5ff1"
      },
      "source": [
        "p = np.array(model3.predict(train_axial))\n",
        "train_Ab_pred.append(p)\n",
        "p = np.array(model3.predict(test_axial))\n",
        "test_Ab_pred.append(p)               \n",
        "score3 = model3.evaluate(test_axial ,testAb_labels,verbose=1)       \n",
        "print('Test loss:',score3[0])\n",
        "print('Test accuracy:',score3[1])                                                           \n",
        "plt.figure()\n",
        "plt.grid()                                                                                                  \n",
        "plt.title('Training performance')                          \n",
        "plt.plot(history3.epoch, history3.history['loss'], label='train loss+error')  \n",
        "plt.plot(history3.epoch, history3.history['val_loss'], label='val_error') \n",
        "plt.plot(history3.epoch, history3.history['f1_score'], label='f1_score') \n",
        "plt.legend()"
      ],
      "execution_count": null,
      "outputs": [
        {
          "output_type": "stream",
          "name": "stdout",
          "text": [
            "4/4 [==============================] - 1s 359ms/step - loss: 0.7807 - accuracy: 0.6167 - f1_score: 0.6199\n",
            "Test loss: 0.7807239294052124\n",
            "Test accuracy: 0.6166666746139526\n"
          ]
        },
        {
          "output_type": "execute_result",
          "data": {
            "text/plain": [
              "<matplotlib.legend.Legend at 0x7fe3be72d3d0>"
            ]
          },
          "metadata": {},
          "execution_count": 29
        },
        {
          "output_type": "display_data",
          "data": {
            "image/png": "[encoded data removed]",
            "text/plain": [
              "<Figure size 432x288 with 1 Axes>"
            ]
          },
          "metadata": {
            "needs_background": "light"
          }
        }
      ]
    },
    {
      "cell_type": "code",
      "source": [
        "filename = '/content/drive/MyDrive/Medical/MRNET MODEL/VGGmodel3.h5'\n",
        "model3.save(filename)\n",
        "print('>Saved %s' % filename)\n",
        "clean_up(model=model3)"
      ],
      "metadata": {
        "colab": {
          "base_uri": "https://localhost:8080/"
        },
        "id": "TDjJ7rluf2BR",
        "outputId": "57fc60d5-152b-4604-d1f6-1cb32738dfed"
      },
      "execution_count": null,
      "outputs": [
        {
          "output_type": "stream",
          "name": "stdout",
          "text": [
            ">Saved /content/drive/MyDrive/Medical/MRNET MODEL/VGGmodel3.h5\n",
            "...Finished clean up...\n"
          ]
        }
      ]
    },
    {
      "cell_type": "markdown",
      "source": [
        "##### Deleting Files which wont be required further to reduce memory load"
      ],
      "metadata": {
        "id": "0vgZl5bxuw4a"
      }
    },
    {
      "cell_type": "code",
      "metadata": {
        "id": "K-U-NrNAC3Gl"
      },
      "source": [
        "del train_axial\n",
        "del test_axial\n",
        "del axial_dir\n",
        "del axial_reloaded\n",
        "del axialTest_reloaded\n",
        "del axial_list\n",
        "del axialTest_list\n",
        "del model\n",
        "del model2\n",
        "del model3\n",
        "del base_model_ax_men\n",
        "del base_model_ax_ACL\n",
        "del base_model_ax_AB\n",
        "del p"
      ],
      "execution_count": null,
      "outputs": []
    },
    {
      "cell_type": "markdown",
      "metadata": {
        "id": "gvtnuUab3sGt"
      },
      "source": [
        "##Coronal Plane Scans"
      ]
    },
    {
      "cell_type": "markdown",
      "metadata": {
        "id": "VJKP50dP-T7d"
      },
      "source": [
        "###Reading train & test data"
      ]
    },
    {
      "cell_type": "code",
      "metadata": {
        "id": "sL-8TZ2J36tA",
        "colab": {
          "base_uri": "https://localhost:8080/"
        },
        "outputId": "6028f26d-8cb9-4eae-c2c0-a0ef3cb6f46a"
      },
      "source": [
        "coronal_dir = os.listdir(\"/content/drive/MyDrive/Medical/MRNet-v1.0/train/coronal/\")\n",
        "coronal_dir = [f.lower() for f in coronal_dir]   \n",
        "c=sorted(coronal_dir)\n",
        "coronal_list=np.array(c)\n",
        "coronal_reloaded=[]\n",
        "print(coronal_list.shape)\n",
        "for j in range(1,1131):\n",
        "    file2= \"/content/drive/MyDrive/Medical/MRNet-v1.0/train/coronal/\"+coronal_list[j]\n",
        "    coronal_reloaded.append(np.load(file2,allow_pickle='false'))\n",
        "\n",
        "coronal_reloaded=np.array(coronal_reloaded)\n",
        "print(coronal_reloaded.shape)\n",
        "train_coronal=[]\n",
        " \n",
        "for j in range(len(coronal_reloaded)):\n",
        "    mid2=math.floor((coronal_reloaded[j].shape[0])/2)\n",
        "    train_coronal.append([])\n",
        "        \n",
        "    for n in range(mid2-1,mid2+2):\n",
        "         train_coronal[j].append(coronal_reloaded[j][n])\n",
        "\n",
        "train_coronal=np.array(train_coronal)\n",
        "train_coronal=np.reshape(train_coronal,(1130,256,256,3))\n",
        "print(train_coronal.shape)\n",
        "\n",
        "coronal_dir = os.listdir(\"/content/drive/MyDrive/Medical/MRNet-v1.0/valid/coronal/\")\n",
        "coronal_dir = [f.lower() for f in coronal_dir]   \n",
        "c=sorted(coronal_dir)\n",
        "coronalTest_list=np.array(c)\n",
        "coronalTest_reloaded=[]\n",
        "print(coronalTest_list.shape)\n",
        "for j in range(0,120):\n",
        "    file2= \"/content/drive/MyDrive/Medical/MRNet-v1.0/valid/coronal/\"+coronalTest_list[j]\n",
        "    coronalTest_reloaded.append(np.load(file2,allow_pickle='false'))\n",
        "\n",
        "coronalTest_reloaded=np.array(coronalTest_reloaded)\n",
        "print(coronalTest_reloaded.shape)\n",
        "test_coronal=[]\n",
        " \n",
        "for j in range(len(coronalTest_reloaded)):\n",
        "    mid2=math.floor((coronalTest_reloaded[j].shape[0])/2)\n",
        "    test_coronal.append([])\n",
        "        \n",
        "    for n in range(mid2-1,mid2+2):\n",
        "         test_coronal[j].append(coronalTest_reloaded[j][n])\n",
        "\n",
        "test_coronal=np.array(test_coronal)\n",
        "test_coronal=np.reshape(test_coronal,(120,256,256,3))\n",
        "print(test_coronal.shape)"
      ],
      "execution_count": null,
      "outputs": [
        {
          "output_type": "stream",
          "name": "stdout",
          "text": [
            "(1131,)\n"
          ]
        },
        {
          "output_type": "stream",
          "name": "stderr",
          "text": [
            "/usr/local/lib/python3.7/dist-packages/ipykernel_launcher.py:12: VisibleDeprecationWarning: Creating an ndarray from ragged nested sequences (which is a list-or-tuple of lists-or-tuples-or ndarrays with different lengths or shapes) is deprecated. If you meant to do this, you must specify 'dtype=object' when creating the ndarray.\n",
            "  if sys.path[0] == '':\n"
          ]
        },
        {
          "output_type": "stream",
          "name": "stdout",
          "text": [
            "(1130,)\n",
            "(1130, 256, 256, 3)\n",
            "(120,)\n",
            "(120,)\n",
            "(120, 256, 256, 3)\n"
          ]
        },
        {
          "output_type": "stream",
          "name": "stderr",
          "text": [
            "/usr/local/lib/python3.7/dist-packages/ipykernel_launcher.py:40: VisibleDeprecationWarning: Creating an ndarray from ragged nested sequences (which is a list-or-tuple of lists-or-tuples-or ndarrays with different lengths or shapes) is deprecated. If you meant to do this, you must specify 'dtype=object' when creating the ndarray.\n"
          ]
        }
      ]
    },
    {
      "cell_type": "markdown",
      "metadata": {
        "id": "RM003h3Y46L-"
      },
      "source": [
        "#### Finetuning VGG16 Model for Coronal Plane Scanes checking for Meniscus Condition"
      ]
    },
    {
      "cell_type": "code",
      "metadata": {
        "id": "N-4cC08a50ot"
      },
      "source": [
        "input_tensor = Input(shape=(256, 256,3))  \n",
        "base_model_Co_Men = VGG16(input_tensor=input_tensor, weights='imagenet', include_top=False)"
      ],
      "execution_count": null,
      "outputs": []
    },
    {
      "cell_type": "code",
      "metadata": {
        "id": "HRaoDsnw57HB"
      },
      "source": [
        "x = base_model_Co_Men.output\n",
        "x = GlobalAveragePooling2D()(x)\n",
        "x=Dropout(0.2)(x)\n",
        "x = Dense(1024, activation='relu')(x)\n",
        "x=Dropout(0.2)(x)\n",
        "x=Dropout(0.2)(x)\n",
        "predictions = Dense(1, activation='sigmoid')(x)\n",
        "model4 = Model(inputs=base_model_Co_Men.input,outputs=predictions)"
      ],
      "execution_count": null,
      "outputs": []
    },
    {
      "cell_type": "code",
      "metadata": {
        "id": "Xa1OIRRw5_q-"
      },
      "source": [
        "for layer in model4.layers[:15]:\n",
        "   layer.trainable = True\n",
        "for layer in model4.layers[15:]:\n",
        "  layer.trainable = False"
      ],
      "execution_count": null,
      "outputs": []
    },
    {
      "cell_type": "code",
      "metadata": {
        "id": "0sTn67eX6GyY",
        "colab": {
          "base_uri": "https://localhost:8080/"
        },
        "outputId": "ccd9a65b-f379-411d-854d-c1794db21030"
      },
      "source": [
        "early_stopping_monitor = EarlyStopping(patience=5)    \n",
        "model4.compile(optimizer=SGD(lr=0.001,momentum=0.9), loss='binary_crossentropy',metrics=['accuracy',f1_score])\n",
        "history4=model4.fit(train_coronal ,trainMen_labels, validation_split=0.05,shuffle=True ,epochs=100, callbacks=[early_stopping_monitor], batch_size = 20)"
      ],
      "execution_count": null,
      "outputs": [
        {
          "output_type": "stream",
          "name": "stderr",
          "text": [
            "/usr/local/lib/python3.7/dist-packages/keras/optimizer_v2/gradient_descent.py:102: UserWarning: The `lr` argument is deprecated, use `learning_rate` instead.\n",
            "  super(SGD, self).__init__(name, **kwargs)\n"
          ]
        },
        {
          "output_type": "stream",
          "name": "stdout",
          "text": [
            "Epoch 1/100\n",
            "54/54 [==============================] - 48s 855ms/step - loss: 0.9005 - accuracy: 0.5461 - f1_score: nan - val_loss: 0.6736 - val_accuracy: 0.6140 - val_f1_score: nan\n",
            "Epoch 2/100\n",
            "54/54 [==============================] - 46s 843ms/step - loss: 0.6630 - accuracy: 0.6067 - f1_score: nan - val_loss: 0.6661 - val_accuracy: 0.6140 - val_f1_score: nan\n",
            "Epoch 3/100\n",
            "54/54 [==============================] - 45s 842ms/step - loss: 0.6666 - accuracy: 0.6337 - f1_score: nan - val_loss: 0.6613 - val_accuracy: 0.6140 - val_f1_score: nan\n",
            "Epoch 4/100\n",
            "54/54 [==============================] - 45s 842ms/step - loss: 0.6562 - accuracy: 0.6449 - f1_score: nan - val_loss: 0.6510 - val_accuracy: 0.6140 - val_f1_score: nan\n",
            "Epoch 5/100\n",
            "54/54 [==============================] - 45s 842ms/step - loss: 0.6405 - accuracy: 0.6347 - f1_score: nan - val_loss: 0.6559 - val_accuracy: 0.6140 - val_f1_score: nan\n",
            "Epoch 6/100\n",
            "54/54 [==============================] - 45s 841ms/step - loss: 0.6465 - accuracy: 0.6459 - f1_score: nan - val_loss: 0.6409 - val_accuracy: 0.6140 - val_f1_score: nan\n",
            "Epoch 7/100\n",
            "54/54 [==============================] - 45s 840ms/step - loss: 0.6457 - accuracy: 0.6272 - f1_score: nan - val_loss: 0.6400 - val_accuracy: 0.6140 - val_f1_score: nan\n",
            "Epoch 8/100\n",
            "54/54 [==============================] - 45s 842ms/step - loss: 0.6327 - accuracy: 0.6514 - f1_score: nan - val_loss: 0.6327 - val_accuracy: 0.6140 - val_f1_score: nan\n",
            "Epoch 9/100\n",
            "54/54 [==============================] - 45s 841ms/step - loss: 0.6323 - accuracy: 0.6431 - f1_score: nan - val_loss: 0.6346 - val_accuracy: 0.6140 - val_f1_score: nan\n",
            "Epoch 10/100\n",
            "54/54 [==============================] - 45s 842ms/step - loss: 0.6356 - accuracy: 0.6449 - f1_score: nan - val_loss: 0.6344 - val_accuracy: 0.6140 - val_f1_score: nan\n",
            "Epoch 11/100\n",
            "54/54 [==============================] - 46s 846ms/step - loss: 0.6307 - accuracy: 0.6449 - f1_score: nan - val_loss: 0.6373 - val_accuracy: 0.6140 - val_f1_score: nan\n",
            "Epoch 12/100\n",
            "54/54 [==============================] - 46s 847ms/step - loss: 0.6350 - accuracy: 0.6309 - f1_score: nan - val_loss: 0.6313 - val_accuracy: 0.6140 - val_f1_score: nan\n",
            "Epoch 13/100\n",
            "54/54 [==============================] - 46s 848ms/step - loss: 0.6296 - accuracy: 0.6533 - f1_score: nan - val_loss: 0.6291 - val_accuracy: 0.6140 - val_f1_score: nan\n",
            "Epoch 14/100\n",
            "54/54 [==============================] - 46s 849ms/step - loss: 0.6490 - accuracy: 0.6477 - f1_score: nan - val_loss: 0.6338 - val_accuracy: 0.6140 - val_f1_score: nan\n",
            "Epoch 15/100\n",
            "54/54 [==============================] - 46s 847ms/step - loss: 0.6303 - accuracy: 0.6496 - f1_score: nan - val_loss: 0.6266 - val_accuracy: 0.6140 - val_f1_score: nan\n",
            "Epoch 16/100\n",
            "54/54 [==============================] - 46s 847ms/step - loss: 0.6173 - accuracy: 0.6524 - f1_score: nan - val_loss: 0.6283 - val_accuracy: 0.6140 - val_f1_score: nan\n",
            "Epoch 17/100\n",
            "54/54 [==============================] - 46s 849ms/step - loss: 0.6252 - accuracy: 0.6505 - f1_score: nan - val_loss: 0.6286 - val_accuracy: 0.6140 - val_f1_score: nan\n",
            "Epoch 18/100\n",
            "54/54 [==============================] - 46s 848ms/step - loss: 0.6127 - accuracy: 0.6552 - f1_score: nan - val_loss: 0.6203 - val_accuracy: 0.6140 - val_f1_score: nan\n",
            "Epoch 19/100\n",
            "54/54 [==============================] - 46s 847ms/step - loss: 0.6133 - accuracy: 0.6580 - f1_score: nan - val_loss: 0.6583 - val_accuracy: 0.6140 - val_f1_score: nan\n",
            "Epoch 20/100\n",
            "54/54 [==============================] - 46s 847ms/step - loss: 0.6245 - accuracy: 0.6496 - f1_score: nan - val_loss: 0.6144 - val_accuracy: 0.6140 - val_f1_score: nan\n",
            "Epoch 21/100\n",
            "54/54 [==============================] - 46s 849ms/step - loss: 0.6114 - accuracy: 0.6533 - f1_score: nan - val_loss: 0.6255 - val_accuracy: 0.6140 - val_f1_score: nan\n",
            "Epoch 22/100\n",
            "54/54 [==============================] - 46s 849ms/step - loss: 0.6103 - accuracy: 0.6533 - f1_score: nan - val_loss: 0.6194 - val_accuracy: 0.6140 - val_f1_score: nan\n",
            "Epoch 23/100\n",
            "54/54 [==============================] - 46s 850ms/step - loss: 0.6062 - accuracy: 0.6542 - f1_score: nan - val_loss: 0.6159 - val_accuracy: 0.6140 - val_f1_score: nan\n",
            "Epoch 24/100\n",
            "54/54 [==============================] - 46s 851ms/step - loss: 0.5998 - accuracy: 0.6570 - f1_score: nan - val_loss: 0.6072 - val_accuracy: 0.5965 - val_f1_score: nan\n",
            "Epoch 25/100\n",
            "54/54 [==============================] - 46s 849ms/step - loss: 0.5991 - accuracy: 0.6692 - f1_score: nan - val_loss: 0.6094 - val_accuracy: 0.6140 - val_f1_score: nan\n",
            "Epoch 26/100\n",
            "54/54 [==============================] - 46s 846ms/step - loss: 0.5982 - accuracy: 0.6552 - f1_score: nan - val_loss: 0.6066 - val_accuracy: 0.6140 - val_f1_score: nan\n",
            "Epoch 27/100\n",
            "54/54 [==============================] - 46s 844ms/step - loss: 0.5867 - accuracy: 0.6524 - f1_score: nan - val_loss: 0.6026 - val_accuracy: 0.6140 - val_f1_score: nan\n",
            "Epoch 28/100\n",
            "54/54 [==============================] - 46s 843ms/step - loss: 0.5913 - accuracy: 0.6542 - f1_score: nan - val_loss: 0.6064 - val_accuracy: 0.6140 - val_f1_score: nan\n",
            "Epoch 29/100\n",
            "54/54 [==============================] - 46s 844ms/step - loss: 0.5862 - accuracy: 0.6598 - f1_score: nan - val_loss: 0.5928 - val_accuracy: 0.6140 - val_f1_score: nan\n",
            "Epoch 30/100\n",
            "54/54 [==============================] - 46s 845ms/step - loss: 0.5710 - accuracy: 0.6561 - f1_score: nan - val_loss: 0.6352 - val_accuracy: 0.6140 - val_f1_score: nan\n",
            "Epoch 31/100\n",
            "54/54 [==============================] - 46s 845ms/step - loss: 0.6053 - accuracy: 0.6608 - f1_score: nan - val_loss: 0.6118 - val_accuracy: 0.6140 - val_f1_score: nan\n",
            "Epoch 32/100\n",
            "54/54 [==============================] - 46s 844ms/step - loss: 0.5884 - accuracy: 0.6636 - f1_score: nan - val_loss: 0.6066 - val_accuracy: 0.6140 - val_f1_score: nan\n",
            "Epoch 33/100\n",
            "54/54 [==============================] - 46s 844ms/step - loss: 0.5804 - accuracy: 0.6608 - f1_score: nan - val_loss: 0.5864 - val_accuracy: 0.6140 - val_f1_score: nan\n",
            "Epoch 34/100\n",
            "54/54 [==============================] - 46s 844ms/step - loss: 0.5733 - accuracy: 0.6552 - f1_score: nan - val_loss: 0.6085 - val_accuracy: 0.6140 - val_f1_score: nan\n",
            "Epoch 35/100\n",
            "54/54 [==============================] - 46s 844ms/step - loss: 0.5614 - accuracy: 0.6589 - f1_score: nan - val_loss: 0.5964 - val_accuracy: 0.6140 - val_f1_score: nan\n",
            "Epoch 36/100\n",
            "54/54 [==============================] - 46s 844ms/step - loss: 0.5614 - accuracy: 0.6757 - f1_score: nan - val_loss: 0.6132 - val_accuracy: 0.6316 - val_f1_score: nan\n",
            "Epoch 37/100\n",
            "54/54 [==============================] - 46s 846ms/step - loss: 0.5595 - accuracy: 0.6608 - f1_score: nan - val_loss: 0.5941 - val_accuracy: 0.6140 - val_f1_score: nan\n",
            "Epoch 38/100\n",
            "54/54 [==============================] - 46s 847ms/step - loss: 0.5627 - accuracy: 0.6673 - f1_score: nan - val_loss: 0.6335 - val_accuracy: 0.6140 - val_f1_score: nan\n"
          ]
        }
      ]
    },
    {
      "cell_type": "code",
      "metadata": {
        "id": "EsGIEL8-jvLQ",
        "colab": {
          "base_uri": "https://localhost:8080/",
          "height": 354
        },
        "outputId": "1c1abbb4-055f-406b-8c23-9d94e32113d8"
      },
      "source": [
        "p = np.array(model4.predict(train_coronal))\n",
        "train_Men_pred.append(p)\n",
        "p = np.array(model4.predict(test_coronal))\n",
        "test_Men_pred.append(p)\n",
        "score4 = model4.evaluate(test_coronal ,testMen_labels,verbose=1)       \n",
        "print('Test loss:',score4[0])\n",
        "print('Test accuracy:',score4[1])                                              \n",
        "plt.figure()\n",
        "plt.grid()                                                                                                   \n",
        "plt.title('Training performance')                          \n",
        "plt.plot(history4.epoch, history4.history['loss'], label='train loss+error')  \n",
        "plt.plot(history4.epoch, history4.history['val_loss'], label='val_error')  \n",
        "plt.plot(history4.epoch, history4.history['f1_score'], label='f1_score')  \n",
        "plt.legend()"
      ],
      "execution_count": null,
      "outputs": [
        {
          "output_type": "stream",
          "name": "stdout",
          "text": [
            "4/4 [==============================] - 1s 359ms/step - loss: 0.6888 - accuracy: 0.5667 - f1_score: nan\n",
            "Test loss: 0.6887705326080322\n",
            "Test accuracy: 0.5666666626930237\n"
          ]
        },
        {
          "output_type": "execute_result",
          "data": {
            "text/plain": [
              "<matplotlib.legend.Legend at 0x7fe3be34f2d0>"
            ]
          },
          "metadata": {},
          "execution_count": 37
        },
        {
          "output_type": "display_data",
          "data": {
            "image/png": "[encoded data removed]",
            "text/plain": [
              "<Figure size 432x288 with 1 Axes>"
            ]
          },
          "metadata": {
            "needs_background": "light"
          }
        }
      ]
    },
    {
      "cell_type": "code",
      "source": [
        "filename = '/content/drive/MyDrive/Medical/MRNET MODEL/VGGmodel4.h5'\n",
        "model4.save(filename)\n",
        "print('>Saved %s' % filename)\n",
        "clean_up(model=model4)"
      ],
      "metadata": {
        "colab": {
          "base_uri": "https://localhost:8080/"
        },
        "id": "O2yQjTejgNn6",
        "outputId": "9fe02fc8-7b97-4202-925c-b59f858b4a77"
      },
      "execution_count": null,
      "outputs": [
        {
          "output_type": "stream",
          "name": "stdout",
          "text": [
            ">Saved /content/drive/MyDrive/Medical/MRNET MODEL/VGGmodel4.h5\n",
            "...Finished clean up...\n"
          ]
        }
      ]
    },
    {
      "cell_type": "markdown",
      "metadata": {
        "id": "ev8SCy58luHL"
      },
      "source": [
        "#### Finetuning VGG16 Model for Coronal Plane Scanes checking for ACL Condition"
      ]
    },
    {
      "cell_type": "code",
      "metadata": {
        "id": "NqYG7kydluHO"
      },
      "source": [
        "input_tensor = Input(shape=(256, 256,3))  \n",
        "base_model_Co_ACL = VGG16(input_tensor=input_tensor, weights='imagenet', include_top=False)"
      ],
      "execution_count": null,
      "outputs": []
    },
    {
      "cell_type": "code",
      "metadata": {
        "id": "uhIvHBiIluHY"
      },
      "source": [
        "x = base_model_Co_ACL.output\n",
        "x = GlobalAveragePooling2D()(x)\n",
        "x=Dropout(0.2)(x)\n",
        "x = Dense(1024, activation='relu')(x)\n",
        "x=Dropout(0.2)(x)\n",
        "x=Dropout(0.2)(x)\n",
        "predictions = Dense(1, activation='sigmoid')(x)\n",
        "model5 = Model(inputs=base_model_Co_ACL.input,outputs=predictions)"
      ],
      "execution_count": null,
      "outputs": []
    },
    {
      "cell_type": "code",
      "metadata": {
        "id": "5fPQriI-luHh"
      },
      "source": [
        "for layer in model5.layers[:15]:\n",
        "   layer.trainable = True\n",
        "for layer in model5.layers[15:]:\n",
        "  layer.trainable = False"
      ],
      "execution_count": null,
      "outputs": []
    },
    {
      "cell_type": "code",
      "metadata": {
        "id": "GjmEc-AkluHx",
        "colab": {
          "base_uri": "https://localhost:8080/"
        },
        "outputId": "40ea4e26-d62b-45f6-a8d6-d779dd9059fb"
      },
      "source": [
        "early_stopping_monitor = EarlyStopping(patience=10)    \n",
        "model5.compile(optimizer=SGD(lr=0.001,momentum=0.9), loss='binary_crossentropy',metrics=['accuracy',f1_score])\n",
        "history5=model5.fit(train_coronal ,trainACL_labels, validation_split=0.05,shuffle=True ,epochs=100, callbacks=[early_stopping_monitor], batch_size = 20)"
      ],
      "execution_count": null,
      "outputs": [
        {
          "output_type": "stream",
          "name": "stdout",
          "text": [
            "Epoch 1/100\n"
          ]
        },
        {
          "output_type": "stream",
          "name": "stderr",
          "text": [
            "/usr/local/lib/python3.7/dist-packages/keras/optimizer_v2/gradient_descent.py:102: UserWarning: The `lr` argument is deprecated, use `learning_rate` instead.\n",
            "  super(SGD, self).__init__(name, **kwargs)\n"
          ]
        },
        {
          "output_type": "stream",
          "name": "stdout",
          "text": [
            "54/54 [==============================] - 47s 854ms/step - loss: 0.6111 - accuracy: 0.7791 - f1_score: nan - val_loss: 0.4777 - val_accuracy: 0.8421 - val_f1_score: nan\n",
            "Epoch 2/100\n",
            "54/54 [==============================] - 46s 845ms/step - loss: 0.5306 - accuracy: 0.8080 - f1_score: nan - val_loss: 0.4525 - val_accuracy: 0.8421 - val_f1_score: nan\n",
            "Epoch 3/100\n",
            "54/54 [==============================] - 46s 845ms/step - loss: 0.5076 - accuracy: 0.8155 - f1_score: nan - val_loss: 0.4463 - val_accuracy: 0.8421 - val_f1_score: nan\n",
            "Epoch 4/100\n",
            "54/54 [==============================] - 46s 845ms/step - loss: 0.4978 - accuracy: 0.8108 - f1_score: nan - val_loss: 0.4505 - val_accuracy: 0.8421 - val_f1_score: nan\n",
            "Epoch 5/100\n",
            "54/54 [==============================] - 46s 845ms/step - loss: 0.4946 - accuracy: 0.8145 - f1_score: nan - val_loss: 0.4839 - val_accuracy: 0.8421 - val_f1_score: nan\n",
            "Epoch 6/100\n",
            "54/54 [==============================] - 46s 845ms/step - loss: 0.4958 - accuracy: 0.8145 - f1_score: nan - val_loss: 0.4379 - val_accuracy: 0.8421 - val_f1_score: nan\n",
            "Epoch 7/100\n",
            "54/54 [==============================] - 46s 847ms/step - loss: 0.4778 - accuracy: 0.8145 - f1_score: nan - val_loss: 0.4443 - val_accuracy: 0.8421 - val_f1_score: nan\n",
            "Epoch 8/100\n",
            "54/54 [==============================] - 46s 847ms/step - loss: 0.4748 - accuracy: 0.8145 - f1_score: nan - val_loss: 0.4541 - val_accuracy: 0.8421 - val_f1_score: nan\n",
            "Epoch 9/100\n",
            "54/54 [==============================] - 46s 848ms/step - loss: 0.4844 - accuracy: 0.8145 - f1_score: nan - val_loss: 0.4341 - val_accuracy: 0.8421 - val_f1_score: nan\n",
            "Epoch 10/100\n",
            "54/54 [==============================] - 46s 847ms/step - loss: 0.4747 - accuracy: 0.8145 - f1_score: nan - val_loss: 0.4398 - val_accuracy: 0.8421 - val_f1_score: nan\n",
            "Epoch 11/100\n",
            "54/54 [==============================] - 46s 848ms/step - loss: 0.4678 - accuracy: 0.8145 - f1_score: nan - val_loss: 0.4505 - val_accuracy: 0.8421 - val_f1_score: nan\n",
            "Epoch 12/100\n",
            "54/54 [==============================] - 46s 849ms/step - loss: 0.4595 - accuracy: 0.8145 - f1_score: nan - val_loss: 0.4296 - val_accuracy: 0.8421 - val_f1_score: nan\n",
            "Epoch 13/100\n",
            "54/54 [==============================] - 46s 849ms/step - loss: 0.4500 - accuracy: 0.8145 - f1_score: nan - val_loss: 0.4313 - val_accuracy: 0.8421 - val_f1_score: nan\n",
            "Epoch 14/100\n",
            "54/54 [==============================] - 46s 850ms/step - loss: 0.4474 - accuracy: 0.8155 - f1_score: nan - val_loss: 0.4151 - val_accuracy: 0.8421 - val_f1_score: nan\n",
            "Epoch 15/100\n",
            "54/54 [==============================] - 46s 849ms/step - loss: 0.4385 - accuracy: 0.8145 - f1_score: nan - val_loss: 0.4272 - val_accuracy: 0.8421 - val_f1_score: nan\n",
            "Epoch 16/100\n",
            "54/54 [==============================] - 46s 849ms/step - loss: 0.4434 - accuracy: 0.8136 - f1_score: nan - val_loss: 0.4325 - val_accuracy: 0.8421 - val_f1_score: nan\n",
            "Epoch 17/100\n",
            "54/54 [==============================] - 46s 848ms/step - loss: 0.4345 - accuracy: 0.8145 - f1_score: nan - val_loss: 0.4260 - val_accuracy: 0.8421 - val_f1_score: nan\n",
            "Epoch 18/100\n",
            "54/54 [==============================] - 46s 848ms/step - loss: 0.4246 - accuracy: 0.8136 - f1_score: nan - val_loss: 0.4600 - val_accuracy: 0.8421 - val_f1_score: nan\n",
            "Epoch 19/100\n",
            "54/54 [==============================] - 46s 849ms/step - loss: 0.4239 - accuracy: 0.8145 - f1_score: nan - val_loss: 0.4303 - val_accuracy: 0.8421 - val_f1_score: nan\n",
            "Epoch 20/100\n",
            "54/54 [==============================] - 46s 850ms/step - loss: 0.4211 - accuracy: 0.8145 - f1_score: nan - val_loss: 0.4185 - val_accuracy: 0.8421 - val_f1_score: nan\n",
            "Epoch 21/100\n",
            "54/54 [==============================] - 46s 850ms/step - loss: 0.4105 - accuracy: 0.8145 - f1_score: nan - val_loss: 0.4399 - val_accuracy: 0.8421 - val_f1_score: nan\n",
            "Epoch 22/100\n",
            "54/54 [==============================] - 46s 850ms/step - loss: 0.3987 - accuracy: 0.8145 - f1_score: nan - val_loss: 0.4548 - val_accuracy: 0.8421 - val_f1_score: nan\n",
            "Epoch 23/100\n",
            "54/54 [==============================] - 46s 852ms/step - loss: 0.4069 - accuracy: 0.8145 - f1_score: nan - val_loss: 0.4392 - val_accuracy: 0.8421 - val_f1_score: nan\n",
            "Epoch 24/100\n",
            "54/54 [==============================] - 46s 856ms/step - loss: 0.4314 - accuracy: 0.8136 - f1_score: nan - val_loss: 0.4400 - val_accuracy: 0.8421 - val_f1_score: nan\n"
          ]
        }
      ]
    },
    {
      "cell_type": "code",
      "metadata": {
        "id": "61nsbN5vluH8",
        "colab": {
          "base_uri": "https://localhost:8080/"
        },
        "outputId": "95b2eb05-ecc9-4e48-aa70-f8e3701128ff"
      },
      "source": [
        "p = np.array(model5.predict(train_coronal))\n",
        "train_ACL_pred.append(p)\n",
        "p = np.array(model5.predict(test_coronal, verbose=1))\n",
        "test_ACL_pred.append(p)                     \n",
        "score5 = model5.evaluate(test_coronal ,testACL_labels,verbose=1)       \n",
        "print('Test loss:',score5[0])\n",
        "print('Test accuracy:',score5[1])                                                               \n",
        "plt.figure()\n",
        "plt.grid()                                                                                                        \n",
        "plt.title('Training performance')                          \n",
        "plt.plot(history5.epoch, history5.history['loss'], label='train loss+error')  \n",
        "plt.plot(history5.epoch, history5.history['val_loss'], label='val_error') \n",
        "plt.plot(history5.epoch, history5.history['f1_score'], label='f1_score') \n",
        "plt.legend()"
      ],
      "execution_count": null,
      "outputs": [
        {
          "output_type": "stream",
          "name": "stdout",
          "text": [
            "4/4 [==============================] - 1s 371ms/step\n",
            "4/4 [==============================] - 1s 360ms/step - loss: 0.6721 - accuracy: 0.5500 - f1_score: nan\n",
            "Test loss: 0.6721179485321045\n",
            "Test accuracy: 0.550000011920929\n"
          ]
        },
        {
          "output_type": "execute_result",
          "data": {
            "text/plain": [
              "<matplotlib.legend.Legend at 0x7fe3bddb6d50>"
            ]
          },
          "metadata": {},
          "execution_count": 43
        },
        {
          "output_type": "display_data",
          "data": {
            "image/png": "[encoded data removed]",
            "text/plain": [
              "<Figure size 432x288 with 1 Axes>"
            ]
          },
          "metadata": {
            "needs_background": "light"
          }
        }
      ]
    },
    {
      "cell_type": "code",
      "source": [
        "filename = '/content/drive/MyDrive/Medical/MRNET MODEL/VGGmodel5.h5'\n",
        "model5.save(filename)\n",
        "print('>Saved %s' % filename)\n",
        "clean_up(model=model5)"
      ],
      "metadata": {
        "colab": {
          "base_uri": "https://localhost:8080/"
        },
        "id": "5rNQtSgkjHtR",
        "outputId": "15debfae-0d52-4c4d-800f-bd8b27818265"
      },
      "execution_count": null,
      "outputs": [
        {
          "output_type": "stream",
          "name": "stdout",
          "text": [
            ">Saved /content/drive/MyDrive/Medical/MRNET MODEL/VGGmodel5.h5\n",
            "...Finished clean up...\n"
          ]
        }
      ]
    },
    {
      "cell_type": "markdown",
      "metadata": {
        "id": "p4460kOMm_LA"
      },
      "source": [
        "#### Finetuning ResNet50 Model for Coronal Plane Scanes checking for Abnormal Condition"
      ]
    },
    {
      "cell_type": "code",
      "metadata": {
        "id": "5mMGdm5dm_LC"
      },
      "source": [
        "input_tensor = Input(shape=(256, 256,3))  \n",
        "base_model_Co_Ab = VGG16(input_tensor=input_tensor, weights='imagenet', include_top=False)"
      ],
      "execution_count": null,
      "outputs": []
    },
    {
      "cell_type": "code",
      "metadata": {
        "id": "wXUGXsfLm_LF"
      },
      "source": [
        "x = base_model_Co_Ab.output\n",
        "x = GlobalAveragePooling2D()(x)\n",
        "x=Dropout(0.2)(x)\n",
        "x = Dense(1024, activation='relu')(x)\n",
        "x=Dropout(0.2)(x)\n",
        "x=Dropout(0.2)(x)\n",
        "predictions = Dense(1, activation='sigmoid')(x)\n",
        "model6 = Model(inputs=base_model_Co_Ab.input,outputs=predictions)"
      ],
      "execution_count": null,
      "outputs": []
    },
    {
      "cell_type": "code",
      "metadata": {
        "id": "b9YffZeim_LH"
      },
      "source": [
        "for layer in model6.layers[:15]:\n",
        "   layer.trainable = True\n",
        "for layer in model6.layers[15:]:\n",
        "  layer.trainable = False"
      ],
      "execution_count": null,
      "outputs": []
    },
    {
      "cell_type": "code",
      "metadata": {
        "id": "J_O8H3RXm_LK",
        "colab": {
          "base_uri": "https://localhost:8080/"
        },
        "outputId": "9301c714-fc9d-48c2-ef1f-a9d5ed8a80f5"
      },
      "source": [
        "early_stopping_monitor = EarlyStopping(patience=10)    \n",
        "model6.compile(optimizer=SGD(lr=0.001,momentum=0.9), loss='binary_crossentropy',metrics=['accuracy',f1_score])\n",
        "history6=model6.fit(train_coronal ,trainAb_labels, validation_split=0.05,shuffle=True ,epochs=100, callbacks=[early_stopping_monitor], batch_size = 20)"
      ],
      "execution_count": null,
      "outputs": [
        {
          "output_type": "stream",
          "name": "stdout",
          "text": [
            "Epoch 1/100\n"
          ]
        },
        {
          "output_type": "stream",
          "name": "stderr",
          "text": [
            "/usr/local/lib/python3.7/dist-packages/keras/optimizer_v2/gradient_descent.py:102: UserWarning: The `lr` argument is deprecated, use `learning_rate` instead.\n",
            "  super(SGD, self).__init__(name, **kwargs)\n"
          ]
        },
        {
          "output_type": "stream",
          "name": "stdout",
          "text": [
            "54/54 [==============================] - 48s 867ms/step - loss: 0.7002 - accuracy: 0.6309 - f1_score: nan - val_loss: 0.6740 - val_accuracy: 0.6140 - val_f1_score: nan\n",
            "Epoch 2/100\n",
            "54/54 [==============================] - 46s 859ms/step - loss: 0.6505 - accuracy: 0.6384 - f1_score: nan - val_loss: 0.6678 - val_accuracy: 0.6140 - val_f1_score: nan\n",
            "Epoch 3/100\n",
            "54/54 [==============================] - 46s 859ms/step - loss: 0.6413 - accuracy: 0.6319 - f1_score: nan - val_loss: 0.6501 - val_accuracy: 0.6140 - val_f1_score: nan\n",
            "Epoch 4/100\n",
            "54/54 [==============================] - 46s 857ms/step - loss: 0.6420 - accuracy: 0.6449 - f1_score: nan - val_loss: 0.6492 - val_accuracy: 0.6140 - val_f1_score: nan\n",
            "Epoch 5/100\n",
            "54/54 [==============================] - 46s 850ms/step - loss: 0.6135 - accuracy: 0.6486 - f1_score: nan - val_loss: 0.6433 - val_accuracy: 0.6140 - val_f1_score: nan\n",
            "Epoch 6/100\n",
            "54/54 [==============================] - 46s 850ms/step - loss: 0.6111 - accuracy: 0.6449 - f1_score: nan - val_loss: 0.6664 - val_accuracy: 0.6140 - val_f1_score: nan\n",
            "Epoch 7/100\n",
            "54/54 [==============================] - 46s 850ms/step - loss: 0.6259 - accuracy: 0.6524 - f1_score: nan - val_loss: 0.6764 - val_accuracy: 0.6140 - val_f1_score: nan\n",
            "Epoch 8/100\n",
            "54/54 [==============================] - 46s 854ms/step - loss: 0.6233 - accuracy: 0.6459 - f1_score: nan - val_loss: 0.6329 - val_accuracy: 0.6140 - val_f1_score: nan\n",
            "Epoch 9/100\n",
            "54/54 [==============================] - 46s 858ms/step - loss: 0.6042 - accuracy: 0.6468 - f1_score: nan - val_loss: 0.6322 - val_accuracy: 0.6140 - val_f1_score: nan\n",
            "Epoch 10/100\n",
            "54/54 [==============================] - 46s 858ms/step - loss: 0.5919 - accuracy: 0.6542 - f1_score: nan - val_loss: 0.6269 - val_accuracy: 0.6140 - val_f1_score: nan\n",
            "Epoch 11/100\n",
            "54/54 [==============================] - 46s 851ms/step - loss: 0.5739 - accuracy: 0.6468 - f1_score: nan - val_loss: 0.6273 - val_accuracy: 0.6140 - val_f1_score: nan\n",
            "Epoch 12/100\n",
            "54/54 [==============================] - 46s 851ms/step - loss: 0.5742 - accuracy: 0.6496 - f1_score: nan - val_loss: 0.6093 - val_accuracy: 0.6140 - val_f1_score: nan\n",
            "Epoch 13/100\n",
            "54/54 [==============================] - 46s 850ms/step - loss: 0.5752 - accuracy: 0.6524 - f1_score: nan - val_loss: 0.6074 - val_accuracy: 0.5965 - val_f1_score: nan\n",
            "Epoch 14/100\n",
            "54/54 [==============================] - 46s 850ms/step - loss: 0.6047 - accuracy: 0.6486 - f1_score: nan - val_loss: 0.6233 - val_accuracy: 0.6140 - val_f1_score: nan\n",
            "Epoch 15/100\n",
            "54/54 [==============================] - 46s 850ms/step - loss: 0.5833 - accuracy: 0.6552 - f1_score: nan - val_loss: 0.6097 - val_accuracy: 0.6140 - val_f1_score: nan\n",
            "Epoch 16/100\n",
            "54/54 [==============================] - 46s 850ms/step - loss: 0.5674 - accuracy: 0.6468 - f1_score: nan - val_loss: 0.6170 - val_accuracy: 0.6140 - val_f1_score: nan\n",
            "Epoch 17/100\n",
            "54/54 [==============================] - 46s 850ms/step - loss: 0.5655 - accuracy: 0.6542 - f1_score: nan - val_loss: 0.6109 - val_accuracy: 0.6140 - val_f1_score: nan\n",
            "Epoch 18/100\n",
            "54/54 [==============================] - 46s 851ms/step - loss: 0.5617 - accuracy: 0.6542 - f1_score: nan - val_loss: 0.6038 - val_accuracy: 0.6140 - val_f1_score: nan\n",
            "Epoch 19/100\n",
            "54/54 [==============================] - 46s 851ms/step - loss: 0.5627 - accuracy: 0.6570 - f1_score: nan - val_loss: 0.5945 - val_accuracy: 0.6140 - val_f1_score: nan\n",
            "Epoch 20/100\n",
            "54/54 [==============================] - 46s 852ms/step - loss: 0.5315 - accuracy: 0.6542 - f1_score: nan - val_loss: 0.6139 - val_accuracy: 0.6140 - val_f1_score: nan\n",
            "Epoch 21/100\n",
            "54/54 [==============================] - 46s 851ms/step - loss: 0.5379 - accuracy: 0.6561 - f1_score: nan - val_loss: 0.5884 - val_accuracy: 0.6140 - val_f1_score: nan\n",
            "Epoch 22/100\n",
            "54/54 [==============================] - 46s 852ms/step - loss: 0.5325 - accuracy: 0.6542 - f1_score: nan - val_loss: 0.5890 - val_accuracy: 0.5789 - val_f1_score: nan\n",
            "Epoch 23/100\n",
            "54/54 [==============================] - 46s 852ms/step - loss: 0.5191 - accuracy: 0.6617 - f1_score: nan - val_loss: 0.6303 - val_accuracy: 0.6140 - val_f1_score: nan\n",
            "Epoch 24/100\n",
            "54/54 [==============================] - 46s 852ms/step - loss: 0.5154 - accuracy: 0.6729 - f1_score: nan - val_loss: 0.5754 - val_accuracy: 0.6667 - val_f1_score: 0.3106\n",
            "Epoch 25/100\n",
            "54/54 [==============================] - 46s 852ms/step - loss: 0.5023 - accuracy: 0.6710 - f1_score: nan - val_loss: 0.6026 - val_accuracy: 0.6140 - val_f1_score: nan\n",
            "Epoch 26/100\n",
            "54/54 [==============================] - 46s 855ms/step - loss: 0.5191 - accuracy: 0.6831 - f1_score: nan - val_loss: 0.7519 - val_accuracy: 0.6140 - val_f1_score: nan\n",
            "Epoch 27/100\n",
            "54/54 [==============================] - 46s 857ms/step - loss: 0.5232 - accuracy: 0.6719 - f1_score: nan - val_loss: 0.5946 - val_accuracy: 0.6491 - val_f1_score: 0.2458\n",
            "Epoch 28/100\n",
            "54/54 [==============================] - 46s 857ms/step - loss: 0.5157 - accuracy: 0.7018 - f1_score: nan - val_loss: 0.6019 - val_accuracy: 0.6140 - val_f1_score: nan\n",
            "Epoch 29/100\n",
            "54/54 [==============================] - 46s 857ms/step - loss: 0.4949 - accuracy: 0.7074 - f1_score: nan - val_loss: 0.5743 - val_accuracy: 0.6842 - val_f1_score: 0.4063\n",
            "Epoch 30/100\n",
            "54/54 [==============================] - 46s 858ms/step - loss: 0.4746 - accuracy: 0.7185 - f1_score: nan - val_loss: 0.6129 - val_accuracy: 0.6842 - val_f1_score: 0.5628\n",
            "Epoch 31/100\n",
            "54/54 [==============================] - 46s 858ms/step - loss: 0.4717 - accuracy: 0.7213 - f1_score: nan - val_loss: 0.6309 - val_accuracy: 0.7193 - val_f1_score: 0.5383\n",
            "Epoch 32/100\n",
            "54/54 [==============================] - 46s 859ms/step - loss: 0.4634 - accuracy: 0.7288 - f1_score: nan - val_loss: 0.6116 - val_accuracy: 0.6316 - val_f1_score: 0.4125\n",
            "Epoch 33/100\n",
            "54/54 [==============================] - 46s 861ms/step - loss: 0.4644 - accuracy: 0.7428 - f1_score: nan - val_loss: 0.5933 - val_accuracy: 0.7368 - val_f1_score: 0.6453\n",
            "Epoch 34/100\n",
            "54/54 [==============================] - 47s 862ms/step - loss: 0.4568 - accuracy: 0.7353 - f1_score: nan - val_loss: 0.6546 - val_accuracy: 0.6842 - val_f1_score: 0.6480\n",
            "Epoch 35/100\n",
            "54/54 [==============================] - 47s 862ms/step - loss: 0.4582 - accuracy: 0.7549 - f1_score: nan - val_loss: 0.6237 - val_accuracy: 0.6140 - val_f1_score: nan\n",
            "Epoch 36/100\n",
            "54/54 [==============================] - 47s 862ms/step - loss: 0.4379 - accuracy: 0.7493 - f1_score: nan - val_loss: 0.7700 - val_accuracy: 0.6316 - val_f1_score: 0.4027\n",
            "Epoch 37/100\n",
            "54/54 [==============================] - 47s 861ms/step - loss: 0.4625 - accuracy: 0.7446 - f1_score: nan - val_loss: 0.6846 - val_accuracy: 0.6140 - val_f1_score: nan\n",
            "Epoch 38/100\n",
            "54/54 [==============================] - 46s 859ms/step - loss: 0.4592 - accuracy: 0.7679 - f1_score: nan - val_loss: 0.6222 - val_accuracy: 0.6316 - val_f1_score: 0.4397\n",
            "Epoch 39/100\n",
            "54/54 [==============================] - 46s 855ms/step - loss: 0.4166 - accuracy: 0.7661 - f1_score: 0.6020 - val_loss: 0.6038 - val_accuracy: 0.6667 - val_f1_score: 0.6248\n"
          ]
        }
      ]
    },
    {
      "cell_type": "code",
      "metadata": {
        "id": "6Rn0iI-Rm_LQ",
        "colab": {
          "base_uri": "https://localhost:8080/"
        },
        "outputId": "3c832e64-8357-43bb-9068-5b68c8a8b249"
      },
      "source": [
        "p = np.array(model6.predict(train_coronal))\n",
        "train_Ab_pred.append(p)\n",
        "p = np.array(model6.predict(test_coronal))\n",
        "test_Ab_pred.append(p)              \n",
        "score6 = model6.evaluate(test_coronal ,testAb_labels,verbose=1)       \n",
        "print('Test loss:',score6[0])\n",
        "print('Test accuracy:',score6[1])                                                          \n",
        "plt.figure()\n",
        "plt.grid()                                                                                                          \n",
        "plt.title('Training performance')                          \n",
        "plt.plot(history6.epoch, history6.history['loss'], label='train loss+error')  \n",
        "plt.plot(history6.epoch, history6.history['val_loss'], label='val_error')   \n",
        "plt.plot(history6.epoch, history6.history['f1_score'], label='f1_score')   \n",
        "plt.legend()"
      ],
      "execution_count": null,
      "outputs": [
        {
          "output_type": "stream",
          "name": "stdout",
          "text": [
            "4/4 [==============================] - 1s 358ms/step - loss: 0.8803 - accuracy: 0.6250 - f1_score: 0.6324\n",
            "Test loss: 0.8803246021270752\n",
            "Test accuracy: 0.625\n"
          ]
        },
        {
          "output_type": "execute_result",
          "data": {
            "text/plain": [
              "<matplotlib.legend.Legend at 0x7fe3bc644610>"
            ]
          },
          "metadata": {},
          "execution_count": 49
        },
        {
          "output_type": "display_data",
          "data": {
            "image/png": "[encoded data removed]",
            "text/plain": [
              "<Figure size 432x288 with 1 Axes>"
            ]
          },
          "metadata": {
            "needs_background": "light"
          }
        }
      ]
    },
    {
      "cell_type": "code",
      "source": [
        "filename = '/content/drive/MyDrive/Medical/MRNET MODEL/VGGmodel6.h5'\n",
        "model6.save(filename)\n",
        "print('>Saved %s' % filename)"
      ],
      "metadata": {
        "colab": {
          "base_uri": "https://localhost:8080/"
        },
        "id": "y5hC24kdBJHp",
        "outputId": "1e2f41ad-33a1-4335-ec94-7733eb5b8019"
      },
      "execution_count": null,
      "outputs": [
        {
          "output_type": "stream",
          "name": "stdout",
          "text": [
            ">Saved /content/drive/MyDrive/Medical/MRNET MODEL/VGGmodel6.h5\n"
          ]
        }
      ]
    },
    {
      "cell_type": "code",
      "source": [
        "clean_up(model=model6)"
      ],
      "metadata": {
        "colab": {
          "base_uri": "https://localhost:8080/"
        },
        "id": "iUK2S_nCHJgc",
        "outputId": "73175d4e-21ef-481f-c348-24419f0c462c"
      },
      "execution_count": null,
      "outputs": [
        {
          "output_type": "stream",
          "name": "stdout",
          "text": [
            "...Finished clean up...\n"
          ]
        }
      ]
    },
    {
      "cell_type": "code",
      "metadata": {
        "id": "QPaXpEFeEHRK"
      },
      "source": [
        "del train_coronal\n",
        "del test_coronal\n",
        "del coronal_dir\n",
        "del coronal_reloaded\n",
        "del coronalTest_reloaded\n",
        "del coronal_list\n",
        "del coronalTest_list\n",
        "del model4\n",
        "del model5\n",
        "del model6\n",
        "del base_model_Co_Men\n",
        "del base_model_Co_ACL\n",
        "del base_model_Co_Ab\n",
        "del p"
      ],
      "execution_count": null,
      "outputs": []
    },
    {
      "cell_type": "markdown",
      "metadata": {
        "id": "eh7IUVUIxzFM"
      },
      "source": [
        "##Sagittal Planes Scans"
      ]
    },
    {
      "cell_type": "markdown",
      "metadata": {
        "id": "f-j4PHNJEMRA"
      },
      "source": [
        "###Reading train & test data"
      ]
    },
    {
      "cell_type": "code",
      "metadata": {
        "id": "Uqm-RJB1xzFQ",
        "colab": {
          "base_uri": "https://localhost:8080/"
        },
        "outputId": "d142d36e-655c-49e6-af22-2aaf88f4382d"
      },
      "source": [
        "sagittal_dir = os.listdir(\"/content/drive/MyDrive/Medical/MRNet-v1.0/train/sagittal/\")\n",
        "sagittal_dir = [f.lower() for f in sagittal_dir]   \n",
        "c=sorted(sagittal_dir)\n",
        "sagittal_list=np.array(c)\n",
        "sagittal_reloaded=[]\n",
        "print(sagittal_list.shape)\n",
        "for j in range(1,1131):\n",
        "    file2= \"/content/drive/MyDrive/Medical/MRNet-v1.0/train/sagittal/\"+sagittal_list[j]\n",
        "    sagittal_reloaded.append(np.load(file2,allow_pickle='false'))\n",
        "sagittal_reloaded=np.array(sagittal_reloaded)\n",
        "print(sagittal_reloaded.shape)\n",
        "train_sagittal=[]\n",
        " \n",
        "for j in range(len(sagittal_reloaded)):\n",
        "    mid2=math.floor((sagittal_reloaded[j].shape[0])/2)\n",
        "    train_sagittal.append([])\n",
        "       \n",
        "    for n in range(mid2-1,mid2+2):\n",
        "         train_sagittal[j].append(sagittal_reloaded[j][n])\n",
        "\n",
        "train_sagittal=np.array(train_sagittal)\n",
        "train_sagittal=np.reshape(train_sagittal,(1130,256,256,3))\n",
        "print(train_sagittal.shape)\n",
        "sagittal_dir = os.listdir(\"/content/drive/MyDrive/Medical/MRNet-v1.0/valid/sagittal/\")\n",
        "sagittal_dir = [f.lower() for f in sagittal_dir]   \n",
        "c=sorted(sagittal_dir)\n",
        "sagittalTest_list=np.array(c)\n",
        "sagittalTest_reloaded=[]\n",
        "print(sagittalTest_list.shape)\n",
        "for j in range(0,120):\n",
        "    file2= \"/content/drive/MyDrive/Medical/MRNet-v1.0/valid/sagittal/\"+sagittalTest_list[j]\n",
        "    sagittalTest_reloaded.append(np.load(file2,allow_pickle='false'))\n",
        "\n",
        "sagittalTest_reloaded=np.array(sagittalTest_reloaded)\n",
        "print(sagittalTest_reloaded.shape)\n",
        "test_sagittal=[]\n",
        " \n",
        "for j in range(len(sagittalTest_reloaded)):\n",
        "    mid2=math.floor((sagittalTest_reloaded[j].shape[0])/2)\n",
        "    test_sagittal.append([])\n",
        "       \n",
        "    for n in range(mid2-1,mid2+2):\n",
        "         test_sagittal[j].append(sagittalTest_reloaded[j][n])\n",
        "\n",
        "test_sagittal=np.array(test_sagittal)\n",
        "test_sagittal=np.reshape(test_sagittal,(120,256,256,3))\n",
        "print(test_sagittal.shape)"
      ],
      "execution_count": null,
      "outputs": [
        {
          "output_type": "stream",
          "name": "stdout",
          "text": [
            "(1131,)\n"
          ]
        },
        {
          "output_type": "stream",
          "name": "stderr",
          "text": [
            "/usr/local/lib/python3.7/dist-packages/ipykernel_launcher.py:12: VisibleDeprecationWarning: Creating an ndarray from ragged nested sequences (which is a list-or-tuple of lists-or-tuples-or ndarrays with different lengths or shapes) is deprecated. If you meant to do this, you must specify 'dtype=object' when creating the ndarray.\n",
            "  if sys.path[0] == '':\n"
          ]
        },
        {
          "output_type": "stream",
          "name": "stdout",
          "text": [
            "(1130,)\n",
            "(1130, 256, 256, 3)\n",
            "(120,)\n",
            "(120,)\n",
            "(120, 256, 256, 3)\n"
          ]
        },
        {
          "output_type": "stream",
          "name": "stderr",
          "text": [
            "/usr/local/lib/python3.7/dist-packages/ipykernel_launcher.py:40: VisibleDeprecationWarning: Creating an ndarray from ragged nested sequences (which is a list-or-tuple of lists-or-tuples-or ndarrays with different lengths or shapes) is deprecated. If you meant to do this, you must specify 'dtype=object' when creating the ndarray.\n"
          ]
        }
      ]
    },
    {
      "cell_type": "markdown",
      "source": [
        "Also reading axial scans for future use"
      ],
      "metadata": {
        "id": "c3fhgtN2vfKf"
      }
    },
    {
      "cell_type": "code",
      "source": [
        "axial_dir = os.listdir(\"/content/drive/MyDrive/Medical/MRNet-v1.0/train/axial/\")\n",
        "axial_dir = [f.lower() for f in axial_dir]   \n",
        "a=sorted(axial_dir)\n",
        "axial_list=np.array(a)\n",
        "axial_reloaded=[]\n",
        "print(axial_list.shape)\n",
        "for j in range(1,1131):\n",
        "    file= \"/content/drive/MyDrive/Medical/MRNet-v1.0/train/axial/\"+axial_list[j]    \n",
        "    axial_reloaded.append(np.load(file,allow_pickle='false'))   \n",
        "\n",
        "axial_reloaded=np.array(axial_reloaded)\n",
        "print(axial_reloaded.shape)\n",
        "s=axial_reloaded.shape\n",
        "print(axial_reloaded[0].shape[0])\n",
        "train_axial=[]\n",
        "print(len(axial_reloaded))\n",
        "for j in range(len(axial_reloaded)):\n",
        "    mid=math.floor((axial_reloaded[j].shape[0])/2)\n",
        "    train_axial.append([])    \n",
        "\n",
        "    for n in range(mid-1,mid+2):\n",
        "         train_axial[j].append(axial_reloaded[j][n])\n",
        "train_axial=np.array(train_axial)\n",
        "train_axial=np.reshape(train_axial,(1130,256,256,3))\n",
        "print(train_axial.shape)\n",
        "axial_dir = os.listdir(\"/content/drive/MyDrive/Medical/MRNet-v1.0/valid/axial/\")\n",
        "axial_dir = [f.lower() for f in axial_dir]   \n",
        "a=sorted(axial_dir)\n",
        "axialTest_list=np.array(a)\n",
        "axialTest_reloaded=[]\n",
        "\n",
        "print(axialTest_list.shape)\n",
        "\n",
        "for j in range(0,120):\n",
        "    file= \"/content/drive/MyDrive/Medical/MRNet-v1.0/valid/axial/\"+axialTest_list[j]\n",
        "    axialTest_reloaded.append(np.load(file,allow_pickle='false'))   \n",
        "\n",
        "axialTest_reloaded=np.array(axialTest_reloaded)\n",
        "print(axialTest_reloaded.shape)\n",
        "s=axialTest_reloaded.shape\n",
        "print(axialTest_reloaded[0].shape[0])\n",
        "test_axial=[]\n",
        "print(len(axialTest_reloaded))\n",
        "for j in range(len(axialTest_reloaded)):\n",
        "    mid=math.floor((axialTest_reloaded[j].shape[0])/2)\n",
        "    test_axial.append([])    \n",
        "\n",
        "    for n in range(mid-1,mid+2):\n",
        "         test_axial[j].append(axialTest_reloaded[j][n])\n",
        "test_axial=np.array(test_axial)\n",
        "test_axial=np.reshape(test_axial,(120,256,256,3))\n",
        "print(test_axial.shape)"
      ],
      "metadata": {
        "id": "uRxuqxZHJf9G",
        "colab": {
          "base_uri": "https://localhost:8080/"
        },
        "outputId": "9e994ffc-9adb-48aa-fdb5-6660c93f2edb"
      },
      "execution_count": null,
      "outputs": [
        {
          "output_type": "stream",
          "name": "stdout",
          "text": [
            "(1131,)\n"
          ]
        },
        {
          "output_type": "stream",
          "name": "stderr",
          "text": [
            "/usr/local/lib/python3.7/dist-packages/ipykernel_launcher.py:13: VisibleDeprecationWarning: Creating an ndarray from ragged nested sequences (which is a list-or-tuple of lists-or-tuples-or ndarrays with different lengths or shapes) is deprecated. If you meant to do this, you must specify 'dtype=object' when creating the ndarray.\n",
            "  del sys.path[0]\n"
          ]
        },
        {
          "output_type": "stream",
          "name": "stdout",
          "text": [
            "(1130,)\n",
            "44\n",
            "1130\n",
            "(1130, 256, 256, 3)\n",
            "(120,)\n",
            "(120,)\n",
            "25\n",
            "120\n",
            "(120, 256, 256, 3)\n"
          ]
        },
        {
          "output_type": "stream",
          "name": "stderr",
          "text": [
            "/usr/local/lib/python3.7/dist-packages/ipykernel_launcher.py:47: VisibleDeprecationWarning: Creating an ndarray from ragged nested sequences (which is a list-or-tuple of lists-or-tuples-or ndarrays with different lengths or shapes) is deprecated. If you meant to do this, you must specify 'dtype=object' when creating the ndarray.\n"
          ]
        }
      ]
    },
    {
      "cell_type": "markdown",
      "metadata": {
        "id": "ZhRgNysBy9HJ"
      },
      "source": [
        "#### Finetuning ResNet50 Model for Sagittal Plane Scanes checking for Mensical Condition"
      ]
    },
    {
      "cell_type": "code",
      "metadata": {
        "id": "2c_Dtv7Jy9HP",
        "colab": {
          "base_uri": "https://localhost:8080/"
        },
        "outputId": "1f4b5e4a-0cb3-4191-a07f-3157c57873f2"
      },
      "source": [
        "input_tensor = Input(shape=(256, 256,3))  \n",
        "base_model_Sa_Men = VGG16(input_tensor=input_tensor, weights='imagenet', include_top=False)"
      ],
      "execution_count": null,
      "outputs": [
        {
          "output_type": "stream",
          "name": "stdout",
          "text": [
            "Downloading data from https://storage.googleapis.com/tensorflow/keras-applications/vgg16/vgg16_weights_tf_dim_ordering_tf_kernels_notop.h5\n",
            "58892288/58889256 [==============================] - 1s 0us/step\n",
            "58900480/58889256 [==============================] - 1s 0us/step\n"
          ]
        }
      ]
    },
    {
      "cell_type": "code",
      "metadata": {
        "id": "Cde65r48y9Hd"
      },
      "source": [
        "x = base_model_Sa_Men.output\n",
        "x = GlobalAveragePooling2D()(x)\n",
        "x=Dropout(0.2)(x)\n",
        "x = Dense(1024, activation='relu')(x)\n",
        "x=Dropout(0.2)(x)\n",
        "x=Dropout(0.2)(x)\n",
        "predictions = Dense(1, activation='sigmoid')(x)\n",
        "model7 = Model(inputs=base_model_Sa_Men.input,outputs=predictions)"
      ],
      "execution_count": null,
      "outputs": []
    },
    {
      "cell_type": "code",
      "metadata": {
        "id": "1fBMXXA4y9Hj"
      },
      "source": [
        "for layer in model7.layers[:15]:\n",
        "   layer.trainable = True\n",
        "for layer in model7.layers[15:]:\n",
        "   layer.trainable = True"
      ],
      "execution_count": null,
      "outputs": []
    },
    {
      "cell_type": "code",
      "source": [
        "trainMen_labels = np.array(trainMen_labels)"
      ],
      "metadata": {
        "id": "Ml-ISqmzKQHN"
      },
      "execution_count": null,
      "outputs": []
    },
    {
      "cell_type": "code",
      "metadata": {
        "id": "vzHwBUqyy9Hm",
        "colab": {
          "base_uri": "https://localhost:8080/"
        },
        "outputId": "aaecb827-a7e0-41a7-c885-c20120100e19"
      },
      "source": [
        "early_stopping_monitor = EarlyStopping(patience=10)    \n",
        "model7.compile(optimizer=SGD(lr=0.001,momentum=0.9), loss='binary_crossentropy',metrics=['accuracy',f1_score])\n",
        "history7=model7.fit(train_sagittal ,trainMen_labels, validation_split=0.05,shuffle=True ,epochs=100, callbacks=[early_stopping_monitor], batch_size = 20)"
      ],
      "execution_count": null,
      "outputs": [
        {
          "output_type": "stream",
          "name": "stderr",
          "text": [
            "/usr/local/lib/python3.7/dist-packages/keras/optimizer_v2/gradient_descent.py:102: UserWarning: The `lr` argument is deprecated, use `learning_rate` instead.\n",
            "  super(SGD, self).__init__(name, **kwargs)\n"
          ]
        },
        {
          "output_type": "stream",
          "name": "stdout",
          "text": [
            "Epoch 1/100\n",
            "54/54 [==============================] - 49s 872ms/step - loss: 0.8814 - accuracy: 0.6253 - f1_score: nan - val_loss: 0.6869 - val_accuracy: 0.6140 - val_f1_score: nan\n",
            "Epoch 2/100\n",
            "54/54 [==============================] - 45s 842ms/step - loss: 0.6757 - accuracy: 0.6505 - f1_score: nan - val_loss: 0.6755 - val_accuracy: 0.6140 - val_f1_score: nan\n",
            "Epoch 3/100\n",
            "54/54 [==============================] - 45s 841ms/step - loss: 0.6629 - accuracy: 0.6505 - f1_score: nan - val_loss: 0.6697 - val_accuracy: 0.6140 - val_f1_score: nan\n",
            "Epoch 4/100\n",
            "54/54 [==============================] - 45s 840ms/step - loss: 0.6555 - accuracy: 0.6505 - f1_score: nan - val_loss: 0.6675 - val_accuracy: 0.6140 - val_f1_score: nan\n",
            "Epoch 5/100\n",
            "54/54 [==============================] - 45s 839ms/step - loss: 0.6514 - accuracy: 0.6505 - f1_score: nan - val_loss: 0.6669 - val_accuracy: 0.6140 - val_f1_score: nan\n",
            "Epoch 6/100\n",
            "54/54 [==============================] - 45s 840ms/step - loss: 0.6500 - accuracy: 0.6505 - f1_score: nan - val_loss: 0.6670 - val_accuracy: 0.6140 - val_f1_score: nan\n",
            "Epoch 7/100\n",
            "54/54 [==============================] - 45s 840ms/step - loss: 0.6483 - accuracy: 0.6505 - f1_score: nan - val_loss: 0.6673 - val_accuracy: 0.6140 - val_f1_score: nan\n",
            "Epoch 8/100\n",
            "54/54 [==============================] - 45s 840ms/step - loss: 0.6481 - accuracy: 0.6505 - f1_score: nan - val_loss: 0.6679 - val_accuracy: 0.6140 - val_f1_score: nan\n",
            "Epoch 9/100\n",
            "54/54 [==============================] - 45s 840ms/step - loss: 0.6474 - accuracy: 0.6505 - f1_score: nan - val_loss: 0.6683 - val_accuracy: 0.6140 - val_f1_score: nan\n",
            "Epoch 10/100\n",
            "54/54 [==============================] - 45s 840ms/step - loss: 0.6473 - accuracy: 0.6505 - f1_score: nan - val_loss: 0.6686 - val_accuracy: 0.6140 - val_f1_score: nan\n",
            "Epoch 11/100\n",
            "54/54 [==============================] - 45s 840ms/step - loss: 0.6473 - accuracy: 0.6505 - f1_score: nan - val_loss: 0.6690 - val_accuracy: 0.6140 - val_f1_score: nan\n",
            "Epoch 12/100\n",
            "54/54 [==============================] - 45s 840ms/step - loss: 0.6470 - accuracy: 0.6505 - f1_score: nan - val_loss: 0.6691 - val_accuracy: 0.6140 - val_f1_score: nan\n",
            "Epoch 13/100\n",
            "54/54 [==============================] - 45s 840ms/step - loss: 0.6473 - accuracy: 0.6505 - f1_score: nan - val_loss: 0.6693 - val_accuracy: 0.6140 - val_f1_score: nan\n",
            "Epoch 14/100\n",
            "54/54 [==============================] - 45s 840ms/step - loss: 0.6469 - accuracy: 0.6505 - f1_score: nan - val_loss: 0.6696 - val_accuracy: 0.6140 - val_f1_score: nan\n",
            "Epoch 15/100\n",
            "54/54 [==============================] - 45s 840ms/step - loss: 0.6470 - accuracy: 0.6505 - f1_score: nan - val_loss: 0.6696 - val_accuracy: 0.6140 - val_f1_score: nan\n"
          ]
        }
      ]
    },
    {
      "cell_type": "code",
      "metadata": {
        "id": "B_Ql5qSTy9Hp",
        "colab": {
          "base_uri": "https://localhost:8080/"
        },
        "outputId": "214c4d33-03d1-4024-b2b4-233dfc8bbe7d"
      },
      "source": [
        "p = np.array(model7.predict(train_sagittal))\n",
        "train_Men_pred.append(p)\n",
        "p = np.array(model7.predict(test_sagittal))\n",
        "test_Men_pred.append(p)            \n",
        "score7 = model7.evaluate(test_sagittal ,testMen_labels,verbose=1)       \n",
        "print('Test loss:',score7[0])\n",
        "print('Test accuracy:',score7[1])                                                         \n",
        "plt.figure()\n",
        "plt.grid()                                                                                                \n",
        "plt.title('Training performance')                          \n",
        "plt.plot(history7.epoch, history7.history['loss'], label='train loss+error')  \n",
        "plt.plot(history7.epoch, history7.history['val_loss'], label='val_error')\n",
        "plt.plot(history7.epoch, history7.history['f1_score'], label='f1_score')\n",
        "plt.legend()"
      ],
      "execution_count": null,
      "outputs": [
        {
          "output_type": "stream",
          "name": "stdout",
          "text": [
            "4/4 [==============================] - 1s 356ms/step - loss: 0.6987 - accuracy: 0.5667 - f1_score: nan\n",
            "Test loss: 0.6986700892448425\n",
            "Test accuracy: 0.5666666626930237\n"
          ]
        },
        {
          "output_type": "execute_result",
          "data": {
            "text/plain": [
              "<matplotlib.legend.Legend at 0x7fe3bd3e3490>"
            ]
          },
          "metadata": {},
          "execution_count": 60
        },
        {
          "output_type": "display_data",
          "data": {
            "image/png": "[encoded data removed]",
            "text/plain": [
              "<Figure size 432x288 with 1 Axes>"
            ]
          },
          "metadata": {
            "needs_background": "light"
          }
        }
      ]
    },
    {
      "cell_type": "code",
      "source": [
        "filename = '/content/drive/MyDrive/Medical/MRNET MODEL/VGGmodel7.h5'\n",
        "model7.save(filename)\n",
        "print('>Saved %s' % filename)\n",
        "clean_up(model=model7)"
      ],
      "metadata": {
        "colab": {
          "base_uri": "https://localhost:8080/"
        },
        "id": "_UhIWFPTBPFz",
        "outputId": "e9e1de2c-f1f9-4b5f-ca73-a5f2c50d2d85"
      },
      "execution_count": null,
      "outputs": [
        {
          "output_type": "stream",
          "name": "stdout",
          "text": [
            ">Saved /content/drive/MyDrive/Medical/MRNET MODEL/VGGmodel7.h5\n",
            "...Finished clean up...\n"
          ]
        }
      ]
    },
    {
      "cell_type": "markdown",
      "metadata": {
        "id": "JWF36DXt0lj1"
      },
      "source": [
        "#### Finetuning ResNet50 Model for Sagittal Plane Scanes checking for ACL Condition"
      ]
    },
    {
      "cell_type": "code",
      "metadata": {
        "id": "u6ItTeBD0lj4"
      },
      "source": [
        "input_tensor = Input(shape=(256, 256,3))  \n",
        "base_model_Sa_ACL = VGG16(input_tensor=input_tensor, weights='imagenet', include_top=False)"
      ],
      "execution_count": null,
      "outputs": []
    },
    {
      "cell_type": "code",
      "metadata": {
        "id": "2Xe_fFX40lkE"
      },
      "source": [
        "x = base_model_Sa_ACL.output\n",
        "x = GlobalAveragePooling2D()(x)\n",
        "x=Dropout(0.2)(x)\n",
        "x = Dense(1024, activation='relu')(x)\n",
        "x=Dropout(0.2)(x)\n",
        "x=Dropout(0.2)(x)\n",
        "predictions = Dense(1, activation='sigmoid')(x)\n",
        "model8 = Model(inputs=base_model_Sa_ACL.input,outputs=predictions)"
      ],
      "execution_count": null,
      "outputs": []
    },
    {
      "cell_type": "code",
      "metadata": {
        "id": "nrvR0Zko0lkK"
      },
      "source": [
        "for layer in model8.layers[:15]:\n",
        "   layer.trainable = True\n",
        "for layer in model8.layers[15:]:\n",
        "   layer.trainable = True"
      ],
      "execution_count": null,
      "outputs": []
    },
    {
      "cell_type": "code",
      "metadata": {
        "id": "7lgg-EjL0lkP",
        "colab": {
          "base_uri": "https://localhost:8080/"
        },
        "outputId": "b1d072ff-9ff2-43b7-a7de-1a55a3c1704d"
      },
      "source": [
        "early_stopping_monitor = EarlyStopping(patience=5)\n",
        "model8.compile(optimizer=SGD(lr=0.001,momentum=0.9), loss='binary_crossentropy',metrics=['accuracy',f1_score])\n",
        "history8=model8.fit(train_sagittal ,trainACL_labels, validation_split=0.05,shuffle=True ,epochs=100, callbacks=[early_stopping_monitor], batch_size = 20)"
      ],
      "execution_count": null,
      "outputs": [
        {
          "output_type": "stream",
          "name": "stdout",
          "text": [
            "Epoch 1/100\n"
          ]
        },
        {
          "output_type": "stream",
          "name": "stderr",
          "text": [
            "/usr/local/lib/python3.7/dist-packages/keras/optimizer_v2/gradient_descent.py:102: UserWarning: The `lr` argument is deprecated, use `learning_rate` instead.\n",
            "  super(SGD, self).__init__(name, **kwargs)\n"
          ]
        },
        {
          "output_type": "stream",
          "name": "stdout",
          "text": [
            "54/54 [==============================] - 49s 877ms/step - loss: 0.7382 - accuracy: 0.7512 - f1_score: nan - val_loss: 0.4712 - val_accuracy: 0.8421 - val_f1_score: nan\n",
            "Epoch 2/100\n",
            "54/54 [==============================] - 47s 868ms/step - loss: 0.5241 - accuracy: 0.8108 - f1_score: nan - val_loss: 0.4668 - val_accuracy: 0.8421 - val_f1_score: nan\n",
            "Epoch 3/100\n",
            "54/54 [==============================] - 47s 868ms/step - loss: 0.5167 - accuracy: 0.8145 - f1_score: nan - val_loss: 0.4254 - val_accuracy: 0.8421 - val_f1_score: nan\n",
            "Epoch 4/100\n",
            "54/54 [==============================] - 47s 869ms/step - loss: 0.5186 - accuracy: 0.8145 - f1_score: nan - val_loss: 0.4406 - val_accuracy: 0.8421 - val_f1_score: nan\n",
            "Epoch 5/100\n",
            "54/54 [==============================] - 47s 870ms/step - loss: 0.5028 - accuracy: 0.8145 - f1_score: nan - val_loss: 0.4417 - val_accuracy: 0.8421 - val_f1_score: nan\n",
            "Epoch 6/100\n",
            "54/54 [==============================] - 47s 870ms/step - loss: 0.4797 - accuracy: 0.8145 - f1_score: nan - val_loss: 0.4310 - val_accuracy: 0.8421 - val_f1_score: nan\n",
            "Epoch 7/100\n",
            "54/54 [==============================] - 47s 871ms/step - loss: 0.4969 - accuracy: 0.8145 - f1_score: nan - val_loss: 0.4470 - val_accuracy: 0.8421 - val_f1_score: nan\n",
            "Epoch 8/100\n",
            "54/54 [==============================] - 47s 872ms/step - loss: 0.4708 - accuracy: 0.8127 - f1_score: nan - val_loss: 0.4343 - val_accuracy: 0.8421 - val_f1_score: nan\n"
          ]
        }
      ]
    },
    {
      "cell_type": "code",
      "metadata": {
        "id": "4GxoI6J90lkY",
        "colab": {
          "base_uri": "https://localhost:8080/"
        },
        "outputId": "21a307bc-e8bc-40be-de1b-12857e254454"
      },
      "source": [
        "p = np.array(model8.predict(train_sagittal))\n",
        "train_ACL_pred.append(p)\n",
        "p = np.array(model8.predict(test_sagittal))\n",
        "test_ACL_pred.append(p)                       \n",
        "score8 = model8.evaluate(test_sagittal ,testACL_labels,verbose=1)       \n",
        "print('Test loss:',score8[0])\n",
        "print('Test accuracy:',score8[1])                                                                   \n",
        "plt.figure()\n",
        "plt.grid()                                                                                                         \n",
        "plt.title('Training performance')                          \n",
        "plt.plot(history8.epoch, history8.history['loss'], label='train loss+error')  \n",
        "plt.plot(history8.epoch, history8.history['val_loss'], label='val_error')\n",
        "plt.plot(history8.epoch, history8.history['f1_score'], label='f1_score')\n",
        "plt.legend()"
      ],
      "execution_count": null,
      "outputs": [
        {
          "output_type": "stream",
          "name": "stdout",
          "text": [
            "4/4 [==============================] - 1s 361ms/step - loss: 0.7610 - accuracy: 0.5500 - f1_score: nan\n",
            "Test loss: 0.7609687447547913\n",
            "Test accuracy: 0.550000011920929\n"
          ]
        },
        {
          "output_type": "execute_result",
          "data": {
            "text/plain": [
              "<matplotlib.legend.Legend at 0x7fe3bcf0bb50>"
            ]
          },
          "metadata": {},
          "execution_count": 66
        },
        {
          "output_type": "display_data",
          "data": {
            "image/png": "[encoded data removed]",
            "text/plain": [
              "<Figure size 432x288 with 1 Axes>"
            ]
          },
          "metadata": {
            "needs_background": "light"
          }
        }
      ]
    },
    {
      "cell_type": "code",
      "source": [
        "filename = '/content/drive/MyDrive/Medical/MRNET MODEL/VGGmodel8.h5'\n",
        "model8.save(filename)\n",
        "print('>Saved %s' % filename)\n",
        "clean_up(model=model8)"
      ],
      "metadata": {
        "colab": {
          "base_uri": "https://localhost:8080/"
        },
        "id": "czkeMRbjBStB",
        "outputId": "781ac821-e580-4427-aabe-887ca5abee77"
      },
      "execution_count": null,
      "outputs": [
        {
          "output_type": "stream",
          "name": "stdout",
          "text": [
            ">Saved /content/drive/MyDrive/Medical/MRNET MODEL/VGGmodel8.h5\n",
            "...Finished clean up...\n"
          ]
        }
      ]
    },
    {
      "cell_type": "markdown",
      "metadata": {
        "id": "QntZqwr22Qqu"
      },
      "source": [
        "#### Finetuning ResNet50 Model for Sagittal Plane Scanes checking for Abnormal Condition"
      ]
    },
    {
      "cell_type": "code",
      "metadata": {
        "id": "W6WQFKWN2Qqx"
      },
      "source": [
        "input_tensor = Input(shape=(256, 256,3))  \n",
        "base_model_Sa_Ab = VGG16(input_tensor=input_tensor, weights='imagenet', include_top=False)"
      ],
      "execution_count": null,
      "outputs": []
    },
    {
      "cell_type": "code",
      "metadata": {
        "id": "0-M3wkWd2Qq5"
      },
      "source": [
        "x = base_model_Sa_Ab.output\n",
        "x = GlobalAveragePooling2D()(x)\n",
        "x=Dropout(0.2)(x)\n",
        "x = Dense(1024, activation='relu')(x)\n",
        "x=Dropout(0.2)(x)\n",
        "x=Dropout(0.2)(x)\n",
        "predictions = Dense(1, activation='sigmoid')(x)\n",
        "model9 = Model(inputs=base_model_Sa_Ab.input,outputs=predictions)"
      ],
      "execution_count": null,
      "outputs": []
    },
    {
      "cell_type": "code",
      "metadata": {
        "id": "l-F3Exud2Qq_"
      },
      "source": [
        "for layer in model9.layers[:15]:\n",
        "   layer.trainable = True\n",
        "for layer in model9.layers[15:]:\n",
        "   layer.trainable = True"
      ],
      "execution_count": null,
      "outputs": []
    },
    {
      "cell_type": "code",
      "metadata": {
        "id": "WAMH3it52QrK",
        "colab": {
          "base_uri": "https://localhost:8080/"
        },
        "outputId": "63ad6158-4ba3-4aaa-d81f-f5d90ff7b540"
      },
      "source": [
        "early_stopping_monitor = EarlyStopping(patience=10)    \n",
        "model9.compile(optimizer=SGD(lr=0.001,momentum=0.9), loss='binary_crossentropy',metrics=['accuracy',f1_score])\n",
        "history9=model9.fit(train_sagittal ,trainAb_labels, validation_split=0.05,shuffle=True ,epochs=100, callbacks=[early_stopping_monitor], batch_size = 20)"
      ],
      "execution_count": null,
      "outputs": [
        {
          "output_type": "stream",
          "name": "stderr",
          "text": [
            "/usr/local/lib/python3.7/dist-packages/keras/optimizer_v2/gradient_descent.py:102: UserWarning: The `lr` argument is deprecated, use `learning_rate` instead.\n",
            "  super(SGD, self).__init__(name, **kwargs)\n"
          ]
        },
        {
          "output_type": "stream",
          "name": "stdout",
          "text": [
            "Epoch 1/100\n",
            "54/54 [==============================] - 85s 1s/step - loss: 1.0111 - accuracy: 0.5974 - f1_score: nan - val_loss: 0.6822 - val_accuracy: 0.6140 - val_f1_score: nan\n",
            "Epoch 2/100\n",
            "54/54 [==============================] - 55s 1s/step - loss: 0.6714 - accuracy: 0.6505 - f1_score: nan - val_loss: 0.6741 - val_accuracy: 0.6140 - val_f1_score: nan\n",
            "Epoch 3/100\n",
            "54/54 [==============================] - 55s 1s/step - loss: 0.6612 - accuracy: 0.6505 - f1_score: nan - val_loss: 0.6692 - val_accuracy: 0.6140 - val_f1_score: nan\n",
            "Epoch 4/100\n",
            "54/54 [==============================] - 55s 1s/step - loss: 0.6554 - accuracy: 0.6505 - f1_score: nan - val_loss: 0.6675 - val_accuracy: 0.6140 - val_f1_score: nan\n",
            "Epoch 5/100\n",
            "54/54 [==============================] - 55s 1s/step - loss: 0.6523 - accuracy: 0.6505 - f1_score: nan - val_loss: 0.6670 - val_accuracy: 0.6140 - val_f1_score: nan\n",
            "Epoch 6/100\n",
            "54/54 [==============================] - 55s 1s/step - loss: 0.6497 - accuracy: 0.6505 - f1_score: nan - val_loss: 0.6670 - val_accuracy: 0.6140 - val_f1_score: nan\n",
            "Epoch 7/100\n",
            "54/54 [==============================] - 55s 1s/step - loss: 0.6484 - accuracy: 0.6505 - f1_score: nan - val_loss: 0.6673 - val_accuracy: 0.6140 - val_f1_score: nan\n",
            "Epoch 8/100\n",
            "54/54 [==============================] - 55s 1s/step - loss: 0.6480 - accuracy: 0.6505 - f1_score: nan - val_loss: 0.6676 - val_accuracy: 0.6140 - val_f1_score: nan\n",
            "Epoch 9/100\n",
            "54/54 [==============================] - 55s 1s/step - loss: 0.6478 - accuracy: 0.6505 - f1_score: nan - val_loss: 0.6679 - val_accuracy: 0.6140 - val_f1_score: nan\n",
            "Epoch 10/100\n",
            "54/54 [==============================] - 55s 1s/step - loss: 0.6478 - accuracy: 0.6505 - f1_score: nan - val_loss: 0.6684 - val_accuracy: 0.6140 - val_f1_score: nan\n",
            "Epoch 11/100\n",
            "54/54 [==============================] - 55s 1s/step - loss: 0.6471 - accuracy: 0.6505 - f1_score: nan - val_loss: 0.6686 - val_accuracy: 0.6140 - val_f1_score: nan\n",
            "Epoch 12/100\n",
            "54/54 [==============================] - 55s 1s/step - loss: 0.6475 - accuracy: 0.6505 - f1_score: nan - val_loss: 0.6689 - val_accuracy: 0.6140 - val_f1_score: nan\n",
            "Epoch 13/100\n",
            "54/54 [==============================] - 55s 1s/step - loss: 0.6476 - accuracy: 0.6505 - f1_score: nan - val_loss: 0.6691 - val_accuracy: 0.6140 - val_f1_score: nan\n",
            "Epoch 14/100\n",
            "54/54 [==============================] - 55s 1s/step - loss: 0.6474 - accuracy: 0.6505 - f1_score: nan - val_loss: 0.6691 - val_accuracy: 0.6140 - val_f1_score: nan\n",
            "Epoch 15/100\n",
            "54/54 [==============================] - 55s 1s/step - loss: 0.6469 - accuracy: 0.6505 - f1_score: nan - val_loss: 0.6693 - val_accuracy: 0.6140 - val_f1_score: nan\n"
          ]
        }
      ]
    },
    {
      "cell_type": "code",
      "metadata": {
        "id": "bb_cHRLb2QrW",
        "colab": {
          "base_uri": "https://localhost:8080/",
          "height": 354
        },
        "outputId": "4e3d2bb4-e661-4117-d38f-55b2daf6883b"
      },
      "source": [
        "p = np.array(model9.predict(train_sagittal))\n",
        "train_Ab_pred.append(p)\n",
        "p = np.array(model9.predict(test_sagittal))\n",
        "test_Ab_pred.append(p)                       \n",
        "score9 = model9.evaluate(test_sagittal ,testAb_labels,verbose=1)       \n",
        "print('Test loss:',score9[0])\n",
        "print('Test accuracy:',score9[1])                                                                   \n",
        "plt.figure()\n",
        "plt.grid()                                                                                                       \n",
        "plt.title('Training performance')                          \n",
        "plt.plot(history9.epoch, history9.history['loss'], label='train loss+error')  \n",
        "plt.plot(history9.epoch, history9.history['val_loss'], label='val_error')\n",
        "plt.plot(history9.epoch, history9.history['f1_score'], label='f1_score')\n",
        "plt.legend()"
      ],
      "execution_count": null,
      "outputs": [
        {
          "output_type": "stream",
          "name": "stdout",
          "text": [
            "4/4 [==============================] - 2s 422ms/step - loss: 0.9162 - accuracy: 0.2083 - f1_score: nan\n",
            "Test loss: 0.9161697626113892\n",
            "Test accuracy: 0.2083333283662796\n"
          ]
        },
        {
          "output_type": "execute_result",
          "data": {
            "text/plain": [
              "<matplotlib.legend.Legend at 0x7f3cc9ed81d0>"
            ]
          },
          "metadata": {},
          "execution_count": 18
        },
        {
          "output_type": "display_data",
          "data": {
            "image/png": "[encoded data removed]",
            "text/plain": [
              "<Figure size 432x288 with 1 Axes>"
            ]
          },
          "metadata": {
            "needs_background": "light"
          }
        }
      ]
    },
    {
      "cell_type": "code",
      "source": [
        "filename = '/content/drive/MyDrive/Medical/MRNET MODEL/VGGmodel9.h5'\n",
        "model9.save(filename)\n",
        "print('>Saved %s' % filename)\n",
        "clean_up(model=model9)"
      ],
      "metadata": {
        "id": "YCBVv3zEJv6z"
      },
      "execution_count": null,
      "outputs": []
    },
    {
      "cell_type": "code",
      "metadata": {
        "id": "TlbunAuE2Qre"
      },
      "source": [
        "del train_sagittal\n",
        "del test_sagittal\n",
        "del sagittal_dir\n",
        "del sagittal_reloaded\n",
        "del sagittalTest_reloaded\n",
        "del sagittal_list\n",
        "del sagittalTest_list\n",
        "del model7\n",
        "del model8\n",
        "del model9\n",
        "del base_model_Sa_Men\n",
        "del base_model_Sa_ACL\n",
        "del base_model_Sa_Ab\n",
        "del p"
      ],
      "execution_count": null,
      "outputs": []
    },
    {
      "cell_type": "markdown",
      "metadata": {
        "id": "p8rTxtG6vzbk"
      },
      "source": [
        "##Ensembling\n",
        "\n",
        "---\n",
        "We ensemble the models for each state detection for three planes Axial,Coronal and Sagittal respectively and train a Sequential model with input being probabitity of condition detection by indiviual model and output again being probability person has the condition. We give original label for evaluation of the method.\n",
        "\n",
        "`We couldnt run this for VGG16 as we ran out of Memory/RAM in colab but this worked with other baselines models like ResNet50`"
      ]
    },
    {
      "cell_type": "markdown",
      "metadata": {
        "id": "D2thlG5_12K_"
      },
      "source": [
        "#### Meniscal Condition Detection"
      ]
    },
    {
      "cell_type": "code",
      "metadata": {
        "id": "woSckwh419pD"
      },
      "source": [
        "train_Men_pred = np.array(train_Men_pred)\n",
        "print(train_Men_pred.shape)\n",
        "test_Men_pred = np.array(test_Men_pred)\n",
        "print(test_Men_pred.shape)\n",
        "train_Men_pred = train_Men_pred.reshape((1130,3))\n",
        "test_Men_pred = test_Men_pred.reshape((120,3))\n",
        "print(train_Men_pred)"
      ],
      "execution_count": null,
      "outputs": []
    },
    {
      "cell_type": "code",
      "metadata": {
        "id": "4LsT7P9j31am"
      },
      "source": [
        "menModel = Sequential()\n",
        "menModel.add(Dense(1, activation='sigmoid', input_dim=3))\n",
        "menModel.compile(loss='binary_crossentropy', optimizer='adam', metrics=['acc',f1_score])\n",
        "h = menModel.fit(train_Men_pred, trainMen_labels, batch_size=32, epochs=50, verbose=1)"
      ],
      "execution_count": null,
      "outputs": []
    },
    {
      "cell_type": "code",
      "metadata": {
        "id": "NqS1xDpo4LjW"
      },
      "source": [
        "loss, acc, f1 = menModel.evaluate(test_Men_pred, testMen_labels)\n",
        "p1 = menModel.predict(test_Men_pred)\n",
        "print(\"Loss: \", loss)\n",
        "print('Accuracy: ', acc)                                                  \n",
        "plt.figure()\n",
        "plt.grid()                                                           \n",
        "plt.title('Testing performance')                          \n",
        "plt.plot(h.epoch, h.history['loss'], label='train loss+error')  \n",
        "plt.plot(h.epoch, h.history['f1_score'], label='f1_score')\n",
        "plt.legend()"
      ],
      "execution_count": null,
      "outputs": []
    },
    {
      "cell_type": "code",
      "metadata": {
        "id": "oiKi1DebC4X8"
      },
      "source": [
        "del train_Men_pred\n",
        "del menModel"
      ],
      "execution_count": null,
      "outputs": []
    },
    {
      "cell_type": "markdown",
      "metadata": {
        "id": "pJs7J20U4lGu"
      },
      "source": [
        "#### ACL Condition Detection"
      ]
    },
    {
      "cell_type": "code",
      "metadata": {
        "id": "Za99XogRCz-n"
      },
      "source": [
        "train_ACL_pred = np.array(train_ACL_pred)\n",
        "print(train_ACL_pred.shape)\n",
        "test_ACL_pred = np.array(test_ACL_pred)\n",
        "print(test_Men_pred.shape)\n",
        "train_ACL_pred = train_ACL_pred.reshape((1130,3))\n",
        "test_ACL_pred = test_ACL_pred.reshape((120,3))\n",
        "print(test_ACL_pred)"
      ],
      "execution_count": null,
      "outputs": []
    },
    {
      "cell_type": "code",
      "metadata": {
        "id": "sHllxCwuCz-2"
      },
      "source": [
        "menModel = Sequential()\n",
        "menModel.add(Dense(1, activation='sigmoid', input_dim=3))\n",
        "menModel.compile(loss='binary_crossentropy', optimizer='adam', metrics=['accuracy',f1_score])\n",
        "h = menModel.fit(train_ACL_pred, trainACL_labels, batch_size=32, epochs=50, verbose=1)"
      ],
      "execution_count": null,
      "outputs": []
    },
    {
      "cell_type": "code",
      "metadata": {
        "id": "LPmLLhj1Cz_A"
      },
      "source": [
        "loss, acc, f1 = menModel.evaluate(test_ACL_pred, testACL_labels)\n",
        "p2 = menModel.predict(test_ACL_pred)\n",
        "print(\"Loss: \", loss)\n",
        "print('Accuracy: ', acc)                                \n",
        "plt.figure()\n",
        "plt.grid()                                                                                                       \n",
        "plt.title('Testing performance')                          \n",
        "plt.plot(h.epoch, h.history['loss'], label='train loss+error')  \n",
        "plt.plot(h.epoch, h.history['f1_score'], label='f1_score')\n",
        "plt.legend()"
      ],
      "execution_count": null,
      "outputs": []
    },
    {
      "cell_type": "code",
      "metadata": {
        "id": "dm6Y7ofiDmgr"
      },
      "source": [
        "del train_ACL_pred\n",
        "del menModel"
      ],
      "execution_count": null,
      "outputs": []
    },
    {
      "cell_type": "markdown",
      "metadata": {
        "id": "VXE1feJ7D_qQ"
      },
      "source": [
        "#### Abnormal Condition Detection"
      ]
    },
    {
      "cell_type": "code",
      "source": [
        "np.isnan(np.sum(trainAb_labels))"
      ],
      "metadata": {
        "id": "_6_8RiNlrRWT"
      },
      "execution_count": null,
      "outputs": []
    },
    {
      "cell_type": "code",
      "metadata": {
        "id": "UvKiF1LmEOlO"
      },
      "source": [
        "train_Ab_pred = np.array(train_Ab_pred)\n",
        "print(train_Ab_pred.shape)\n",
        "test_Ab_pred = np.array(test_Ab_pred)\n",
        "print(test_Ab_pred.shape)\n",
        "train_Ab_pred = train_Ab_pred.reshape((1130,3))\n",
        "test_Ab_pred = test_Ab_pred.reshape((120,3))\n",
        "print(test_ACL_pred)"
      ],
      "execution_count": null,
      "outputs": []
    },
    {
      "cell_type": "code",
      "metadata": {
        "id": "WM7sx5NGEOlj"
      },
      "source": [
        "abModel = Sequential()\n",
        "abModel.add(Dense(1, activation='sigmoid', input_dim=3))\n",
        "abModel.compile(loss='binary_crossentropy', optimizer='adam', metrics=['acc',f1_score] )\n",
        "h = abModel.fit(train_Ab_pred, trainAb_labels, batch_size=32, epochs=50, verbose=1)"
      ],
      "execution_count": null,
      "outputs": []
    },
    {
      "cell_type": "code",
      "metadata": {
        "id": "RiP0cFwPEOly"
      },
      "source": [
        "loss, acc, f1 = abModel.evaluate(test_Ab_pred, testAb_labels)\n",
        "p3 = abModel.predict(test_Ab_pred)\n",
        "print(\"Loss: \", loss)\n",
        "print('Accuracy: ', acc)                                  \n",
        "plt.figure()\n",
        "plt.grid()                                                                                                       \n",
        "plt.title('Testing performance')                          \n",
        "plt.plot(h.epoch, h.history['loss'], label='train loss+error')  \n",
        "plt.plot(h.epoch, h.history['f1_score'], label='f1_score')\n",
        "plt.legend()"
      ],
      "execution_count": null,
      "outputs": []
    },
    {
      "cell_type": "code",
      "metadata": {
        "id": "EBX_Lnb8EOl8"
      },
      "source": [
        "del train_Ab_pred\n",
        "del abModel"
      ],
      "execution_count": null,
      "outputs": []
    }
  ]
}