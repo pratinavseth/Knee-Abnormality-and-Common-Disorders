{
  "nbformat": 4,
  "nbformat_minor": 0,
  "metadata": {
    "colab": {
      "name": "RESNET50_MRNET.ipynb",
      "provenance": [],
      "collapsed_sections": [],
      "toc_visible": true,
      "include_colab_link": true
    },
    "kernelspec": {
      "name": "python3",
      "display_name": "Python 3"
    },
    "accelerator": "GPU"
  },
  "cells": [
    {
      "cell_type": "markdown",
      "metadata": {
        "id": "view-in-github",
        "colab_type": "text"
      },
      "source": [
        "<a href=\"https://colab.research.google.com/github/ptnv-s/Knee-Abnormality-and-Common-Disorders/blob/colab/RESNET50_MRNET.ipynb\" target=\"_parent\"><img src=\"https://colab.research.google.com/assets/colab-badge.svg\" alt=\"Open In Colab\"/></a>"
      ]
    },
    {
      "cell_type": "markdown",
      "source": [
        "# Deep Learning Based Musculoskeletal Diagnosis, Abnormality and Common Disorders detection using Knee Magnetic Resonance Imaging"
      ],
      "metadata": {
        "id": "fosR27toc8kH"
      }
    },
    {
      "cell_type": "markdown",
      "source": [
        "---\n",
        "\n",
        "Magnetic resonance (MR) imaging of the knee is the standard of care imaging modality to evaluate knee disorders, and more musculoskeletal MR examinations are performed on the knee than on any other region of the body.\n",
        "\n",
        "---\n",
        "\n",
        "We will be implementing deep learning baselines for detecting general abnormalities and specific diagnoses (anterior cruciate ligament [ACL] tears and meniscal tears) on knee MRI exams.\n",
        "\n",
        "---\n",
        "\n",
        "The most common indications for the knee MRI examinations in this study included acute and chronic pain, follow-up or preoperative evaluation, injury/trauma.\n",
        "\n",
        "---\n",
        "We have used the [MRNet dataset](https://stanfordmlgroup.github.io/competitions/mrnet/)  which consists of 1,370 knee MRI exams performed at Stanford University Medical Center. The dataset contains 1,104 (80.6%) abnormal exams, with 319 (23.3%) ACL tears and 508 (37.1%) meniscal tears. The labels were obtained through manual extraction from clinical reports.\n",
        "\n",
        "---\n",
        "\n",
        "Examinations were performed with GE scanners (GE Discovery, GE Healthcare, Waukesha, WI) with standard knee MRI coil and a routine non-contrast knee MRI protocol that included the following sequences: coronal T1 weighted, coronal T2 with fat saturation, sagittal proton density (PD) weighted, sagittal T2 with fat saturation, and axial PD weighted with fat saturation. A total of 775 (56.6%) examinations used a 3.0-T magnetic field the remaining used a 1.5-T magnetic field as reported [here](https://stanfordmlgroup.github.io/projects/mrnet/) .\n",
        "\n",
        "For more details refer to the paper related to this study [here](https://journals.plos.org/plosmedicine/article?id=10.1371/journal.pmed.1002699).\n",
        "\n",
        "---\n",
        "\n",
        "Given a MRI scan our deep learning model will be predicting 3 outcomes for knee MRI exams (anterior cruciate ligament [ACL] tears, meniscal tears, and general abnormalities)."
      ],
      "metadata": {
        "id": "dT4KaPSJgPWT"
      }
    },
    {
      "cell_type": "markdown",
      "source": [
        "#### Importing Basic Libraries"
      ],
      "metadata": {
        "id": "gLgaQloxVQNB"
      }
    },
    {
      "cell_type": "code",
      "metadata": {
        "id": "IgsRtqKALAR5"
      },
      "source": [
        "import os\n",
        "import numpy as np\n",
        "from matplotlib import pyplot as plt\n",
        "import math"
      ],
      "execution_count": 1,
      "outputs": []
    },
    {
      "cell_type": "code",
      "metadata": {
        "id": "IABg1SuM9wfW"
      },
      "source": [
        "from keras.applications.inception_v3 import InceptionV3\n",
        "from keras.applications.vgg19 import VGG19\n",
        "from keras.preprocessing import image\n",
        "from keras.models import Model, Sequential\n",
        "from keras.layers import Dense, GlobalAveragePooling2D, Dropout, Flatten\n",
        "from keras import backend as K\n",
        "from keras.layers import Input"
      ],
      "execution_count": 2,
      "outputs": []
    },
    {
      "cell_type": "markdown",
      "source": [
        "##### Defining Basic Custom Metric for Evaluation"
      ],
      "metadata": {
        "id": "g7IG7BrZQ5dJ"
      }
    },
    {
      "cell_type": "code",
      "metadata": {
        "id": "NmrsJ-BsjnyH"
      },
      "source": [
        "import keras.backend as K\n",
        "\n",
        "def f1_score(y_true, y_pred):\n",
        "    c1 = K.sum(K.round(K.clip(y_true * y_pred, 0, 1)))\n",
        "    c2 = K.sum(K.round(K.clip(y_pred, 0, 1)))\n",
        "    c3 = K.sum(K.round(K.clip(y_true, 0, 1)))\n",
        "    if c3 == 0.0 :\n",
        "        return 0.0\n",
        "    precision = c1 / c2\n",
        "    recall = c1 / c3\n",
        "    f1_score = 2 * (precision * recall) / (precision + recall)\n",
        "    return f1_score\n",
        "    \n",
        "def f1(y_true, y_pred):\n",
        "    def recall(y_true, y_pred):\n",
        "        true_positives = K.sum(K.round(K.clip(y_true * y_pred, 0, 1)))\n",
        "        possible_positives = K.sum(K.round(K.clip(y_true, 0, 1)))\n",
        "        recall = true_positives / (possible_positives + K.epsilon())\n",
        "        return recall\n",
        "\n",
        "    def precision(y_true, y_pred):\n",
        "        true_positives = K.sum(K.round(K.clip(y_true * y_pred, 0, 1)))\n",
        "        predicted_positives = K.sum(K.round(K.clip(y_pred, 0, 1)))\n",
        "        precision = true_positives / (predicted_positives + K.epsilon())\n",
        "        return precision\n",
        "    precision = precision(y_true, y_pred)\n",
        "    recall = recall(y_true, y_pred)\n",
        "    return 2*((precision*recall)/(precision+recall+K.epsilon()))"
      ],
      "execution_count": 3,
      "outputs": []
    },
    {
      "cell_type": "markdown",
      "source": [
        "##Loading Files for loading Different Planes of Scans of Dataset\n",
        "As we know from EDA Notebook this dataset has 3 views of Knee since datset has MRI scans namely -\n",
        "\n",
        "*   Axial\n",
        "*   Coronal\n",
        "*   Sagittal"
      ],
      "metadata": {
        "id": "6zl48zFBZKST"
      }
    },
    {
      "cell_type": "code",
      "source": [
        "from google.colab import drive\n",
        "drive.mount('/content/drive')"
      ],
      "metadata": {
        "id": "VyF5dHFy5Unq",
        "outputId": "adaafcef-b751-424c-ddc4-92e09eca76a7",
        "colab": {
          "base_uri": "https://localhost:8080/"
        }
      },
      "execution_count": 4,
      "outputs": [
        {
          "output_type": "stream",
          "name": "stdout",
          "text": [
            "Drive already mounted at /content/drive; to attempt to forcibly remount, call drive.mount(\"/content/drive\", force_remount=True).\n"
          ]
        }
      ]
    },
    {
      "cell_type": "code",
      "metadata": {
        "id": "U4pEnRbJ8zbJ",
        "outputId": "a1dbe555-7222-4ab0-8720-36fe33367d72",
        "colab": {
          "base_uri": "https://localhost:8080/"
        }
      },
      "source": [
        "import csv\n",
        "\n",
        "with open(\"/content/drive/MyDrive/Medical/MRNet-v1.0/train-abnormal.csv\") as csv_file:\n",
        "    csv_reader = csv.reader(csv_file)\n",
        "    line_count = 0\n",
        "    trainAb_labels=[]\n",
        "    for row in csv_reader:\n",
        "           trainAb_labels.append(int(row[1]))\n",
        "print(trainAb_labels)\n",
        "trainAb_labels= np.array(trainAb_labels)\n",
        "print(len(trainAb_labels))\n",
        "\n",
        "with open(\"/content/drive/MyDrive/Medical/MRNet-v1.0/train-acl.csv\") as csv_file:\n",
        "    csv_reader = csv.reader(csv_file)\n",
        "    line_count = 0\n",
        "    trainACL_labels=[]\n",
        "    for row in csv_reader:\n",
        "           trainACL_labels.append(int(row[1]))\n",
        "print(trainAb_labels)\n",
        "trainACL_labels= np.array(trainACL_labels)\n",
        "print(len(trainACL_labels))\n",
        "\n",
        "\n",
        "with open(\"/content/drive/MyDrive/Medical/MRNet-v1.0/train-meniscus.csv\") as csv_file:\n",
        "    csv_reader = csv.reader(csv_file)\n",
        "    line_count = 0\n",
        "    trainMen_labels=[]\n",
        "    for row in csv_reader:\n",
        "           trainMen_labels.append(int(row[1]))\n",
        "print(trainMen_labels)\n",
        "trainAb_labels= np.array(trainMen_labels)\n",
        "print(len(trainMen_labels))\n",
        "\n",
        "with open(\"/content/drive/MyDrive/Medical/MRNet-v1.0/valid-abnormal.csv\") as csv_file:\n",
        "    csv_reader = csv.reader(csv_file)\n",
        "    line_count = 0\n",
        "    testAb_labels=[]\n",
        "    for row in csv_reader:\n",
        "           testAb_labels.append(int(row[1]))\n",
        "print(testAb_labels)\n",
        "testAb_labels= np.array(testAb_labels)\n",
        "print(len(testAb_labels))\n",
        "\n",
        "with open(\"/content/drive/MyDrive/Medical/MRNet-v1.0/valid-acl.csv\") as csv_file:\n",
        "    csv_reader = csv.reader(csv_file)\n",
        "    line_count = 0\n",
        "    testACL_labels=[]\n",
        "    for row in csv_reader:\n",
        "           testACL_labels.append(int(row[1]))\n",
        "print(testACL_labels)\n",
        "testACL_labels= np.array(testACL_labels)\n",
        "print(len(testACL_labels))\n",
        "\n",
        "\n",
        "with open(\"/content/drive/MyDrive/Medical/MRNet-v1.0/valid-meniscus.csv\") as csv_file:\n",
        "    csv_reader = csv.reader(csv_file)\n",
        "    line_count = 0\n",
        "    testMen_labels=[]\n",
        "    for row in csv_reader:\n",
        "           testMen_labels.append(int(row[1]))\n",
        "print(testMen_labels)\n",
        "testMen_labels= np.array(testMen_labels)\n",
        "print(len(testMen_labels))"
      ],
      "execution_count": 5,
      "outputs": [
        {
          "output_type": "stream",
          "name": "stdout",
          "text": [
            "[1, 1, 1, 1, 1, 1, 1, 1, 1, 1, 1, 0, 0, 1, 0, 1, 1, 0, 1, 1, 1, 0, 1, 0, 1, 0, 0, 1, 1, 1, 1, 1, 1, 1, 1, 1, 1, 1, 1, 1, 0, 1, 1, 1, 0, 1, 1, 1, 0, 1, 1, 1, 1, 0, 1, 1, 1, 1, 1, 1, 0, 1, 1, 1, 1, 1, 0, 1, 1, 1, 1, 1, 1, 1, 0, 1, 1, 0, 1, 1, 1, 1, 0, 1, 1, 1, 1, 1, 1, 1, 1, 1, 1, 1, 1, 1, 0, 1, 1, 0, 1, 1, 1, 1, 1, 1, 0, 1, 1, 1, 0, 1, 1, 1, 1, 1, 1, 0, 0, 1, 0, 1, 0, 0, 1, 1, 1, 0, 0, 1, 1, 0, 1, 1, 1, 1, 1, 1, 1, 1, 1, 1, 1, 0, 0, 1, 1, 1, 1, 0, 1, 1, 1, 0, 1, 1, 1, 1, 1, 1, 1, 1, 1, 1, 1, 1, 1, 1, 1, 1, 0, 1, 1, 1, 1, 1, 1, 0, 1, 1, 1, 0, 1, 1, 1, 1, 1, 1, 1, 1, 1, 1, 1, 1, 1, 1, 1, 1, 1, 1, 1, 1, 1, 1, 1, 1, 1, 1, 1, 1, 0, 1, 1, 1, 0, 1, 1, 1, 1, 1, 1, 1, 0, 1, 1, 0, 1, 0, 0, 1, 0, 1, 1, 1, 1, 1, 1, 1, 0, 0, 1, 1, 1, 0, 0, 0, 1, 1, 1, 1, 1, 1, 0, 1, 1, 1, 0, 1, 0, 1, 1, 1, 1, 1, 1, 1, 1, 0, 0, 1, 1, 1, 0, 1, 1, 1, 1, 1, 1, 1, 1, 1, 1, 0, 1, 1, 1, 1, 1, 1, 1, 0, 1, 1, 1, 1, 0, 1, 1, 0, 1, 1, 1, 1, 1, 1, 0, 1, 1, 1, 1, 1, 1, 1, 1, 1, 1, 1, 1, 1, 1, 1, 1, 1, 1, 1, 1, 1, 1, 1, 1, 1, 1, 1, 1, 1, 1, 0, 1, 1, 1, 1, 0, 1, 1, 1, 1, 1, 1, 1, 1, 1, 1, 1, 1, 1, 1, 1, 1, 1, 1, 1, 0, 0, 1, 1, 1, 1, 1, 1, 1, 1, 0, 1, 1, 1, 1, 0, 1, 1, 1, 0, 1, 1, 0, 1, 1, 0, 1, 1, 1, 1, 1, 1, 1, 1, 1, 1, 1, 1, 0, 1, 1, 1, 0, 1, 0, 1, 1, 0, 0, 1, 1, 1, 1, 0, 1, 1, 1, 1, 0, 1, 1, 1, 1, 0, 1, 1, 0, 1, 0, 1, 1, 1, 0, 0, 1, 0, 1, 0, 1, 1, 0, 1, 1, 1, 1, 1, 1, 1, 0, 1, 1, 1, 1, 1, 1, 1, 1, 0, 0, 0, 0, 1, 1, 0, 0, 0, 1, 1, 1, 1, 0, 0, 1, 0, 0, 0, 1, 1, 1, 1, 1, 1, 1, 1, 1, 1, 1, 1, 1, 0, 0, 1, 1, 0, 1, 1, 1, 0, 1, 1, 1, 0, 0, 1, 1, 1, 1, 0, 1, 1, 1, 1, 1, 0, 1, 1, 1, 1, 1, 1, 1, 1, 1, 0, 1, 1, 1, 1, 1, 1, 0, 0, 1, 1, 1, 1, 1, 1, 1, 1, 0, 1, 1, 1, 1, 1, 0, 0, 1, 1, 1, 1, 1, 1, 1, 1, 0, 1, 1, 1, 1, 0, 1, 0, 1, 1, 1, 1, 1, 0, 1, 1, 1, 1, 1, 1, 1, 1, 0, 1, 1, 0, 1, 1, 1, 1, 0, 0, 1, 1, 1, 1, 1, 1, 1, 0, 1, 0, 0, 1, 1, 1, 1, 1, 1, 1, 0, 1, 1, 1, 1, 1, 1, 1, 1, 1, 1, 1, 1, 0, 1, 1, 1, 0, 1, 1, 1, 1, 1, 1, 1, 1, 0, 1, 1, 0, 1, 1, 1, 0, 1, 1, 0, 1, 1, 1, 1, 1, 1, 1, 1, 1, 1, 1, 1, 1, 0, 1, 1, 1, 1, 1, 1, 1, 1, 1, 1, 1, 1, 0, 1, 1, 0, 0, 1, 1, 0, 1, 1, 1, 1, 1, 1, 0, 1, 1, 1, 0, 1, 1, 1, 1, 1, 1, 1, 1, 1, 1, 0, 1, 1, 0, 1, 1, 1, 1, 1, 1, 1, 0, 0, 1, 1, 1, 1, 1, 1, 1, 1, 1, 1, 1, 1, 1, 1, 0, 1, 1, 1, 1, 1, 1, 1, 1, 1, 1, 1, 1, 1, 1, 1, 1, 0, 1, 1, 1, 1, 1, 1, 1, 1, 1, 1, 1, 1, 1, 1, 0, 1, 1, 1, 1, 1, 1, 1, 1, 1, 1, 1, 1, 0, 1, 1, 1, 1, 0, 1, 1, 1, 1, 1, 1, 1, 1, 0, 1, 0, 1, 1, 1, 1, 1, 1, 1, 1, 0, 1, 0, 1, 1, 0, 1, 1, 1, 0, 0, 0, 1, 1, 1, 1, 0, 1, 1, 1, 1, 0, 1, 0, 0, 1, 0, 0, 0, 1, 1, 1, 1, 1, 1, 1, 1, 1, 1, 1, 1, 1, 1, 1, 0, 1, 1, 1, 0, 1, 1, 1, 1, 1, 1, 1, 1, 1, 1, 1, 1, 0, 0, 0, 1, 1, 1, 1, 1, 0, 0, 0, 1, 1, 1, 0, 1, 0, 1, 1, 1, 0, 0, 1, 1, 1, 0, 1, 1, 0, 1, 1, 1, 1, 1, 1, 1, 0, 1, 1, 1, 1, 1, 1, 1, 1, 1, 0, 1, 1, 1, 1, 1, 1, 1, 1, 1, 1, 1, 1, 1, 1, 1, 1, 1, 1, 1, 0, 1, 0, 1, 1, 1, 1, 1, 1, 1, 0, 1, 1, 0, 1, 1, 1, 1, 1, 1, 0, 1, 1, 0, 1, 1, 1, 1, 1, 1, 1, 1, 1, 1, 1, 0, 0, 1, 1, 1, 1, 1, 1, 1, 1, 1, 1, 1, 1, 1, 1, 1, 1, 1, 1, 1, 1, 1, 1, 0, 0, 1, 1, 1, 1, 1, 1, 1, 0, 1, 1, 1, 1, 0, 0, 1, 0, 1, 1, 0, 1, 0, 0, 0, 0, 1, 1, 0, 1, 1, 1, 1, 1, 1, 1, 0, 0, 0, 1, 1, 0, 0, 1, 0, 1, 1, 1, 1, 1, 1, 0, 1, 1, 1, 1, 1, 1, 1, 1, 1, 1, 1, 1, 1, 1, 0, 1, 1, 0, 1, 1, 1, 1, 1, 1, 1, 1, 1, 1, 1, 0, 1, 1, 1, 1, 1, 0, 0, 0, 1, 1, 1, 0, 1, 1, 1, 1, 0, 0, 1, 1, 1, 0, 1, 1, 1, 1, 1, 1, 0, 1, 1, 1, 1, 1, 1, 1, 1, 1, 1, 1, 1, 1, 1, 1, 1, 1, 1, 1, 1, 1, 0, 1, 1, 1, 0, 1, 1, 1, 0, 1, 1, 1, 0, 1, 1]\n",
            "1130\n",
            "[1 1 1 ... 0 1 1]\n",
            "1130\n",
            "[0, 1, 0, 1, 0, 1, 0, 0, 0, 0, 1, 0, 0, 0, 0, 0, 1, 0, 1, 1, 1, 0, 1, 0, 0, 0, 0, 1, 1, 0, 1, 0, 1, 1, 0, 1, 1, 1, 1, 1, 0, 0, 1, 1, 0, 1, 0, 0, 0, 1, 0, 0, 1, 0, 1, 0, 0, 1, 0, 1, 0, 0, 0, 1, 0, 0, 0, 1, 0, 0, 1, 0, 1, 0, 0, 0, 0, 0, 1, 1, 1, 0, 0, 0, 1, 0, 0, 0, 1, 1, 1, 1, 1, 0, 1, 0, 0, 0, 1, 0, 0, 0, 0, 0, 1, 1, 0, 0, 1, 1, 0, 1, 0, 1, 0, 0, 1, 0, 0, 1, 0, 0, 0, 0, 0, 1, 1, 0, 0, 0, 1, 0, 0, 0, 0, 0, 0, 1, 1, 0, 1, 0, 1, 0, 0, 0, 0, 1, 0, 0, 1, 0, 1, 0, 1, 1, 0, 1, 0, 1, 0, 0, 1, 0, 0, 0, 0, 0, 1, 0, 0, 0, 0, 0, 1, 0, 1, 0, 1, 1, 1, 0, 1, 1, 0, 0, 1, 0, 1, 0, 0, 1, 0, 0, 1, 0, 1, 0, 1, 0, 0, 0, 0, 1, 1, 0, 0, 0, 1, 0, 0, 0, 0, 0, 0, 1, 0, 1, 0, 0, 1, 0, 0, 0, 0, 0, 0, 0, 0, 0, 0, 1, 0, 0, 1, 1, 0, 0, 0, 0, 1, 0, 0, 0, 0, 0, 0, 0, 1, 0, 0, 1, 0, 1, 0, 0, 0, 0, 0, 1, 1, 0, 0, 1, 0, 1, 0, 0, 0, 0, 1, 0, 0, 0, 0, 0, 0, 1, 0, 0, 1, 1, 0, 0, 0, 1, 0, 0, 0, 0, 0, 0, 0, 0, 1, 0, 0, 0, 1, 0, 0, 0, 1, 1, 0, 1, 0, 0, 0, 0, 0, 1, 1, 1, 1, 1, 1, 0, 1, 1, 1, 1, 0, 1, 1, 1, 1, 1, 1, 1, 0, 1, 1, 1, 0, 0, 0, 0, 0, 0, 1, 0, 0, 1, 1, 0, 0, 1, 1, 0, 1, 0, 0, 0, 0, 1, 1, 0, 0, 0, 1, 1, 0, 0, 0, 0, 0, 0, 1, 0, 1, 0, 0, 1, 1, 0, 0, 0, 1, 0, 1, 0, 1, 1, 0, 1, 1, 0, 1, 0, 0, 0, 1, 0, 0, 0, 0, 1, 0, 0, 0, 0, 0, 0, 0, 0, 0, 1, 1, 0, 0, 0, 0, 0, 1, 0, 1, 1, 0, 1, 0, 1, 0, 1, 0, 0, 1, 0, 0, 1, 0, 1, 1, 1, 0, 0, 0, 0, 0, 0, 0, 1, 0, 0, 1, 0, 1, 1, 0, 0, 0, 0, 1, 0, 0, 0, 1, 1, 1, 0, 0, 0, 0, 1, 0, 0, 0, 0, 0, 1, 1, 0, 0, 0, 1, 0, 0, 0, 1, 0, 0, 0, 1, 0, 0, 0, 0, 1, 1, 1, 1, 0, 0, 0, 1, 0, 0, 0, 0, 0, 1, 1, 1, 0, 0, 0, 1, 1, 1, 0, 0, 1, 0, 0, 0, 0, 0, 1, 1, 0, 0, 0, 1, 0, 1, 0, 1, 0, 1, 0, 1, 1, 0, 0, 0, 1, 0, 0, 0, 0, 0, 0, 0, 1, 1, 0, 1, 1, 0, 0, 0, 1, 0, 1, 1, 0, 0, 1, 0, 0, 0, 1, 0, 0, 1, 0, 0, 0, 0, 1, 1, 0, 1, 1, 0, 1, 0, 1, 0, 1, 0, 1, 1, 0, 0, 1, 1, 0, 0, 0, 0, 0, 0, 0, 1, 0, 1, 0, 0, 0, 0, 1, 1, 0, 1, 1, 0, 1, 0, 0, 0, 0, 0, 0, 0, 0, 0, 1, 0, 1, 1, 0, 0, 0, 1, 0, 0, 0, 1, 1, 0, 1, 0, 1, 0, 1, 1, 0, 0, 0, 0, 0, 0, 0, 0, 1, 1, 0, 1, 1, 0, 0, 0, 0, 1, 1, 0, 1, 0, 0, 1, 1, 1, 0, 0, 0, 1, 0, 0, 0, 0, 0, 1, 0, 0, 0, 0, 1, 0, 1, 1, 0, 0, 1, 0, 0, 0, 1, 1, 0, 0, 1, 1, 1, 0, 0, 0, 0, 1, 1, 0, 1, 0, 0, 0, 0, 0, 1, 1, 0, 0, 0, 0, 0, 0, 0, 1, 0, 1, 0, 1, 1, 0, 1, 1, 0, 1, 0, 0, 0, 0, 0, 0, 0, 0, 0, 1, 0, 0, 0, 1, 0, 1, 0, 0, 0, 0, 0, 0, 1, 1, 1, 1, 1, 0, 0, 0, 0, 0, 0, 1, 1, 0, 0, 0, 0, 1, 0, 1, 1, 0, 0, 0, 1, 0, 1, 1, 0, 1, 1, 0, 0, 0, 1, 1, 1, 0, 0, 0, 0, 0, 1, 0, 1, 0, 0, 0, 0, 0, 0, 0, 0, 0, 0, 0, 0, 0, 0, 0, 0, 1, 0, 1, 0, 0, 0, 0, 1, 0, 0, 0, 0, 1, 0, 0, 0, 0, 0, 0, 0, 1, 0, 0, 1, 0, 1, 0, 0, 0, 0, 0, 0, 1, 1, 0, 0, 1, 1, 0, 0, 0, 0, 0, 1, 1, 0, 0, 1, 0, 0, 0, 0, 1, 1, 1, 0, 0, 0, 0, 0, 1, 1, 0, 0, 0, 0, 0, 0, 0, 0, 0, 1, 0, 0, 1, 1, 0, 1, 0, 0, 1, 1, 1, 0, 0, 1, 0, 1, 0, 0, 1, 0, 1, 0, 0, 0, 0, 0, 0, 1, 1, 0, 1, 1, 1, 0, 1, 0, 0, 1, 1, 0, 1, 1, 0, 0, 0, 1, 0, 0, 0, 1, 1, 0, 0, 0, 0, 0, 1, 0, 0, 1, 0, 0, 0, 1, 0, 0, 0, 0, 1, 0, 0, 0, 0, 1, 0, 0, 0, 0, 0, 1, 0, 1, 1, 0, 0, 0, 0, 1, 1, 0, 1, 0, 0, 0, 0, 1, 1, 0, 1, 0, 1, 0, 0, 1, 0, 0, 0, 1, 1, 0, 0, 1, 1, 0, 0, 0, 0, 1, 0, 1, 1, 0, 0, 0, 0, 0, 0, 0, 1, 0, 0, 0, 1, 0, 0, 0, 0, 0, 0, 0, 0, 0, 0, 0, 1, 0, 1, 0, 1, 1, 0, 0, 0, 0, 0, 1, 1, 0, 0, 1, 0, 0, 0, 0, 0, 0, 0, 0, 0, 1, 0, 1, 0, 0, 1, 1, 0, 1, 0, 1, 1, 0, 0, 1, 0, 0, 1, 0, 0, 0, 0, 0, 0, 0, 0, 1, 1, 0, 1, 0, 0, 1, 0, 1, 0, 0, 1, 0, 1, 0, 0, 0, 0, 0, 1, 0, 0, 0, 1, 1, 1, 0, 0, 1, 0, 1, 1, 0, 1, 1, 1, 0, 0, 0, 1, 1, 0, 0, 1, 0, 0, 0, 0, 1, 1, 0, 0, 0]\n",
            "1130\n",
            "[0, 0, 0, 0, 0, 0, 0, 0, 0, 0, 0, 0, 0, 0, 0, 0, 0, 0, 0, 0, 0, 0, 0, 0, 1, 1, 1, 1, 1, 1, 1, 1, 1, 1, 1, 1, 1, 1, 1, 1, 1, 1, 1, 1, 1, 1, 1, 1, 1, 1, 1, 1, 1, 1, 1, 1, 1, 1, 1, 1, 1, 1, 1, 1, 1, 1, 1, 1, 1, 1, 1, 1, 1, 1, 1, 1, 1, 1, 1, 1, 1, 1, 1, 1, 1, 1, 1, 0, 1, 1, 1, 1, 1, 1, 1, 1, 1, 1, 1, 1, 1, 1, 1, 1, 1, 1, 1, 1, 1, 1, 1, 1, 1, 1, 1, 1, 1, 1, 1, 1]\n",
            "120\n",
            "[0, 0, 0, 0, 0, 0, 0, 0, 0, 0, 0, 0, 0, 0, 0, 0, 0, 0, 0, 0, 0, 0, 0, 0, 0, 0, 0, 0, 0, 0, 0, 0, 0, 0, 0, 0, 0, 0, 0, 0, 0, 0, 1, 1, 1, 1, 1, 1, 1, 1, 0, 1, 1, 1, 1, 1, 1, 1, 1, 0, 1, 1, 1, 1, 1, 1, 1, 1, 1, 1, 1, 1, 1, 1, 1, 1, 1, 1, 1, 1, 1, 1, 1, 1, 1, 1, 1, 0, 1, 1, 1, 0, 0, 0, 1, 1, 0, 0, 1, 1, 0, 0, 0, 0, 0, 0, 0, 1, 0, 0, 0, 0, 0, 0, 0, 1, 1, 0, 1, 0]\n",
            "120\n",
            "[0, 0, 0, 0, 0, 0, 0, 0, 0, 0, 0, 0, 0, 0, 0, 0, 0, 0, 0, 0, 0, 0, 0, 0, 0, 0, 0, 0, 0, 0, 0, 0, 0, 0, 0, 0, 0, 0, 0, 0, 0, 0, 1, 1, 1, 0, 1, 0, 0, 0, 0, 0, 0, 0, 1, 0, 1, 0, 1, 0, 0, 1, 1, 0, 1, 1, 1, 1, 0, 1, 0, 1, 1, 1, 0, 1, 0, 1, 0, 0, 0, 1, 0, 1, 0, 0, 1, 0, 0, 0, 1, 1, 1, 1, 1, 1, 1, 1, 1, 1, 1, 1, 1, 1, 1, 1, 1, 1, 1, 1, 1, 1, 1, 1, 1, 1, 1, 1, 1, 1]\n",
            "120\n"
          ]
        }
      ]
    },
    {
      "cell_type": "code",
      "metadata": {
        "id": "DzmL2nU9M9wt"
      },
      "source": [
        "train_Ab_pred = []\n",
        "test_Ab_pred = []\n",
        "\n",
        "train_Men_pred = []\n",
        "test_Men_pred = []"
      ],
      "execution_count": 6,
      "outputs": []
    },
    {
      "cell_type": "code",
      "source": [
        "train_ACL_pred = []\n",
        "test_ACL_pred = []"
      ],
      "metadata": {
        "id": "C356wQaQwTxh"
      },
      "execution_count": 7,
      "outputs": []
    },
    {
      "cell_type": "markdown",
      "metadata": {
        "id": "HpaCqxa5Lji9"
      },
      "source": [
        "##AxialPlane Scans"
      ]
    },
    {
      "cell_type": "markdown",
      "metadata": {
        "id": "AUmEt_uPNA7K"
      },
      "source": [
        "###Reading train & test data"
      ]
    },
    {
      "cell_type": "code",
      "metadata": {
        "id": "xvMN_V8lKfA4",
        "outputId": "7161b895-5122-42b5-de3c-0904ade45b61",
        "colab": {
          "base_uri": "https://localhost:8080/"
        }
      },
      "source": [
        "axial_dir = os.listdir(\"/content/drive/MyDrive/Medical/MRNet-v1.0/train/axial/\")\n",
        "axial_dir = [f.lower() for f in axial_dir]   \n",
        "a=sorted(axial_dir)\n",
        "axial_list=np.array(a)\n",
        "axial_reloaded=[]\n",
        "\n",
        "print(axial_list.shape)\n",
        "for j in range(1,1131):\n",
        "    file= \"/content/drive/MyDrive/Medical/MRNet-v1.0/train/axial/\"+axial_list[j]    \n",
        "    axial_reloaded.append(np.load(file,allow_pickle='false'))   \n",
        "axial_reloaded=np.array(axial_reloaded)\n",
        "\n",
        "print(axial_reloaded.shape)\n",
        "s=axial_reloaded.shape\n",
        "print(axial_reloaded[0].shape[0])\n",
        "train_axial=[]\n",
        "\n",
        "print(len(axial_reloaded))\n",
        "for j in range(len(axial_reloaded)):\n",
        "    mid=math.floor((axial_reloaded[j].shape[0])/2)\n",
        "    train_axial.append([])    \n",
        "    for n in range(mid-1,mid+2):\n",
        "         train_axial[j].append(axial_reloaded[j][n])\n",
        "train_axial=np.array(train_axial)\n",
        "train_axial=np.reshape(train_axial,(1130,256,256,3))\n",
        "print(train_axial.shape)\n",
        "\n",
        "\n",
        "axial_dir = os.listdir(\"/content/drive/MyDrive/Medical/MRNet-v1.0/valid/axial/\")\n",
        "axial_dir = [f.lower() for f in axial_dir]\n",
        "a=sorted(axial_dir)\n",
        "axialTest_list=np.array(a)\n",
        "axialTest_reloaded=[]\n",
        "\n",
        "print(axialTest_list.shape)\n",
        "\n",
        "for j in range(0,120):\n",
        "    file= \"/content/drive/MyDrive/Medical/MRNet-v1.0/valid/axial/\"+axialTest_list[j]\n",
        "    axialTest_reloaded.append(np.load(file,allow_pickle='false'))   \n",
        "axialTest_reloaded=np.array(axialTest_reloaded)\n",
        "\n",
        "print(axialTest_reloaded.shape)\n",
        "\n",
        "s=axialTest_reloaded.shape\n",
        "print(axialTest_reloaded[0].shape[0])\n",
        "test_axial=[]\n",
        "\n",
        "print(len(axialTest_reloaded))\n",
        "for j in range(len(axialTest_reloaded)):\n",
        "    mid=math.floor((axialTest_reloaded[j].shape[0])/2)\n",
        "    test_axial.append([])    \n",
        "    for n in range(mid-1,mid+2):\n",
        "         test_axial[j].append(axialTest_reloaded[j][n])\n",
        "test_axial=np.array(test_axial)\n",
        "test_axial=np.reshape(test_axial,(120,256,256,3))\n",
        "print(test_axial.shape)"
      ],
      "execution_count": 8,
      "outputs": [
        {
          "output_type": "stream",
          "name": "stdout",
          "text": [
            "(1131,)\n"
          ]
        },
        {
          "output_type": "stream",
          "name": "stderr",
          "text": [
            "/usr/local/lib/python3.7/dist-packages/ipykernel_launcher.py:13: VisibleDeprecationWarning: Creating an ndarray from ragged nested sequences (which is a list-or-tuple of lists-or-tuples-or ndarrays with different lengths or shapes) is deprecated. If you meant to do this, you must specify 'dtype=object' when creating the ndarray.\n",
            "  del sys.path[0]\n"
          ]
        },
        {
          "output_type": "stream",
          "name": "stdout",
          "text": [
            "(1130,)\n",
            "44\n",
            "1130\n",
            "(1130, 256, 256, 3)\n",
            "(120,)\n",
            "(120,)\n",
            "25\n",
            "120\n",
            "(120, 256, 256, 3)\n"
          ]
        },
        {
          "output_type": "stream",
          "name": "stderr",
          "text": [
            "/usr/local/lib/python3.7/dist-packages/ipykernel_launcher.py:47: VisibleDeprecationWarning: Creating an ndarray from ragged nested sequences (which is a list-or-tuple of lists-or-tuples-or ndarrays with different lengths or shapes) is deprecated. If you meant to do this, you must specify 'dtype=object' when creating the ndarray.\n"
          ]
        }
      ]
    },
    {
      "cell_type": "markdown",
      "metadata": {
        "id": "JLywW23cJSWb"
      },
      "source": [
        "#### Finetuning ResNet50 Model for Axial Plane Scanes checking for Meniscus Condition"
      ]
    },
    {
      "cell_type": "code",
      "source": [
        "from tensorflow.keras.applications.resnet50 import ResNet50"
      ],
      "metadata": {
        "id": "wJZvhZzqBIiX"
      },
      "execution_count": 9,
      "outputs": []
    },
    {
      "cell_type": "code",
      "metadata": {
        "id": "FwBkOdWI_tjx",
        "outputId": "b51ed605-a533-428f-e3a9-73a7dc2fabde",
        "colab": {
          "base_uri": "https://localhost:8080/"
        }
      },
      "source": [
        "input_tensor = Input(shape=(256, 256,3))\n",
        "base_model_ax_men = ResNet50(input_tensor=input_tensor, weights='imagenet', include_top=False)\n",
        "print(len(base_model_ax_men.layers))"
      ],
      "execution_count": 11,
      "outputs": [
        {
          "output_type": "stream",
          "name": "stdout",
          "text": [
            "175\n"
          ]
        }
      ]
    },
    {
      "cell_type": "code",
      "metadata": {
        "id": "uzEJBpRkUYX7"
      },
      "source": [
        "x = base_model_ax_men.output\n",
        "x = GlobalAveragePooling2D()(x)\n",
        "x=Dropout(0.2)(x)\n",
        "x = Dense(1024, activation='relu')(x)\n",
        "x=Dropout(0.2)(x)\n",
        "x=Dropout(0.2)(x)\n",
        "predictions = Dense(1, activation='sigmoid')(x)\n",
        "model = Model(inputs=base_model_ax_men.input,outputs=predictions)"
      ],
      "execution_count": 12,
      "outputs": []
    },
    {
      "cell_type": "code",
      "metadata": {
        "id": "uPoHK2f3r1ul"
      },
      "source": [
        "for layer in model.layers[:64]:\n",
        "   layer.trainable = False\n",
        "for layer in model.layers[64:]:\n",
        "  layer.trainable = True"
      ],
      "execution_count": 13,
      "outputs": []
    },
    {
      "cell_type": "code",
      "source": [
        "trainMen_labels = np.array(trainMen_labels)"
      ],
      "metadata": {
        "id": "YfZte1bG7wxv"
      },
      "execution_count": 14,
      "outputs": []
    },
    {
      "cell_type": "code",
      "source": [
        "from tensorflow.keras.callbacks import EarlyStopping\n",
        "from tensorflow.keras.optimizers import SGD"
      ],
      "metadata": {
        "id": "CjTKu3t0EK5W"
      },
      "execution_count": 15,
      "outputs": []
    },
    {
      "cell_type": "code",
      "metadata": {
        "id": "btpx20hvfyuv",
        "colab": {
          "base_uri": "https://localhost:8080/"
        },
        "outputId": "1c151699-ed8e-402b-e78f-725d23aad843"
      },
      "source": [
        "early_stopping_monitor = EarlyStopping(patience=10)    \n",
        "model.compile(optimizer=SGD(lr=0.001,momentum=0.9), loss='binary_crossentropy',metrics=['accuracy', f1_score])\n",
        "history=model.fit(train_axial ,trainMen_labels, validation_split=0.05,shuffle=True ,epochs=100, callbacks=[early_stopping_monitor], batch_size = 16)"
      ],
      "execution_count": 16,
      "outputs": [
        {
          "output_type": "stream",
          "name": "stderr",
          "text": [
            "/usr/local/lib/python3.7/dist-packages/keras/optimizer_v2/gradient_descent.py:102: UserWarning: The `lr` argument is deprecated, use `learning_rate` instead.\n",
            "  super(SGD, self).__init__(name, **kwargs)\n"
          ]
        },
        {
          "output_type": "stream",
          "name": "stdout",
          "text": [
            "Epoch 1/100\n",
            "68/68 [==============================] - 27s 176ms/step - loss: 0.6399 - accuracy: 0.6384 - f1_score: nan - val_loss: 0.5557 - val_accuracy: 0.7018 - val_f1_score: 0.6265\n",
            "Epoch 2/100\n",
            "68/68 [==============================] - 9s 137ms/step - loss: 0.4679 - accuracy: 0.7633 - f1_score: 0.6250 - val_loss: 0.5475 - val_accuracy: 0.7193 - val_f1_score: 0.5568\n",
            "Epoch 3/100\n",
            "68/68 [==============================] - 9s 139ms/step - loss: 0.3049 - accuracy: 0.8677 - f1_score: 0.7830 - val_loss: 0.6380 - val_accuracy: 0.7193 - val_f1_score: 0.6199\n",
            "Epoch 4/100\n",
            "68/68 [==============================] - 10s 140ms/step - loss: 0.1762 - accuracy: 0.9432 - f1_score: 0.8956 - val_loss: 0.8020 - val_accuracy: 0.7018 - val_f1_score: nan\n",
            "Epoch 5/100\n",
            "68/68 [==============================] - 10s 141ms/step - loss: 0.0979 - accuracy: 0.9767 - f1_score: nan - val_loss: 0.9108 - val_accuracy: 0.7018 - val_f1_score: nan\n",
            "Epoch 6/100\n",
            "68/68 [==============================] - 10s 143ms/step - loss: 0.0794 - accuracy: 0.9767 - f1_score: 0.9498 - val_loss: 0.9856 - val_accuracy: 0.7544 - val_f1_score: 0.6339\n",
            "Epoch 7/100\n",
            "68/68 [==============================] - 10s 145ms/step - loss: 0.0576 - accuracy: 0.9804 - f1_score: nan - val_loss: 1.0933 - val_accuracy: 0.6491 - val_f1_score: nan\n",
            "Epoch 8/100\n",
            "68/68 [==============================] - 10s 147ms/step - loss: 0.0625 - accuracy: 0.9823 - f1_score: 0.9568 - val_loss: 1.4683 - val_accuracy: 0.6140 - val_f1_score: nan\n",
            "Epoch 9/100\n",
            "68/68 [==============================] - 10s 147ms/step - loss: 0.0541 - accuracy: 0.9786 - f1_score: nan - val_loss: 1.3316 - val_accuracy: 0.7018 - val_f1_score: nan\n",
            "Epoch 10/100\n",
            "68/68 [==============================] - 10s 145ms/step - loss: 0.0731 - accuracy: 0.9702 - f1_score: nan - val_loss: 1.2633 - val_accuracy: 0.6667 - val_f1_score: nan\n",
            "Epoch 11/100\n",
            "68/68 [==============================] - 10s 145ms/step - loss: 0.0868 - accuracy: 0.9664 - f1_score: nan - val_loss: 0.9722 - val_accuracy: 0.7018 - val_f1_score: 0.5631\n",
            "Epoch 12/100\n",
            "68/68 [==============================] - 10s 144ms/step - loss: 0.0829 - accuracy: 0.9683 - f1_score: 0.9392 - val_loss: 1.0275 - val_accuracy: 0.7544 - val_f1_score: 0.5922\n"
          ]
        }
      ]
    },
    {
      "cell_type": "markdown",
      "metadata": {
        "id": "4LHGDU-xtbvJ"
      },
      "source": [
        "####Plotting accuracy of both training and validation sets per epoch."
      ]
    },
    {
      "cell_type": "code",
      "metadata": {
        "id": "eJh9LZBSrfij",
        "colab": {
          "base_uri": "https://localhost:8080/",
          "height": 295
        },
        "outputId": "43a195c8-08ff-4b8b-9285-ed4a14082761"
      },
      "source": [
        "p = np.array(model.predict(train_axial))\n",
        "train_Men_pred.append(p)\n",
        "p = np.array(model.predict(test_axial))\n",
        "test_Men_pred.append(p)\n",
        "plt.plot(history.history['accuracy'])\n",
        "plt.plot(history.history['val_accuracy'])\n",
        "plt.plot(history.history['f1_score'])\n",
        "plt.title('model accuracy')\n",
        "plt.ylabel('accuracy')\n",
        "plt.xlabel('epoch')\n",
        "plt.legend(['train', 'test', 'f1score'], loc='upper left')\n",
        "plt.grid() \n",
        "plt.show()"
      ],
      "execution_count": 17,
      "outputs": [
        {
          "output_type": "display_data",
          "data": {
            "image/png": "[encoded data removed]",
            "text/plain": [
              "<Figure size 432x288 with 1 Axes>"
            ]
          },
          "metadata": {
            "needs_background": "light"
          }
        }
      ]
    },
    {
      "cell_type": "markdown",
      "source": [
        "##### Helper function to clear Memory Utilization enabling it to Work in Colab with K80 GPU and standard RAM allowance."
      ],
      "metadata": {
        "id": "vM_ClHQmR-8B"
      }
    },
    {
      "cell_type": "code",
      "source": [
        "import gc\n",
        "def clean_up(model):\n",
        "    K.clear_session()\n",
        "    del model\n",
        "    gc.collect()\n",
        "    print(\"...Finished clean up...\")"
      ],
      "metadata": {
        "id": "Y7lPq_uhdGAn"
      },
      "execution_count": 18,
      "outputs": []
    },
    {
      "cell_type": "code",
      "source": [
        "filename = '/content/drive/MyDrive/Medical/MRNET MODEL/modelResNet501.h5'\n",
        "model.save(filename)\n",
        "print('>Saved %s' % filename)\n",
        "clean_up(model=model)"
      ],
      "metadata": {
        "id": "VWbftECScuC6",
        "colab": {
          "base_uri": "https://localhost:8080/"
        },
        "outputId": "7179b635-5dc9-480c-c145-5386fd8cef24"
      },
      "execution_count": 19,
      "outputs": [
        {
          "output_type": "stream",
          "name": "stdout",
          "text": [
            ">Saved /content/drive/MyDrive/Medical/MRNET MODEL/modelResNet501.h5\n",
            "...Finished clean up...\n"
          ]
        }
      ]
    },
    {
      "cell_type": "markdown",
      "metadata": {
        "id": "wmZf2R0ezncx"
      },
      "source": [
        "#### Finetuning ResNet50 Model for Axial Plane Scanes checking for ACL Condition"
      ]
    },
    {
      "cell_type": "code",
      "metadata": {
        "id": "W91sxbOZzgVF"
      },
      "source": [
        "input_tensor = Input(shape=(256, 256,3))  \n",
        "base_model_ax_ACL = ResNet50(input_tensor=input_tensor, weights='imagenet', include_top=False)"
      ],
      "execution_count": 20,
      "outputs": []
    },
    {
      "cell_type": "code",
      "metadata": {
        "id": "yEnh6bpQzw0s"
      },
      "source": [
        "x = base_model_ax_ACL.output\n",
        "x = GlobalAveragePooling2D()(x)\n",
        "x=Dropout(0.2)(x)\n",
        "x = Dense(1024, activation='relu')(x)\n",
        "x=Dropout(0.2)(x)\n",
        "x=Dropout(0.2)(x)\n",
        "predictions = Dense(1, activation='sigmoid')(x)\n",
        "model2 = Model(inputs=base_model_ax_ACL.input,outputs=predictions)"
      ],
      "execution_count": 21,
      "outputs": []
    },
    {
      "cell_type": "code",
      "metadata": {
        "id": "Qcy9VIrbz0uS"
      },
      "source": [
        "for layer in model2.layers[64:]:\n",
        "   layer.trainable = True\n",
        "for layer in model2.layers[:64]:\n",
        "  layer.trainable = False"
      ],
      "execution_count": 22,
      "outputs": []
    },
    {
      "cell_type": "code",
      "metadata": {
        "id": "K5bkMw8rz53v",
        "colab": {
          "base_uri": "https://localhost:8080/"
        },
        "outputId": "05802dbd-873a-4813-9504-11f000fcf987"
      },
      "source": [
        "early_stopping_monitor = EarlyStopping(patience=10)    \n",
        "model2.compile(optimizer=SGD(lr=0.001,momentum=0.9), loss='binary_crossentropy',metrics=['accuracy',f1_score])\n",
        "history2=model2.fit(train_axial ,trainACL_labels, validation_split=0.05,shuffle=True ,epochs=100, callbacks=[early_stopping_monitor], batch_size = 20)"
      ],
      "execution_count": 23,
      "outputs": [
        {
          "output_type": "stream",
          "name": "stdout",
          "text": [
            "Epoch 1/100\n"
          ]
        },
        {
          "output_type": "stream",
          "name": "stderr",
          "text": [
            "/usr/local/lib/python3.7/dist-packages/keras/optimizer_v2/gradient_descent.py:102: UserWarning: The `lr` argument is deprecated, use `learning_rate` instead.\n",
            "  super(SGD, self).__init__(name, **kwargs)\n"
          ]
        },
        {
          "output_type": "stream",
          "name": "stdout",
          "text": [
            "54/54 [==============================] - 19s 239ms/step - loss: 0.5242 - accuracy: 0.7847 - f1_score: nan - val_loss: 0.4044 - val_accuracy: 0.8421 - val_f1_score: nan\n",
            "Epoch 2/100\n",
            "54/54 [==============================] - 10s 181ms/step - loss: 0.3391 - accuracy: 0.8527 - f1_score: nan - val_loss: 0.3969 - val_accuracy: 0.8596 - val_f1_score: nan\n",
            "Epoch 3/100\n",
            "54/54 [==============================] - 10s 186ms/step - loss: 0.2266 - accuracy: 0.9180 - f1_score: nan - val_loss: 0.4409 - val_accuracy: 0.8596 - val_f1_score: nan\n",
            "Epoch 4/100\n",
            "54/54 [==============================] - 10s 183ms/step - loss: 0.1446 - accuracy: 0.9525 - f1_score: 0.8601 - val_loss: 0.4975 - val_accuracy: 0.8596 - val_f1_score: nan\n",
            "Epoch 5/100\n",
            "54/54 [==============================] - 10s 180ms/step - loss: 0.0800 - accuracy: 0.9795 - f1_score: nan - val_loss: 0.5785 - val_accuracy: 0.8421 - val_f1_score: nan\n",
            "Epoch 6/100\n",
            "54/54 [==============================] - 10s 178ms/step - loss: 0.0424 - accuracy: 0.9925 - f1_score: 0.9828 - val_loss: 0.6902 - val_accuracy: 0.8246 - val_f1_score: nan\n",
            "Epoch 7/100\n",
            "54/54 [==============================] - 10s 178ms/step - loss: 0.0260 - accuracy: 0.9944 - f1_score: 0.9623 - val_loss: 0.6694 - val_accuracy: 0.8246 - val_f1_score: nan\n",
            "Epoch 8/100\n",
            "54/54 [==============================] - 10s 177ms/step - loss: 0.0228 - accuracy: 0.9963 - f1_score: 0.9731 - val_loss: 0.7945 - val_accuracy: 0.8596 - val_f1_score: 0.4333\n",
            "Epoch 9/100\n",
            "54/54 [==============================] - 10s 178ms/step - loss: 0.0135 - accuracy: 0.9991 - f1_score: 0.9753 - val_loss: 0.7501 - val_accuracy: 0.8421 - val_f1_score: nan\n",
            "Epoch 10/100\n",
            "54/54 [==============================] - 10s 178ms/step - loss: 0.0105 - accuracy: 1.0000 - f1_score: 0.9815 - val_loss: 0.7478 - val_accuracy: 0.8596 - val_f1_score: 0.4333\n",
            "Epoch 11/100\n",
            "54/54 [==============================] - 10s 179ms/step - loss: 0.0136 - accuracy: 0.9981 - f1_score: 0.9952 - val_loss: 0.7927 - val_accuracy: 0.8596 - val_f1_score: 0.4333\n",
            "Epoch 12/100\n",
            "54/54 [==============================] - 10s 179ms/step - loss: 0.0132 - accuracy: 0.9963 - f1_score: 0.9778 - val_loss: 0.8544 - val_accuracy: 0.8421 - val_f1_score: 0.4667\n"
          ]
        }
      ]
    },
    {
      "cell_type": "code",
      "metadata": {
        "id": "0acHIajk0WVz",
        "colab": {
          "base_uri": "https://localhost:8080/",
          "height": 354
        },
        "outputId": "05fa1fd4-143d-4dac-d6f4-f6315a32fa07"
      },
      "source": [
        "p = np.array(model2.predict(train_axial))\n",
        "train_ACL_pred.append(p)\n",
        "p = np.array(model2.predict(test_axial))\n",
        "test_ACL_pred.append(p)                        \n",
        "score2 = model2.evaluate(test_axial ,testACL_labels,verbose=1)       \n",
        "print('Train loss:',score2[0])\n",
        "print('Train accuracy:',score2[1])                                                                 \n",
        "plt.figure()\n",
        "plt.grid()                                                                                                        \n",
        "plt.title('Training performance')                          \n",
        "plt.plot(history2.epoch, history2.history['loss'], label='train loss+error')  \n",
        "plt.plot(history2.epoch, history2.history['val_loss'], label='val_error')\n",
        "plt.plot(history2.epoch, history2.history['f1_score'], label='f1_score')\n",
        "plt.legend()"
      ],
      "execution_count": 24,
      "outputs": [
        {
          "output_type": "stream",
          "name": "stdout",
          "text": [
            "4/4 [==============================] - 1s 122ms/step - loss: 0.9278 - accuracy: 0.7667 - f1_score: 0.4231\n",
            "Train loss: 0.9277635216712952\n",
            "Train accuracy: 0.7666666507720947\n"
          ]
        },
        {
          "output_type": "execute_result",
          "data": {
            "text/plain": [
              "<matplotlib.legend.Legend at 0x7f590cc6e450>"
            ]
          },
          "metadata": {},
          "execution_count": 24
        },
        {
          "output_type": "display_data",
          "data": {
            "image/png": "[encoded data removed]",
            "text/plain": [
              "<Figure size 432x288 with 1 Axes>"
            ]
          },
          "metadata": {
            "needs_background": "light"
          }
        }
      ]
    },
    {
      "cell_type": "code",
      "source": [
        "filename = '/content/drive/MyDrive/Medical/MRNET MODEL/modelResNet502.h5'\n",
        "model2.save(filename)\n",
        "print('>Saved %s' % filename)\n",
        "clean_up(model=model2)"
      ],
      "metadata": {
        "id": "9ylqxFhbekCo",
        "colab": {
          "base_uri": "https://localhost:8080/"
        },
        "outputId": "c554110c-7c7a-46b1-bc23-b36f87478b5a"
      },
      "execution_count": 25,
      "outputs": [
        {
          "output_type": "stream",
          "name": "stdout",
          "text": [
            ">Saved /content/drive/MyDrive/Medical/MRNET MODEL/modelResNet502.h5\n",
            "...Finished clean up...\n"
          ]
        }
      ]
    },
    {
      "cell_type": "markdown",
      "metadata": {
        "id": "JIzTeIQJ08Ep"
      },
      "source": [
        "#### Finetuning ResNet50 Model for Axial Plane Scanes checking for Abnormal Condition"
      ]
    },
    {
      "cell_type": "code",
      "metadata": {
        "id": "L-L9iI9z0-wB"
      },
      "source": [
        "input_tensor = Input(shape=(256, 256,3))  \n",
        "base_model_ax_AB = ResNet50(input_tensor=input_tensor, weights='imagenet', include_top=False)"
      ],
      "execution_count": 26,
      "outputs": []
    },
    {
      "cell_type": "code",
      "metadata": {
        "id": "y2exvZb-19SL"
      },
      "source": [
        "x = base_model_ax_AB.output\n",
        "x = GlobalAveragePooling2D()(x)\n",
        "x=Dropout(0.2)(x)\n",
        "x = Dense(1024, activation='relu')(x)\n",
        "x=Dropout(0.2)(x)\n",
        "x=Dropout(0.2)(x)\n",
        "predictions = Dense(1, activation='sigmoid')(x)\n",
        "model3 = Model(inputs=base_model_ax_AB.input,outputs=predictions)"
      ],
      "execution_count": 27,
      "outputs": []
    },
    {
      "cell_type": "code",
      "metadata": {
        "id": "a7mXwAtA2IL0"
      },
      "source": [
        "for layer in model3.layers[64:]:\n",
        "   layer.trainable = True\n",
        "for layer in model3.layers[:64]:\n",
        "  layer.trainable = False"
      ],
      "execution_count": 28,
      "outputs": []
    },
    {
      "cell_type": "code",
      "metadata": {
        "id": "gfK3QM3Y2OBx",
        "colab": {
          "base_uri": "https://localhost:8080/"
        },
        "outputId": "b0e8bc06-b562-4a53-c395-533dcfd7f320"
      },
      "source": [
        "early_stopping_monitor = EarlyStopping(patience=10)    \n",
        "model3.compile(optimizer=SGD(lr=0.001,momentum=0.9), loss='binary_crossentropy',metrics=['accuracy',f1_score])\n",
        "history3=model3.fit(train_axial ,trainAb_labels, validation_split=0.05,shuffle=True ,epochs=100, callbacks=[early_stopping_monitor], batch_size = 20)"
      ],
      "execution_count": 29,
      "outputs": [
        {
          "output_type": "stream",
          "name": "stdout",
          "text": [
            "Epoch 1/100\n"
          ]
        },
        {
          "output_type": "stream",
          "name": "stderr",
          "text": [
            "/usr/local/lib/python3.7/dist-packages/keras/optimizer_v2/gradient_descent.py:102: UserWarning: The `lr` argument is deprecated, use `learning_rate` instead.\n",
            "  super(SGD, self).__init__(name, **kwargs)\n"
          ]
        },
        {
          "output_type": "stream",
          "name": "stdout",
          "text": [
            "54/54 [==============================] - 15s 195ms/step - loss: 0.6496 - accuracy: 0.6580 - f1_score: nan - val_loss: 0.6871 - val_accuracy: 0.6140 - val_f1_score: nan\n",
            "Epoch 2/100\n",
            "54/54 [==============================] - 10s 180ms/step - loss: 0.4405 - accuracy: 0.7884 - f1_score: 0.6548 - val_loss: 0.5495 - val_accuracy: 0.7018 - val_f1_score: 0.5943\n",
            "Epoch 3/100\n",
            "54/54 [==============================] - 10s 184ms/step - loss: 0.3017 - accuracy: 0.8807 - f1_score: 0.8235 - val_loss: 0.6692 - val_accuracy: 0.7018 - val_f1_score: 0.5839\n",
            "Epoch 4/100\n",
            "54/54 [==============================] - 10s 182ms/step - loss: 0.1774 - accuracy: 0.9432 - f1_score: 0.9123 - val_loss: 0.9186 - val_accuracy: 0.6842 - val_f1_score: 0.4127\n",
            "Epoch 5/100\n",
            "54/54 [==============================] - 10s 179ms/step - loss: 0.0788 - accuracy: 0.9870 - f1_score: 0.9810 - val_loss: 0.9481 - val_accuracy: 0.7018 - val_f1_score: 0.5353\n",
            "Epoch 6/100\n",
            "54/54 [==============================] - 10s 178ms/step - loss: 0.0396 - accuracy: 0.9944 - f1_score: 0.9922 - val_loss: 0.9475 - val_accuracy: 0.7193 - val_f1_score: 0.5593\n",
            "Epoch 7/100\n",
            "54/54 [==============================] - 10s 179ms/step - loss: 0.0275 - accuracy: 0.9981 - f1_score: 0.9927 - val_loss: 1.0511 - val_accuracy: 0.6667 - val_f1_score: 0.5218\n",
            "Epoch 8/100\n",
            "54/54 [==============================] - 10s 177ms/step - loss: 0.0203 - accuracy: 0.9981 - f1_score: 0.9969 - val_loss: 1.0900 - val_accuracy: 0.7018 - val_f1_score: 0.5464\n",
            "Epoch 9/100\n",
            "54/54 [==============================] - 10s 178ms/step - loss: 0.0141 - accuracy: 1.0000 - f1_score: 1.0000 - val_loss: 1.1413 - val_accuracy: 0.7193 - val_f1_score: 0.5593\n",
            "Epoch 10/100\n",
            "54/54 [==============================] - 10s 178ms/step - loss: 0.0224 - accuracy: 0.9963 - f1_score: 0.9959 - val_loss: 1.2417 - val_accuracy: 0.6140 - val_f1_score: 0.4910\n",
            "Epoch 11/100\n",
            "54/54 [==============================] - 10s 179ms/step - loss: 0.0104 - accuracy: 0.9972 - f1_score: 0.9958 - val_loss: 1.2399 - val_accuracy: 0.6842 - val_f1_score: 0.5354\n",
            "Epoch 12/100\n",
            "54/54 [==============================] - 10s 179ms/step - loss: 0.0109 - accuracy: 0.9981 - f1_score: 0.9982 - val_loss: 1.0634 - val_accuracy: 0.6667 - val_f1_score: 0.5233\n"
          ]
        }
      ]
    },
    {
      "cell_type": "code",
      "metadata": {
        "id": "8qVUA8jD2ZWb",
        "colab": {
          "base_uri": "https://localhost:8080/",
          "height": 354
        },
        "outputId": "971db1ad-9c4d-4875-806a-9ab9860b564e"
      },
      "source": [
        "p = np.array(model3.predict(train_axial))\n",
        "train_Ab_pred.append(p)\n",
        "p = np.array(model3.predict(test_axial))\n",
        "test_Ab_pred.append(p)                    \n",
        "score3 = model3.evaluate(test_axial ,testAb_labels,verbose=1)       \n",
        "print('Test loss:',score3[0])\n",
        "print('Test accuracy:',score3[1])                                                              \n",
        "plt.figure()\n",
        "plt.grid()                                                                                                \n",
        "plt.title('Training performance')                          \n",
        "plt.plot(history3.epoch, history3.history['loss'], label='train loss+error')  \n",
        "plt.plot(history3.epoch, history3.history['val_loss'], label='val_error') \n",
        "plt.plot(history3.epoch, history3.history['f1_score'], label='f1_score') \n",
        "plt.legend()"
      ],
      "execution_count": 30,
      "outputs": [
        {
          "output_type": "stream",
          "name": "stdout",
          "text": [
            "4/4 [==============================] - 1s 120ms/step - loss: 1.8132 - accuracy: 0.5333 - f1_score: 0.5515\n",
            "Test loss: 1.8131581544876099\n",
            "Test accuracy: 0.5333333611488342\n"
          ]
        },
        {
          "output_type": "execute_result",
          "data": {
            "text/plain": [
              "<matplotlib.legend.Legend at 0x7f58eb74c810>"
            ]
          },
          "metadata": {},
          "execution_count": 30
        },
        {
          "output_type": "display_data",
          "data": {
            "image/png": "[encoded data removed]",
            "text/plain": [
              "<Figure size 432x288 with 1 Axes>"
            ]
          },
          "metadata": {
            "needs_background": "light"
          }
        }
      ]
    },
    {
      "cell_type": "code",
      "source": [
        "filename = '/content/drive/MyDrive/Medical/MRNET MODEL/ResNet50model3.h5'\n",
        "model3.save(filename)\n",
        "print('>Saved %s' % filename)\n",
        "clean_up(model=model3)"
      ],
      "metadata": {
        "id": "TDjJ7rluf2BR",
        "colab": {
          "base_uri": "https://localhost:8080/"
        },
        "outputId": "a3fe8c11-3af2-40a2-9b8b-8457321259f5"
      },
      "execution_count": 31,
      "outputs": [
        {
          "output_type": "stream",
          "name": "stdout",
          "text": [
            ">Saved /content/drive/MyDrive/Medical/MRNET MODEL/ResNet50model3.h5\n",
            "...Finished clean up...\n"
          ]
        }
      ]
    },
    {
      "cell_type": "markdown",
      "source": [
        "##### Deleting Files which wont be required further to reduce memory load"
      ],
      "metadata": {
        "id": "RLHIrwbVTvDy"
      }
    },
    {
      "cell_type": "code",
      "metadata": {
        "id": "K-U-NrNAC3Gl"
      },
      "source": [
        "del train_axial\n",
        "del test_axial\n",
        "del axial_dir\n",
        "del axial_reloaded\n",
        "del axialTest_reloaded\n",
        "del axial_list\n",
        "del axialTest_list\n",
        "del model\n",
        "del model2\n",
        "del model3\n",
        "del base_model_ax_men\n",
        "del base_model_ax_ACL\n",
        "del base_model_ax_AB\n",
        "del p\n"
      ],
      "execution_count": 32,
      "outputs": []
    },
    {
      "cell_type": "markdown",
      "metadata": {
        "id": "gvtnuUab3sGt"
      },
      "source": [
        "##Coronal Plane Scans"
      ]
    },
    {
      "cell_type": "markdown",
      "metadata": {
        "id": "VJKP50dP-T7d"
      },
      "source": [
        "###Reading train & test data"
      ]
    },
    {
      "cell_type": "code",
      "metadata": {
        "id": "sL-8TZ2J36tA",
        "colab": {
          "base_uri": "https://localhost:8080/"
        },
        "outputId": "939c6bf1-1bc6-4735-cdc4-2837712a7025"
      },
      "source": [
        "coronal_dir = os.listdir(\"/content/drive/MyDrive/Medical/MRNet-v1.0/train/coronal/\")\n",
        "coronal_dir = [f.lower() for f in coronal_dir]   \n",
        "c=sorted(coronal_dir)\n",
        "coronal_list=np.array(c)\n",
        "coronal_reloaded=[]\n",
        "print(coronal_list.shape)\n",
        "for j in range(1,1131):\n",
        "    file2= \"/content/drive/MyDrive/Medical/MRNet-v1.0/train/coronal/\"+coronal_list[j]\n",
        "    coronal_reloaded.append(np.load(file2,allow_pickle='false'))\n",
        "\n",
        "coronal_reloaded=np.array(coronal_reloaded)\n",
        "print(coronal_reloaded.shape)\n",
        "train_coronal=[]\n",
        " \n",
        "for j in range(len(coronal_reloaded)):\n",
        "    mid2=math.floor((coronal_reloaded[j].shape[0])/2)\n",
        "    train_coronal.append([])\n",
        "        \n",
        "    for n in range(mid2-1,mid2+2):\n",
        "         train_coronal[j].append(coronal_reloaded[j][n])\n",
        "\n",
        "train_coronal=np.array(train_coronal)\n",
        "train_coronal=np.reshape(train_coronal,(1130,256,256,3))\n",
        "print(train_coronal.shape)\n",
        "\n",
        "coronal_dir = os.listdir(\"/content/drive/MyDrive/Medical/MRNet-v1.0/valid/coronal/\")\n",
        "coronal_dir = [f.lower() for f in coronal_dir]   \n",
        "c=sorted(coronal_dir)\n",
        "coronalTest_list=np.array(c)\n",
        "coronalTest_reloaded=[]\n",
        "print(coronalTest_list.shape)\n",
        "for j in range(0,120):\n",
        "    file2= \"/content/drive/MyDrive/Medical/MRNet-v1.0/valid/coronal/\"+coronalTest_list[j]\n",
        "    coronalTest_reloaded.append(np.load(file2,allow_pickle='false'))\n",
        "\n",
        "coronalTest_reloaded=np.array(coronalTest_reloaded)\n",
        "print(coronalTest_reloaded.shape)\n",
        "test_coronal=[]\n",
        " \n",
        "for j in range(len(coronalTest_reloaded)):\n",
        "    mid2=math.floor((coronalTest_reloaded[j].shape[0])/2)\n",
        "    test_coronal.append([])\n",
        "        \n",
        "    for n in range(mid2-1,mid2+2):\n",
        "         test_coronal[j].append(coronalTest_reloaded[j][n])\n",
        "\n",
        "test_coronal=np.array(test_coronal)\n",
        "test_coronal=np.reshape(test_coronal,(120,256,256,3))\n",
        "print(test_coronal.shape)"
      ],
      "execution_count": 33,
      "outputs": [
        {
          "output_type": "stream",
          "name": "stdout",
          "text": [
            "(1131,)\n"
          ]
        },
        {
          "output_type": "stream",
          "name": "stderr",
          "text": [
            "/usr/local/lib/python3.7/dist-packages/ipykernel_launcher.py:12: VisibleDeprecationWarning: Creating an ndarray from ragged nested sequences (which is a list-or-tuple of lists-or-tuples-or ndarrays with different lengths or shapes) is deprecated. If you meant to do this, you must specify 'dtype=object' when creating the ndarray.\n",
            "  if sys.path[0] == '':\n"
          ]
        },
        {
          "output_type": "stream",
          "name": "stdout",
          "text": [
            "(1130,)\n",
            "(1130, 256, 256, 3)\n",
            "(120,)\n",
            "(120,)\n",
            "(120, 256, 256, 3)\n"
          ]
        },
        {
          "output_type": "stream",
          "name": "stderr",
          "text": [
            "/usr/local/lib/python3.7/dist-packages/ipykernel_launcher.py:40: VisibleDeprecationWarning: Creating an ndarray from ragged nested sequences (which is a list-or-tuple of lists-or-tuples-or ndarrays with different lengths or shapes) is deprecated. If you meant to do this, you must specify 'dtype=object' when creating the ndarray.\n"
          ]
        }
      ]
    },
    {
      "cell_type": "markdown",
      "metadata": {
        "id": "RM003h3Y46L-"
      },
      "source": [
        "#### Finetuning ResNet50 Model for Coronal Plane Scanes checking for Meniscus Condition"
      ]
    },
    {
      "cell_type": "code",
      "metadata": {
        "id": "N-4cC08a50ot"
      },
      "source": [
        "input_tensor = Input(shape=(256, 256,3))  \n",
        "base_model_Co_Men = ResNet50(input_tensor=input_tensor, weights='imagenet', include_top=False)"
      ],
      "execution_count": 34,
      "outputs": []
    },
    {
      "cell_type": "code",
      "metadata": {
        "id": "HRaoDsnw57HB"
      },
      "source": [
        "x = base_model_Co_Men.output\n",
        "x = GlobalAveragePooling2D()(x)\n",
        "x=Dropout(0.2)(x)\n",
        "x = Dense(1024, activation='relu')(x)\n",
        "x=Dropout(0.2)(x)\n",
        "x=Dropout(0.2)(x)\n",
        "predictions = Dense(1, activation='sigmoid')(x)\n",
        "model4 = Model(inputs=base_model_Co_Men.input,outputs=predictions)"
      ],
      "execution_count": 35,
      "outputs": []
    },
    {
      "cell_type": "code",
      "metadata": {
        "id": "Xa1OIRRw5_q-"
      },
      "source": [
        "for layer in model4.layers[64:]:\n",
        "   layer.trainable = True\n",
        "for layer in model4.layers[:64]:\n",
        "  layer.trainable = False"
      ],
      "execution_count": 36,
      "outputs": []
    },
    {
      "cell_type": "code",
      "metadata": {
        "id": "0sTn67eX6GyY",
        "colab": {
          "base_uri": "https://localhost:8080/"
        },
        "outputId": "5ed98d93-c12d-47ff-9c28-7ba3195e71e0"
      },
      "source": [
        "early_stopping_monitor = EarlyStopping(patience=5)    \n",
        "model4.compile(optimizer=SGD(lr=0.001,momentum=0.9), loss='binary_crossentropy',metrics=['accuracy',f1_score])\n",
        "history4=model4.fit(train_coronal ,trainMen_labels, validation_split=0.05,shuffle=True ,epochs=100, callbacks=[early_stopping_monitor], batch_size = 20)"
      ],
      "execution_count": 37,
      "outputs": [
        {
          "output_type": "stream",
          "name": "stderr",
          "text": [
            "/usr/local/lib/python3.7/dist-packages/keras/optimizer_v2/gradient_descent.py:102: UserWarning: The `lr` argument is deprecated, use `learning_rate` instead.\n",
            "  super(SGD, self).__init__(name, **kwargs)\n"
          ]
        },
        {
          "output_type": "stream",
          "name": "stdout",
          "text": [
            "Epoch 1/100\n",
            "54/54 [==============================] - 15s 194ms/step - loss: 0.6471 - accuracy: 0.6477 - f1_score: nan - val_loss: 0.7314 - val_accuracy: 0.5965 - val_f1_score: nan\n",
            "Epoch 2/100\n",
            "54/54 [==============================] - 10s 179ms/step - loss: 0.4731 - accuracy: 0.7856 - f1_score: nan - val_loss: 0.8366 - val_accuracy: 0.5614 - val_f1_score: nan\n",
            "Epoch 3/100\n",
            "54/54 [==============================] - 10s 183ms/step - loss: 0.3370 - accuracy: 0.8630 - f1_score: 0.7841 - val_loss: 0.7421 - val_accuracy: 0.5965 - val_f1_score: 0.2526\n",
            "Epoch 4/100\n",
            "54/54 [==============================] - 10s 186ms/step - loss: 0.1652 - accuracy: 0.9562 - f1_score: 0.9338 - val_loss: 0.7813 - val_accuracy: 0.7544 - val_f1_score: 0.6171\n",
            "Epoch 5/100\n",
            "54/54 [==============================] - 10s 181ms/step - loss: 0.0766 - accuracy: 0.9916 - f1_score: 0.9888 - val_loss: 1.0500 - val_accuracy: 0.6491 - val_f1_score: 0.3677\n",
            "Epoch 6/100\n",
            "54/54 [==============================] - 10s 178ms/step - loss: 0.0536 - accuracy: 0.9916 - f1_score: 0.9885 - val_loss: 1.0220 - val_accuracy: 0.7193 - val_f1_score: 0.5417\n"
          ]
        }
      ]
    },
    {
      "cell_type": "code",
      "metadata": {
        "id": "EsGIEL8-jvLQ",
        "colab": {
          "base_uri": "https://localhost:8080/",
          "height": 354
        },
        "outputId": "56746008-196c-45f7-bcaf-5fe50003cc72"
      },
      "source": [
        "p = np.array(model4.predict(train_coronal))\n",
        "train_Men_pred.append(p)\n",
        "p = np.array(model4.predict(test_coronal))\n",
        "test_Men_pred.append(p)\n",
        "score4 = model4.evaluate(test_coronal ,testMen_labels,verbose=1)       \n",
        "print('Test loss:',score4[0])\n",
        "print('Test accuracy:',score4[1])                                                              \n",
        "plt.figure()\n",
        "plt.grid()                                                                                                     \n",
        "plt.title('Training performance')                          \n",
        "plt.plot(history4.epoch, history4.history['loss'], label='train loss+error')  \n",
        "plt.plot(history4.epoch, history4.history['val_loss'], label='val_error')  \n",
        "plt.plot(history4.epoch, history4.history['f1_score'], label='f1_score')  \n",
        "plt.legend()"
      ],
      "execution_count": 38,
      "outputs": [
        {
          "output_type": "stream",
          "name": "stdout",
          "text": [
            "4/4 [==============================] - 0s 117ms/step - loss: 1.0819 - accuracy: 0.6667 - f1_score: 0.4075\n",
            "Test loss: 1.0819015502929688\n",
            "Test accuracy: 0.6666666865348816\n"
          ]
        },
        {
          "output_type": "execute_result",
          "data": {
            "text/plain": [
              "<matplotlib.legend.Legend at 0x7f58ea74a910>"
            ]
          },
          "metadata": {},
          "execution_count": 38
        },
        {
          "output_type": "display_data",
          "data": {
            "image/png": "[encoded data removed]",
            "text/plain": [
              "<Figure size 432x288 with 1 Axes>"
            ]
          },
          "metadata": {
            "needs_background": "light"
          }
        }
      ]
    },
    {
      "cell_type": "code",
      "source": [
        "filename = '/content/drive/MyDrive/Medical/MRNET MODEL/ResNet50model4.h5'\n",
        "model4.save(filename)\n",
        "print('>Saved %s' % filename)\n",
        "clean_up(model=model4)"
      ],
      "metadata": {
        "id": "O2yQjTejgNn6",
        "colab": {
          "base_uri": "https://localhost:8080/"
        },
        "outputId": "9d5f229a-1bf2-4b6a-d248-ebbae3f90977"
      },
      "execution_count": 39,
      "outputs": [
        {
          "output_type": "stream",
          "name": "stdout",
          "text": [
            ">Saved /content/drive/MyDrive/Medical/MRNET MODEL/ResNet50model4.h5\n",
            "...Finished clean up...\n"
          ]
        }
      ]
    },
    {
      "cell_type": "markdown",
      "metadata": {
        "id": "ev8SCy58luHL"
      },
      "source": [
        "#### Finetuning ResNet50 Model for Coronal Plane Scanes checking for ACL Condition"
      ]
    },
    {
      "cell_type": "code",
      "metadata": {
        "id": "NqYG7kydluHO"
      },
      "source": [
        "input_tensor = Input(shape=(256, 256,3))  \n",
        "base_model_Co_ACL = ResNet50(input_tensor=input_tensor, weights='imagenet', include_top=False)"
      ],
      "execution_count": 40,
      "outputs": []
    },
    {
      "cell_type": "code",
      "metadata": {
        "id": "uhIvHBiIluHY"
      },
      "source": [
        "x = base_model_Co_ACL.output\n",
        "x = GlobalAveragePooling2D()(x)\n",
        "x=Dropout(0.2)(x)\n",
        "x = Dense(1024, activation='relu')(x)\n",
        "x=Dropout(0.2)(x)\n",
        "x=Dropout(0.2)(x)\n",
        "predictions = Dense(1, activation='sigmoid')(x)\n",
        "model5 = Model(inputs=base_model_Co_ACL.input,outputs=predictions)"
      ],
      "execution_count": 41,
      "outputs": []
    },
    {
      "cell_type": "code",
      "metadata": {
        "id": "5fPQriI-luHh"
      },
      "source": [
        "for layer in model5.layers[64:]:\n",
        "   layer.trainable = True\n",
        "for layer in model5.layers[:64]:\n",
        "  layer.trainable = False"
      ],
      "execution_count": 42,
      "outputs": []
    },
    {
      "cell_type": "code",
      "metadata": {
        "id": "GjmEc-AkluHx",
        "colab": {
          "base_uri": "https://localhost:8080/"
        },
        "outputId": "b0478097-8314-4191-c85d-2a5c6312572e"
      },
      "source": [
        "early_stopping_monitor = EarlyStopping(patience=10)    \n",
        "model5.compile(optimizer=SGD(lr=0.001,momentum=0.9), loss='binary_crossentropy',metrics=['accuracy',f1_score])\n",
        "history5=model5.fit(train_coronal ,trainACL_labels, validation_split=0.05,shuffle=True ,epochs=100, callbacks=[early_stopping_monitor], batch_size = 20)\n",
        "#model.fit(train_axial,trainMen_labels,epochs=50,batch_size=1000,validation_split=0.05,verbose=2,callbacks=[EarlyStopping(monitor='val_loss', patience=10, verbose=1, mode=\"min\")])"
      ],
      "execution_count": 43,
      "outputs": [
        {
          "output_type": "stream",
          "name": "stdout",
          "text": [
            "Epoch 1/100\n"
          ]
        },
        {
          "output_type": "stream",
          "name": "stderr",
          "text": [
            "/usr/local/lib/python3.7/dist-packages/keras/optimizer_v2/gradient_descent.py:102: UserWarning: The `lr` argument is deprecated, use `learning_rate` instead.\n",
            "  super(SGD, self).__init__(name, **kwargs)\n"
          ]
        },
        {
          "output_type": "stream",
          "name": "stdout",
          "text": [
            "54/54 [==============================] - 15s 194ms/step - loss: 0.5159 - accuracy: 0.7922 - f1_score: nan - val_loss: 0.4932 - val_accuracy: 0.8421 - val_f1_score: nan\n",
            "Epoch 2/100\n",
            "54/54 [==============================] - 10s 178ms/step - loss: 0.3682 - accuracy: 0.8388 - f1_score: nan - val_loss: 0.4667 - val_accuracy: 0.8421 - val_f1_score: nan\n",
            "Epoch 3/100\n",
            "54/54 [==============================] - 10s 181ms/step - loss: 0.2564 - accuracy: 0.8891 - f1_score: nan - val_loss: 0.4544 - val_accuracy: 0.8421 - val_f1_score: nan\n",
            "Epoch 4/100\n",
            "54/54 [==============================] - 10s 186ms/step - loss: 0.1423 - accuracy: 0.9599 - f1_score: nan - val_loss: 0.6016 - val_accuracy: 0.8421 - val_f1_score: nan\n",
            "Epoch 5/100\n",
            "54/54 [==============================] - 10s 183ms/step - loss: 0.0755 - accuracy: 0.9823 - f1_score: 0.9016 - val_loss: 0.5872 - val_accuracy: 0.8421 - val_f1_score: nan\n",
            "Epoch 6/100\n",
            "54/54 [==============================] - 10s 180ms/step - loss: 0.0371 - accuracy: 0.9963 - f1_score: 0.9501 - val_loss: 0.6730 - val_accuracy: 0.8246 - val_f1_score: nan\n",
            "Epoch 7/100\n",
            "54/54 [==============================] - 10s 178ms/step - loss: 0.0231 - accuracy: 0.9991 - f1_score: 0.9983 - val_loss: 0.5387 - val_accuracy: 0.8421 - val_f1_score: nan\n",
            "Epoch 8/100\n",
            "54/54 [==============================] - 10s 177ms/step - loss: 0.0138 - accuracy: 1.0000 - f1_score: 0.9815 - val_loss: 0.5380 - val_accuracy: 0.8246 - val_f1_score: nan\n",
            "Epoch 9/100\n",
            "54/54 [==============================] - 10s 177ms/step - loss: 0.0095 - accuracy: 1.0000 - f1_score: 1.0000 - val_loss: 0.6139 - val_accuracy: 0.8246 - val_f1_score: nan\n",
            "Epoch 10/100\n",
            "54/54 [==============================] - 10s 179ms/step - loss: 0.0093 - accuracy: 1.0000 - f1_score: 0.9815 - val_loss: 0.6248 - val_accuracy: 0.8246 - val_f1_score: nan\n",
            "Epoch 11/100\n",
            "54/54 [==============================] - 10s 178ms/step - loss: 0.0055 - accuracy: 1.0000 - f1_score: 0.9815 - val_loss: 0.6095 - val_accuracy: 0.8246 - val_f1_score: nan\n",
            "Epoch 12/100\n",
            "54/54 [==============================] - 10s 179ms/step - loss: 0.0050 - accuracy: 1.0000 - f1_score: 0.9815 - val_loss: 0.6056 - val_accuracy: 0.8246 - val_f1_score: nan\n",
            "Epoch 13/100\n",
            "54/54 [==============================] - 10s 180ms/step - loss: 0.0037 - accuracy: 1.0000 - f1_score: 1.0000 - val_loss: 0.6037 - val_accuracy: 0.8246 - val_f1_score: nan\n"
          ]
        }
      ]
    },
    {
      "cell_type": "code",
      "metadata": {
        "id": "61nsbN5vluH8",
        "colab": {
          "base_uri": "https://localhost:8080/",
          "height": 372
        },
        "outputId": "6c482e76-c25c-4842-8624-449173120758"
      },
      "source": [
        "p = np.array(model5.predict(train_coronal))\n",
        "train_ACL_pred.append(p)\n",
        "p = np.array(model5.predict(test_coronal, verbose=1))\n",
        "test_ACL_pred.append(p)              \n",
        "score5 = model5.evaluate(test_coronal ,testACL_labels,verbose=1)       \n",
        "print('Test loss:',score5[0])\n",
        "print('Test accuracy:',score5[1])                                                              \n",
        "plt.figure()\n",
        "plt.grid()                                                                                                     \n",
        "plt.title('Training performance')                          \n",
        "plt.plot(history5.epoch, history5.history['loss'], label='train loss+error')  \n",
        "plt.plot(history5.epoch, history5.history['val_loss'], label='val_error') \n",
        "plt.plot(history5.epoch, history5.history['f1_score'], label='f1_score') \n",
        "plt.legend()"
      ],
      "execution_count": 44,
      "outputs": [
        {
          "output_type": "stream",
          "name": "stdout",
          "text": [
            "4/4 [==============================] - 0s 125ms/step\n",
            "4/4 [==============================] - 1s 123ms/step - loss: 1.4139 - accuracy: 0.5917 - f1_score: 0.2639\n",
            "Test loss: 1.4138596057891846\n",
            "Test accuracy: 0.5916666388511658\n"
          ]
        },
        {
          "output_type": "execute_result",
          "data": {
            "text/plain": [
              "<matplotlib.legend.Legend at 0x7f585268cd10>"
            ]
          },
          "metadata": {},
          "execution_count": 44
        },
        {
          "output_type": "display_data",
          "data": {
            "image/png": "[encoded data removed]",
            "text/plain": [
              "<Figure size 432x288 with 1 Axes>"
            ]
          },
          "metadata": {
            "needs_background": "light"
          }
        }
      ]
    },
    {
      "cell_type": "code",
      "source": [
        "filename = '/content/drive/MyDrive/Medical/MRNET MODEL/ResNet50model5.h5'\n",
        "model5.save(filename)\n",
        "print('>Saved %s' % filename)\n",
        "clean_up(model=model5)"
      ],
      "metadata": {
        "id": "5rNQtSgkjHtR",
        "colab": {
          "base_uri": "https://localhost:8080/"
        },
        "outputId": "e2826f15-8589-42bc-d99f-a3bb6ebbba58"
      },
      "execution_count": 45,
      "outputs": [
        {
          "output_type": "stream",
          "name": "stdout",
          "text": [
            ">Saved /content/drive/MyDrive/Medical/MRNET MODEL/ResNet50model5.h5\n",
            "...Finished clean up...\n"
          ]
        }
      ]
    },
    {
      "cell_type": "markdown",
      "metadata": {
        "id": "p4460kOMm_LA"
      },
      "source": [
        "#### Finetuning ResNet50 Model for Coronal Plane Scanes checking for Abnormal Condition"
      ]
    },
    {
      "cell_type": "code",
      "metadata": {
        "id": "5mMGdm5dm_LC"
      },
      "source": [
        "input_tensor = Input(shape=(256, 256,3))  \n",
        "base_model_Co_Ab = ResNet50(input_tensor=input_tensor, weights='imagenet', include_top=False)"
      ],
      "execution_count": 46,
      "outputs": []
    },
    {
      "cell_type": "code",
      "metadata": {
        "id": "wXUGXsfLm_LF"
      },
      "source": [
        "x = base_model_Co_Ab.output\n",
        "x = GlobalAveragePooling2D()(x)\n",
        "x=Dropout(0.2)(x)\n",
        "x = Dense(1024, activation='relu')(x)\n",
        "x=Dropout(0.2)(x)\n",
        "x=Dropout(0.2)(x)\n",
        "predictions = Dense(1, activation='sigmoid')(x)\n",
        "model6 = Model(inputs=base_model_Co_Ab.input,outputs=predictions)"
      ],
      "execution_count": 47,
      "outputs": []
    },
    {
      "cell_type": "code",
      "metadata": {
        "id": "b9YffZeim_LH"
      },
      "source": [
        "for layer in model6.layers[64:]:\n",
        "   layer.trainable = True\n",
        "for layer in model6.layers[:64]:\n",
        "  layer.trainable = False"
      ],
      "execution_count": 48,
      "outputs": []
    },
    {
      "cell_type": "code",
      "metadata": {
        "id": "J_O8H3RXm_LK",
        "colab": {
          "base_uri": "https://localhost:8080/"
        },
        "outputId": "e639f625-f816-4f05-aa25-7ef9292d23a9"
      },
      "source": [
        "early_stopping_monitor = EarlyStopping(patience=10)    \n",
        "model6.compile(optimizer=SGD(lr=0.001,momentum=0.9), loss='binary_crossentropy',metrics=['accuracy',f1_score])\n",
        "history6=model6.fit(train_coronal ,trainAb_labels, validation_split=0.05,shuffle=True ,epochs=100, callbacks=[early_stopping_monitor], batch_size = 20)"
      ],
      "execution_count": 49,
      "outputs": [
        {
          "output_type": "stream",
          "name": "stdout",
          "text": [
            "Epoch 1/100\n"
          ]
        },
        {
          "output_type": "stream",
          "name": "stderr",
          "text": [
            "/usr/local/lib/python3.7/dist-packages/keras/optimizer_v2/gradient_descent.py:102: UserWarning: The `lr` argument is deprecated, use `learning_rate` instead.\n",
            "  super(SGD, self).__init__(name, **kwargs)\n"
          ]
        },
        {
          "output_type": "stream",
          "name": "stdout",
          "text": [
            "54/54 [==============================] - 15s 196ms/step - loss: 0.6787 - accuracy: 0.6151 - f1_score: nan - val_loss: 0.6986 - val_accuracy: 0.5965 - val_f1_score: nan\n",
            "Epoch 2/100\n",
            "54/54 [==============================] - 10s 180ms/step - loss: 0.4743 - accuracy: 0.7651 - f1_score: nan - val_loss: 0.6262 - val_accuracy: 0.6140 - val_f1_score: 0.3328\n",
            "Epoch 3/100\n",
            "54/54 [==============================] - 10s 184ms/step - loss: 0.3179 - accuracy: 0.8733 - f1_score: 0.8035 - val_loss: 0.5843 - val_accuracy: 0.7018 - val_f1_score: 0.6380\n",
            "Epoch 4/100\n",
            "54/54 [==============================] - 10s 182ms/step - loss: 0.1539 - accuracy: 0.9618 - f1_score: 0.9420 - val_loss: 0.7070 - val_accuracy: 0.7018 - val_f1_score: 0.5152\n",
            "Epoch 5/100\n",
            "54/54 [==============================] - 10s 179ms/step - loss: 0.0763 - accuracy: 0.9897 - f1_score: 0.9868 - val_loss: 0.6809 - val_accuracy: 0.7193 - val_f1_score: 0.5972\n",
            "Epoch 6/100\n",
            "54/54 [==============================] - 10s 178ms/step - loss: 0.0385 - accuracy: 0.9991 - f1_score: 0.9974 - val_loss: 0.8079 - val_accuracy: 0.7193 - val_f1_score: 0.5972\n",
            "Epoch 7/100\n",
            "54/54 [==============================] - 10s 178ms/step - loss: 0.0279 - accuracy: 0.9953 - f1_score: 0.9908 - val_loss: 0.9154 - val_accuracy: 0.7193 - val_f1_score: 0.5972\n",
            "Epoch 8/100\n",
            "54/54 [==============================] - 10s 178ms/step - loss: 0.0167 - accuracy: 1.0000 - f1_score: 1.0000 - val_loss: 0.9806 - val_accuracy: 0.7193 - val_f1_score: 0.6001\n",
            "Epoch 9/100\n",
            "54/54 [==============================] - 10s 178ms/step - loss: 0.0121 - accuracy: 1.0000 - f1_score: 1.0000 - val_loss: 1.0207 - val_accuracy: 0.7018 - val_f1_score: 0.5830\n",
            "Epoch 10/100\n",
            "54/54 [==============================] - 10s 179ms/step - loss: 0.0099 - accuracy: 0.9991 - f1_score: 0.9989 - val_loss: 1.0927 - val_accuracy: 0.7018 - val_f1_score: 0.5830\n",
            "Epoch 11/100\n",
            "54/54 [==============================] - 10s 179ms/step - loss: 0.0078 - accuracy: 0.9981 - f1_score: 0.9970 - val_loss: 1.0555 - val_accuracy: 0.6667 - val_f1_score: 0.5385\n",
            "Epoch 12/100\n",
            "54/54 [==============================] - 10s 180ms/step - loss: 0.0089 - accuracy: 1.0000 - f1_score: 1.0000 - val_loss: 1.0421 - val_accuracy: 0.6491 - val_f1_score: 0.5405\n",
            "Epoch 13/100\n",
            "54/54 [==============================] - 10s 180ms/step - loss: 0.0044 - accuracy: 1.0000 - f1_score: 1.0000 - val_loss: 0.9984 - val_accuracy: 0.6667 - val_f1_score: 0.5532\n"
          ]
        }
      ]
    },
    {
      "cell_type": "code",
      "metadata": {
        "id": "6Rn0iI-Rm_LQ",
        "colab": {
          "base_uri": "https://localhost:8080/",
          "height": 354
        },
        "outputId": "cc871a8c-d269-407c-f1f2-bf1e1227371c"
      },
      "source": [
        "p = np.array(model6.predict(train_coronal))\n",
        "train_Ab_pred.append(p)\n",
        "p = np.array(model6.predict(test_coronal))\n",
        "test_Ab_pred.append(p)        \n",
        "score6 = model6.evaluate(test_coronal ,testAb_labels,verbose=1)       \n",
        "print('Test loss:',score6[0])\n",
        "print('Test accuracy:',score6[1])                                                 \n",
        "plt.figure()\n",
        "plt.grid()                                                                                           \n",
        "plt.title('Training performance')                          \n",
        "plt.plot(history6.epoch, history6.history['loss'], label='train loss+error')  \n",
        "plt.plot(history6.epoch, history6.history['val_loss'], label='val_error')   \n",
        "plt.plot(history6.epoch, history6.history['f1_score'], label='f1_score')   \n",
        "plt.legend()"
      ],
      "execution_count": 50,
      "outputs": [
        {
          "output_type": "stream",
          "name": "stdout",
          "text": [
            "4/4 [==============================] - 0s 116ms/step - loss: 2.3051 - accuracy: 0.4500 - f1_score: 0.4524\n",
            "Test loss: 2.3051116466522217\n",
            "Test accuracy: 0.44999998807907104\n"
          ]
        },
        {
          "output_type": "execute_result",
          "data": {
            "text/plain": [
              "<matplotlib.legend.Legend at 0x7f5852392710>"
            ]
          },
          "metadata": {},
          "execution_count": 50
        },
        {
          "output_type": "display_data",
          "data": {
            "image/png": "[encoded data removed]",
            "text/plain": [
              "<Figure size 432x288 with 1 Axes>"
            ]
          },
          "metadata": {
            "needs_background": "light"
          }
        }
      ]
    },
    {
      "cell_type": "code",
      "source": [
        "filename = '/content/drive/MyDrive/Medical/MRNET MODEL/ResNet50model6.h5'\n",
        "model6.save(filename)\n",
        "print('>Saved %s' % filename)"
      ],
      "metadata": {
        "id": "y5hC24kdBJHp",
        "colab": {
          "base_uri": "https://localhost:8080/"
        },
        "outputId": "a972161b-4edd-47eb-ca98-e2b1b6f2146e"
      },
      "execution_count": 51,
      "outputs": [
        {
          "output_type": "stream",
          "name": "stdout",
          "text": [
            ">Saved /content/drive/MyDrive/Medical/MRNET MODEL/ResNet50model6.h5\n"
          ]
        }
      ]
    },
    {
      "cell_type": "code",
      "source": [
        "clean_up(model=model6)"
      ],
      "metadata": {
        "id": "iUK2S_nCHJgc",
        "colab": {
          "base_uri": "https://localhost:8080/"
        },
        "outputId": "e34d9dc3-8b7d-4b24-9d08-9944be13572c"
      },
      "execution_count": 52,
      "outputs": [
        {
          "output_type": "stream",
          "name": "stdout",
          "text": [
            "...Finished clean up...\n"
          ]
        }
      ]
    },
    {
      "cell_type": "code",
      "metadata": {
        "id": "QPaXpEFeEHRK"
      },
      "source": [
        "del train_coronal\n",
        "del test_coronal\n",
        "del coronal_dir\n",
        "del coronal_reloaded\n",
        "del coronalTest_reloaded\n",
        "del coronal_list\n",
        "del coronalTest_list\n",
        "del model4\n",
        "del model5\n",
        "del model6\n",
        "del base_model_Co_Men\n",
        "del base_model_Co_ACL\n",
        "del base_model_Co_Ab\n",
        "del p\n"
      ],
      "execution_count": 53,
      "outputs": []
    },
    {
      "cell_type": "markdown",
      "metadata": {
        "id": "eh7IUVUIxzFM"
      },
      "source": [
        "##Sagittal Planes Scans"
      ]
    },
    {
      "cell_type": "markdown",
      "metadata": {
        "id": "f-j4PHNJEMRA"
      },
      "source": [
        "###Reading train & test data"
      ]
    },
    {
      "cell_type": "code",
      "metadata": {
        "id": "Uqm-RJB1xzFQ",
        "colab": {
          "base_uri": "https://localhost:8080/"
        },
        "outputId": "7cf4c35c-d2b8-4b67-a99f-0c9fcafa8876"
      },
      "source": [
        "sagittal_dir = os.listdir(\"/content/drive/MyDrive/Medical/MRNet-v1.0/train/sagittal/\")\n",
        "sagittal_dir = [f.lower() for f in sagittal_dir]   \n",
        "c=sorted(sagittal_dir)\n",
        "sagittal_list=np.array(c)\n",
        "sagittal_reloaded=[]\n",
        "print(sagittal_list.shape)\n",
        "for j in range(1,1131):\n",
        "    file2= \"/content/drive/MyDrive/Medical/MRNet-v1.0/train/sagittal/\"+sagittal_list[j]\n",
        "    sagittal_reloaded.append(np.load(file2,allow_pickle='false'))\n",
        "\n",
        "sagittal_reloaded=np.array(sagittal_reloaded)\n",
        "print(sagittal_reloaded.shape)\n",
        "train_sagittal=[]\n",
        " \n",
        "for j in range(len(sagittal_reloaded)):\n",
        "    mid2=math.floor((sagittal_reloaded[j].shape[0])/2)\n",
        "    train_sagittal.append([])  \n",
        "    for n in range(mid2-1,mid2+2):\n",
        "         train_sagittal[j].append(sagittal_reloaded[j][n])\n",
        "\n",
        "train_sagittal=np.array(train_sagittal)\n",
        "train_sagittal=np.reshape(train_sagittal,(1130,256,256,3))\n",
        "print(train_sagittal.shape)\n",
        "\n",
        "sagittal_dir = os.listdir(\"/content/drive/MyDrive/Medical/MRNet-v1.0/valid/sagittal/\")\n",
        "sagittal_dir = [f.lower() for f in sagittal_dir]   \n",
        "c=sorted(sagittal_dir)\n",
        "sagittalTest_list=np.array(c)\n",
        "sagittalTest_reloaded=[]\n",
        "print(sagittalTest_list.shape)\n",
        "for j in range(0,120):\n",
        "    file2= \"/content/drive/MyDrive/Medical/MRNet-v1.0/valid/sagittal/\"+sagittalTest_list[j]\n",
        "    sagittalTest_reloaded.append(np.load(file2,allow_pickle='false'))\n",
        "\n",
        "sagittalTest_reloaded=np.array(sagittalTest_reloaded)\n",
        "print(sagittalTest_reloaded.shape)\n",
        "test_sagittal=[]\n",
        " \n",
        "for j in range(len(sagittalTest_reloaded)):\n",
        "    mid2=math.floor((sagittalTest_reloaded[j].shape[0])/2)\n",
        "    test_sagittal.append([])  \n",
        "    for n in range(mid2-1,mid2+2):\n",
        "         test_sagittal[j].append(sagittalTest_reloaded[j][n])\n",
        "\n",
        "test_sagittal=np.array(test_sagittal)\n",
        "test_sagittal=np.reshape(test_sagittal,(120,256,256,3))\n",
        "print(test_sagittal.shape)\n",
        "\n"
      ],
      "execution_count": 55,
      "outputs": [
        {
          "output_type": "stream",
          "name": "stdout",
          "text": [
            "(1131,)\n"
          ]
        },
        {
          "output_type": "stream",
          "name": "stderr",
          "text": [
            "/usr/local/lib/python3.7/dist-packages/ipykernel_launcher.py:12: VisibleDeprecationWarning: Creating an ndarray from ragged nested sequences (which is a list-or-tuple of lists-or-tuples-or ndarrays with different lengths or shapes) is deprecated. If you meant to do this, you must specify 'dtype=object' when creating the ndarray.\n",
            "  if sys.path[0] == '':\n"
          ]
        },
        {
          "output_type": "stream",
          "name": "stdout",
          "text": [
            "(1130,)\n",
            "(1130, 256, 256, 3)\n",
            "(120,)\n",
            "(120,)\n",
            "(120, 256, 256, 3)\n"
          ]
        },
        {
          "output_type": "stream",
          "name": "stderr",
          "text": [
            "/usr/local/lib/python3.7/dist-packages/ipykernel_launcher.py:40: VisibleDeprecationWarning: Creating an ndarray from ragged nested sequences (which is a list-or-tuple of lists-or-tuples-or ndarrays with different lengths or shapes) is deprecated. If you meant to do this, you must specify 'dtype=object' when creating the ndarray.\n"
          ]
        }
      ]
    },
    {
      "cell_type": "markdown",
      "source": [
        "Also reading axial scans for future use"
      ],
      "metadata": {
        "id": "U3UwMrD_Ve3i"
      }
    },
    {
      "cell_type": "code",
      "source": [
        "axial_dir = os.listdir(\"/content/drive/MyDrive/Medical/MRNet-v1.0/train/axial/\")\n",
        "axial_dir = [f.lower() for f in axial_dir]   \n",
        "a=sorted(axial_dir)\n",
        "axial_list=np.array(a)\n",
        "axial_reloaded=[]\n",
        "\n",
        "print(axial_list.shape)\n",
        "for j in range(1,1131):\n",
        "    file= \"/content/drive/MyDrive/Medical/MRNet-v1.0/train/axial/\"+axial_list[j]    \n",
        "    axial_reloaded.append(np.load(file,allow_pickle='false'))   \n",
        "axial_reloaded=np.array(axial_reloaded)\n",
        "\n",
        "print(axial_reloaded.shape)\n",
        "s=axial_reloaded.shape\n",
        "print(axial_reloaded[0].shape[0])\n",
        "train_axial=[]\n",
        "\n",
        "print(len(axial_reloaded))\n",
        "for j in range(len(axial_reloaded)):\n",
        "    mid=math.floor((axial_reloaded[j].shape[0])/2)\n",
        "    train_axial.append([])    \n",
        "    for n in range(mid-1,mid+2):\n",
        "         train_axial[j].append(axial_reloaded[j][n])\n",
        "train_axial=np.array(train_axial)\n",
        "train_axial=np.reshape(train_axial,(1130,256,256,3))\n",
        "print(train_axial.shape)\n",
        "\n",
        "\n",
        "axial_dir = os.listdir(\"/content/drive/MyDrive/Medical/MRNet-v1.0/valid/axial/\")\n",
        "axial_dir = [f.lower() for f in axial_dir]   \n",
        "a=sorted(axial_dir)\n",
        "axialTest_list=np.array(a)\n",
        "axialTest_reloaded=[]\n",
        "\n",
        "print(axialTest_list.shape)\n",
        "\n",
        "for j in range(0,120):\n",
        "    file= \"/content/drive/MyDrive/Medical/MRNet-v1.0/valid/axial/\"+axialTest_list[j]\n",
        "    axialTest_reloaded.append(np.load(file,allow_pickle='false'))   \n",
        "axialTest_reloaded=np.array(axialTest_reloaded)\n",
        "\n",
        "print(axialTest_reloaded.shape)\n",
        "\n",
        "s=axialTest_reloaded.shape\n",
        "print(axialTest_reloaded[0].shape[0])\n",
        "test_axial=[]\n",
        "\n",
        "print(len(axialTest_reloaded))\n",
        "for j in range(len(axialTest_reloaded)):\n",
        "    mid=math.floor((axialTest_reloaded[j].shape[0])/2)\n",
        "    test_axial.append([])    \n",
        "    for n in range(mid-1,mid+2):\n",
        "         test_axial[j].append(axialTest_reloaded[j][n])\n",
        "test_axial=np.array(test_axial)\n",
        "test_axial=np.reshape(test_axial,(120,256,256,3))\n",
        "print(test_axial.shape)"
      ],
      "metadata": {
        "id": "-bJEp3gNVdYw"
      },
      "execution_count": null,
      "outputs": []
    },
    {
      "cell_type": "markdown",
      "metadata": {
        "id": "ZhRgNysBy9HJ"
      },
      "source": [
        "#### Finetuning ResNet50 Model for Sagittal Plane Scanes checking for Mensical Condition"
      ]
    },
    {
      "cell_type": "code",
      "metadata": {
        "id": "2c_Dtv7Jy9HP"
      },
      "source": [
        "input_tensor = Input(shape=(256, 256,3))  \n",
        "base_model_Sa_Men = ResNet50(input_tensor=input_tensor, weights='imagenet', include_top=False)"
      ],
      "execution_count": 56,
      "outputs": []
    },
    {
      "cell_type": "code",
      "metadata": {
        "id": "Cde65r48y9Hd"
      },
      "source": [
        "x = base_model_Sa_Men.output\n",
        "x = GlobalAveragePooling2D()(x)\n",
        "x=Dropout(0.2)(x)\n",
        "x = Dense(1024, activation='relu')(x)\n",
        "x=Dropout(0.2)(x)\n",
        "x=Dropout(0.2)(x)\n",
        "predictions = Dense(1, activation='sigmoid')(x)\n",
        "model7 = Model(inputs=base_model_Sa_Men.input,outputs=predictions)"
      ],
      "execution_count": 57,
      "outputs": []
    },
    {
      "cell_type": "code",
      "metadata": {
        "id": "1fBMXXA4y9Hj"
      },
      "source": [
        "for layer in model7.layers[64:]:\n",
        "   layer.trainable = True\n",
        "for layer in model7.layers[:64]:\n",
        "   layer.trainable = True"
      ],
      "execution_count": 58,
      "outputs": []
    },
    {
      "cell_type": "code",
      "source": [
        "trainMen_labels = np.array(trainMen_labels)"
      ],
      "metadata": {
        "id": "Ml-ISqmzKQHN"
      },
      "execution_count": 60,
      "outputs": []
    },
    {
      "cell_type": "code",
      "metadata": {
        "id": "vzHwBUqyy9Hm",
        "colab": {
          "base_uri": "https://localhost:8080/"
        },
        "outputId": "ec547191-34ff-4b48-b6ea-17dd154e8908"
      },
      "source": [
        "early_stopping_monitor = EarlyStopping(patience=10)    \n",
        "model7.compile(optimizer=SGD(lr=0.001,momentum=0.9), loss='binary_crossentropy',metrics=['accuracy',f1_score])\n",
        "history7=model7.fit(train_sagittal ,trainMen_labels, validation_split=0.05,shuffle=True ,epochs=100, callbacks=[early_stopping_monitor], batch_size = 20)"
      ],
      "execution_count": 61,
      "outputs": [
        {
          "output_type": "stream",
          "name": "stderr",
          "text": [
            "/usr/local/lib/python3.7/dist-packages/keras/optimizer_v2/gradient_descent.py:102: UserWarning: The `lr` argument is deprecated, use `learning_rate` instead.\n",
            "  super(SGD, self).__init__(name, **kwargs)\n"
          ]
        },
        {
          "output_type": "stream",
          "name": "stdout",
          "text": [
            "Epoch 1/100\n",
            "54/54 [==============================] - 22s 289ms/step - loss: 0.6947 - accuracy: 0.6104 - f1_score: nan - val_loss: 0.7295 - val_accuracy: 0.5965 - val_f1_score: nan\n",
            "Epoch 2/100\n",
            "54/54 [==============================] - 15s 273ms/step - loss: 0.4833 - accuracy: 0.7763 - f1_score: 0.6121 - val_loss: 1.0583 - val_accuracy: 0.5965 - val_f1_score: nan\n",
            "Epoch 3/100\n",
            "54/54 [==============================] - 15s 274ms/step - loss: 0.3054 - accuracy: 0.8947 - f1_score: 0.8458 - val_loss: 1.0770 - val_accuracy: 0.6316 - val_f1_score: nan\n",
            "Epoch 4/100\n",
            "54/54 [==============================] - 14s 267ms/step - loss: 0.1509 - accuracy: 0.9590 - f1_score: 0.9377 - val_loss: 1.3372 - val_accuracy: 0.6140 - val_f1_score: nan\n",
            "Epoch 5/100\n",
            "54/54 [==============================] - 14s 264ms/step - loss: 0.0618 - accuracy: 0.9916 - f1_score: 0.9902 - val_loss: 1.1461 - val_accuracy: 0.6667 - val_f1_score: 0.4496\n",
            "Epoch 6/100\n",
            "54/54 [==============================] - 14s 266ms/step - loss: 0.0397 - accuracy: 0.9944 - f1_score: 0.9935 - val_loss: 1.2578 - val_accuracy: 0.6667 - val_f1_score: 0.4889\n",
            "Epoch 7/100\n",
            "54/54 [==============================] - 14s 267ms/step - loss: 0.0241 - accuracy: 0.9991 - f1_score: 0.9963 - val_loss: 1.2723 - val_accuracy: 0.6842 - val_f1_score: 0.5162\n",
            "Epoch 8/100\n",
            "54/54 [==============================] - 14s 268ms/step - loss: 0.0142 - accuracy: 1.0000 - f1_score: 1.0000 - val_loss: 1.1798 - val_accuracy: 0.6491 - val_f1_score: 0.4718\n",
            "Epoch 9/100\n",
            "54/54 [==============================] - 15s 269ms/step - loss: 0.0124 - accuracy: 0.9991 - f1_score: 0.9974 - val_loss: 1.3058 - val_accuracy: 0.6842 - val_f1_score: 0.5381\n",
            "Epoch 10/100\n",
            "54/54 [==============================] - 14s 268ms/step - loss: 0.0067 - accuracy: 1.0000 - f1_score: 1.0000 - val_loss: 1.2746 - val_accuracy: 0.6491 - val_f1_score: 0.4930\n",
            "Epoch 11/100\n",
            "54/54 [==============================] - 14s 267ms/step - loss: 0.0069 - accuracy: 0.9991 - f1_score: 0.9993 - val_loss: 1.2082 - val_accuracy: 0.6667 - val_f1_score: 0.5616\n"
          ]
        }
      ]
    },
    {
      "cell_type": "code",
      "metadata": {
        "id": "B_Ql5qSTy9Hp",
        "colab": {
          "base_uri": "https://localhost:8080/",
          "height": 354
        },
        "outputId": "3c2458b5-a384-444a-8bda-cfc3ff635485"
      },
      "source": [
        "p = np.array(model7.predict(train_sagittal))\n",
        "train_Men_pred.append(p)\n",
        "p = np.array(model7.predict(test_sagittal))\n",
        "test_Men_pred.append(p)             \n",
        "score7 = model7.evaluate(test_sagittal ,testMen_labels,verbose=1)       \n",
        "print('Test loss:',score7[0])\n",
        "print('Test accuracy:',score7[1])                                                            \n",
        "plt.figure()\n",
        "plt.grid()                                                                                                    \n",
        "plt.title('Training performance')                          \n",
        "plt.plot(history7.epoch, history7.history['loss'], label='train loss+error')  \n",
        "plt.plot(history7.epoch, history7.history['val_loss'], label='val_error')\n",
        "plt.plot(history7.epoch, history7.history['f1_score'], label='f1_score')\n",
        "plt.legend()"
      ],
      "execution_count": 62,
      "outputs": [
        {
          "output_type": "stream",
          "name": "stdout",
          "text": [
            "4/4 [==============================] - 0s 116ms/step - loss: 1.2888 - accuracy: 0.6250 - f1_score: 0.4281\n",
            "Test loss: 1.2887866497039795\n",
            "Test accuracy: 0.625\n"
          ]
        },
        {
          "output_type": "execute_result",
          "data": {
            "text/plain": [
              "<matplotlib.legend.Legend at 0x7f5671796690>"
            ]
          },
          "metadata": {},
          "execution_count": 62
        },
        {
          "output_type": "display_data",
          "data": {
            "image/png": "[encoded data removed]",
            "text/plain": [
              "<Figure size 432x288 with 1 Axes>"
            ]
          },
          "metadata": {
            "needs_background": "light"
          }
        }
      ]
    },
    {
      "cell_type": "code",
      "source": [
        "filename = '/content/drive/MyDrive/Medical/MRNET MODEL/ResNet50model7.h5'\n",
        "model7.save(filename)\n",
        "print('>Saved %s' % filename)\n",
        "clean_up(model=model7)"
      ],
      "metadata": {
        "id": "_UhIWFPTBPFz",
        "colab": {
          "base_uri": "https://localhost:8080/"
        },
        "outputId": "aa38cc0c-efda-4aff-e91d-bde1cb0af611"
      },
      "execution_count": 63,
      "outputs": [
        {
          "output_type": "stream",
          "name": "stdout",
          "text": [
            ">Saved /content/drive/MyDrive/Medical/MRNET MODEL/ResNet50model7.h5\n",
            "...Finished clean up...\n"
          ]
        }
      ]
    },
    {
      "cell_type": "markdown",
      "metadata": {
        "id": "JWF36DXt0lj1"
      },
      "source": [
        "#### Finetuning ResNet50 Model for Sagittal Plane Scanes checking for ACL Condition"
      ]
    },
    {
      "cell_type": "code",
      "metadata": {
        "id": "u6ItTeBD0lj4"
      },
      "source": [
        "input_tensor = Input(shape=(256, 256,3))  \n",
        "base_model_Sa_ACL = ResNet50(input_tensor=input_tensor, weights='imagenet', include_top=False)"
      ],
      "execution_count": 64,
      "outputs": []
    },
    {
      "cell_type": "code",
      "metadata": {
        "id": "2Xe_fFX40lkE"
      },
      "source": [
        "x = base_model_Sa_ACL.output\n",
        "x = GlobalAveragePooling2D()(x)\n",
        "x=Dropout(0.2)(x)\n",
        "x = Dense(1024, activation='relu')(x)\n",
        "x=Dropout(0.2)(x)\n",
        "x=Dropout(0.2)(x)\n",
        "predictions = Dense(1, activation='sigmoid')(x)\n",
        "model8 = Model(inputs=base_model_Sa_ACL.input,outputs=predictions)"
      ],
      "execution_count": 65,
      "outputs": []
    },
    {
      "cell_type": "code",
      "metadata": {
        "id": "nrvR0Zko0lkK"
      },
      "source": [
        "for layer in model8.layers[64:]:\n",
        "   layer.trainable = True\n",
        "for layer in model8.layers[:64]:\n",
        "   layer.trainable = True"
      ],
      "execution_count": 66,
      "outputs": []
    },
    {
      "cell_type": "code",
      "metadata": {
        "id": "7lgg-EjL0lkP",
        "colab": {
          "base_uri": "https://localhost:8080/"
        },
        "outputId": "7d6a30f8-5b6c-4c03-9d8c-25f0efaf69de"
      },
      "source": [
        "early_stopping_monitor = EarlyStopping(patience=5)\n",
        "model8.compile(optimizer=SGD(lr=0.001,momentum=0.9), loss='binary_crossentropy',metrics=['accuracy',f1_score])\n",
        "history8=model8.fit(train_sagittal ,trainACL_labels, validation_split=0.05,shuffle=True ,epochs=100, callbacks=[early_stopping_monitor], batch_size = 20)"
      ],
      "execution_count": 67,
      "outputs": [
        {
          "output_type": "stream",
          "name": "stdout",
          "text": [
            "Epoch 1/100\n"
          ]
        },
        {
          "output_type": "stream",
          "name": "stderr",
          "text": [
            "/usr/local/lib/python3.7/dist-packages/keras/optimizer_v2/gradient_descent.py:102: UserWarning: The `lr` argument is deprecated, use `learning_rate` instead.\n",
            "  super(SGD, self).__init__(name, **kwargs)\n"
          ]
        },
        {
          "output_type": "stream",
          "name": "stdout",
          "text": [
            "54/54 [==============================] - 20s 286ms/step - loss: 0.4885 - accuracy: 0.7922 - f1_score: nan - val_loss: 0.5273 - val_accuracy: 0.8421 - val_f1_score: nan\n",
            "Epoch 2/100\n",
            "54/54 [==============================] - 15s 274ms/step - loss: 0.3192 - accuracy: 0.8649 - f1_score: nan - val_loss: 0.6641 - val_accuracy: 0.8421 - val_f1_score: nan\n",
            "Epoch 3/100\n",
            "54/54 [==============================] - 15s 272ms/step - loss: 0.1764 - accuracy: 0.9329 - f1_score: nan - val_loss: 0.5953 - val_accuracy: 0.8421 - val_f1_score: nan\n",
            "Epoch 4/100\n",
            "54/54 [==============================] - 14s 267ms/step - loss: 0.0882 - accuracy: 0.9702 - f1_score: 0.8530 - val_loss: 0.5782 - val_accuracy: 0.8772 - val_f1_score: nan\n",
            "Epoch 5/100\n",
            "54/54 [==============================] - 14s 265ms/step - loss: 0.0422 - accuracy: 0.9907 - f1_score: 0.9354 - val_loss: 0.5507 - val_accuracy: 0.8421 - val_f1_score: nan\n",
            "Epoch 6/100\n",
            "54/54 [==============================] - 14s 265ms/step - loss: 0.0223 - accuracy: 0.9981 - f1_score: 0.9961 - val_loss: 0.5197 - val_accuracy: 0.8596 - val_f1_score: 0.5286\n",
            "Epoch 7/100\n",
            "54/54 [==============================] - 14s 268ms/step - loss: 0.0159 - accuracy: 0.9981 - f1_score: 0.9951 - val_loss: 0.5290 - val_accuracy: 0.8596 - val_f1_score: 0.5286\n",
            "Epoch 8/100\n",
            "54/54 [==============================] - 15s 269ms/step - loss: 0.0097 - accuracy: 1.0000 - f1_score: 0.9815 - val_loss: 0.5591 - val_accuracy: 0.8596 - val_f1_score: 0.5286\n",
            "Epoch 9/100\n",
            "54/54 [==============================] - 14s 268ms/step - loss: 0.0074 - accuracy: 0.9991 - f1_score: 0.9988 - val_loss: 0.5772 - val_accuracy: 0.8246 - val_f1_score: 0.4722\n",
            "Epoch 10/100\n",
            "54/54 [==============================] - 14s 267ms/step - loss: 0.0044 - accuracy: 1.0000 - f1_score: 1.0000 - val_loss: 0.5680 - val_accuracy: 0.8421 - val_f1_score: 0.5167\n",
            "Epoch 11/100\n",
            "54/54 [==============================] - 14s 268ms/step - loss: 0.0073 - accuracy: 0.9991 - f1_score: 0.9802 - val_loss: 0.5806 - val_accuracy: 0.8596 - val_f1_score: 0.5286\n"
          ]
        }
      ]
    },
    {
      "cell_type": "code",
      "metadata": {
        "id": "4GxoI6J90lkY",
        "colab": {
          "base_uri": "https://localhost:8080/",
          "height": 354
        },
        "outputId": "bbccaade-5aa4-49bd-f36c-42368fda1899"
      },
      "source": [
        "p = np.array(model8.predict(train_sagittal))\n",
        "train_ACL_pred.append(p)\n",
        "p = np.array(model8.predict(test_sagittal))\n",
        "test_ACL_pred.append(p)                  \n",
        "score8 = model8.evaluate(test_sagittal ,testACL_labels,verbose=1)       \n",
        "print('Test loss:',score8[0])\n",
        "print('Test accuracy:',score8[1])                                                               \n",
        "plt.figure()\n",
        "plt.grid()                                                                                                        \n",
        "plt.title('Training performance')                          \n",
        "plt.plot(history8.epoch, history8.history['loss'], label='train loss+error')  \n",
        "plt.plot(history8.epoch, history8.history['val_loss'], label='val_error')\n",
        "plt.plot(history8.epoch, history8.history['f1_score'], label='f1_score')\n",
        "plt.legend()"
      ],
      "execution_count": 68,
      "outputs": [
        {
          "output_type": "stream",
          "name": "stdout",
          "text": [
            "4/4 [==============================] - 0s 119ms/step - loss: 0.8455 - accuracy: 0.7750 - f1_score: 0.5250\n",
            "Test loss: 0.845480740070343\n",
            "Test accuracy: 0.7749999761581421\n"
          ]
        },
        {
          "output_type": "execute_result",
          "data": {
            "text/plain": [
              "<matplotlib.legend.Legend at 0x7f5674687750>"
            ]
          },
          "metadata": {},
          "execution_count": 68
        },
        {
          "output_type": "display_data",
          "data": {
            "image/png": "[encoded data removed]",
            "text/plain": [
              "<Figure size 432x288 with 1 Axes>"
            ]
          },
          "metadata": {
            "needs_background": "light"
          }
        }
      ]
    },
    {
      "cell_type": "code",
      "source": [
        "filename = '/content/drive/MyDrive/Medical/MRNET MODEL/ResNet50model8.h5'\n",
        "model8.save(filename)\n",
        "print('>Saved %s' % filename)\n",
        "clean_up(model=model8)"
      ],
      "metadata": {
        "id": "czkeMRbjBStB",
        "colab": {
          "base_uri": "https://localhost:8080/"
        },
        "outputId": "87a1fde6-85d7-46f0-b5d8-6e543cb2be62"
      },
      "execution_count": 69,
      "outputs": [
        {
          "output_type": "stream",
          "name": "stdout",
          "text": [
            ">Saved /content/drive/MyDrive/Medical/MRNET MODEL/ResNet50model8.h5\n",
            "...Finished clean up...\n"
          ]
        }
      ]
    },
    {
      "cell_type": "markdown",
      "metadata": {
        "id": "QntZqwr22Qqu"
      },
      "source": [
        "#### Finetuning ResNet50 Model for Sagittal Plane Scanes checking for Abnormal Condition"
      ]
    },
    {
      "cell_type": "code",
      "metadata": {
        "id": "W6WQFKWN2Qqx"
      },
      "source": [
        "input_tensor = Input(shape=(256, 256,3))  \n",
        "base_model_Sa_Ab = ResNet50(input_tensor=input_tensor, weights='imagenet', include_top=False)"
      ],
      "execution_count": 70,
      "outputs": []
    },
    {
      "cell_type": "code",
      "metadata": {
        "id": "0-M3wkWd2Qq5"
      },
      "source": [
        "x = base_model_Sa_Ab.output\n",
        "x = GlobalAveragePooling2D()(x)\n",
        "x=Dropout(0.2)(x)\n",
        "x = Dense(1024, activation='relu')(x)\n",
        "x=Dropout(0.2)(x)\n",
        "x=Dropout(0.2)(x)\n",
        "predictions = Dense(1, activation='sigmoid')(x)\n",
        "model9 = Model(inputs=base_model_Sa_Ab.input,outputs=predictions)"
      ],
      "execution_count": 71,
      "outputs": []
    },
    {
      "cell_type": "code",
      "metadata": {
        "id": "l-F3Exud2Qq_"
      },
      "source": [
        "for layer in model9.layers[64:]:\n",
        "   layer.trainable = True\n",
        "for layer in model9.layers[:64]:\n",
        "   layer.trainable = True"
      ],
      "execution_count": 72,
      "outputs": []
    },
    {
      "cell_type": "code",
      "metadata": {
        "id": "WAMH3it52QrK",
        "colab": {
          "base_uri": "https://localhost:8080/"
        },
        "outputId": "2a6d4518-eb0c-45c8-ed9a-d8b92b55e87b"
      },
      "source": [
        "early_stopping_monitor = EarlyStopping(patience=10)    \n",
        "model9.compile(optimizer=SGD(lr=0.001,momentum=0.9), loss='binary_crossentropy',metrics=['accuracy',f1_score])\n",
        "history9=model9.fit(train_sagittal ,trainAb_labels, validation_split=0.05,shuffle=True ,epochs=100, callbacks=[early_stopping_monitor], batch_size = 20)"
      ],
      "execution_count": 73,
      "outputs": [
        {
          "output_type": "stream",
          "name": "stdout",
          "text": [
            "Epoch 1/100\n"
          ]
        },
        {
          "output_type": "stream",
          "name": "stderr",
          "text": [
            "/usr/local/lib/python3.7/dist-packages/keras/optimizer_v2/gradient_descent.py:102: UserWarning: The `lr` argument is deprecated, use `learning_rate` instead.\n",
            "  super(SGD, self).__init__(name, **kwargs)\n"
          ]
        },
        {
          "output_type": "stream",
          "name": "stdout",
          "text": [
            "54/54 [==============================] - 20s 284ms/step - loss: 0.6749 - accuracy: 0.6337 - f1_score: nan - val_loss: 1.0117 - val_accuracy: 0.3860 - val_f1_score: 0.5285\n",
            "Epoch 2/100\n",
            "54/54 [==============================] - 15s 274ms/step - loss: 0.4741 - accuracy: 0.7596 - f1_score: nan - val_loss: 0.7312 - val_accuracy: 0.5263 - val_f1_score: 0.4416\n",
            "Epoch 3/100\n",
            "54/54 [==============================] - 15s 272ms/step - loss: 0.2974 - accuracy: 0.8788 - f1_score: 0.8158 - val_loss: 0.7665 - val_accuracy: 0.6140 - val_f1_score: 0.4583\n",
            "Epoch 4/100\n",
            "54/54 [==============================] - 14s 268ms/step - loss: 0.1538 - accuracy: 0.9627 - f1_score: 0.9396 - val_loss: 1.0727 - val_accuracy: 0.6842 - val_f1_score: 0.4361\n",
            "Epoch 5/100\n",
            "54/54 [==============================] - 14s 265ms/step - loss: 0.0743 - accuracy: 0.9870 - f1_score: 0.9655 - val_loss: 1.1767 - val_accuracy: 0.6842 - val_f1_score: nan\n",
            "Epoch 6/100\n",
            "54/54 [==============================] - 14s 265ms/step - loss: 0.0323 - accuracy: 0.9991 - f1_score: 0.9986 - val_loss: 1.2626 - val_accuracy: 0.6491 - val_f1_score: 0.4158\n",
            "Epoch 7/100\n",
            "54/54 [==============================] - 14s 266ms/step - loss: 0.0207 - accuracy: 1.0000 - f1_score: 1.0000 - val_loss: 1.1046 - val_accuracy: 0.6491 - val_f1_score: 0.5023\n",
            "Epoch 8/100\n",
            "54/54 [==============================] - 14s 267ms/step - loss: 0.0159 - accuracy: 0.9991 - f1_score: 0.9979 - val_loss: 1.1808 - val_accuracy: 0.6842 - val_f1_score: 0.5516\n",
            "Epoch 9/100\n",
            "54/54 [==============================] - 14s 268ms/step - loss: 0.0098 - accuracy: 0.9991 - f1_score: 0.9992 - val_loss: 1.2261 - val_accuracy: 0.6316 - val_f1_score: 0.5057\n",
            "Epoch 10/100\n",
            "54/54 [==============================] - 14s 268ms/step - loss: 0.0080 - accuracy: 1.0000 - f1_score: 1.0000 - val_loss: 1.3025 - val_accuracy: 0.6491 - val_f1_score: 0.5287\n",
            "Epoch 11/100\n",
            "54/54 [==============================] - 14s 267ms/step - loss: 0.0057 - accuracy: 1.0000 - f1_score: 1.0000 - val_loss: 1.2782 - val_accuracy: 0.6667 - val_f1_score: 0.5677\n",
            "Epoch 12/100\n",
            "54/54 [==============================] - 14s 267ms/step - loss: 0.0058 - accuracy: 1.0000 - f1_score: 1.0000 - val_loss: 1.3405 - val_accuracy: 0.6491 - val_f1_score: 0.5423\n"
          ]
        }
      ]
    },
    {
      "cell_type": "code",
      "metadata": {
        "id": "bb_cHRLb2QrW",
        "colab": {
          "base_uri": "https://localhost:8080/",
          "height": 354
        },
        "outputId": "1c41ffa2-a77b-4406-c27e-53e2adf58e00"
      },
      "source": [
        "p = np.array(model9.predict(train_sagittal))\n",
        "train_Ab_pred.append(p)\n",
        "p = np.array(model9.predict(test_sagittal))\n",
        "test_Ab_pred.append(p)                  \n",
        "score9 = model9.evaluate(test_sagittal ,testAb_labels,verbose=1)       \n",
        "print('Test loss:',score9[0])\n",
        "print('Test accuracy:',score9[1])                                                             \n",
        "plt.figure()\n",
        "plt.grid()                                                                                                    \n",
        "plt.title('Training performance')                          \n",
        "plt.plot(history9.epoch, history9.history['loss'], label='train loss+error')  \n",
        "plt.plot(history9.epoch, history9.history['val_loss'], label='val_error')\n",
        "plt.plot(history9.epoch, history9.history['f1_score'], label='f1_score')\n",
        "plt.legend()"
      ],
      "execution_count": 74,
      "outputs": [
        {
          "output_type": "stream",
          "name": "stdout",
          "text": [
            "4/4 [==============================] - 0s 118ms/step - loss: 1.7692 - accuracy: 0.5250 - f1_score: 0.5485\n",
            "Test loss: 1.7691760063171387\n",
            "Test accuracy: 0.5249999761581421\n"
          ]
        },
        {
          "output_type": "execute_result",
          "data": {
            "text/plain": [
              "<matplotlib.legend.Legend at 0x7f5670d88b10>"
            ]
          },
          "metadata": {},
          "execution_count": 74
        },
        {
          "output_type": "display_data",
          "data": {
            "image/png": "[encoded data removed]",
            "text/plain": [
              "<Figure size 432x288 with 1 Axes>"
            ]
          },
          "metadata": {
            "needs_background": "light"
          }
        }
      ]
    },
    {
      "cell_type": "code",
      "source": [
        "filename = '/content/drive/MyDrive/Medical/MRNET MODEL/ResNet50model9.h5'\n",
        "model9.save(filename)\n",
        "print('>Saved %s' % filename)\n",
        "clean_up(model=model9)"
      ],
      "metadata": {
        "id": "rJyBHYARBWVw",
        "colab": {
          "base_uri": "https://localhost:8080/"
        },
        "outputId": "5f0250aa-3c9a-48b2-b79c-a56c7ece0df2"
      },
      "execution_count": 75,
      "outputs": [
        {
          "output_type": "stream",
          "name": "stdout",
          "text": [
            ">Saved /content/drive/MyDrive/Medical/MRNET MODEL/ResNet50model9.h5\n",
            "...Finished clean up...\n"
          ]
        }
      ]
    },
    {
      "cell_type": "code",
      "metadata": {
        "id": "TlbunAuE2Qre"
      },
      "source": [
        "del train_sagittal\n",
        "del test_sagittal\n",
        "del sagittal_dir\n",
        "del sagittal_reloaded\n",
        "del sagittalTest_reloaded\n",
        "del sagittal_list\n",
        "del sagittalTest_list\n",
        "del model7\n",
        "del model8\n",
        "del model9\n",
        "del base_model_Sa_Men\n",
        "del base_model_Sa_ACL\n",
        "del base_model_Sa_Ab\n",
        "del p"
      ],
      "execution_count": 77,
      "outputs": []
    },
    {
      "cell_type": "markdown",
      "metadata": {
        "id": "p8rTxtG6vzbk"
      },
      "source": [
        "##Ensembling\n",
        "\n",
        "---\n",
        "We ensemble the models for each state detection for three planes Axial,Coronal and Sagittal respectively and train a Sequential model with input being probabitity of condition detection by indiviual model and output again being probability person has the condition. We give original label for evaluation of the method.\n",
        "\n",
        "Although this method couldn't be much accurate that indivual model.\n",
        "We will look into this and possibly update it with a better variation of the ensembled model."
      ]
    },
    {
      "cell_type": "markdown",
      "metadata": {
        "id": "D2thlG5_12K_"
      },
      "source": [
        "#### Meniscal Condition Detection"
      ]
    },
    {
      "cell_type": "code",
      "metadata": {
        "id": "woSckwh419pD",
        "colab": {
          "base_uri": "https://localhost:8080/"
        },
        "outputId": "6d50515f-f77f-4fe2-eb98-9514042c5457"
      },
      "source": [
        "train_Men_pred = np.array(train_Men_pred)\n",
        "print(train_Men_pred.shape)\n",
        "test_Men_pred = np.array(test_Men_pred)\n",
        "print(test_Men_pred.shape)\n",
        "train_Men_pred = train_Men_pred.reshape((1130,3))\n",
        "test_Men_pred = test_Men_pred.reshape((120,3))\n",
        "print(train_Men_pred)"
      ],
      "execution_count": 78,
      "outputs": [
        {
          "output_type": "stream",
          "name": "stdout",
          "text": [
            "(3, 1130, 1)\n",
            "(3, 120, 1)\n",
            "[[2.2139652e-01 7.1467173e-01 1.5975998e-03]\n",
            " [9.9168724e-01 3.0735844e-08 9.9934107e-01]\n",
            " [1.0025665e-04 1.1673744e-06 1.1605037e-03]\n",
            " ...\n",
            " [5.8049595e-01 9.5075625e-01 5.7251289e-02]\n",
            " [1.3817739e-04 1.6803329e-01 1.3125629e-06]\n",
            " [3.8302004e-01 2.2762527e-03 1.7829521e-01]]\n"
          ]
        }
      ]
    },
    {
      "cell_type": "code",
      "metadata": {
        "id": "4LsT7P9j31am",
        "colab": {
          "base_uri": "https://localhost:8080/"
        },
        "outputId": "c61289f5-ee25-4291-829b-b4d63ab2a0b4"
      },
      "source": [
        "menModel = Sequential()\n",
        "menModel.add(Dense(1, activation='sigmoid', input_dim=3))\n",
        "menModel.compile(loss='binary_crossentropy', optimizer='adam', metrics=['acc',f1_score])\n",
        "h = menModel.fit(train_Men_pred, trainMen_labels, batch_size=32, epochs=50, verbose=1)"
      ],
      "execution_count": 79,
      "outputs": [
        {
          "output_type": "stream",
          "name": "stdout",
          "text": [
            "Epoch 1/50\n",
            "36/36 [==============================] - 1s 4ms/step - loss: 0.6935 - acc: 0.5823 - f1_score: nan\n",
            "Epoch 2/50\n",
            "36/36 [==============================] - 0s 5ms/step - loss: 0.6879 - acc: 0.5876 - f1_score: nan\n",
            "Epoch 3/50\n",
            "36/36 [==============================] - 0s 3ms/step - loss: 0.6833 - acc: 0.5903 - f1_score: nan\n",
            "Epoch 4/50\n",
            "36/36 [==============================] - 0s 5ms/step - loss: 0.6792 - acc: 0.5912 - f1_score: nan\n",
            "Epoch 5/50\n",
            "36/36 [==============================] - 0s 3ms/step - loss: 0.6756 - acc: 0.5920 - f1_score: nan\n",
            "Epoch 6/50\n",
            "36/36 [==============================] - 0s 3ms/step - loss: 0.6728 - acc: 0.5947 - f1_score: nan\n",
            "Epoch 7/50\n",
            "36/36 [==============================] - 0s 3ms/step - loss: 0.6704 - acc: 0.5938 - f1_score: nan\n",
            "Epoch 8/50\n",
            "36/36 [==============================] - 0s 3ms/step - loss: 0.6683 - acc: 0.6062 - f1_score: nan\n",
            "Epoch 9/50\n",
            "36/36 [==============================] - 0s 3ms/step - loss: 0.6667 - acc: 0.6186 - f1_score: nan\n",
            "Epoch 10/50\n",
            "36/36 [==============================] - 0s 3ms/step - loss: 0.6651 - acc: 0.6195 - f1_score: nan\n",
            "Epoch 11/50\n",
            "36/36 [==============================] - 0s 3ms/step - loss: 0.6636 - acc: 0.6186 - f1_score: nan\n",
            "Epoch 12/50\n",
            "36/36 [==============================] - 0s 3ms/step - loss: 0.6626 - acc: 0.6469 - f1_score: nan\n",
            "Epoch 13/50\n",
            "36/36 [==============================] - 0s 3ms/step - loss: 0.6614 - acc: 0.6487 - f1_score: nan\n",
            "Epoch 14/50\n",
            "36/36 [==============================] - 0s 3ms/step - loss: 0.6605 - acc: 0.6487 - f1_score: nan\n",
            "Epoch 15/50\n",
            "36/36 [==============================] - 0s 3ms/step - loss: 0.6596 - acc: 0.6487 - f1_score: nan\n",
            "Epoch 16/50\n",
            "36/36 [==============================] - 0s 3ms/step - loss: 0.6588 - acc: 0.6487 - f1_score: nan\n",
            "Epoch 17/50\n",
            "36/36 [==============================] - 0s 3ms/step - loss: 0.6582 - acc: 0.6487 - f1_score: nan\n",
            "Epoch 18/50\n",
            "36/36 [==============================] - 0s 3ms/step - loss: 0.6575 - acc: 0.6487 - f1_score: nan\n",
            "Epoch 19/50\n",
            "36/36 [==============================] - 0s 3ms/step - loss: 0.6569 - acc: 0.6487 - f1_score: nan\n",
            "Epoch 20/50\n",
            "36/36 [==============================] - 0s 3ms/step - loss: 0.6563 - acc: 0.6487 - f1_score: nan\n",
            "Epoch 21/50\n",
            "36/36 [==============================] - 0s 3ms/step - loss: 0.6559 - acc: 0.6487 - f1_score: nan\n",
            "Epoch 22/50\n",
            "36/36 [==============================] - 0s 3ms/step - loss: 0.6554 - acc: 0.6487 - f1_score: nan\n",
            "Epoch 23/50\n",
            "36/36 [==============================] - 0s 3ms/step - loss: 0.6549 - acc: 0.6487 - f1_score: nan\n",
            "Epoch 24/50\n",
            "36/36 [==============================] - 0s 3ms/step - loss: 0.6545 - acc: 0.6487 - f1_score: nan\n",
            "Epoch 25/50\n",
            "36/36 [==============================] - 0s 3ms/step - loss: 0.6542 - acc: 0.6487 - f1_score: nan\n",
            "Epoch 26/50\n",
            "36/36 [==============================] - 0s 3ms/step - loss: 0.6538 - acc: 0.6487 - f1_score: nan\n",
            "Epoch 27/50\n",
            "36/36 [==============================] - 0s 3ms/step - loss: 0.6535 - acc: 0.6487 - f1_score: nan\n",
            "Epoch 28/50\n",
            "36/36 [==============================] - 0s 3ms/step - loss: 0.6531 - acc: 0.6487 - f1_score: nan\n",
            "Epoch 29/50\n",
            "36/36 [==============================] - 0s 3ms/step - loss: 0.6529 - acc: 0.6487 - f1_score: nan\n",
            "Epoch 30/50\n",
            "36/36 [==============================] - 0s 3ms/step - loss: 0.6526 - acc: 0.6487 - f1_score: nan\n",
            "Epoch 31/50\n",
            "36/36 [==============================] - 0s 3ms/step - loss: 0.6523 - acc: 0.6487 - f1_score: nan\n",
            "Epoch 32/50\n",
            "36/36 [==============================] - 0s 4ms/step - loss: 0.6521 - acc: 0.6487 - f1_score: nan\n",
            "Epoch 33/50\n",
            "36/36 [==============================] - 0s 3ms/step - loss: 0.6518 - acc: 0.6487 - f1_score: nan\n",
            "Epoch 34/50\n",
            "36/36 [==============================] - 0s 3ms/step - loss: 0.6516 - acc: 0.6487 - f1_score: nan\n",
            "Epoch 35/50\n",
            "36/36 [==============================] - 0s 3ms/step - loss: 0.6514 - acc: 0.6487 - f1_score: nan\n",
            "Epoch 36/50\n",
            "36/36 [==============================] - 0s 3ms/step - loss: 0.6512 - acc: 0.6487 - f1_score: nan\n",
            "Epoch 37/50\n",
            "36/36 [==============================] - 0s 3ms/step - loss: 0.6510 - acc: 0.6487 - f1_score: nan\n",
            "Epoch 38/50\n",
            "36/36 [==============================] - 0s 3ms/step - loss: 0.6509 - acc: 0.6487 - f1_score: nan\n",
            "Epoch 39/50\n",
            "36/36 [==============================] - 0s 3ms/step - loss: 0.6507 - acc: 0.6487 - f1_score: nan\n",
            "Epoch 40/50\n",
            "36/36 [==============================] - 0s 3ms/step - loss: 0.6505 - acc: 0.6487 - f1_score: nan\n",
            "Epoch 41/50\n",
            "36/36 [==============================] - 0s 3ms/step - loss: 0.6504 - acc: 0.6487 - f1_score: nan\n",
            "Epoch 42/50\n",
            "36/36 [==============================] - 0s 3ms/step - loss: 0.6503 - acc: 0.6487 - f1_score: nan\n",
            "Epoch 43/50\n",
            "36/36 [==============================] - 0s 3ms/step - loss: 0.6501 - acc: 0.6487 - f1_score: nan\n",
            "Epoch 44/50\n",
            "36/36 [==============================] - 0s 3ms/step - loss: 0.6500 - acc: 0.6487 - f1_score: nan\n",
            "Epoch 45/50\n",
            "36/36 [==============================] - 0s 3ms/step - loss: 0.6499 - acc: 0.6487 - f1_score: nan\n",
            "Epoch 46/50\n",
            "36/36 [==============================] - 0s 3ms/step - loss: 0.6497 - acc: 0.6487 - f1_score: nan\n",
            "Epoch 47/50\n",
            "36/36 [==============================] - 0s 3ms/step - loss: 0.6497 - acc: 0.6487 - f1_score: nan\n",
            "Epoch 48/50\n",
            "36/36 [==============================] - 0s 3ms/step - loss: 0.6495 - acc: 0.6487 - f1_score: nan\n",
            "Epoch 49/50\n",
            "36/36 [==============================] - 0s 3ms/step - loss: 0.6494 - acc: 0.6487 - f1_score: nan\n",
            "Epoch 50/50\n",
            "36/36 [==============================] - 0s 3ms/step - loss: 0.6493 - acc: 0.6487 - f1_score: nan\n"
          ]
        }
      ]
    },
    {
      "cell_type": "code",
      "metadata": {
        "id": "NqS1xDpo4LjW",
        "colab": {
          "base_uri": "https://localhost:8080/",
          "height": 354
        },
        "outputId": "37d2b5bf-53a8-4512-8605-1b8b20adf990"
      },
      "source": [
        "loss, acc, f1 = menModel.evaluate(test_Men_pred, testMen_labels)\n",
        "p1 = menModel.predict(test_Men_pred)\n",
        "print(\"Loss: \", loss)\n",
        "print('Accuracy: ', acc)                                                          \n",
        "plt.figure()\n",
        "plt.grid()                                                                                                       \n",
        "plt.title('Testing performance')                          \n",
        "plt.plot(h.epoch, h.history['loss'], label='train loss+error')  \n",
        "plt.plot(h.epoch, h.history['f1_score'], label='f1_score')\n",
        "plt.legend()"
      ],
      "execution_count": 80,
      "outputs": [
        {
          "output_type": "stream",
          "name": "stdout",
          "text": [
            "4/4 [==============================] - 0s 4ms/step - loss: 0.7063 - acc: 0.5667 - f1_score: nan   \n",
            "Loss:  0.7062864899635315\n",
            "Accuracy:  0.5666666626930237\n"
          ]
        },
        {
          "output_type": "execute_result",
          "data": {
            "text/plain": [
              "<matplotlib.legend.Legend at 0x7f57faba3d50>"
            ]
          },
          "metadata": {},
          "execution_count": 80
        },
        {
          "output_type": "display_data",
          "data": {
            "image/png": "[encoded data removed]",
            "text/plain": [
              "<Figure size 432x288 with 1 Axes>"
            ]
          },
          "metadata": {
            "needs_background": "light"
          }
        }
      ]
    },
    {
      "cell_type": "code",
      "metadata": {
        "id": "oiKi1DebC4X8"
      },
      "source": [
        "del train_Men_pred\n",
        "del menModel"
      ],
      "execution_count": 81,
      "outputs": []
    },
    {
      "cell_type": "markdown",
      "metadata": {
        "id": "pJs7J20U4lGu"
      },
      "source": [
        "#### ACL Condition Detection"
      ]
    },
    {
      "cell_type": "code",
      "metadata": {
        "id": "Za99XogRCz-n",
        "colab": {
          "base_uri": "https://localhost:8080/"
        },
        "outputId": "2950addc-0f85-44aa-dfe8-5f356f8d2f45"
      },
      "source": [
        "train_ACL_pred = np.array(train_ACL_pred)\n",
        "print(train_ACL_pred.shape)\n",
        "test_ACL_pred = np.array(test_ACL_pred)\n",
        "print(test_Men_pred.shape)\n",
        "train_ACL_pred = train_ACL_pred.reshape((1130,3))\n",
        "test_ACL_pred = test_ACL_pred.reshape((120,3))\n",
        "print(test_ACL_pred)"
      ],
      "execution_count": 82,
      "outputs": [
        {
          "output_type": "stream",
          "name": "stdout",
          "text": [
            "(3, 1130, 1)\n",
            "(120, 3)\n",
            "[[2.99484418e-05 2.36325559e-05 1.29926607e-01]\n",
            " [8.60109460e-04 3.21298698e-03 1.50963198e-03]\n",
            " [3.50358486e-01 5.30184984e-01 1.72301934e-05]\n",
            " [6.62916631e-04 2.38761492e-03 1.01889716e-02]\n",
            " [1.13851288e-02 9.48466768e-05 1.05553016e-01]\n",
            " [5.52977917e-06 2.22939067e-03 2.17481283e-03]\n",
            " [5.49175456e-05 7.83225914e-06 3.87646636e-04]\n",
            " [5.54696044e-06 7.58303868e-05 3.99984219e-06]\n",
            " [1.38788237e-04 1.84602992e-04 1.12945156e-03]\n",
            " [3.98232660e-04 1.91203959e-03 2.68714433e-03]\n",
            " [5.07870107e-04 2.31641684e-06 9.34158504e-01]\n",
            " [2.31995285e-02 2.67913219e-05 3.66212311e-03]\n",
            " [3.50241479e-03 7.83799961e-03 2.23884284e-02]\n",
            " [1.71039045e-01 1.66981034e-02 1.82140302e-02]\n",
            " [1.36103258e-01 1.15614189e-02 8.24461162e-01]\n",
            " [7.04278564e-03 8.18363726e-01 8.10543001e-01]\n",
            " [1.36182387e-03 9.99173939e-01 4.64431429e-03]\n",
            " [9.76774991e-01 1.42198727e-02 2.61041820e-01]\n",
            " [1.65829789e-02 9.67460692e-01 9.92032051e-01]\n",
            " [4.64213872e-03 9.91243243e-01 1.77621469e-01]\n",
            " [9.99534488e-01 9.06377912e-01 8.85093361e-02]\n",
            " [7.55851567e-01 1.26922652e-01 6.54845417e-01]\n",
            " [9.91032183e-01 5.56220829e-01 9.99576628e-01]\n",
            " [6.15986437e-02 9.89704907e-01 6.02104485e-01]\n",
            " [5.47149777e-01 9.88694374e-03 9.80459809e-01]\n",
            " [1.50257803e-03 9.97767448e-01 9.95247781e-01]\n",
            " [8.92318249e-01 9.99544442e-01 7.25157082e-01]\n",
            " [7.54699230e-01 2.23241776e-01 4.89326358e-01]\n",
            " [9.55443680e-01 9.99992490e-01 1.82689689e-02]\n",
            " [8.03057512e-04 3.71307544e-02 6.82193931e-05]\n",
            " [9.99417067e-01 1.15242525e-04 2.65421830e-02]\n",
            " [1.01734214e-01 1.45385154e-02 9.60203409e-01]\n",
            " [8.32680671e-04 7.13088036e-01 1.94026992e-01]\n",
            " [2.46515274e-02 8.24209332e-01 2.44533084e-03]\n",
            " [2.60071858e-04 1.97355505e-02 5.40276989e-04]\n",
            " [1.73526723e-02 2.97564501e-03 4.21811687e-03]\n",
            " [2.33252021e-03 5.53806640e-05 8.86367110e-04]\n",
            " [3.01646505e-05 6.45368919e-02 2.98564378e-02]\n",
            " [1.25113031e-04 7.92657852e-01 7.38079543e-04]\n",
            " [5.19546568e-02 2.01385445e-03 3.21446210e-02]\n",
            " [2.45875157e-02 1.44738459e-03 5.28976917e-01]\n",
            " [1.21421823e-02 1.56135752e-03 8.40506516e-03]\n",
            " [2.39318295e-04 7.21340418e-01 1.69637133e-05]\n",
            " [2.66475454e-02 6.62104130e-01 3.91479931e-04]\n",
            " [4.32673357e-02 4.18214872e-03 6.05133250e-02]\n",
            " [4.94250804e-02 5.76493703e-03 9.96491499e-03]\n",
            " [7.99829900e-01 6.21059502e-04 1.04077175e-04]\n",
            " [1.06274830e-02 2.80841789e-03 2.31500760e-01]\n",
            " [6.64895356e-01 4.57497127e-02 2.22162008e-02]\n",
            " [2.98649957e-03 5.86529437e-04 1.52342996e-04]\n",
            " [6.79130526e-03 1.13219481e-04 2.05649063e-01]\n",
            " [2.99570281e-02 3.03801224e-02 6.45298918e-04]\n",
            " [8.15874755e-01 8.79890285e-03 8.34601745e-03]\n",
            " [2.18353078e-01 1.29955122e-02 2.77703274e-02]\n",
            " [1.01734838e-03 7.71807954e-02 9.65704858e-01]\n",
            " [4.23966706e-01 5.96444914e-03 4.03172791e-01]\n",
            " [3.40606645e-02 2.85577953e-01 1.62420274e-05]\n",
            " [1.38907554e-03 9.17512119e-01 1.86426871e-04]\n",
            " [5.06401181e-01 1.44242272e-01 6.46059513e-02]\n",
            " [4.77192178e-02 6.54746294e-01 6.08870089e-02]\n",
            " [9.85689878e-01 1.11322619e-01 7.73460092e-03]\n",
            " [9.83728051e-01 1.33191487e-02 2.42584020e-01]\n",
            " [3.40643455e-04 2.58974999e-01 9.90884721e-01]\n",
            " [2.67617285e-01 4.44846414e-03 8.90788389e-04]\n",
            " [9.98419046e-01 3.04722607e-01 9.22472119e-01]\n",
            " [3.23902437e-04 4.65347990e-03 5.27908981e-01]\n",
            " [8.01504970e-01 4.11728293e-01 2.80928165e-01]\n",
            " [1.70626670e-01 8.85804463e-03 9.58687425e-01]\n",
            " [3.17951344e-04 4.27195476e-03 5.18303625e-02]\n",
            " [9.63677466e-01 2.78775007e-01 1.86606050e-01]\n",
            " [6.18617773e-01 1.08502092e-04 1.11788111e-02]\n",
            " [3.80782969e-03 1.00506268e-01 4.95798677e-01]\n",
            " [6.31126386e-06 9.49866772e-01 9.56772361e-03]\n",
            " [2.38526147e-02 4.00472134e-01 1.25249803e-01]\n",
            " [3.80191789e-03 6.88317493e-02 1.56825164e-03]\n",
            " [4.51119579e-02 1.66926315e-04 4.09516535e-04]\n",
            " [1.81170210e-04 4.58114501e-03 1.95698161e-03]\n",
            " [2.62538105e-01 7.10328043e-01 7.89370947e-03]\n",
            " [3.23249702e-03 5.59861958e-02 5.27738273e-01]\n",
            " [1.06207817e-03 1.25538716e-02 5.20654197e-04]\n",
            " [2.37573200e-04 3.13971251e-01 3.04980180e-03]\n",
            " [2.86944978e-05 1.89938713e-02 3.70731787e-03]\n",
            " [1.41502544e-03 6.28742099e-01 2.63145717e-04]\n",
            " [8.00963317e-05 8.96311272e-03 3.58366583e-06]\n",
            " [1.68672446e-02 1.92450210e-02 3.90728889e-03]\n",
            " [2.87475006e-04 8.63708992e-05 7.19046235e-01]\n",
            " [8.16572341e-04 2.15391483e-05 2.21129810e-03]\n",
            " [1.65970922e-01 1.78855041e-03 3.03622248e-04]\n",
            " [7.94383639e-04 3.95439856e-04 2.07941303e-05]\n",
            " [7.32806686e-04 1.89607032e-02 3.12635180e-04]\n",
            " [1.57121030e-04 3.35397432e-04 5.04503772e-02]\n",
            " [1.56878348e-04 3.12847464e-04 6.94919727e-04]\n",
            " [5.34256513e-04 2.55231753e-05 5.71626937e-03]\n",
            " [8.42770219e-01 9.55449402e-01 1.51590362e-01]\n",
            " [2.11796477e-01 1.11245662e-01 6.20354295e-01]\n",
            " [4.64814097e-01 9.99978662e-01 9.68605399e-01]\n",
            " [7.74501920e-01 9.96440709e-01 7.90184073e-04]\n",
            " [2.97079775e-02 7.59320185e-02 1.34830192e-01]\n",
            " [9.93266582e-01 8.59639406e-01 8.93533349e-01]\n",
            " [2.20725429e-03 9.96501327e-01 3.40361595e-02]\n",
            " [8.91145468e-01 9.77887213e-01 7.03031810e-06]\n",
            " [9.16407287e-01 5.21947503e-01 8.35587025e-01]\n",
            " [3.97625864e-01 5.25853410e-02 9.98399556e-01]\n",
            " [9.96885240e-01 8.95676315e-01 8.13614190e-01]\n",
            " [9.07995999e-01 9.97630954e-01 9.82411206e-01]\n",
            " [8.26775953e-02 6.83294773e-01 9.99472320e-01]\n",
            " [7.54142225e-01 9.53533173e-01 6.10339880e-01]\n",
            " [3.13041247e-02 1.78804825e-04 5.59011251e-02]\n",
            " [9.49571133e-01 9.11271155e-01 3.65275214e-03]\n",
            " [8.71166354e-04 4.39221971e-03 1.08583830e-03]\n",
            " [2.82351626e-03 1.04767321e-04 2.51571211e-04]\n",
            " [2.23012492e-01 1.33508223e-03 3.14884901e-01]\n",
            " [1.52872548e-01 6.71718642e-03 9.86342847e-01]\n",
            " [9.10153210e-01 1.00543471e-02 3.00450206e-01]\n",
            " [1.68186554e-04 2.05818880e-02 1.58977106e-01]\n",
            " [5.84931932e-02 9.71283862e-06 1.61857516e-01]\n",
            " [7.78030306e-02 3.27599701e-03 2.37188451e-02]\n",
            " [3.82380094e-05 1.00413454e-03 4.12880443e-03]\n",
            " [2.90396070e-04 9.69862700e-01 3.92611086e-01]\n",
            " [1.25919832e-04 1.45127684e-01 1.91720622e-03]]\n"
          ]
        }
      ]
    },
    {
      "cell_type": "code",
      "source": [
        "train_ACL_pred"
      ],
      "metadata": {
        "id": "MLhKnVeBq0om",
        "colab": {
          "base_uri": "https://localhost:8080/"
        },
        "outputId": "2d978e9f-125c-43fe-b980-ee49f52e8537"
      },
      "execution_count": 83,
      "outputs": [
        {
          "output_type": "execute_result",
          "data": {
            "text/plain": [
              "array([[7.35809153e-04, 9.99931693e-01, 2.45317788e-04],\n",
              "       [1.15348981e-03, 1.01713886e-04, 6.93682116e-04],\n",
              "       [1.30522496e-03, 1.86323101e-04, 6.67590532e-04],\n",
              "       ...,\n",
              "       [4.60837521e-02, 8.42721581e-01, 6.42178522e-04],\n",
              "       [1.61225814e-03, 7.33357668e-03, 9.85736115e-05],\n",
              "       [5.64831607e-02, 5.93412342e-03, 8.98557842e-01]], dtype=float32)"
            ]
          },
          "metadata": {},
          "execution_count": 83
        }
      ]
    },
    {
      "cell_type": "code",
      "metadata": {
        "id": "sHllxCwuCz-2",
        "colab": {
          "base_uri": "https://localhost:8080/"
        },
        "outputId": "5ca5dc9a-f8af-4e08-9cc3-55f61cde7798"
      },
      "source": [
        "menModel = Sequential()\n",
        "menModel.add(Dense(1, activation='sigmoid', input_dim=3))\n",
        "menModel.compile(loss='binary_crossentropy', optimizer='adam', metrics=['accuracy',f1_score])\n",
        "h = menModel.fit(train_ACL_pred, trainACL_labels, batch_size=32, epochs=50, verbose=1)"
      ],
      "execution_count": 84,
      "outputs": [
        {
          "output_type": "stream",
          "name": "stdout",
          "text": [
            "Epoch 1/50\n",
            "36/36 [==============================] - 1s 3ms/step - loss: 0.7993 - accuracy: 0.6150 - f1_score: nan\n",
            "Epoch 2/50\n",
            "36/36 [==============================] - 0s 3ms/step - loss: 0.7787 - accuracy: 0.6301 - f1_score: nan\n",
            "Epoch 3/50\n",
            "36/36 [==============================] - 0s 3ms/step - loss: 0.7594 - accuracy: 0.6310 - f1_score: nan\n",
            "Epoch 4/50\n",
            "36/36 [==============================] - 0s 3ms/step - loss: 0.7412 - accuracy: 0.6389 - f1_score: nan\n",
            "Epoch 5/50\n",
            "36/36 [==============================] - 0s 3ms/step - loss: 0.7239 - accuracy: 0.6407 - f1_score: nan\n",
            "Epoch 6/50\n",
            "36/36 [==============================] - 0s 3ms/step - loss: 0.7074 - accuracy: 0.6504 - f1_score: nan\n",
            "Epoch 7/50\n",
            "36/36 [==============================] - 0s 4ms/step - loss: 0.6920 - accuracy: 0.6531 - f1_score: nan\n",
            "Epoch 8/50\n",
            "36/36 [==============================] - 0s 3ms/step - loss: 0.6775 - accuracy: 0.6540 - f1_score: nan\n",
            "Epoch 9/50\n",
            "36/36 [==============================] - 0s 3ms/step - loss: 0.6641 - accuracy: 0.6540 - f1_score: nan\n",
            "Epoch 10/50\n",
            "36/36 [==============================] - 0s 3ms/step - loss: 0.6514 - accuracy: 0.6549 - f1_score: nan\n",
            "Epoch 11/50\n",
            "36/36 [==============================] - 0s 3ms/step - loss: 0.6392 - accuracy: 0.6549 - f1_score: nan\n",
            "Epoch 12/50\n",
            "36/36 [==============================] - 0s 3ms/step - loss: 0.6279 - accuracy: 0.6558 - f1_score: nan\n",
            "Epoch 13/50\n",
            "36/36 [==============================] - 0s 3ms/step - loss: 0.6172 - accuracy: 0.6699 - f1_score: nan\n",
            "Epoch 14/50\n",
            "36/36 [==============================] - 0s 3ms/step - loss: 0.6073 - accuracy: 0.6743 - f1_score: nan\n",
            "Epoch 15/50\n",
            "36/36 [==============================] - 0s 3ms/step - loss: 0.5982 - accuracy: 0.6743 - f1_score: nan\n",
            "Epoch 16/50\n",
            "36/36 [==============================] - 0s 3ms/step - loss: 0.5895 - accuracy: 0.6850 - f1_score: nan\n",
            "Epoch 17/50\n",
            "36/36 [==============================] - 0s 4ms/step - loss: 0.5815 - accuracy: 0.7460 - f1_score: nan\n",
            "Epoch 18/50\n",
            "36/36 [==============================] - 0s 3ms/step - loss: 0.5740 - accuracy: 0.7451 - f1_score: nan\n",
            "Epoch 19/50\n",
            "36/36 [==============================] - 0s 3ms/step - loss: 0.5671 - accuracy: 0.7469 - f1_score: nan\n",
            "Epoch 20/50\n",
            "36/36 [==============================] - 0s 3ms/step - loss: 0.5607 - accuracy: 0.7478 - f1_score: nan\n",
            "Epoch 21/50\n",
            "36/36 [==============================] - 0s 3ms/step - loss: 0.5544 - accuracy: 0.7938 - f1_score: nan\n",
            "Epoch 22/50\n",
            "36/36 [==============================] - 0s 3ms/step - loss: 0.5488 - accuracy: 0.8062 - f1_score: nan\n",
            "Epoch 23/50\n",
            "36/36 [==============================] - 0s 3ms/step - loss: 0.5436 - accuracy: 0.8062 - f1_score: nan\n",
            "Epoch 24/50\n",
            "36/36 [==============================] - 0s 3ms/step - loss: 0.5387 - accuracy: 0.8062 - f1_score: nan\n",
            "Epoch 25/50\n",
            "36/36 [==============================] - 0s 4ms/step - loss: 0.5341 - accuracy: 0.8062 - f1_score: nan\n",
            "Epoch 26/50\n",
            "36/36 [==============================] - 0s 3ms/step - loss: 0.5299 - accuracy: 0.8062 - f1_score: nan\n",
            "Epoch 27/50\n",
            "36/36 [==============================] - 0s 4ms/step - loss: 0.5261 - accuracy: 0.8071 - f1_score: nan\n",
            "Epoch 28/50\n",
            "36/36 [==============================] - 0s 3ms/step - loss: 0.5224 - accuracy: 0.8168 - f1_score: nan\n",
            "Epoch 29/50\n",
            "36/36 [==============================] - 0s 3ms/step - loss: 0.5191 - accuracy: 0.8159 - f1_score: nan\n",
            "Epoch 30/50\n",
            "36/36 [==============================] - 0s 3ms/step - loss: 0.5161 - accuracy: 0.8159 - f1_score: nan\n",
            "Epoch 31/50\n",
            "36/36 [==============================] - 0s 3ms/step - loss: 0.5133 - accuracy: 0.8159 - f1_score: nan\n",
            "Epoch 32/50\n",
            "36/36 [==============================] - 0s 3ms/step - loss: 0.5106 - accuracy: 0.8159 - f1_score: nan\n",
            "Epoch 33/50\n",
            "36/36 [==============================] - 0s 3ms/step - loss: 0.5082 - accuracy: 0.8159 - f1_score: nan\n",
            "Epoch 34/50\n",
            "36/36 [==============================] - 0s 3ms/step - loss: 0.5058 - accuracy: 0.8159 - f1_score: nan\n",
            "Epoch 35/50\n",
            "36/36 [==============================] - 0s 3ms/step - loss: 0.5038 - accuracy: 0.8159 - f1_score: nan\n",
            "Epoch 36/50\n",
            "36/36 [==============================] - 0s 3ms/step - loss: 0.5018 - accuracy: 0.8159 - f1_score: nan\n",
            "Epoch 37/50\n",
            "36/36 [==============================] - 0s 3ms/step - loss: 0.5000 - accuracy: 0.8159 - f1_score: nan\n",
            "Epoch 38/50\n",
            "36/36 [==============================] - 0s 3ms/step - loss: 0.4984 - accuracy: 0.8159 - f1_score: nan\n",
            "Epoch 39/50\n",
            "36/36 [==============================] - 0s 3ms/step - loss: 0.4968 - accuracy: 0.8159 - f1_score: nan\n",
            "Epoch 40/50\n",
            "36/36 [==============================] - 0s 3ms/step - loss: 0.4953 - accuracy: 0.8159 - f1_score: nan\n",
            "Epoch 41/50\n",
            "36/36 [==============================] - 0s 3ms/step - loss: 0.4940 - accuracy: 0.8159 - f1_score: nan\n",
            "Epoch 42/50\n",
            "36/36 [==============================] - 0s 3ms/step - loss: 0.4927 - accuracy: 0.8159 - f1_score: nan\n",
            "Epoch 43/50\n",
            "36/36 [==============================] - 0s 3ms/step - loss: 0.4915 - accuracy: 0.8159 - f1_score: nan\n",
            "Epoch 44/50\n",
            "36/36 [==============================] - 0s 3ms/step - loss: 0.4905 - accuracy: 0.8159 - f1_score: nan\n",
            "Epoch 45/50\n",
            "36/36 [==============================] - 0s 3ms/step - loss: 0.4895 - accuracy: 0.8159 - f1_score: nan\n",
            "Epoch 46/50\n",
            "36/36 [==============================] - 0s 3ms/step - loss: 0.4886 - accuracy: 0.8159 - f1_score: nan\n",
            "Epoch 47/50\n",
            "36/36 [==============================] - 0s 3ms/step - loss: 0.4878 - accuracy: 0.8159 - f1_score: nan\n",
            "Epoch 48/50\n",
            "36/36 [==============================] - 0s 3ms/step - loss: 0.4869 - accuracy: 0.8159 - f1_score: nan\n",
            "Epoch 49/50\n",
            "36/36 [==============================] - 0s 3ms/step - loss: 0.4862 - accuracy: 0.8159 - f1_score: nan\n",
            "Epoch 50/50\n",
            "36/36 [==============================] - 0s 4ms/step - loss: 0.4856 - accuracy: 0.8159 - f1_score: nan\n"
          ]
        }
      ]
    },
    {
      "cell_type": "code",
      "metadata": {
        "id": "LPmLLhj1Cz_A",
        "colab": {
          "base_uri": "https://localhost:8080/",
          "height": 354
        },
        "outputId": "dfa5f413-ebd3-4575-c762-a4b0a51ebe57"
      },
      "source": [
        "loss, acc, f1 = menModel.evaluate(test_ACL_pred, testACL_labels)\n",
        "p2 = menModel.predict(test_ACL_pred)\n",
        "print(\"Loss: \", loss)\n",
        "print('Accuracy: ', acc)                                \n",
        "plt.figure()\n",
        "plt.grid()                                                                                                   \n",
        "plt.title('Testing performance')                          \n",
        "plt.plot(h.epoch, h.history['loss'], label='train loss+error')  \n",
        "plt.plot(h.epoch, h.history['f1_score'], label='f1_score')\n",
        "plt.legend()"
      ],
      "execution_count": 85,
      "outputs": [
        {
          "output_type": "stream",
          "name": "stdout",
          "text": [
            "4/4 [==============================] - 0s 4ms/step - loss: 0.8169 - accuracy: 0.5500 - f1_score: nan   \n",
            "Loss:  0.8168710470199585\n",
            "Accuracy:  0.550000011920929\n"
          ]
        },
        {
          "output_type": "execute_result",
          "data": {
            "text/plain": [
              "<matplotlib.legend.Legend at 0x7f5671854790>"
            ]
          },
          "metadata": {},
          "execution_count": 85
        },
        {
          "output_type": "display_data",
          "data": {
            "image/png": "[encoded data removed]",
            "text/plain": [
              "<Figure size 432x288 with 1 Axes>"
            ]
          },
          "metadata": {
            "needs_background": "light"
          }
        }
      ]
    },
    {
      "cell_type": "code",
      "metadata": {
        "id": "dm6Y7ofiDmgr"
      },
      "source": [
        "del train_ACL_pred\n",
        "del menModel"
      ],
      "execution_count": 86,
      "outputs": []
    },
    {
      "cell_type": "markdown",
      "metadata": {
        "id": "VXE1feJ7D_qQ"
      },
      "source": [
        "####Abnormal Condition Detection"
      ]
    },
    {
      "cell_type": "code",
      "source": [
        "np.isnan(np.sum(trainAb_labels))"
      ],
      "metadata": {
        "id": "_6_8RiNlrRWT",
        "colab": {
          "base_uri": "https://localhost:8080/"
        },
        "outputId": "f993cd41-bca6-4011-d333-0b41492b2f10"
      },
      "execution_count": 87,
      "outputs": [
        {
          "output_type": "execute_result",
          "data": {
            "text/plain": [
              "False"
            ]
          },
          "metadata": {},
          "execution_count": 87
        }
      ]
    },
    {
      "cell_type": "code",
      "metadata": {
        "id": "UvKiF1LmEOlO",
        "colab": {
          "base_uri": "https://localhost:8080/"
        },
        "outputId": "35b01f69-ca36-4cf4-e825-97a5fc6bbf80"
      },
      "source": [
        "train_Ab_pred = np.array(train_Ab_pred)\n",
        "print(train_Ab_pred.shape)\n",
        "test_Ab_pred = np.array(test_Ab_pred)\n",
        "print(test_Ab_pred.shape)\n",
        "train_Ab_pred = train_Ab_pred.reshape((1130,3))\n",
        "test_Ab_pred = test_Ab_pred.reshape((120,3))\n",
        "print(test_ACL_pred)"
      ],
      "execution_count": 88,
      "outputs": [
        {
          "output_type": "stream",
          "name": "stdout",
          "text": [
            "(3, 1130, 1)\n",
            "(3, 120, 1)\n",
            "[[2.99484418e-05 2.36325559e-05 1.29926607e-01]\n",
            " [8.60109460e-04 3.21298698e-03 1.50963198e-03]\n",
            " [3.50358486e-01 5.30184984e-01 1.72301934e-05]\n",
            " [6.62916631e-04 2.38761492e-03 1.01889716e-02]\n",
            " [1.13851288e-02 9.48466768e-05 1.05553016e-01]\n",
            " [5.52977917e-06 2.22939067e-03 2.17481283e-03]\n",
            " [5.49175456e-05 7.83225914e-06 3.87646636e-04]\n",
            " [5.54696044e-06 7.58303868e-05 3.99984219e-06]\n",
            " [1.38788237e-04 1.84602992e-04 1.12945156e-03]\n",
            " [3.98232660e-04 1.91203959e-03 2.68714433e-03]\n",
            " [5.07870107e-04 2.31641684e-06 9.34158504e-01]\n",
            " [2.31995285e-02 2.67913219e-05 3.66212311e-03]\n",
            " [3.50241479e-03 7.83799961e-03 2.23884284e-02]\n",
            " [1.71039045e-01 1.66981034e-02 1.82140302e-02]\n",
            " [1.36103258e-01 1.15614189e-02 8.24461162e-01]\n",
            " [7.04278564e-03 8.18363726e-01 8.10543001e-01]\n",
            " [1.36182387e-03 9.99173939e-01 4.64431429e-03]\n",
            " [9.76774991e-01 1.42198727e-02 2.61041820e-01]\n",
            " [1.65829789e-02 9.67460692e-01 9.92032051e-01]\n",
            " [4.64213872e-03 9.91243243e-01 1.77621469e-01]\n",
            " [9.99534488e-01 9.06377912e-01 8.85093361e-02]\n",
            " [7.55851567e-01 1.26922652e-01 6.54845417e-01]\n",
            " [9.91032183e-01 5.56220829e-01 9.99576628e-01]\n",
            " [6.15986437e-02 9.89704907e-01 6.02104485e-01]\n",
            " [5.47149777e-01 9.88694374e-03 9.80459809e-01]\n",
            " [1.50257803e-03 9.97767448e-01 9.95247781e-01]\n",
            " [8.92318249e-01 9.99544442e-01 7.25157082e-01]\n",
            " [7.54699230e-01 2.23241776e-01 4.89326358e-01]\n",
            " [9.55443680e-01 9.99992490e-01 1.82689689e-02]\n",
            " [8.03057512e-04 3.71307544e-02 6.82193931e-05]\n",
            " [9.99417067e-01 1.15242525e-04 2.65421830e-02]\n",
            " [1.01734214e-01 1.45385154e-02 9.60203409e-01]\n",
            " [8.32680671e-04 7.13088036e-01 1.94026992e-01]\n",
            " [2.46515274e-02 8.24209332e-01 2.44533084e-03]\n",
            " [2.60071858e-04 1.97355505e-02 5.40276989e-04]\n",
            " [1.73526723e-02 2.97564501e-03 4.21811687e-03]\n",
            " [2.33252021e-03 5.53806640e-05 8.86367110e-04]\n",
            " [3.01646505e-05 6.45368919e-02 2.98564378e-02]\n",
            " [1.25113031e-04 7.92657852e-01 7.38079543e-04]\n",
            " [5.19546568e-02 2.01385445e-03 3.21446210e-02]\n",
            " [2.45875157e-02 1.44738459e-03 5.28976917e-01]\n",
            " [1.21421823e-02 1.56135752e-03 8.40506516e-03]\n",
            " [2.39318295e-04 7.21340418e-01 1.69637133e-05]\n",
            " [2.66475454e-02 6.62104130e-01 3.91479931e-04]\n",
            " [4.32673357e-02 4.18214872e-03 6.05133250e-02]\n",
            " [4.94250804e-02 5.76493703e-03 9.96491499e-03]\n",
            " [7.99829900e-01 6.21059502e-04 1.04077175e-04]\n",
            " [1.06274830e-02 2.80841789e-03 2.31500760e-01]\n",
            " [6.64895356e-01 4.57497127e-02 2.22162008e-02]\n",
            " [2.98649957e-03 5.86529437e-04 1.52342996e-04]\n",
            " [6.79130526e-03 1.13219481e-04 2.05649063e-01]\n",
            " [2.99570281e-02 3.03801224e-02 6.45298918e-04]\n",
            " [8.15874755e-01 8.79890285e-03 8.34601745e-03]\n",
            " [2.18353078e-01 1.29955122e-02 2.77703274e-02]\n",
            " [1.01734838e-03 7.71807954e-02 9.65704858e-01]\n",
            " [4.23966706e-01 5.96444914e-03 4.03172791e-01]\n",
            " [3.40606645e-02 2.85577953e-01 1.62420274e-05]\n",
            " [1.38907554e-03 9.17512119e-01 1.86426871e-04]\n",
            " [5.06401181e-01 1.44242272e-01 6.46059513e-02]\n",
            " [4.77192178e-02 6.54746294e-01 6.08870089e-02]\n",
            " [9.85689878e-01 1.11322619e-01 7.73460092e-03]\n",
            " [9.83728051e-01 1.33191487e-02 2.42584020e-01]\n",
            " [3.40643455e-04 2.58974999e-01 9.90884721e-01]\n",
            " [2.67617285e-01 4.44846414e-03 8.90788389e-04]\n",
            " [9.98419046e-01 3.04722607e-01 9.22472119e-01]\n",
            " [3.23902437e-04 4.65347990e-03 5.27908981e-01]\n",
            " [8.01504970e-01 4.11728293e-01 2.80928165e-01]\n",
            " [1.70626670e-01 8.85804463e-03 9.58687425e-01]\n",
            " [3.17951344e-04 4.27195476e-03 5.18303625e-02]\n",
            " [9.63677466e-01 2.78775007e-01 1.86606050e-01]\n",
            " [6.18617773e-01 1.08502092e-04 1.11788111e-02]\n",
            " [3.80782969e-03 1.00506268e-01 4.95798677e-01]\n",
            " [6.31126386e-06 9.49866772e-01 9.56772361e-03]\n",
            " [2.38526147e-02 4.00472134e-01 1.25249803e-01]\n",
            " [3.80191789e-03 6.88317493e-02 1.56825164e-03]\n",
            " [4.51119579e-02 1.66926315e-04 4.09516535e-04]\n",
            " [1.81170210e-04 4.58114501e-03 1.95698161e-03]\n",
            " [2.62538105e-01 7.10328043e-01 7.89370947e-03]\n",
            " [3.23249702e-03 5.59861958e-02 5.27738273e-01]\n",
            " [1.06207817e-03 1.25538716e-02 5.20654197e-04]\n",
            " [2.37573200e-04 3.13971251e-01 3.04980180e-03]\n",
            " [2.86944978e-05 1.89938713e-02 3.70731787e-03]\n",
            " [1.41502544e-03 6.28742099e-01 2.63145717e-04]\n",
            " [8.00963317e-05 8.96311272e-03 3.58366583e-06]\n",
            " [1.68672446e-02 1.92450210e-02 3.90728889e-03]\n",
            " [2.87475006e-04 8.63708992e-05 7.19046235e-01]\n",
            " [8.16572341e-04 2.15391483e-05 2.21129810e-03]\n",
            " [1.65970922e-01 1.78855041e-03 3.03622248e-04]\n",
            " [7.94383639e-04 3.95439856e-04 2.07941303e-05]\n",
            " [7.32806686e-04 1.89607032e-02 3.12635180e-04]\n",
            " [1.57121030e-04 3.35397432e-04 5.04503772e-02]\n",
            " [1.56878348e-04 3.12847464e-04 6.94919727e-04]\n",
            " [5.34256513e-04 2.55231753e-05 5.71626937e-03]\n",
            " [8.42770219e-01 9.55449402e-01 1.51590362e-01]\n",
            " [2.11796477e-01 1.11245662e-01 6.20354295e-01]\n",
            " [4.64814097e-01 9.99978662e-01 9.68605399e-01]\n",
            " [7.74501920e-01 9.96440709e-01 7.90184073e-04]\n",
            " [2.97079775e-02 7.59320185e-02 1.34830192e-01]\n",
            " [9.93266582e-01 8.59639406e-01 8.93533349e-01]\n",
            " [2.20725429e-03 9.96501327e-01 3.40361595e-02]\n",
            " [8.91145468e-01 9.77887213e-01 7.03031810e-06]\n",
            " [9.16407287e-01 5.21947503e-01 8.35587025e-01]\n",
            " [3.97625864e-01 5.25853410e-02 9.98399556e-01]\n",
            " [9.96885240e-01 8.95676315e-01 8.13614190e-01]\n",
            " [9.07995999e-01 9.97630954e-01 9.82411206e-01]\n",
            " [8.26775953e-02 6.83294773e-01 9.99472320e-01]\n",
            " [7.54142225e-01 9.53533173e-01 6.10339880e-01]\n",
            " [3.13041247e-02 1.78804825e-04 5.59011251e-02]\n",
            " [9.49571133e-01 9.11271155e-01 3.65275214e-03]\n",
            " [8.71166354e-04 4.39221971e-03 1.08583830e-03]\n",
            " [2.82351626e-03 1.04767321e-04 2.51571211e-04]\n",
            " [2.23012492e-01 1.33508223e-03 3.14884901e-01]\n",
            " [1.52872548e-01 6.71718642e-03 9.86342847e-01]\n",
            " [9.10153210e-01 1.00543471e-02 3.00450206e-01]\n",
            " [1.68186554e-04 2.05818880e-02 1.58977106e-01]\n",
            " [5.84931932e-02 9.71283862e-06 1.61857516e-01]\n",
            " [7.78030306e-02 3.27599701e-03 2.37188451e-02]\n",
            " [3.82380094e-05 1.00413454e-03 4.12880443e-03]\n",
            " [2.90396070e-04 9.69862700e-01 3.92611086e-01]\n",
            " [1.25919832e-04 1.45127684e-01 1.91720622e-03]]\n"
          ]
        }
      ]
    },
    {
      "cell_type": "code",
      "metadata": {
        "id": "WM7sx5NGEOlj",
        "colab": {
          "base_uri": "https://localhost:8080/"
        },
        "outputId": "9cdbc8eb-0ace-4fc7-966d-65fbeae846b3"
      },
      "source": [
        "abModel = Sequential()\n",
        "abModel.add(Dense(1, activation='sigmoid', input_dim=3))\n",
        "abModel.compile(loss='binary_crossentropy', optimizer='adam', metrics=['acc',f1_score] )\n",
        "h = abModel.fit(train_Ab_pred, trainAb_labels, batch_size=32, epochs=50, verbose=1)"
      ],
      "execution_count": 89,
      "outputs": [
        {
          "output_type": "stream",
          "name": "stdout",
          "text": [
            "Epoch 1/50\n",
            "36/36 [==============================] - 1s 3ms/step - loss: 0.7411 - acc: 0.5549 - f1_score: 0.3632\n",
            "Epoch 2/50\n",
            "36/36 [==============================] - 0s 3ms/step - loss: 0.7289 - acc: 0.5540 - f1_score: nan\n",
            "Epoch 3/50\n",
            "36/36 [==============================] - 0s 3ms/step - loss: 0.7184 - acc: 0.5540 - f1_score: 0.3547\n",
            "Epoch 4/50\n",
            "36/36 [==============================] - 0s 3ms/step - loss: 0.7092 - acc: 0.5540 - f1_score: nan\n",
            "Epoch 5/50\n",
            "36/36 [==============================] - 0s 3ms/step - loss: 0.7017 - acc: 0.5549 - f1_score: nan\n",
            "Epoch 6/50\n",
            "36/36 [==============================] - 0s 3ms/step - loss: 0.6950 - acc: 0.5558 - f1_score: 0.3515\n",
            "Epoch 7/50\n",
            "36/36 [==============================] - 0s 3ms/step - loss: 0.6894 - acc: 0.5602 - f1_score: nan\n",
            "Epoch 8/50\n",
            "36/36 [==============================] - 0s 3ms/step - loss: 0.6846 - acc: 0.5628 - f1_score: 0.3463\n",
            "Epoch 9/50\n",
            "36/36 [==============================] - 0s 3ms/step - loss: 0.6805 - acc: 0.5637 - f1_score: 0.3497\n",
            "Epoch 10/50\n",
            "36/36 [==============================] - 0s 3ms/step - loss: 0.6770 - acc: 0.5664 - f1_score: 0.3464\n",
            "Epoch 11/50\n",
            "36/36 [==============================] - 0s 3ms/step - loss: 0.6738 - acc: 0.5743 - f1_score: nan\n",
            "Epoch 12/50\n",
            "36/36 [==============================] - 0s 3ms/step - loss: 0.6711 - acc: 0.5920 - f1_score: nan\n",
            "Epoch 13/50\n",
            "36/36 [==============================] - 0s 3ms/step - loss: 0.6687 - acc: 0.6133 - f1_score: nan\n",
            "Epoch 14/50\n",
            "36/36 [==============================] - 0s 3ms/step - loss: 0.6667 - acc: 0.6159 - f1_score: nan\n",
            "Epoch 15/50\n",
            "36/36 [==============================] - 0s 3ms/step - loss: 0.6651 - acc: 0.6150 - f1_score: nan\n",
            "Epoch 16/50\n",
            "36/36 [==============================] - 0s 3ms/step - loss: 0.6636 - acc: 0.6150 - f1_score: nan\n",
            "Epoch 17/50\n",
            "36/36 [==============================] - 0s 3ms/step - loss: 0.6623 - acc: 0.6150 - f1_score: nan\n",
            "Epoch 18/50\n",
            "36/36 [==============================] - 0s 3ms/step - loss: 0.6612 - acc: 0.6159 - f1_score: nan\n",
            "Epoch 19/50\n",
            "36/36 [==============================] - 0s 3ms/step - loss: 0.6602 - acc: 0.6159 - f1_score: nan\n",
            "Epoch 20/50\n",
            "36/36 [==============================] - 0s 3ms/step - loss: 0.6593 - acc: 0.6159 - f1_score: nan\n",
            "Epoch 21/50\n",
            "36/36 [==============================] - 0s 3ms/step - loss: 0.6585 - acc: 0.6159 - f1_score: nan\n",
            "Epoch 22/50\n",
            "36/36 [==============================] - 0s 3ms/step - loss: 0.6578 - acc: 0.6159 - f1_score: nan\n",
            "Epoch 23/50\n",
            "36/36 [==============================] - 0s 3ms/step - loss: 0.6571 - acc: 0.6159 - f1_score: nan\n",
            "Epoch 24/50\n",
            "36/36 [==============================] - 0s 3ms/step - loss: 0.6565 - acc: 0.6159 - f1_score: nan\n",
            "Epoch 25/50\n",
            "36/36 [==============================] - 0s 4ms/step - loss: 0.6560 - acc: 0.6168 - f1_score: nan\n",
            "Epoch 26/50\n",
            "36/36 [==============================] - 0s 3ms/step - loss: 0.6555 - acc: 0.6159 - f1_score: nan\n",
            "Epoch 27/50\n",
            "36/36 [==============================] - 0s 3ms/step - loss: 0.6550 - acc: 0.6150 - f1_score: nan\n",
            "Epoch 28/50\n",
            "36/36 [==============================] - 0s 3ms/step - loss: 0.6547 - acc: 0.6186 - f1_score: nan\n",
            "Epoch 29/50\n",
            "36/36 [==============================] - 0s 3ms/step - loss: 0.6542 - acc: 0.6496 - f1_score: nan\n",
            "Epoch 30/50\n",
            "36/36 [==============================] - 0s 3ms/step - loss: 0.6538 - acc: 0.6487 - f1_score: nan\n",
            "Epoch 31/50\n",
            "36/36 [==============================] - 0s 3ms/step - loss: 0.6534 - acc: 0.6487 - f1_score: nan\n",
            "Epoch 32/50\n",
            "36/36 [==============================] - 0s 3ms/step - loss: 0.6531 - acc: 0.6487 - f1_score: nan\n",
            "Epoch 33/50\n",
            "36/36 [==============================] - 0s 3ms/step - loss: 0.6527 - acc: 0.6487 - f1_score: nan\n",
            "Epoch 34/50\n",
            "36/36 [==============================] - 0s 4ms/step - loss: 0.6524 - acc: 0.6487 - f1_score: nan\n",
            "Epoch 35/50\n",
            "36/36 [==============================] - 0s 3ms/step - loss: 0.6521 - acc: 0.6487 - f1_score: nan\n",
            "Epoch 36/50\n",
            "36/36 [==============================] - 0s 4ms/step - loss: 0.6518 - acc: 0.6487 - f1_score: nan\n",
            "Epoch 37/50\n",
            "36/36 [==============================] - 0s 3ms/step - loss: 0.6515 - acc: 0.6487 - f1_score: nan\n",
            "Epoch 38/50\n",
            "36/36 [==============================] - 0s 3ms/step - loss: 0.6513 - acc: 0.6487 - f1_score: nan\n",
            "Epoch 39/50\n",
            "36/36 [==============================] - 0s 3ms/step - loss: 0.6510 - acc: 0.6487 - f1_score: nan\n",
            "Epoch 40/50\n",
            "36/36 [==============================] - 0s 3ms/step - loss: 0.6508 - acc: 0.6487 - f1_score: nan\n",
            "Epoch 41/50\n",
            "36/36 [==============================] - 0s 3ms/step - loss: 0.6506 - acc: 0.6487 - f1_score: nan\n",
            "Epoch 42/50\n",
            "36/36 [==============================] - 0s 3ms/step - loss: 0.6504 - acc: 0.6487 - f1_score: nan\n",
            "Epoch 43/50\n",
            "36/36 [==============================] - 0s 3ms/step - loss: 0.6502 - acc: 0.6487 - f1_score: nan\n",
            "Epoch 44/50\n",
            "36/36 [==============================] - 0s 3ms/step - loss: 0.6501 - acc: 0.6487 - f1_score: nan\n",
            "Epoch 45/50\n",
            "36/36 [==============================] - 0s 3ms/step - loss: 0.6499 - acc: 0.6487 - f1_score: nan\n",
            "Epoch 46/50\n",
            "36/36 [==============================] - 0s 3ms/step - loss: 0.6498 - acc: 0.6487 - f1_score: nan\n",
            "Epoch 47/50\n",
            "36/36 [==============================] - 0s 3ms/step - loss: 0.6496 - acc: 0.6487 - f1_score: nan\n",
            "Epoch 48/50\n",
            "36/36 [==============================] - 0s 3ms/step - loss: 0.6495 - acc: 0.6487 - f1_score: nan\n",
            "Epoch 49/50\n",
            "36/36 [==============================] - 0s 3ms/step - loss: 0.6494 - acc: 0.6487 - f1_score: nan\n",
            "Epoch 50/50\n",
            "36/36 [==============================] - 0s 3ms/step - loss: 0.6492 - acc: 0.6487 - f1_score: nan\n"
          ]
        }
      ]
    },
    {
      "cell_type": "code",
      "metadata": {
        "id": "RiP0cFwPEOly",
        "colab": {
          "base_uri": "https://localhost:8080/",
          "height": 354
        },
        "outputId": "da80a33a-0141-4223-df33-fccfaf568bb6"
      },
      "source": [
        "loss, acc, f1 = abModel.evaluate(test_Ab_pred, testAb_labels)\n",
        "p3 = abModel.predict(test_Ab_pred)\n",
        "print(\"Loss: \", loss)\n",
        "print('Accuracy: ', acc)                                     \n",
        "plt.figure()\n",
        "plt.grid()                                                                                                     \n",
        "plt.title('Testing performance')                          \n",
        "plt.plot(h.epoch, h.history['loss'], label='train loss+error')  \n",
        "plt.plot(h.epoch, h.history['f1_score'], label='f1_score')\n",
        "plt.legend()"
      ],
      "execution_count": 90,
      "outputs": [
        {
          "output_type": "stream",
          "name": "stdout",
          "text": [
            "4/4 [==============================] - 0s 5ms/step - loss: 0.9135 - acc: 0.2083 - f1_score: nan\n",
            "Loss:  0.9134663939476013\n",
            "Accuracy:  0.2083333283662796\n"
          ]
        },
        {
          "output_type": "execute_result",
          "data": {
            "text/plain": [
              "<matplotlib.legend.Legend at 0x7f566e0cd210>"
            ]
          },
          "metadata": {},
          "execution_count": 90
        },
        {
          "output_type": "display_data",
          "data": {
            "image/png": "[encoded data removed]",
            "text/plain": [
              "<Figure size 432x288 with 1 Axes>"
            ]
          },
          "metadata": {
            "needs_background": "light"
          }
        }
      ]
    },
    {
      "cell_type": "code",
      "metadata": {
        "id": "EBX_Lnb8EOl8"
      },
      "source": [
        "del train_Ab_pred\n",
        "del abModel"
      ],
      "execution_count": 91,
      "outputs": []
    }
  ]
}